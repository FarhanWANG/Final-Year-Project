{
 "cells": [
  {
   "cell_type": "code",
   "execution_count": 1,
   "metadata": {},
   "outputs": [],
   "source": [
    "import pandas as pd\n",
    "import numpy as np\n",
    "import datetime"
   ]
  },
  {
   "cell_type": "code",
   "execution_count": 2,
   "metadata": {},
   "outputs": [
    {
     "data": {
      "text/plain": [
       "\"\\nimport pandas_datareader as web\\nTop10CC = ['BTC-USD', 'ETH-USD', 'USDT-USD', 'XRP-USD', 'BCH-USD', 'BNB-USD', 'LINK-USD', 'ADA-USD', 'LTC-USD',\\n           'EOS-USD']\\nhisPrices = pd.DataFrame()\\nfor cc in Top10CC:\\n    hisPrices[cc] = web.DataReader(cc, 'yahoo', '4/1/2020', datetime.date.today())['Adj Close']\\n\""
      ]
     },
     "execution_count": 2,
     "metadata": {},
     "output_type": "execute_result"
    }
   ],
   "source": [
    "'''\n",
    "import pandas_datareader as web\n",
    "Top10CC = ['BTC-USD', 'ETH-USD', 'USDT-USD', 'XRP-USD', 'BCH-USD', 'BNB-USD', 'LINK-USD', 'ADA-USD', 'LTC-USD',\n",
    "           'EOS-USD']\n",
    "hisPrices = pd.DataFrame()\n",
    "for cc in Top10CC:\n",
    "    hisPrices[cc] = web.DataReader(cc, 'yahoo', '4/1/2020', datetime.date.today())['Adj Close']\n",
    "'''"
   ]
  },
  {
   "cell_type": "code",
   "execution_count": 3,
   "metadata": {},
   "outputs": [
    {
     "data": {
      "text/plain": [
       "<function dict.clear>"
      ]
     },
     "execution_count": 3,
     "metadata": {},
     "output_type": "execute_result"
    }
   ],
   "source": [
    "from yahoo_fin.stock_info import get_data\n",
    "Top10CC = ['BTC-USD', 'ETH-USD', 'USDT-USD', 'XRP-USD', 'BCH-USD', 'BNB-USD', 'LINK-USD', 'ADA-USD', 'LTC-USD',\n",
    "           'EOS-USD']\n",
    "hisPrices = {}\n",
    "for cc in Top10CC:\n",
    "    hisPrices[cc] = get_data(cc, '1/1/2019', datetime.date.today(),True, '1wk')\n",
    "    \n",
    "Prices = pd.DataFrame(index=np.arange(hisPrices['BTC-USD'].shape[0]),columns = Top10CC)\n",
    "Prices.set_index(hisPrices['BTC-USD'].index, inplace = True)\n",
    "for x in hisPrices:\n",
    "    Prices[x] = hisPrices[x].adjclose\n",
    "hisPrices.clear"
   ]
  },
  {
   "cell_type": "code",
   "execution_count": 4,
   "metadata": {},
   "outputs": [
    {
     "data": {
      "text/html": [
       "<div>\n",
       "<style scoped>\n",
       "    .dataframe tbody tr th:only-of-type {\n",
       "        vertical-align: middle;\n",
       "    }\n",
       "\n",
       "    .dataframe tbody tr th {\n",
       "        vertical-align: top;\n",
       "    }\n",
       "\n",
       "    .dataframe thead th {\n",
       "        text-align: right;\n",
       "    }\n",
       "</style>\n",
       "<table border=\"1\" class=\"dataframe\">\n",
       "  <thead>\n",
       "    <tr style=\"text-align: right;\">\n",
       "      <th></th>\n",
       "      <th>BTC-USD</th>\n",
       "      <th>ETH-USD</th>\n",
       "      <th>USDT-USD</th>\n",
       "      <th>XRP-USD</th>\n",
       "      <th>BCH-USD</th>\n",
       "      <th>BNB-USD</th>\n",
       "      <th>LINK-USD</th>\n",
       "      <th>ADA-USD</th>\n",
       "      <th>LTC-USD</th>\n",
       "      <th>EOS-USD</th>\n",
       "    </tr>\n",
       "  </thead>\n",
       "  <tbody>\n",
       "    <tr>\n",
       "      <th>2019-01-01</th>\n",
       "      <td>4025.248291</td>\n",
       "      <td>151.699219</td>\n",
       "      <td>1.013987</td>\n",
       "      <td>0.364347</td>\n",
       "      <td>161.243973</td>\n",
       "      <td>6.291411</td>\n",
       "      <td>0.376474</td>\n",
       "      <td>0.047996</td>\n",
       "      <td>37.806274</td>\n",
       "      <td>2.768176</td>\n",
       "    </tr>\n",
       "    <tr>\n",
       "      <th>2019-01-08</th>\n",
       "      <td>3706.052246</td>\n",
       "      <td>129.068726</td>\n",
       "      <td>1.020856</td>\n",
       "      <td>0.333766</td>\n",
       "      <td>133.979843</td>\n",
       "      <td>6.159282</td>\n",
       "      <td>0.485660</td>\n",
       "      <td>0.044059</td>\n",
       "      <td>32.358242</td>\n",
       "      <td>2.479065</td>\n",
       "    </tr>\n",
       "    <tr>\n",
       "      <th>2019-01-15</th>\n",
       "      <td>3576.032471</td>\n",
       "      <td>117.157852</td>\n",
       "      <td>1.013376</td>\n",
       "      <td>0.320790</td>\n",
       "      <td>122.829605</td>\n",
       "      <td>6.553025</td>\n",
       "      <td>0.503412</td>\n",
       "      <td>0.042937</td>\n",
       "      <td>31.212870</td>\n",
       "      <td>2.353150</td>\n",
       "    </tr>\n",
       "    <tr>\n",
       "      <th>2019-01-22</th>\n",
       "      <td>3470.450439</td>\n",
       "      <td>106.589973</td>\n",
       "      <td>1.008830</td>\n",
       "      <td>0.294863</td>\n",
       "      <td>112.496063</td>\n",
       "      <td>6.206182</td>\n",
       "      <td>0.413490</td>\n",
       "      <td>0.038772</td>\n",
       "      <td>31.199259</td>\n",
       "      <td>2.250317</td>\n",
       "    </tr>\n",
       "    <tr>\n",
       "      <th>2019-01-29</th>\n",
       "      <td>3459.154053</td>\n",
       "      <td>107.821602</td>\n",
       "      <td>0.999826</td>\n",
       "      <td>0.300198</td>\n",
       "      <td>119.124779</td>\n",
       "      <td>7.100500</td>\n",
       "      <td>0.394452</td>\n",
       "      <td>0.037857</td>\n",
       "      <td>34.108627</td>\n",
       "      <td>2.400352</td>\n",
       "    </tr>\n",
       "    <tr>\n",
       "      <th>...</th>\n",
       "      <td>...</td>\n",
       "      <td>...</td>\n",
       "      <td>...</td>\n",
       "      <td>...</td>\n",
       "      <td>...</td>\n",
       "      <td>...</td>\n",
       "      <td>...</td>\n",
       "      <td>...</td>\n",
       "      <td>...</td>\n",
       "      <td>...</td>\n",
       "    </tr>\n",
       "    <tr>\n",
       "      <th>2020-10-19</th>\n",
       "      <td>13075.248047</td>\n",
       "      <td>393.888306</td>\n",
       "      <td>1.000958</td>\n",
       "      <td>0.248688</td>\n",
       "      <td>259.782593</td>\n",
       "      <td>31.154560</td>\n",
       "      <td>11.747903</td>\n",
       "      <td>0.103097</td>\n",
       "      <td>56.745777</td>\n",
       "      <td>2.628513</td>\n",
       "    </tr>\n",
       "    <tr>\n",
       "      <th>2020-10-27</th>\n",
       "      <td>13550.489258</td>\n",
       "      <td>383.156738</td>\n",
       "      <td>1.000523</td>\n",
       "      <td>0.235421</td>\n",
       "      <td>257.199707</td>\n",
       "      <td>27.883930</td>\n",
       "      <td>10.797579</td>\n",
       "      <td>0.092143</td>\n",
       "      <td>53.817482</td>\n",
       "      <td>2.430644</td>\n",
       "    </tr>\n",
       "    <tr>\n",
       "      <th>2020-11-03</th>\n",
       "      <td>15332.315430</td>\n",
       "      <td>444.163055</td>\n",
       "      <td>1.000653</td>\n",
       "      <td>0.250748</td>\n",
       "      <td>263.981323</td>\n",
       "      <td>28.018021</td>\n",
       "      <td>12.520736</td>\n",
       "      <td>0.105325</td>\n",
       "      <td>59.363884</td>\n",
       "      <td>2.499384</td>\n",
       "    </tr>\n",
       "    <tr>\n",
       "      <th>2020-11-10</th>\n",
       "      <td>16716.111328</td>\n",
       "      <td>459.940308</td>\n",
       "      <td>1.000412</td>\n",
       "      <td>0.285520</td>\n",
       "      <td>250.139297</td>\n",
       "      <td>28.064110</td>\n",
       "      <td>12.590791</td>\n",
       "      <td>0.104008</td>\n",
       "      <td>71.326248</td>\n",
       "      <td>2.575720</td>\n",
       "    </tr>\n",
       "    <tr>\n",
       "      <th>2020-11-17</th>\n",
       "      <td>16673.050781</td>\n",
       "      <td>462.988312</td>\n",
       "      <td>1.000331</td>\n",
       "      <td>0.293657</td>\n",
       "      <td>252.371841</td>\n",
       "      <td>28.417006</td>\n",
       "      <td>12.769101</td>\n",
       "      <td>0.105347</td>\n",
       "      <td>72.974091</td>\n",
       "      <td>2.689517</td>\n",
       "    </tr>\n",
       "  </tbody>\n",
       "</table>\n",
       "<p>99 rows × 10 columns</p>\n",
       "</div>"
      ],
      "text/plain": [
       "                 BTC-USD     ETH-USD  USDT-USD   XRP-USD     BCH-USD  \\\n",
       "2019-01-01   4025.248291  151.699219  1.013987  0.364347  161.243973   \n",
       "2019-01-08   3706.052246  129.068726  1.020856  0.333766  133.979843   \n",
       "2019-01-15   3576.032471  117.157852  1.013376  0.320790  122.829605   \n",
       "2019-01-22   3470.450439  106.589973  1.008830  0.294863  112.496063   \n",
       "2019-01-29   3459.154053  107.821602  0.999826  0.300198  119.124779   \n",
       "...                  ...         ...       ...       ...         ...   \n",
       "2020-10-19  13075.248047  393.888306  1.000958  0.248688  259.782593   \n",
       "2020-10-27  13550.489258  383.156738  1.000523  0.235421  257.199707   \n",
       "2020-11-03  15332.315430  444.163055  1.000653  0.250748  263.981323   \n",
       "2020-11-10  16716.111328  459.940308  1.000412  0.285520  250.139297   \n",
       "2020-11-17  16673.050781  462.988312  1.000331  0.293657  252.371841   \n",
       "\n",
       "              BNB-USD   LINK-USD   ADA-USD    LTC-USD   EOS-USD  \n",
       "2019-01-01   6.291411   0.376474  0.047996  37.806274  2.768176  \n",
       "2019-01-08   6.159282   0.485660  0.044059  32.358242  2.479065  \n",
       "2019-01-15   6.553025   0.503412  0.042937  31.212870  2.353150  \n",
       "2019-01-22   6.206182   0.413490  0.038772  31.199259  2.250317  \n",
       "2019-01-29   7.100500   0.394452  0.037857  34.108627  2.400352  \n",
       "...               ...        ...       ...        ...       ...  \n",
       "2020-10-19  31.154560  11.747903  0.103097  56.745777  2.628513  \n",
       "2020-10-27  27.883930  10.797579  0.092143  53.817482  2.430644  \n",
       "2020-11-03  28.018021  12.520736  0.105325  59.363884  2.499384  \n",
       "2020-11-10  28.064110  12.590791  0.104008  71.326248  2.575720  \n",
       "2020-11-17  28.417006  12.769101  0.105347  72.974091  2.689517  \n",
       "\n",
       "[99 rows x 10 columns]"
      ]
     },
     "execution_count": 4,
     "metadata": {},
     "output_type": "execute_result"
    }
   ],
   "source": [
    "Prices"
   ]
  },
  {
   "cell_type": "code",
   "execution_count": 5,
   "metadata": {},
   "outputs": [],
   "source": [
    "returns = np.log(Prices/Prices.shift(1)).fillna(value=0) #log(R_t/R_t-1)"
   ]
  },
  {
   "cell_type": "code",
   "execution_count": 6,
   "metadata": {},
   "outputs": [
    {
     "data": {
      "text/plain": [
       "'\\nraw_returns = np.log(hisPrices.shift(1)/hisPrices.shift(2)).fillna(value=0) #log(R_t/R_t-1)\\n## raw_returns = ((hisPrices.shift(1)/hisPrices.shift(2))-1).fillna(value=0) # R_t/R_t-1 -1\\nreturns = raw_returns.drop(raw_returns.index[0:2])\\nprint(returns)\\n'"
      ]
     },
     "execution_count": 6,
     "metadata": {},
     "output_type": "execute_result"
    }
   ],
   "source": [
    "'''\n",
    "raw_returns = np.log(hisPrices.shift(1)/hisPrices.shift(2)).fillna(value=0) #log(R_t/R_t-1)\n",
    "## raw_returns = ((hisPrices.shift(1)/hisPrices.shift(2))-1).fillna(value=0) # R_t/R_t-1 -1\n",
    "returns = raw_returns.drop(raw_returns.index[0:2])\n",
    "print(returns)\n",
    "'''"
   ]
  },
  {
   "cell_type": "code",
   "execution_count": 7,
   "metadata": {},
   "outputs": [],
   "source": [
    "mean = returns.mean()\n",
    "cov = returns.cov()\n",
    "std = returns.std()"
   ]
  },
  {
   "cell_type": "code",
   "execution_count": 8,
   "metadata": {},
   "outputs": [],
   "source": [
    "from functools import reduce\n",
    "import matplotlib.pyplot as plt"
   ]
  },
  {
   "cell_type": "code",
   "execution_count": 9,
   "metadata": {},
   "outputs": [
    {
     "data": {
      "text/plain": [
       "XRP-USD    -0.002179\n",
       "EOS-USD    -0.000291\n",
       "USDT-USD   -0.000137\n",
       "BCH-USD     0.004525\n",
       "LTC-USD     0.006643\n",
       "ADA-USD     0.007941\n",
       "ETH-USD     0.011271\n",
       "BTC-USD     0.014356\n",
       "BNB-USD     0.015230\n",
       "LINK-USD    0.035595\n",
       "dtype: float64"
      ]
     },
     "execution_count": 9,
     "metadata": {},
     "output_type": "execute_result"
    }
   ],
   "source": [
    "mean.sort_values()"
   ]
  },
  {
   "cell_type": "code",
   "execution_count": 10,
   "metadata": {},
   "outputs": [
    {
     "data": {
      "text/plain": [
       "Text(0, 0.5, 'return')"
      ]
     },
     "execution_count": 10,
     "metadata": {},
     "output_type": "execute_result"
    },
    {
     "data": {
      "image/png": "[encoded data removed]",
      "text/plain": [
       "<Figure size 432x288 with 1 Axes>"
      ]
     },
     "metadata": {
      "needs_background": "light"
     },
     "output_type": "display_data"
    }
   ],
   "source": [
    "plt.plot(std,mean,'ro')\n",
    "plt.xlabel('std')\n",
    "plt.ylabel('return')"
   ]
  },
  {
   "cell_type": "code",
   "execution_count": 11,
   "metadata": {},
   "outputs": [],
   "source": [
    "std_portfolio = []\n",
    "return_portfolio = []\n",
    "\n",
    "for _ in range(10000):\n",
    "    w = np.random.rand(len(Top10CC))\n",
    "    w /= sum(w)\n",
    "    return_portfolio.append(sum(w*mean))\n",
    "    std_portfolio.append(np.sqrt(reduce(np.dot,[w,cov,w.T])))"
   ]
  },
  {
   "cell_type": "code",
   "execution_count": 12,
   "metadata": {
    "scrolled": true
   },
   "outputs": [
    {
     "data": {
      "text/plain": [
       "Text(0, 0.5, 'return')"
      ]
     },
     "execution_count": 12,
     "metadata": {},
     "output_type": "execute_result"
    },
    {
     "data": {
      "image/png": "[encoded data removed]",
      "text/plain": [
       "<Figure size 432x288 with 1 Axes>"
      ]
     },
     "metadata": {
      "needs_background": "light"
     },
     "output_type": "display_data"
    }
   ],
   "source": [
    "plt.plot(std_portfolio,return_portfolio,'ro')\n",
    "plt.xlabel('risk')\n",
    "plt.ylabel('return')"
   ]
  },
  {
   "cell_type": "code",
   "execution_count": 13,
   "metadata": {},
   "outputs": [],
   "source": [
    "import scipy.optimize as solver"
   ]
  },
  {
   "cell_type": "code",
   "execution_count": 14,
   "metadata": {},
   "outputs": [],
   "source": [
    "def std(w):\n",
    "    return np.sqrt(reduce(np.dot,[w,cov,w.T]))\n",
    "\n",
    "w0 = np.array([1/len(Top10CC) for x in range(len(Top10CC))])\n",
    "bounds = tuple((0,1) for x in range(len(Top10CC)))\n",
    "constraints = [{'type':'eq','fun': lambda x: sum(x) - 1}, {'type':'eq', 'fun': lambda x: sum(x*mean) - .003}]\n",
    "\n",
    "outcome = solver.minimize(std, x0=w0, constraints = constraints, bounds = bounds)"
   ]
  },
  {
   "cell_type": "code",
   "execution_count": 20,
   "metadata": {},
   "outputs": [],
   "source": [
    "np.set_printoptions(suppress=True)"
   ]
  },
  {
   "cell_type": "code",
   "execution_count": 21,
   "metadata": {},
   "outputs": [
    {
     "data": {
      "text/plain": [
       "     fun: 0.004472744953631976\n",
       "     jac: array([0.0208, 0.0172, 0.0045, 0.0106, 0.0122, 0.0045, 0.036 , 0.005 ,\n",
       "       0.0185, 0.0153])\n",
       " message: 'Optimization terminated successfully'\n",
       "    nfev: 88\n",
       "     nit: 8\n",
       "    njev: 8\n",
       "  status: 0\n",
       " success: True\n",
       "       x: array([0.    , 0.    , 0.9964, 0.    , 0.    , 0.0029, 0.    , 0.0007,\n",
       "       0.    , 0.    ])"
      ]
     },
     "execution_count": 21,
     "metadata": {},
     "output_type": "execute_result"
    }
   ],
   "source": [
    "outcome"
   ]
  },
  {
   "cell_type": "code",
   "execution_count": 16,
   "metadata": {},
   "outputs": [
    {
     "data": {
      "text/plain": [
       "0.0030000000000186605"
      ]
     },
     "execution_count": 16,
     "metadata": {},
     "output_type": "execute_result"
    }
   ],
   "source": [
    "sum(outcome.x * mean)"
   ]
  },
  {
   "cell_type": "code",
   "execution_count": 17,
   "metadata": {},
   "outputs": [],
   "source": [
    "np.set_printoptions(precision=4,suppress=True)"
   ]
  },
  {
   "cell_type": "code",
   "execution_count": 18,
   "metadata": {},
   "outputs": [],
   "source": [
    "return_change_range = np.arange(0.000,0.0002,0.000005)\n",
    "risk = []\n",
    "for i in return_change_range:\n",
    "    constraints = [{'type':'eq','fun': lambda x: sum(x) - 1}, {'type':'eq', 'fun': lambda x: sum(x*mean) - i}]\n",
    "    outcome = solver.minimize(std, x0=w0, constraints = constraints, bounds = bounds)\n",
    "    risk.append(outcome.fun)"
   ]
  },
  {
   "cell_type": "code",
   "execution_count": 19,
   "metadata": {},
   "outputs": [
    {
     "data": {
      "text/plain": [
       "Text(0, 0.5, 'portfolio return')"
      ]
     },
     "execution_count": 19,
     "metadata": {},
     "output_type": "execute_result"
    },
    {
     "data": {
      "image/png": "[encoded data removed]",
      "text/plain": [
       "<Figure size 432x288 with 1 Axes>"
      ]
     },
     "metadata": {
      "needs_background": "light"
     },
     "output_type": "display_data"
    }
   ],
   "source": [
    "constraints = [{'type':'eq','fun': lambda x: sum(x) - 1}]\n",
    "outcome = solver.minimize(std, x0=w0, constraints = constraints, bounds = bounds)\n",
    "plt.plot(outcome.fun, sum(outcome.x*mean), 'ro')\n",
    "plt.plot(risk, return_change_range,'*')\n",
    "plt.grid(True)\n",
    "plt.xlabel('portfolio volatility')\n",
    "plt.ylabel('portfolio return')"
   ]
  },
  {
   "cell_type": "code",
   "execution_count": null,
   "metadata": {},
   "outputs": [],
   "source": []
  }
 ],
 "metadata": {
  "kernelspec": {
   "display_name": "Python 3",
   "language": "python",
   "name": "python3"
  },
  "language_info": {
   "codemirror_mode": {
    "name": "ipython",
    "version": 3
   },
   "file_extension": ".py",
   "mimetype": "text/x-python",
   "name": "python",
   "nbconvert_exporter": "python",
   "pygments_lexer": "ipython3",
   "version": "3.8.5"
  }
 },
 "nbformat": 4,
 "nbformat_minor": 4
}
