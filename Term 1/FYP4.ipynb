{
 "cells": [
  {
   "cell_type": "code",
   "execution_count": 1,
   "metadata": {},
   "outputs": [],
   "source": [
    "import pandas as pd\n",
    "import numpy as np\n",
    "import datetime"
   ]
  },
  {
   "cell_type": "markdown",
   "metadata": {},
   "source": [
    "# Import data for Top 10 most capitalized CC"
   ]
  },
  {
   "cell_type": "code",
   "execution_count": 2,
   "metadata": {},
   "outputs": [],
   "source": [
    "from yahoo_fin.stock_info import get_data\n",
    "CC = ['BTC-USD', 'ETH-USD', 'XRP-USD', 'BCH-USD', 'LTC-USD', 'BNB-USD', 'EOS-USD', 'ADA-USD', 'LINK-USD', 'XLM-USD']\n",
    "MarketCap = pd.DataFrame()\n",
    "for cc in CC:\n",
    "    MarketCap[cc] = get_data(cc, '1/1/2019', datetime.date.today(),True, '1wk')['adjclose']\n",
    "MarketCap_returns = np.log(MarketCap/ MarketCap.shift(1)).fillna(value=0)"
   ]
  },
  {
   "cell_type": "markdown",
   "metadata": {},
   "source": [
    "# Import data for Top 10 most Liquid CC, with highest mean trading volume"
   ]
  },
  {
   "cell_type": "code",
   "execution_count": 3,
   "metadata": {},
   "outputs": [],
   "source": [
    "from yahoo_fin.stock_info import get_data\n",
    "CC = ['BTC-USD','ETH-USD','BCH-USD','LTC-USD','EOS-USD','XRP-USD','TRX-USD','ETC-USD','ADA-USD','XLM-USD']\n",
    "Liquid = pd.DataFrame()\n",
    "for cc in CC:\n",
    "    Liquid[cc] = get_data(cc, '1/1/2019', datetime.date.today(),True, '1wk')['adjclose']\n",
    "Liquid_returns = np.log(Liquid/ Liquid.shift(1)).fillna(value=0)"
   ]
  },
  {
   "cell_type": "code",
   "execution_count": null,
   "metadata": {},
   "outputs": [],
   "source": []
  },
  {
   "cell_type": "code",
   "execution_count": 4,
   "metadata": {},
   "outputs": [],
   "source": [
    "from functools import reduce\n",
    "def std(w,cov):\n",
    "    return np.sqrt(reduce(np.dot,[w,cov,w.T]))"
   ]
  },
  {
   "cell_type": "code",
   "execution_count": 5,
   "metadata": {},
   "outputs": [],
   "source": [
    "def getSharpeFromWeights(weights,returns):\n",
    "    expected_return = sum(weights*returns.mean())\n",
    "    Std = std(weights, returns.cov()) \n",
    "    sharpeRatio = ((expected_return - 0)/Std)\n",
    "    return sharpeRatio"
   ]
  },
  {
   "cell_type": "code",
   "execution_count": 6,
   "metadata": {},
   "outputs": [],
   "source": [
    "def getUtilityFromWeights(weights,returns):\n",
    "    expected_return = sum(weights*returns.mean())\n",
    "    Var = std(weights, returns.cov()) * std(weights, returns.cov())\n",
    "    Utility = (expected_return - Var/2)\n",
    "    return Utility"
   ]
  },
  {
   "cell_type": "code",
   "execution_count": 36,
   "metadata": {},
   "outputs": [],
   "source": [
    "def getRealReturnFromWeights(i,weights,returns):\n",
    "    realreturn = sum(weights*returns.iloc[i])\n",
    "    return realreturn"
   ]
  },
  {
   "cell_type": "code",
   "execution_count": 7,
   "metadata": {},
   "outputs": [],
   "source": [
    "def getLongOnlyWeights(returns):\n",
    "    from pypfopt.efficient_frontier import EfficientFrontier\n",
    "    mean = returns.mean()\n",
    "    cov = returns.cov()\n",
    "    ef1 = EfficientFrontier(mean,cov,weight_bounds=(0, 1))\n",
    "    LongOnly_weights = ef1.max_sharpe(risk_free_rate= 0.0)\n",
    "    LongOnly_weights = ef1.clean_weights() \n",
    "    \n",
    "    weights = np.array([1/len(LongOnly_weights) for x in range(len(LongOnly_weights))])\n",
    "    for i in range(0,len(LongOnly_weights)):\n",
    "        weights[i]= list(LongOnly_weights.values())[i]\n",
    "    return weights"
   ]
  },
  {
   "cell_type": "code",
   "execution_count": 8,
   "metadata": {},
   "outputs": [],
   "source": [
    "def getLongAndShortWeights(returns):\n",
    "    from pypfopt.efficient_frontier import EfficientFrontier\n",
    "    mean = returns.mean()\n",
    "    cov = returns.cov()\n",
    "    ef2 = EfficientFrontier(mean,cov,weight_bounds=(-1, 1))\n",
    "    LongAndShort_weights = ef2.max_sharpe(risk_free_rate= 0.0)\n",
    "    LongAndShort_weights = ef2.clean_weights()    \n",
    "    \n",
    "    weights = np.array([1/len(LongAndShort_weights) for x in range(len(LongAndShort_weights))])\n",
    "    for i in range(0,len(LongAndShort_weights)):\n",
    "        weights[i]= list(LongAndShort_weights.values())[i]\n",
    "    \n",
    "    return weights"
   ]
  },
  {
   "cell_type": "code",
   "execution_count": 37,
   "metadata": {},
   "outputs": [],
   "source": [
    "def appendData(dataframe, weights, returns, i, model):\n",
    "    expected_return = sum(weights*returns.iloc[0:i].mean())\n",
    "    real_return = sum(weights*returns.iloc[i])\n",
    "    Std = std(weights, returns.iloc[0:i].cov()) \n",
    "    sharpe = ((expected_return - 0)/Std)\n",
    "    dataframe = dataframe.append(pd.Series({'Portfolio Model': model,\n",
    "                                            'Expected Returns' : expected_return, \n",
    "                                            'Real Returns' : real_return,\n",
    "                                            'Portfolio Std' : Std,\n",
    "                                            'Sharpe Ratio': sharpe}, \n",
    "                                            name = returns.iloc[i].name))\n",
    "    return dataframe\n",
    "    "
   ]
  },
  {
   "cell_type": "code",
   "execution_count": 136,
   "metadata": {
    "scrolled": false
   },
   "outputs": [],
   "source": [
    "dataframe = pd.DataFrame()\n",
    "sharperatio = pd.DataFrame()\n",
    "utility = pd.DataFrame()\n",
    "realreturn = pd.DataFrame()\n",
    "\n",
    "for i in range(73, 95):\n",
    "    \n",
    "    liquid_truncated_returns = Liquid_returns.iloc[0:i] \n",
    "    marketcap_truncated_returns = MarketCap_returns.iloc[0:i]\n",
    "    \n",
    "    liquid_capm_longonly_weights       = getLongOnlyWeights(liquid_truncated_returns)\n",
    "    liquid_capm_longandshort_weights   = getLongAndShortWeights(liquid_truncated_returns)\n",
    "    marketcap_capm_longonly_weights    = getLongOnlyWeights(marketcap_truncated_returns)\n",
    "    marketcap_capm_longandshort_weights= getLongAndShortWeights(marketcap_truncated_returns)\n",
    "    liquid_equal_weights               = np.array([1/len(Liquid_returns.mean()) for x in range(len(Liquid_returns.mean()))])\n",
    "    marketcap_equal_weights            = np.array([1/len(MarketCap_returns.mean()) for x in range(len(MarketCap_returns.mean()))])\n",
    "    \n",
    "    liquid_capm_longonly_sharpe        = getSharpeFromWeights(liquid_capm_longonly_weights,liquid_truncated_returns)\n",
    "    liquid_capm_longandshort_sharpe    = getSharpeFromWeights(liquid_capm_longandshort_weights,liquid_truncated_returns)\n",
    "    marketcap_capm_longonly_sharpe     = getSharpeFromWeights(marketcap_capm_longonly_weights, marketcap_truncated_returns)\n",
    "    marketcap_capm_longandshort_sharpe = getSharpeFromWeights(marketcap_capm_longandshort_weights, marketcap_truncated_returns)\n",
    "    liquid_equal_sharpe                = getSharpeFromWeights(liquid_equal_weights, liquid_truncated_returns)\n",
    "    marketcap_equal_sharpe             = getSharpeFromWeights(marketcap_equal_weights, marketcap_truncated_returns)\n",
    "    sharperatio = sharperatio.append(pd.Series({'Liquid CAPM LongOnly': liquid_capm_longonly_sharpe,\n",
    "                                            'Liquid CAPM LongAndShort' : liquid_capm_longandshort_sharpe, \n",
    "                                            'Liquid Equal' : liquid_equal_sharpe,\n",
    "                                            'MarketCap CAPM LongOnly' : marketcap_capm_longonly_sharpe,\n",
    "                                            'MarketCap CAPM LongAndShort' : marketcap_capm_longandshort_sharpe, \n",
    "                                            'MarketCap Equal' : marketcap_equal_sharpe}, \n",
    "                                            name = Liquid_returns.iloc[i].name))\n",
    "    \n",
    "    liquid_capm_longonly_utility        = getUtilityFromWeights(liquid_capm_longonly_weights,liquid_truncated_returns)\n",
    "    liquid_capm_longandshort_utility    = getUtilityFromWeights(liquid_capm_longandshort_weights,liquid_truncated_returns)\n",
    "    marketcap_capm_longonly_utility     = getUtilityFromWeights(marketcap_capm_longonly_weights, marketcap_truncated_returns)\n",
    "    marketcap_capm_longandshort_utility = getUtilityFromWeights(marketcap_capm_longandshort_weights, marketcap_truncated_returns)\n",
    "    liquid_equal_utility                = getUtilityFromWeights(liquid_equal_weights, liquid_truncated_returns)\n",
    "    marketcap_equal_utility             = getUtilityFromWeights(marketcap_equal_weights, marketcap_truncated_returns)\n",
    "    \n",
    "    utility = utility.append(pd.Series({'Liquid CAPM LongOnly': liquid_capm_longonly_utility,\n",
    "                                            'Liquid CAPM LongAndShort' : liquid_capm_longandshort_utility, \n",
    "                                            'Liquid Equal' : liquid_equal_utility,\n",
    "                                            'MarketCap CAPM LongOnly' : marketcap_capm_longonly_utility,\n",
    "                                            'MarketCap CAPM LongAndShort' : marketcap_capm_longandshort_utility, \n",
    "                                            'MarketCap Equal' : marketcap_equal_utility}, \n",
    "                                            name = Liquid_returns.iloc[i].name))\n",
    "    \n",
    "    liquid_capm_longonly_realreturn        = (getRealReturnFromWeights(i,liquid_capm_longonly_weights,Liquid_returns))\n",
    "    liquid_capm_longandshort_realreturn    = (getRealReturnFromWeights(i,liquid_capm_longandshort_weights,Liquid_returns))\n",
    "    marketcap_capm_longonly_realreturn     = (getRealReturnFromWeights(i,marketcap_capm_longonly_weights, MarketCap_returns))\n",
    "    marketcap_capm_longandshort_realreturn = (getRealReturnFromWeights(i,marketcap_capm_longandshort_weights, MarketCap_returns))\n",
    "    liquid_equal_realreturn                = (getRealReturnFromWeights(i,liquid_equal_weights, Liquid_returns))\n",
    "    marketcap_equal_realreturn             = (getRealReturnFromWeights(i,marketcap_equal_weights, MarketCap_returns))\n",
    "    \n",
    "    \n",
    "    realreturn = realreturn.append(pd.Series({'Liquid CAPM LongOnly': liquid_capm_longonly_realreturn,\n",
    "                                            'Liquid CAPM LongAndShort' : liquid_capm_longandshort_realreturn, \n",
    "                                            'Liquid Equal' : liquid_equal_realreturn,\n",
    "                                            'MarketCap CAPM LongOnly' : marketcap_capm_longonly_realreturn,\n",
    "                                            'MarketCap CAPM LongAndShort' : marketcap_capm_longandshort_realreturn, \n",
    "                                            'MarketCap Equal' : marketcap_equal_realreturn}, \n",
    "                                            name = Liquid_returns.iloc[i].name))\n",
    "    \n",
    "    index = sharpe_list.index(max(sharpe_list))\n",
    "    #print(index)\n",
    "    #print(sharpe_list)\n",
    "    #print(utility_list)\n",
    "    \n",
    "    if index == 0:\n",
    "        dataframe = appendData(dataframe, liquid_capm_longonly_weights, Liquid_returns,i, \"liquid_capm_longonly\")\n",
    "    elif index ==1:\n",
    "        dataframe = appendData(dataframe, liquid_capm_longandshort_weights, Liquid_returns,i, \"liquid_capm_longandshort\")\n",
    "    elif index ==2:\n",
    "        dataframe = appendData(dataframe, marketcap_capm_longonly_weights, MarketCap_returns,i, \" marketcap_capm_longonly\")\n",
    "    elif index ==3:\n",
    "        dataframe = appendData(dataframe, marketcap_capm_longandshort_weights, MarketCap_returns,i, \"marketcap_capm_longandshort\")\n",
    "    elif index ==4:\n",
    "        dataframe = appendData(dataframe, liquid_equal_weights, Liquid_returns,i, \"liquid_equal\")\n",
    "    elif index ==5:\n",
    "        dataframe = appendData(dataframe, marketcap_equal_weights, MarketCap_returns,i, \" marketcap_equal\")"
   ]
  },
  {
   "cell_type": "code",
   "execution_count": null,
   "metadata": {},
   "outputs": [],
   "source": [
    "\n"
   ]
  },
  {
   "cell_type": "code",
   "execution_count": 146,
   "metadata": {},
   "outputs": [],
   "source": [
    "def table_data(dataframe,Name,q):\n",
    "    if Name == \"Mean\":\n",
    "        data = dataframe.mean().tolist()\n",
    "    elif Name == \"Std\":\n",
    "        data = dataframe.std().tolist()\n",
    "    else:\n",
    "        data = dataframe.quantile(q).tolist()\n",
    "        \n",
    "    for i in range(0,len(data)):\n",
    "        data[i] = round(data[i],3)\n",
    "    data.insert(0,Name)\n",
    "    return data"
   ]
  },
  {
   "cell_type": "code",
   "execution_count": 54,
   "metadata": {},
   "outputs": [],
   "source": [
    "from prettytable import PrettyTable"
   ]
  },
  {
   "cell_type": "code",
   "execution_count": 131,
   "metadata": {},
   "outputs": [],
   "source": [
    "x1 = PrettyTable([\"\",\"Liquid CAPM L&S\", \"Liquid CAPM L\",\"Liquid 1/N\", \n",
    "                 \"MarketCap CAPM L&S\",\"MarketCap CAPM L\", \"MarketCap Equal\" ])\n",
    "x1.padding_width = 1\n",
    "x1.add_row([\"N\",22,22,22,22,22,22])\n",
    "x1.add_row(table_data(sharperatio,\"Mean\",0))\n",
    "x1.add_row(table_data(sharperatio,\"Min\",0))\n",
    "x1.add_row(table_data(sharperatio,\"q1\",0.25))\n",
    "x1.add_row(table_data(sharperatio,\"Median\",0.5))\n",
    "x1.add_row(table_data(sharperatio,\"q3\",0.75))\n",
    "x1.add_row(table_data(sharperatio,\"Max\",1))\n",
    "x1.add_row(table_data(sharperatio,\"Std\",1))"
   ]
  },
  {
   "cell_type": "code",
   "execution_count": 132,
   "metadata": {},
   "outputs": [
    {
     "name": "stdout",
     "output_type": "stream",
     "text": [
      "+--------+-----------------+---------------+------------+--------------------+------------------+-----------------+\n",
      "|        | Liquid CAPM L&S | Liquid CAPM L | Liquid 1/N | MarketCap CAPM L&S | MarketCap CAPM L | MarketCap Equal |\n",
      "+--------+-----------------+---------------+------------+--------------------+------------------+-----------------+\n",
      "|   N    |        22       |       22      |     22     |         22         |        22        |        22       |\n",
      "|  Mean  |      0.233      |     0.112     |   0.026    |       0.338        |      0.193       |      0.072      |\n",
      "|  Min   |      0.207      |     0.102     |   0.003    |       0.313        |      0.163       |      0.045      |\n",
      "|   q1   |      0.223      |     0.106     |   0.017    |        0.33        |      0.175       |      0.062      |\n",
      "| Median |      0.235      |     0.109     |   0.024    |       0.338        |      0.192       |       0.07      |\n",
      "|   q3   |      0.245      |      0.12     |   0.033    |       0.348        |      0.207       |      0.079      |\n",
      "|  Max   |       0.26      |     0.129     |   0.058    |       0.355        |      0.233       |      0.106      |\n",
      "|  Std   |      0.014      |     0.009     |   0.015    |       0.012        |      0.021       |      0.017      |\n",
      "+--------+-----------------+---------------+------------+--------------------+------------------+-----------------+\n"
     ]
    }
   ],
   "source": [
    "print(x1)"
   ]
  },
  {
   "cell_type": "code",
   "execution_count": 133,
   "metadata": {},
   "outputs": [],
   "source": [
    "x2 = PrettyTable([\"\",\"Liquid CAPM L&S\", \"Liquid CAPM L\",\"Liquid 1/N\", \n",
    "                 \"MarketCap CAPM L&S\",\"MarketCap CAPM L\", \"MarketCap Equal\" ])\n",
    "x2.padding_width = 1\n",
    "x2.add_row([\"N\",22,22,22,22,22,22])\n",
    "x2.add_row(table_data(utility,\"Mean\",0))\n",
    "x2.add_row(table_data(utility,\"Min\",0))\n",
    "x2.add_row(table_data(utility,\"q1\",0.25))\n",
    "x2.add_row(table_data(utility,\"Median\",0.5))\n",
    "x2.add_row(table_data(utility,\"q3\",0.75))\n",
    "x2.add_row(table_data(utility,\"Max\",1))\n",
    "x2.add_row(table_data(utility,\"Std\",1))"
   ]
  },
  {
   "cell_type": "code",
   "execution_count": 135,
   "metadata": {},
   "outputs": [
    {
     "name": "stdout",
     "output_type": "stream",
     "text": [
      "+--------+-----------------+---------------+------------+--------------------+------------------+-----------------+\n",
      "|        | Liquid CAPM L&S | Liquid CAPM L | Liquid 1/N | MarketCap CAPM L&S | MarketCap CAPM L | MarketCap Equal |\n",
      "+--------+-----------------+---------------+------------+--------------------+------------------+-----------------+\n",
      "|   N    |        22       |       22      |     22     |         22         |        22        |        22       |\n",
      "|  Mean  |      0.026      |     0.006     |   -0.003   |       0.051        |      0.018       |      0.002      |\n",
      "|  Min   |      0.021      |     0.005     |   -0.006   |       0.046        |      0.013       |      -0.001     |\n",
      "|   q1   |      0.024      |     0.006     |   -0.004   |       0.049        |      0.015       |      0.001      |\n",
      "| Median |      0.026      |     0.006     |   -0.003   |       0.051        |      0.018       |      0.002      |\n",
      "|   q3   |      0.028      |     0.007     |   -0.002   |       0.053        |       0.02       |      0.003      |\n",
      "|  Max   |      0.031      |     0.008     |    0.0     |       0.055        |      0.025       |      0.006      |\n",
      "|  Std   |      0.003      |     0.001     |   0.002    |       0.003        |      0.003       |      0.002      |\n",
      "+--------+-----------------+---------------+------------+--------------------+------------------+-----------------+\n"
     ]
    }
   ],
   "source": [
    "print(x2)"
   ]
  },
  {
   "cell_type": "code",
   "execution_count": 141,
   "metadata": {},
   "outputs": [],
   "source": [
    "x3 = PrettyTable([\"\",\"Liquid CAPM L&S\", \"Liquid CAPM L\",\"Liquid 1/N\", \n",
    "                 \"MarketCap CAPM L&S\",\"MarketCap CAPM L\", \"MarketCap Equal\" ])\n",
    "x3.padding_width = 1\n",
    "x3.add_row(table_data(realreturn,\"Mean\",0))\n",
    "x3.add_row(table_data(realreturn,\"Std\",1))"
   ]
  },
  {
   "cell_type": "code",
   "execution_count": 142,
   "metadata": {
    "scrolled": true
   },
   "outputs": [
    {
     "name": "stdout",
     "output_type": "stream",
     "text": [
      "+------+-----------------+---------------+------------+--------------------+------------------+-----------------+\n",
      "|      | Liquid CAPM L&S | Liquid CAPM L | Liquid 1/N | MarketCap CAPM L&S | MarketCap CAPM L | MarketCap Equal |\n",
      "+------+-----------------+---------------+------------+--------------------+------------------+-----------------+\n",
      "| Mean |      0.022      |     0.016     |   0.013    |        0.08        |      0.038       |       0.02      |\n",
      "| Std  |      0.214      |     0.065     |    0.08    |       0.221        |      0.141       |      0.086      |\n",
      "+------+-----------------+---------------+------------+--------------------+------------------+-----------------+\n"
     ]
    }
   ],
   "source": [
    "print(x3)"
   ]
  },
  {
   "cell_type": "code",
   "execution_count": 144,
   "metadata": {},
   "outputs": [
    {
     "data": {
      "text/plain": [
       "Liquid CAPM LongAndShort       0.022236\n",
       "Liquid CAPM LongOnly           0.015948\n",
       "Liquid Equal                   0.013281\n",
       "MarketCap CAPM LongAndShort    0.079859\n",
       "MarketCap CAPM LongOnly        0.037801\n",
       "MarketCap Equal                0.019547\n",
       "dtype: float64"
      ]
     },
     "execution_count": 144,
     "metadata": {},
     "output_type": "execute_result"
    }
   ],
   "source": [
    "realreturn.mean()"
   ]
  },
  {
   "cell_type": "code",
   "execution_count": 145,
   "metadata": {},
   "outputs": [],
   "source": [
    "import matplotlib.pyplot as plt"
   ]
  },
  {
   "cell_type": "code",
   "execution_count": 151,
   "metadata": {},
   "outputs": [
    {
     "data": {
      "text/plain": [
       "Text(0, 0.5, 'Mean of real returns')"
      ]
     },
     "execution_count": 151,
     "metadata": {},
     "output_type": "execute_result"
    },
    {
     "data": {
      "image/png": "[encoded data removed]",
      "text/plain": [
       "<Figure size 432x288 with 1 Axes>"
      ]
     },
     "metadata": {
      "needs_background": "light"
     },
     "output_type": "display_data"
    }
   ],
   "source": [
    "plt.scatter((realreturn.std().tolist()),(realreturn.mean().tolist()), c = 'r')\n",
    "plt.xlabel('Std of real returns', fontsize=14)\n",
    "plt.ylabel('Mean of real returns', fontsize=14)"
   ]
  },
  {
   "cell_type": "code",
   "execution_count": null,
   "metadata": {},
   "outputs": [],
   "source": []
  }
 ],
 "metadata": {
  "kernelspec": {
   "display_name": "Python 3",
   "language": "python",
   "name": "python3"
  },
  "language_info": {
   "codemirror_mode": {
    "name": "ipython",
    "version": 3
   },
   "file_extension": ".py",
   "mimetype": "text/x-python",
   "name": "python",
   "nbconvert_exporter": "python",
   "pygments_lexer": "ipython3",
   "version": "3.8.5"
  }
 },
 "nbformat": 4,
 "nbformat_minor": 4
}
