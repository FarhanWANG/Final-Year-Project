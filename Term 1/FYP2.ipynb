{
 "cells": [
  {
   "cell_type": "code",
   "execution_count": 1,
   "metadata": {},
   "outputs": [],
   "source": [
    "import pandas as pd\n",
    "import numpy as np\n",
    "import datetime"
   ]
  },
  {
   "cell_type": "code",
   "execution_count": 2,
   "metadata": {},
   "outputs": [
    {
     "data": {
      "text/plain": [
       "<function dict.clear>"
      ]
     },
     "execution_count": 2,
     "metadata": {},
     "output_type": "execute_result"
    }
   ],
   "source": [
    "from yahoo_fin.stock_info import get_data\n",
    "Top10CC = ['BTC-USD', 'ETH-USD', 'USDT-USD', 'XRP-USD', 'BCH-USD', 'LINK-USD','BNB-USD',  'ADA-USD', 'LTC-USD',\n",
    "           'EOS-USD']\n",
    "hisPrices = {}\n",
    "for cc in Top10CC:\n",
    "    hisPrices[cc] = get_data(cc, '1/1/2019', datetime.date.today(),True, '1wk')\n",
    "    \n",
    "Prices = pd.DataFrame(index=np.arange(hisPrices['BTC-USD'].shape[0]),columns = Top10CC)\n",
    "Prices.set_index(hisPrices['BTC-USD'].index, inplace = True)\n",
    "for x in hisPrices:\n",
    "    Prices[x] = hisPrices[x].adjclose\n",
    "hisPrices.clear"
   ]
  },
  {
   "cell_type": "code",
   "execution_count": 3,
   "metadata": {},
   "outputs": [],
   "source": [
    "returns = np.log(Prices/Prices.shift(1)).fillna(value=0) #log(R_t/R_t-1)"
   ]
  },
  {
   "cell_type": "code",
   "execution_count": 4,
   "metadata": {},
   "outputs": [
    {
     "data": {
      "text/plain": [
       "BTC-USD     0.015092\n",
       "ETH-USD     0.011888\n",
       "USDT-USD   -0.000135\n",
       "XRP-USD    -0.001886\n",
       "BCH-USD     0.004595\n",
       "LINK-USD    0.036093\n",
       "BNB-USD     0.015039\n",
       "ADA-USD     0.008156\n",
       "LTC-USD     0.007649\n",
       "EOS-USD    -0.000315\n",
       "dtype: float64"
      ]
     },
     "execution_count": 4,
     "metadata": {},
     "output_type": "execute_result"
    }
   ],
   "source": [
    "returns.mean()"
   ]
  },
  {
   "cell_type": "markdown",
   "metadata": {},
   "source": []
  },
  {
   "cell_type": "code",
   "execution_count": 5,
   "metadata": {},
   "outputs": [],
   "source": [
    "import tushare as ts\n",
    "ts.set_token('d22a3bc6484b9fd9618e97dfd6249e49d7146267e1167bdc375de7c1')\n",
    "pro = ts.pro_api()\n",
    "df = pro.libor(curr_type='USD', start_date='20190101', end_date='20201001')"
   ]
  },
  {
   "cell_type": "code",
   "execution_count": 6,
   "metadata": {},
   "outputs": [],
   "source": [
    "def findLIBOR(date):\n",
    "    for i in df.index:\n",
    "        if date == df.loc[i]['date']:\n",
    "            return df.loc[i]['1w']\n",
    "            break\n",
    "    return 0"
   ]
  },
  {
   "cell_type": "code",
   "execution_count": 7,
   "metadata": {},
   "outputs": [],
   "source": [
    "LIBOR = returns.copy(deep =True).drop(columns = Top10CC)\n",
    "LIBOR['LIBOR']=0.0\n",
    "for i in LIBOR.index:\n",
    "    d = str(i).split(\" \")[0].split(\"-\")\n",
    "    date = d[0]+d[1]+d[2]\n",
    "    LIBOR.loc[i]['LIBOR'] = findLIBOR(date)\n",
    "# change 0.0 to the adjacent value\n",
    "for i in range(1,len(LIBOR)):\n",
    "    if LIBOR.iloc[i]['LIBOR'] == 0.0:\n",
    "        LIBOR.iloc[i]['LIBOR'] = LIBOR.iloc[i-1]['LIBOR']"
   ]
  },
  {
   "cell_type": "code",
   "execution_count": 8,
   "metadata": {},
   "outputs": [
    {
     "data": {
      "text/html": [
       "<div>\n",
       "<style scoped>\n",
       "    .dataframe tbody tr th:only-of-type {\n",
       "        vertical-align: middle;\n",
       "    }\n",
       "\n",
       "    .dataframe tbody tr th {\n",
       "        vertical-align: top;\n",
       "    }\n",
       "\n",
       "    .dataframe thead th {\n",
       "        text-align: right;\n",
       "    }\n",
       "</style>\n",
       "<table border=\"1\" class=\"dataframe\">\n",
       "  <thead>\n",
       "    <tr style=\"text-align: right;\">\n",
       "      <th></th>\n",
       "      <th>LIBOR</th>\n",
       "    </tr>\n",
       "  </thead>\n",
       "  <tbody>\n",
       "    <tr>\n",
       "      <th>2019-01-01</th>\n",
       "      <td>0.00000</td>\n",
       "    </tr>\n",
       "    <tr>\n",
       "      <th>2019-01-08</th>\n",
       "      <td>2.40875</td>\n",
       "    </tr>\n",
       "    <tr>\n",
       "      <th>2019-01-15</th>\n",
       "      <td>2.40200</td>\n",
       "    </tr>\n",
       "    <tr>\n",
       "      <th>2019-01-22</th>\n",
       "      <td>2.40888</td>\n",
       "    </tr>\n",
       "    <tr>\n",
       "      <th>2019-01-29</th>\n",
       "      <td>2.41388</td>\n",
       "    </tr>\n",
       "    <tr>\n",
       "      <th>...</th>\n",
       "      <td>...</td>\n",
       "    </tr>\n",
       "    <tr>\n",
       "      <th>2020-10-27</th>\n",
       "      <td>0.10563</td>\n",
       "    </tr>\n",
       "    <tr>\n",
       "      <th>2020-11-03</th>\n",
       "      <td>0.10563</td>\n",
       "    </tr>\n",
       "    <tr>\n",
       "      <th>2020-11-10</th>\n",
       "      <td>0.10563</td>\n",
       "    </tr>\n",
       "    <tr>\n",
       "      <th>2020-11-17</th>\n",
       "      <td>0.10563</td>\n",
       "    </tr>\n",
       "    <tr>\n",
       "      <th>2020-11-20</th>\n",
       "      <td>0.10563</td>\n",
       "    </tr>\n",
       "  </tbody>\n",
       "</table>\n",
       "<p>100 rows × 1 columns</p>\n",
       "</div>"
      ],
      "text/plain": [
       "              LIBOR\n",
       "2019-01-01  0.00000\n",
       "2019-01-08  2.40875\n",
       "2019-01-15  2.40200\n",
       "2019-01-22  2.40888\n",
       "2019-01-29  2.41388\n",
       "...             ...\n",
       "2020-10-27  0.10563\n",
       "2020-11-03  0.10563\n",
       "2020-11-10  0.10563\n",
       "2020-11-17  0.10563\n",
       "2020-11-20  0.10563\n",
       "\n",
       "[100 rows x 1 columns]"
      ]
     },
     "execution_count": 8,
     "metadata": {},
     "output_type": "execute_result"
    }
   ],
   "source": [
    "LIBOR"
   ]
  },
  {
   "cell_type": "code",
   "execution_count": 9,
   "metadata": {},
   "outputs": [],
   "source": [
    "def getMean(returns,start,end):\n",
    "    return returns.iloc[start:end].mean()\n",
    "def getCov(returns,start,end):\n",
    "    return returns.iloc[start:end].cov()"
   ]
  },
  {
   "cell_type": "code",
   "execution_count": 10,
   "metadata": {},
   "outputs": [],
   "source": [
    "def getRisk_free(LIBOR,start,end):\n",
    "    return LIBOR.iloc[start:end]['LIBOR'].mean()/5200"
   ]
  },
  {
   "cell_type": "code",
   "execution_count": 11,
   "metadata": {},
   "outputs": [],
   "source": [
    "from functools import reduce\n",
    "def std(w,cov):\n",
    "    return np.sqrt(reduce(np.dot,[w,cov,w.T]))"
   ]
  },
  {
   "cell_type": "code",
   "execution_count": 12,
   "metadata": {},
   "outputs": [],
   "source": [
    "np.set_printoptions(suppress=True)"
   ]
  },
  {
   "cell_type": "code",
   "execution_count": 13,
   "metadata": {},
   "outputs": [],
   "source": [
    "import scipy.optimize as solver\n",
    "def getOptimalPortfolio(returns, LIBOR,start,end):\n",
    "    \n",
    "    #general initialization\n",
    "    mean = getMean(returns,start,end)\n",
    "    cov = getCov(returns,start,end)\n",
    "    risk_free =  getRisk_free(LIBOR,start,end)\n",
    "    max_sharpe = 0.0\n",
    "    weights=[]\n",
    "    \n",
    "    #Initialization of solver.minimize\n",
    "    return_change_range = np.arange(min(mean),max(mean),(max(mean)-min(mean))/100)\n",
    "    w0 = np.array([1/len(Top10CC) for x in range(len(Top10CC))]) #equal weights\n",
    "    #bounds = tuple((0,1) for x in range(len(Top10CC))) #boundary of each weight. (0,1)means no short selling\n",
    "    \n",
    "    for i in return_change_range:\n",
    "        constraints = [{'type':'eq','fun': lambda x: sum(x) - 1.0}, {'type':'eq', 'fun': lambda x: sum(x*mean) - i}]\n",
    "        outcome = solver.minimize(std, args=(cov),x0=w0, constraints = constraints) #args is passed to std()\n",
    "        if (i-risk_free)/outcome.fun > max_sharpe:\n",
    "            max_sharpe = (i-risk_free)/outcome.fun\n",
    "            weights.append(outcome.x)\n",
    "            \n",
    "    optimalReturn = sum(weights[-1]*mean)\n",
    "    optimalWeights = weights[-1]\n",
    "    \n",
    "    return [max_sharpe, optimalReturn, optimalWeights]"
   ]
  },
  {
   "cell_type": "code",
   "execution_count": 14,
   "metadata": {
    "scrolled": true
   },
   "outputs": [
    {
     "data": {
      "text/plain": [
       "[0.3796660584458224,\n",
       " 0.035713152592740396,\n",
       " array([ 0.80853415,  0.40726537,  0.92148326, -1.09854703, -0.05212686,\n",
       "         0.268388  ,  0.29210959,  0.04874364,  0.28819168, -0.88404179])]"
      ]
     },
     "execution_count": 14,
     "metadata": {},
     "output_type": "execute_result"
    }
   ],
   "source": [
    "getOptimalPortfolio(returns, LIBOR,0,len(returns))"
   ]
  },
  {
   "cell_type": "code",
   "execution_count": 15,
   "metadata": {},
   "outputs": [],
   "source": [
    "weights = getOptimalPortfolio(returns, LIBOR,0,len(returns))[2]"
   ]
  },
  {
   "cell_type": "code",
   "execution_count": 16,
   "metadata": {},
   "outputs": [
    {
     "data": {
      "text/plain": [
       "array([ 0.80853415,  0.40726537,  0.92148326, -1.09854703, -0.05212686,\n",
       "        0.268388  ,  0.29210959,  0.04874364,  0.28819168, -0.88404179])"
      ]
     },
     "execution_count": 16,
     "metadata": {},
     "output_type": "execute_result"
    }
   ],
   "source": [
    "weights"
   ]
  },
  {
   "cell_type": "code",
   "execution_count": 17,
   "metadata": {},
   "outputs": [
    {
     "data": {
      "text/plain": [
       "numpy.ndarray"
      ]
     },
     "execution_count": 17,
     "metadata": {},
     "output_type": "execute_result"
    }
   ],
   "source": [
    "type(weights)"
   ]
  },
  {
   "cell_type": "code",
   "execution_count": 22,
   "metadata": {},
   "outputs": [
    {
     "data": {
      "text/plain": [
       "array([ 0.809,  0.407,  0.921, -1.099, -0.052,  0.268,  0.292,  0.049,\n",
       "        0.288, -0.884])"
      ]
     },
     "execution_count": 22,
     "metadata": {},
     "output_type": "execute_result"
    }
   ],
   "source": [
    "np.around(weights, decimals=3)"
   ]
  },
  {
   "cell_type": "code",
   "execution_count": null,
   "metadata": {},
   "outputs": [],
   "source": [
    "for i in weights:\n",
    "    print(i)"
   ]
  },
  {
   "cell_type": "code",
   "execution_count": null,
   "metadata": {},
   "outputs": [],
   "source": []
  }
 ],
 "metadata": {
  "kernelspec": {
   "display_name": "Python 3",
   "language": "python",
   "name": "python3"
  },
  "language_info": {
   "codemirror_mode": {
    "name": "ipython",
    "version": 3
   },
   "file_extension": ".py",
   "mimetype": "text/x-python",
   "name": "python",
   "nbconvert_exporter": "python",
   "pygments_lexer": "ipython3",
   "version": "3.8.5"
  }
 },
 "nbformat": 4,
 "nbformat_minor": 4
}
