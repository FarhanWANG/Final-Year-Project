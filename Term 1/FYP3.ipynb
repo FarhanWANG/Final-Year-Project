{
 "cells": [
  {
   "cell_type": "code",
   "execution_count": 1,
   "metadata": {},
   "outputs": [],
   "source": [
    "import pandas as pd\n",
    "import numpy as np\n",
    "import datetime\n",
    "np.set_printoptions(suppress=True)\n",
    "pd.set_option('display.max_rows', 20)"
   ]
  },
  {
   "cell_type": "code",
   "execution_count": 4,
   "metadata": {},
   "outputs": [
    {
     "data": {
      "text/plain": [
       "<function dict.clear>"
      ]
     },
     "execution_count": 4,
     "metadata": {},
     "output_type": "execute_result"
    }
   ],
   "source": [
    "from yahoo_fin.stock_info import get_data\n",
    "Top10CC = ['BTC-USD', 'ETH-USD', 'USDT-USD', 'XRP-USD', 'BCH-USD', 'LINK-USD','BNB-USD',  'ADA-USD', 'LTC-USD',\n",
    "           'EOS-USD']\n",
    "hisPrices = {}\n",
    "for cc in Top10CC:\n",
    "    hisPrices[cc] = get_data(cc, '1/1/2019', datetime.date.today(),True, '1wk')\n",
    "    \n",
    "Prices = pd.DataFrame(index=np.arange(hisPrices['BTC-USD'].shape[0]),columns = Top10CC)\n",
    "Prices.set_index(hisPrices['BTC-USD'].index, inplace = True)\n",
    "for x in hisPrices:\n",
    "    Prices[x] = hisPrices[x].adjclose\n",
    "hisPrices.clear"
   ]
  },
  {
   "cell_type": "code",
   "execution_count": 5,
   "metadata": {},
   "outputs": [],
   "source": [
    "returns = np.log(Prices/Prices.shift(1)).fillna(value=0) #log(R_t/R_t-1)"
   ]
  },
  {
   "cell_type": "code",
   "execution_count": 6,
   "metadata": {},
   "outputs": [
    {
     "data": {
      "text/plain": [
       "BTC-USD     0.014296\n",
       "ETH-USD     0.012116\n",
       "USDT-USD   -0.000125\n",
       "XRP-USD     0.004129\n",
       "BCH-USD     0.004976\n",
       "LINK-USD    0.034748\n",
       "BNB-USD     0.014863\n",
       "ADA-USD     0.010786\n",
       "LTC-USD     0.006076\n",
       "EOS-USD     0.000352\n",
       "dtype: float64"
      ]
     },
     "execution_count": 6,
     "metadata": {},
     "output_type": "execute_result"
    }
   ],
   "source": [
    "returns.mean()"
   ]
  },
  {
   "cell_type": "markdown",
   "metadata": {},
   "source": []
  },
  {
   "cell_type": "code",
   "execution_count": 7,
   "metadata": {},
   "outputs": [],
   "source": [
    "import tushare as ts\n",
    "ts.set_token('d22a3bc6484b9fd9618e97dfd6249e49d7146267e1167bdc375de7c1')\n",
    "pro = ts.pro_api()\n",
    "df = pro.libor(curr_type='USD', start_date='20190101', end_date='20201001')"
   ]
  },
  {
   "cell_type": "code",
   "execution_count": 8,
   "metadata": {},
   "outputs": [],
   "source": [
    "def findLIBOR(date):\n",
    "    for i in df.index:\n",
    "        if date == df.loc[i]['date']:\n",
    "            return df.loc[i]['1w']\n",
    "            break\n",
    "    return 0"
   ]
  },
  {
   "cell_type": "code",
   "execution_count": 9,
   "metadata": {},
   "outputs": [],
   "source": [
    "LIBOR = returns.copy(deep =True).drop(columns = Top10CC)\n",
    "LIBOR['LIBOR']=0.0\n",
    "for i in LIBOR.index:\n",
    "    d = str(i).split(\" \")[0].split(\"-\")\n",
    "    date = d[0]+d[1]+d[2]\n",
    "    LIBOR.loc[i]['LIBOR'] = findLIBOR(date)\n",
    "# change 0.0 to the adjacent value\n",
    "for i in range(1,len(LIBOR)):\n",
    "    if LIBOR.iloc[i]['LIBOR'] == 0.0:\n",
    "        LIBOR.iloc[i]['LIBOR'] = LIBOR.iloc[i-1]['LIBOR']"
   ]
  },
  {
   "cell_type": "code",
   "execution_count": 10,
   "metadata": {},
   "outputs": [
    {
     "data": {
      "text/html": [
       "<div>\n",
       "<style scoped>\n",
       "    .dataframe tbody tr th:only-of-type {\n",
       "        vertical-align: middle;\n",
       "    }\n",
       "\n",
       "    .dataframe tbody tr th {\n",
       "        vertical-align: top;\n",
       "    }\n",
       "\n",
       "    .dataframe thead th {\n",
       "        text-align: right;\n",
       "    }\n",
       "</style>\n",
       "<table border=\"1\" class=\"dataframe\">\n",
       "  <thead>\n",
       "    <tr style=\"text-align: right;\">\n",
       "      <th></th>\n",
       "      <th>LIBOR</th>\n",
       "    </tr>\n",
       "  </thead>\n",
       "  <tbody>\n",
       "    <tr>\n",
       "      <th>2019-01-01</th>\n",
       "      <td>0.00000</td>\n",
       "    </tr>\n",
       "    <tr>\n",
       "      <th>2019-01-08</th>\n",
       "      <td>2.40875</td>\n",
       "    </tr>\n",
       "    <tr>\n",
       "      <th>2019-01-15</th>\n",
       "      <td>2.40200</td>\n",
       "    </tr>\n",
       "    <tr>\n",
       "      <th>2019-01-22</th>\n",
       "      <td>2.40888</td>\n",
       "    </tr>\n",
       "    <tr>\n",
       "      <th>2019-01-29</th>\n",
       "      <td>2.41388</td>\n",
       "    </tr>\n",
       "    <tr>\n",
       "      <th>...</th>\n",
       "      <td>...</td>\n",
       "    </tr>\n",
       "    <tr>\n",
       "      <th>2020-11-03</th>\n",
       "      <td>0.10563</td>\n",
       "    </tr>\n",
       "    <tr>\n",
       "      <th>2020-11-10</th>\n",
       "      <td>0.10563</td>\n",
       "    </tr>\n",
       "    <tr>\n",
       "      <th>2020-11-17</th>\n",
       "      <td>0.10563</td>\n",
       "    </tr>\n",
       "    <tr>\n",
       "      <th>2020-11-24</th>\n",
       "      <td>0.10563</td>\n",
       "    </tr>\n",
       "    <tr>\n",
       "      <th>2020-11-28</th>\n",
       "      <td>0.10563</td>\n",
       "    </tr>\n",
       "  </tbody>\n",
       "</table>\n",
       "<p>101 rows × 1 columns</p>\n",
       "</div>"
      ],
      "text/plain": [
       "              LIBOR\n",
       "2019-01-01  0.00000\n",
       "2019-01-08  2.40875\n",
       "2019-01-15  2.40200\n",
       "2019-01-22  2.40888\n",
       "2019-01-29  2.41388\n",
       "...             ...\n",
       "2020-11-03  0.10563\n",
       "2020-11-10  0.10563\n",
       "2020-11-17  0.10563\n",
       "2020-11-24  0.10563\n",
       "2020-11-28  0.10563\n",
       "\n",
       "[101 rows x 1 columns]"
      ]
     },
     "execution_count": 10,
     "metadata": {},
     "output_type": "execute_result"
    }
   ],
   "source": [
    "LIBOR"
   ]
  },
  {
   "cell_type": "code",
   "execution_count": 11,
   "metadata": {},
   "outputs": [],
   "source": [
    "def getMean(returns,start,end):\n",
    "    return returns.iloc[start:end].mean()\n",
    "def getCov(returns,start,end):\n",
    "    return returns.iloc[start:end].cov()"
   ]
  },
  {
   "cell_type": "code",
   "execution_count": 12,
   "metadata": {},
   "outputs": [
    {
     "data": {
      "text/html": [
       "<div>\n",
       "<style scoped>\n",
       "    .dataframe tbody tr th:only-of-type {\n",
       "        vertical-align: middle;\n",
       "    }\n",
       "\n",
       "    .dataframe tbody tr th {\n",
       "        vertical-align: top;\n",
       "    }\n",
       "\n",
       "    .dataframe thead th {\n",
       "        text-align: right;\n",
       "    }\n",
       "</style>\n",
       "<table border=\"1\" class=\"dataframe\">\n",
       "  <thead>\n",
       "    <tr style=\"text-align: right;\">\n",
       "      <th></th>\n",
       "      <th>BTC-USD</th>\n",
       "      <th>ETH-USD</th>\n",
       "      <th>USDT-USD</th>\n",
       "      <th>XRP-USD</th>\n",
       "      <th>BCH-USD</th>\n",
       "      <th>LINK-USD</th>\n",
       "      <th>BNB-USD</th>\n",
       "      <th>ADA-USD</th>\n",
       "      <th>LTC-USD</th>\n",
       "      <th>EOS-USD</th>\n",
       "    </tr>\n",
       "  </thead>\n",
       "  <tbody>\n",
       "    <tr>\n",
       "      <th>BTC-USD</th>\n",
       "      <td>0.009344</td>\n",
       "      <td>0.010098</td>\n",
       "      <td>0.000062</td>\n",
       "      <td>0.006929</td>\n",
       "      <td>0.010513</td>\n",
       "      <td>0.008547</td>\n",
       "      <td>0.007649</td>\n",
       "      <td>0.008801</td>\n",
       "      <td>0.009374</td>\n",
       "      <td>0.009151</td>\n",
       "    </tr>\n",
       "    <tr>\n",
       "      <th>ETH-USD</th>\n",
       "      <td>0.010098</td>\n",
       "      <td>0.015900</td>\n",
       "      <td>0.000033</td>\n",
       "      <td>0.011846</td>\n",
       "      <td>0.013699</td>\n",
       "      <td>0.014177</td>\n",
       "      <td>0.010983</td>\n",
       "      <td>0.013783</td>\n",
       "      <td>0.013040</td>\n",
       "      <td>0.012932</td>\n",
       "    </tr>\n",
       "    <tr>\n",
       "      <th>USDT-USD</th>\n",
       "      <td>0.000062</td>\n",
       "      <td>0.000033</td>\n",
       "      <td>0.000020</td>\n",
       "      <td>0.000016</td>\n",
       "      <td>0.000015</td>\n",
       "      <td>0.000112</td>\n",
       "      <td>-0.000034</td>\n",
       "      <td>-0.000023</td>\n",
       "      <td>0.000041</td>\n",
       "      <td>0.000027</td>\n",
       "    </tr>\n",
       "    <tr>\n",
       "      <th>XRP-USD</th>\n",
       "      <td>0.006929</td>\n",
       "      <td>0.011846</td>\n",
       "      <td>0.000016</td>\n",
       "      <td>0.014217</td>\n",
       "      <td>0.010638</td>\n",
       "      <td>0.010449</td>\n",
       "      <td>0.008275</td>\n",
       "      <td>0.011509</td>\n",
       "      <td>0.010219</td>\n",
       "      <td>0.010417</td>\n",
       "    </tr>\n",
       "    <tr>\n",
       "      <th>BCH-USD</th>\n",
       "      <td>0.010513</td>\n",
       "      <td>0.013699</td>\n",
       "      <td>0.000015</td>\n",
       "      <td>0.010638</td>\n",
       "      <td>0.017984</td>\n",
       "      <td>0.010505</td>\n",
       "      <td>0.009846</td>\n",
       "      <td>0.013222</td>\n",
       "      <td>0.013758</td>\n",
       "      <td>0.014044</td>\n",
       "    </tr>\n",
       "    <tr>\n",
       "      <th>LINK-USD</th>\n",
       "      <td>0.008547</td>\n",
       "      <td>0.014177</td>\n",
       "      <td>0.000112</td>\n",
       "      <td>0.010449</td>\n",
       "      <td>0.010505</td>\n",
       "      <td>0.035093</td>\n",
       "      <td>0.012087</td>\n",
       "      <td>0.013123</td>\n",
       "      <td>0.010684</td>\n",
       "      <td>0.011101</td>\n",
       "    </tr>\n",
       "    <tr>\n",
       "      <th>BNB-USD</th>\n",
       "      <td>0.007649</td>\n",
       "      <td>0.010983</td>\n",
       "      <td>-0.000034</td>\n",
       "      <td>0.008275</td>\n",
       "      <td>0.009846</td>\n",
       "      <td>0.012087</td>\n",
       "      <td>0.015497</td>\n",
       "      <td>0.011240</td>\n",
       "      <td>0.010326</td>\n",
       "      <td>0.010416</td>\n",
       "    </tr>\n",
       "    <tr>\n",
       "      <th>ADA-USD</th>\n",
       "      <td>0.008801</td>\n",
       "      <td>0.013783</td>\n",
       "      <td>-0.000023</td>\n",
       "      <td>0.011509</td>\n",
       "      <td>0.013222</td>\n",
       "      <td>0.013123</td>\n",
       "      <td>0.011240</td>\n",
       "      <td>0.017902</td>\n",
       "      <td>0.012392</td>\n",
       "      <td>0.012973</td>\n",
       "    </tr>\n",
       "    <tr>\n",
       "      <th>LTC-USD</th>\n",
       "      <td>0.009374</td>\n",
       "      <td>0.013040</td>\n",
       "      <td>0.000041</td>\n",
       "      <td>0.010219</td>\n",
       "      <td>0.013758</td>\n",
       "      <td>0.010684</td>\n",
       "      <td>0.010326</td>\n",
       "      <td>0.012392</td>\n",
       "      <td>0.015293</td>\n",
       "      <td>0.012999</td>\n",
       "    </tr>\n",
       "    <tr>\n",
       "      <th>EOS-USD</th>\n",
       "      <td>0.009151</td>\n",
       "      <td>0.012932</td>\n",
       "      <td>0.000027</td>\n",
       "      <td>0.010417</td>\n",
       "      <td>0.014044</td>\n",
       "      <td>0.011101</td>\n",
       "      <td>0.010416</td>\n",
       "      <td>0.012973</td>\n",
       "      <td>0.012999</td>\n",
       "      <td>0.014626</td>\n",
       "    </tr>\n",
       "  </tbody>\n",
       "</table>\n",
       "</div>"
      ],
      "text/plain": [
       "           BTC-USD   ETH-USD  USDT-USD   XRP-USD   BCH-USD  LINK-USD  \\\n",
       "BTC-USD   0.009344  0.010098  0.000062  0.006929  0.010513  0.008547   \n",
       "ETH-USD   0.010098  0.015900  0.000033  0.011846  0.013699  0.014177   \n",
       "USDT-USD  0.000062  0.000033  0.000020  0.000016  0.000015  0.000112   \n",
       "XRP-USD   0.006929  0.011846  0.000016  0.014217  0.010638  0.010449   \n",
       "BCH-USD   0.010513  0.013699  0.000015  0.010638  0.017984  0.010505   \n",
       "LINK-USD  0.008547  0.014177  0.000112  0.010449  0.010505  0.035093   \n",
       "BNB-USD   0.007649  0.010983 -0.000034  0.008275  0.009846  0.012087   \n",
       "ADA-USD   0.008801  0.013783 -0.000023  0.011509  0.013222  0.013123   \n",
       "LTC-USD   0.009374  0.013040  0.000041  0.010219  0.013758  0.010684   \n",
       "EOS-USD   0.009151  0.012932  0.000027  0.010417  0.014044  0.011101   \n",
       "\n",
       "           BNB-USD   ADA-USD   LTC-USD   EOS-USD  \n",
       "BTC-USD   0.007649  0.008801  0.009374  0.009151  \n",
       "ETH-USD   0.010983  0.013783  0.013040  0.012932  \n",
       "USDT-USD -0.000034 -0.000023  0.000041  0.000027  \n",
       "XRP-USD   0.008275  0.011509  0.010219  0.010417  \n",
       "BCH-USD   0.009846  0.013222  0.013758  0.014044  \n",
       "LINK-USD  0.012087  0.013123  0.010684  0.011101  \n",
       "BNB-USD   0.015497  0.011240  0.010326  0.010416  \n",
       "ADA-USD   0.011240  0.017902  0.012392  0.012973  \n",
       "LTC-USD   0.010326  0.012392  0.015293  0.012999  \n",
       "EOS-USD   0.010416  0.012973  0.012999  0.014626  "
      ]
     },
     "execution_count": 12,
     "metadata": {},
     "output_type": "execute_result"
    }
   ],
   "source": [
    "getCov(returns, 0 , len(returns))"
   ]
  },
  {
   "cell_type": "code",
   "execution_count": 13,
   "metadata": {},
   "outputs": [
    {
     "data": {
      "text/plain": [
       "BTC-USD     0.014296\n",
       "ETH-USD     0.012116\n",
       "USDT-USD   -0.000125\n",
       "XRP-USD     0.004129\n",
       "BCH-USD     0.004976\n",
       "LINK-USD    0.034748\n",
       "BNB-USD     0.014863\n",
       "ADA-USD     0.010786\n",
       "LTC-USD     0.006076\n",
       "EOS-USD     0.000352\n",
       "dtype: float64"
      ]
     },
     "execution_count": 13,
     "metadata": {},
     "output_type": "execute_result"
    }
   ],
   "source": [
    "returns.mean()"
   ]
  },
  {
   "cell_type": "code",
   "execution_count": 14,
   "metadata": {},
   "outputs": [],
   "source": [
    "def getRisk_free(LIBOR,start,end):\n",
    "    return LIBOR.iloc[start:end]['LIBOR'].mean()/5200"
   ]
  },
  {
   "cell_type": "code",
   "execution_count": 15,
   "metadata": {},
   "outputs": [],
   "source": [
    "from functools import reduce\n",
    "def std(w,cov):\n",
    "    return np.sqrt(reduce(np.dot,[w,cov,w.T]))"
   ]
  },
  {
   "cell_type": "code",
   "execution_count": 16,
   "metadata": {},
   "outputs": [],
   "source": [
    "import scipy.optimize as solver\n",
    "def getOptimalPortfolio(returns, LIBOR,start,end):\n",
    "    \n",
    "    #general initialization\n",
    "    mean = getMean(returns,start,end)\n",
    "    cov = getCov(returns,start,end)\n",
    "    risk_free =  getRisk_free(LIBOR,start,end)\n",
    "    max_sharpe = 0.0\n",
    "    weights=[]\n",
    "    \n",
    "    #Initialization of solver.minimize\n",
    "    return_change_range = np.arange(min(mean),max(mean),(max(mean)-min(mean))/100)\n",
    "    w0 = np.array([1/len(Top10CC) for x in range(len(Top10CC))]) #equal weights\n",
    "    #bounds = tuple((0,1) for x in range(len(Top10CC))) #boundary of each weight. (0,1)means no short selling\n",
    "    \n",
    "    for i in return_change_range:\n",
    "        constraints = [{'type':'eq','fun': lambda x: sum(x) - 1.0}, {'type':'eq', 'fun': lambda x: sum(x*mean) - i}]\n",
    "        outcome = solver.minimize(std, args=(cov),x0=w0,constraints = constraints) #args is passed to std()\n",
    "        if (i-risk_free)/outcome.fun > max_sharpe:\n",
    "            max_sharpe = (i-risk_free)/outcome.fun\n",
    "            weights.append(outcome.x)\n",
    "            \n",
    "    optimalReturn = sum(weights[-1]*mean)\n",
    "    optimalWeights = weights[-1]\n",
    "    \n",
    "    return [max_sharpe, optimalReturn, optimalWeights]"
   ]
  },
  {
   "cell_type": "code",
   "execution_count": 17,
   "metadata": {},
   "outputs": [],
   "source": [
    "# closed form"
   ]
  },
  {
   "cell_type": "code",
   "execution_count": 18,
   "metadata": {
    "scrolled": true
   },
   "outputs": [
    {
     "data": {
      "text/plain": [
       "[0.30320575507911574,\n",
       " 0.034747576269990366,\n",
       " array([ 1.24584408, -0.12156806,  0.35469281, -0.06807025, -0.09247962,\n",
       "         0.34702055,  0.28103091,  0.29366948,  0.03999149, -1.28013139])]"
      ]
     },
     "execution_count": 18,
     "metadata": {},
     "output_type": "execute_result"
    }
   ],
   "source": [
    "getOptimalPortfolio(returns, LIBOR,0,len(returns))"
   ]
  },
  {
   "cell_type": "code",
   "execution_count": 19,
   "metadata": {},
   "outputs": [],
   "source": [
    "# x = pd.DataFrame(returns.iloc[11]).stack().unstack(0)"
   ]
  },
  {
   "cell_type": "code",
   "execution_count": 20,
   "metadata": {},
   "outputs": [
    {
     "ename": "KeyboardInterrupt",
     "evalue": "",
     "output_type": "error",
     "traceback": [
      "\u001b[1;31m---------------------------------------------------------------------------\u001b[0m",
      "\u001b[1;31mKeyboardInterrupt\u001b[0m                         Traceback (most recent call last)",
      "\u001b[1;32m<ipython-input-20-92dba6221a16>\u001b[0m in \u001b[0;36m<module>\u001b[1;34m\u001b[0m\n\u001b[0;32m     11\u001b[0m \u001b[1;33m\u001b[0m\u001b[0m\n\u001b[0;32m     12\u001b[0m     \u001b[1;31m#Calculating the optimal portfolio using data of the first i weeks\u001b[0m\u001b[1;33m\u001b[0m\u001b[1;33m\u001b[0m\u001b[1;33m\u001b[0m\u001b[0m\n\u001b[1;32m---> 13\u001b[1;33m     \u001b[1;33m[\u001b[0m\u001b[0msharpeRatio\u001b[0m\u001b[1;33m,\u001b[0m \u001b[0mexpected_returns_portfolio\u001b[0m\u001b[1;33m,\u001b[0m \u001b[0mweights\u001b[0m\u001b[1;33m]\u001b[0m \u001b[1;33m=\u001b[0m \u001b[0mgetOptimalPortfolio\u001b[0m\u001b[1;33m(\u001b[0m\u001b[0mtruncated_returns_CC\u001b[0m\u001b[1;33m,\u001b[0m \u001b[0mLIBOR\u001b[0m\u001b[1;33m,\u001b[0m\u001b[1;36m0\u001b[0m\u001b[1;33m,\u001b[0m\u001b[0mlen\u001b[0m\u001b[1;33m(\u001b[0m\u001b[0mtruncated_returns_CC\u001b[0m\u001b[1;33m)\u001b[0m\u001b[1;33m)\u001b[0m\u001b[1;33m\u001b[0m\u001b[1;33m\u001b[0m\u001b[0m\n\u001b[0m\u001b[0;32m     14\u001b[0m     \u001b[0mreal_returns_portfolio\u001b[0m \u001b[1;33m=\u001b[0m \u001b[0msum\u001b[0m\u001b[1;33m(\u001b[0m\u001b[0mweights\u001b[0m\u001b[1;33m*\u001b[0m\u001b[0mreal_returns_CC\u001b[0m\u001b[1;33m)\u001b[0m\u001b[1;33m\u001b[0m\u001b[1;33m\u001b[0m\u001b[0m\n\u001b[0;32m     15\u001b[0m \u001b[1;33m\u001b[0m\u001b[0m\n",
      "\u001b[1;32m<ipython-input-16-d7e0f640243b>\u001b[0m in \u001b[0;36mgetOptimalPortfolio\u001b[1;34m(returns, LIBOR, start, end)\u001b[0m\n\u001b[0;32m     16\u001b[0m     \u001b[1;32mfor\u001b[0m \u001b[0mi\u001b[0m \u001b[1;32min\u001b[0m \u001b[0mreturn_change_range\u001b[0m\u001b[1;33m:\u001b[0m\u001b[1;33m\u001b[0m\u001b[1;33m\u001b[0m\u001b[0m\n\u001b[0;32m     17\u001b[0m         \u001b[0mconstraints\u001b[0m \u001b[1;33m=\u001b[0m \u001b[1;33m[\u001b[0m\u001b[1;33m{\u001b[0m\u001b[1;34m'type'\u001b[0m\u001b[1;33m:\u001b[0m\u001b[1;34m'eq'\u001b[0m\u001b[1;33m,\u001b[0m\u001b[1;34m'fun'\u001b[0m\u001b[1;33m:\u001b[0m \u001b[1;32mlambda\u001b[0m \u001b[0mx\u001b[0m\u001b[1;33m:\u001b[0m \u001b[0msum\u001b[0m\u001b[1;33m(\u001b[0m\u001b[0mx\u001b[0m\u001b[1;33m)\u001b[0m \u001b[1;33m-\u001b[0m \u001b[1;36m1.0\u001b[0m\u001b[1;33m}\u001b[0m\u001b[1;33m,\u001b[0m \u001b[1;33m{\u001b[0m\u001b[1;34m'type'\u001b[0m\u001b[1;33m:\u001b[0m\u001b[1;34m'eq'\u001b[0m\u001b[1;33m,\u001b[0m \u001b[1;34m'fun'\u001b[0m\u001b[1;33m:\u001b[0m \u001b[1;32mlambda\u001b[0m \u001b[0mx\u001b[0m\u001b[1;33m:\u001b[0m \u001b[0msum\u001b[0m\u001b[1;33m(\u001b[0m\u001b[0mx\u001b[0m\u001b[1;33m*\u001b[0m\u001b[0mmean\u001b[0m\u001b[1;33m)\u001b[0m \u001b[1;33m-\u001b[0m \u001b[0mi\u001b[0m\u001b[1;33m}\u001b[0m\u001b[1;33m]\u001b[0m\u001b[1;33m\u001b[0m\u001b[1;33m\u001b[0m\u001b[0m\n\u001b[1;32m---> 18\u001b[1;33m         \u001b[0moutcome\u001b[0m \u001b[1;33m=\u001b[0m \u001b[0msolver\u001b[0m\u001b[1;33m.\u001b[0m\u001b[0mminimize\u001b[0m\u001b[1;33m(\u001b[0m\u001b[0mstd\u001b[0m\u001b[1;33m,\u001b[0m \u001b[0margs\u001b[0m\u001b[1;33m=\u001b[0m\u001b[1;33m(\u001b[0m\u001b[0mcov\u001b[0m\u001b[1;33m)\u001b[0m\u001b[1;33m,\u001b[0m\u001b[0mx0\u001b[0m\u001b[1;33m=\u001b[0m\u001b[0mw0\u001b[0m\u001b[1;33m,\u001b[0m\u001b[0mconstraints\u001b[0m \u001b[1;33m=\u001b[0m \u001b[0mconstraints\u001b[0m\u001b[1;33m)\u001b[0m \u001b[1;31m#args is passed to std()\u001b[0m\u001b[1;33m\u001b[0m\u001b[1;33m\u001b[0m\u001b[0m\n\u001b[0m\u001b[0;32m     19\u001b[0m         \u001b[1;32mif\u001b[0m \u001b[1;33m(\u001b[0m\u001b[0mi\u001b[0m\u001b[1;33m-\u001b[0m\u001b[0mrisk_free\u001b[0m\u001b[1;33m)\u001b[0m\u001b[1;33m/\u001b[0m\u001b[0moutcome\u001b[0m\u001b[1;33m.\u001b[0m\u001b[0mfun\u001b[0m \u001b[1;33m>\u001b[0m \u001b[0mmax_sharpe\u001b[0m\u001b[1;33m:\u001b[0m\u001b[1;33m\u001b[0m\u001b[1;33m\u001b[0m\u001b[0m\n\u001b[0;32m     20\u001b[0m             \u001b[0mmax_sharpe\u001b[0m \u001b[1;33m=\u001b[0m \u001b[1;33m(\u001b[0m\u001b[0mi\u001b[0m\u001b[1;33m-\u001b[0m\u001b[0mrisk_free\u001b[0m\u001b[1;33m)\u001b[0m\u001b[1;33m/\u001b[0m\u001b[0moutcome\u001b[0m\u001b[1;33m.\u001b[0m\u001b[0mfun\u001b[0m\u001b[1;33m\u001b[0m\u001b[1;33m\u001b[0m\u001b[0m\n",
      "\u001b[1;32mC:\\ProgramData\\Anaconda3\\lib\\site-packages\\scipy\\optimize\\_minimize.py\u001b[0m in \u001b[0;36mminimize\u001b[1;34m(fun, x0, args, method, jac, hess, hessp, bounds, constraints, tol, callback, options)\u001b[0m\n\u001b[0;32m    623\u001b[0m         \u001b[1;32mreturn\u001b[0m \u001b[0m_minimize_cobyla\u001b[0m\u001b[1;33m(\u001b[0m\u001b[0mfun\u001b[0m\u001b[1;33m,\u001b[0m \u001b[0mx0\u001b[0m\u001b[1;33m,\u001b[0m \u001b[0margs\u001b[0m\u001b[1;33m,\u001b[0m \u001b[0mconstraints\u001b[0m\u001b[1;33m,\u001b[0m \u001b[1;33m**\u001b[0m\u001b[0moptions\u001b[0m\u001b[1;33m)\u001b[0m\u001b[1;33m\u001b[0m\u001b[1;33m\u001b[0m\u001b[0m\n\u001b[0;32m    624\u001b[0m     \u001b[1;32melif\u001b[0m \u001b[0mmeth\u001b[0m \u001b[1;33m==\u001b[0m \u001b[1;34m'slsqp'\u001b[0m\u001b[1;33m:\u001b[0m\u001b[1;33m\u001b[0m\u001b[1;33m\u001b[0m\u001b[0m\n\u001b[1;32m--> 625\u001b[1;33m         return _minimize_slsqp(fun, x0, args, jac, bounds,\n\u001b[0m\u001b[0;32m    626\u001b[0m                                constraints, callback=callback, **options)\n\u001b[0;32m    627\u001b[0m     \u001b[1;32melif\u001b[0m \u001b[0mmeth\u001b[0m \u001b[1;33m==\u001b[0m \u001b[1;34m'trust-constr'\u001b[0m\u001b[1;33m:\u001b[0m\u001b[1;33m\u001b[0m\u001b[1;33m\u001b[0m\u001b[0m\n",
      "\u001b[1;32mC:\\ProgramData\\Anaconda3\\lib\\site-packages\\scipy\\optimize\\slsqp.py\u001b[0m in \u001b[0;36m_minimize_slsqp\u001b[1;34m(func, x0, args, jac, bounds, constraints, maxiter, ftol, iprint, disp, eps, callback, finite_diff_rel_step, **unknown_options)\u001b[0m\n\u001b[0;32m    414\u001b[0m     \u001b[1;32mwhile\u001b[0m \u001b[1;36m1\u001b[0m\u001b[1;33m:\u001b[0m\u001b[1;33m\u001b[0m\u001b[1;33m\u001b[0m\u001b[0m\n\u001b[0;32m    415\u001b[0m         \u001b[1;31m# Call SLSQP\u001b[0m\u001b[1;33m\u001b[0m\u001b[1;33m\u001b[0m\u001b[1;33m\u001b[0m\u001b[0m\n\u001b[1;32m--> 416\u001b[1;33m         slsqp(m, meq, x, xl, xu, fx, c, g, a, acc, majiter, mode, w, jw,\n\u001b[0m\u001b[0;32m    417\u001b[0m               \u001b[0malpha\u001b[0m\u001b[1;33m,\u001b[0m \u001b[0mf0\u001b[0m\u001b[1;33m,\u001b[0m \u001b[0mgs\u001b[0m\u001b[1;33m,\u001b[0m \u001b[0mh1\u001b[0m\u001b[1;33m,\u001b[0m \u001b[0mh2\u001b[0m\u001b[1;33m,\u001b[0m \u001b[0mh3\u001b[0m\u001b[1;33m,\u001b[0m \u001b[0mh4\u001b[0m\u001b[1;33m,\u001b[0m \u001b[0mt\u001b[0m\u001b[1;33m,\u001b[0m \u001b[0mt0\u001b[0m\u001b[1;33m,\u001b[0m \u001b[0mtol\u001b[0m\u001b[1;33m,\u001b[0m\u001b[1;33m\u001b[0m\u001b[1;33m\u001b[0m\u001b[0m\n\u001b[0;32m    418\u001b[0m               \u001b[0miexact\u001b[0m\u001b[1;33m,\u001b[0m \u001b[0mincons\u001b[0m\u001b[1;33m,\u001b[0m \u001b[0mireset\u001b[0m\u001b[1;33m,\u001b[0m \u001b[0mitermx\u001b[0m\u001b[1;33m,\u001b[0m \u001b[0mline\u001b[0m\u001b[1;33m,\u001b[0m\u001b[1;33m\u001b[0m\u001b[1;33m\u001b[0m\u001b[0m\n",
      "\u001b[1;31mKeyboardInterrupt\u001b[0m: "
     ]
    }
   ],
   "source": [
    "CAPM_data = pd.DataFrame()\n",
    "\n",
    "Thestarttime=datetime.datetime.now()\n",
    "for i in range(25, len(returns) - 1):\n",
    "    starttime = datetime.datetime.now()\n",
    "    \n",
    "    # data of the first i weeks\n",
    "    truncated_returns_CC = returns.iloc[0:i]\n",
    "    # data of the following week (i+1)th week\n",
    "    real_returns_CC = returns.iloc[i+1]\n",
    "    \n",
    "    #Calculating the optimal portfolio using data of the first i weeks\n",
    "    [sharpeRatio, expected_returns_portfolio, weights] = getOptimalPortfolio(truncated_returns_CC, LIBOR,0,len(truncated_returns_CC))   \n",
    "    real_returns_portfolio = sum(weights*real_returns_CC)\n",
    "\n",
    "    # cov of 1 week is none\n",
    "    #realized_returns  = getOptimalPortfolio(real_returns_CC,LIBOR,0,len(real_returns_CC))[1]\n",
    "    \n",
    "    Std = std(weights, truncated_returns_CC.cov()) \n",
    "    CAPM_data = CAPM_data.append(pd.Series({'Expected Returns' : expected_returns_portfolio, \n",
    "                                            'Real Returns' : real_returns_portfolio, \n",
    "                                            'Sharpe Ratio' : sharpeRatio , 'Std' : Std}, name = returns.iloc[i+1].name))   \n",
    "    \n",
    "    endtime = datetime.datetime.now()\n",
    "    print (str(returns.iloc[i+1].name)+ \"  Time cost: \"+str((endtime - starttime).seconds) +\" seconds\")\n",
    "\n",
    "Theendtime = datetime.datetime.now()\n",
    "print (\"Total time cost: \" +str((Theendtime - Thestarttime).seconds)+\" seconds\")"
   ]
  },
  {
   "cell_type": "code",
   "execution_count": null,
   "metadata": {},
   "outputs": [],
   "source": [
    "# whether can short sell"
   ]
  },
  {
   "cell_type": "code",
   "execution_count": null,
   "metadata": {},
   "outputs": [],
   "source": [
    "# transaction cost"
   ]
  },
  {
   "cell_type": "code",
   "execution_count": null,
   "metadata": {},
   "outputs": [],
   "source": [
    "CAPM_data"
   ]
  },
  {
   "cell_type": "code",
   "execution_count": 21,
   "metadata": {},
   "outputs": [],
   "source": [
    "weights = np.array([1/len(Top10CC) for x in range(len(Top10CC))])\n",
    "equal_weights_data = pd.DataFrame()\n",
    "\n",
    "for i in range(25, len(returns) - 1):\n",
    "    \n",
    "    truncated_returns_CC = returns.iloc[0:i]\n",
    "    real_returns_CC = returns.iloc[i+1]\n",
    "    \n",
    "    real_returns_portfolio = sum(weights*real_returns_CC)\n",
    "    expected_returns_portfolio = sum(weights*truncated_returns_CC.mean())\n",
    "    \n",
    "    Std = std(weights, truncated_returns_CC.cov()) \n",
    "    risk_free =  getRisk_free(LIBOR,0,len(truncated_returns_CC))\n",
    "    sharpeRatio = ((expected_returns_portfolio - risk_free)/Std)\n",
    "    \n",
    "    #realized_returns  = getOptimalPortfolio(real_returns_CC,LIBOR,0,len(real_returns_CC))[1]\n",
    "    \n",
    "    equal_weights_data = equal_weights_data.append(pd.Series({'Expected Returns' : expected_returns_portfolio, \n",
    "                                                              'Real Returns' : real_returns_portfolio, \n",
    "                                                              'Sharpe Ratio' : sharpeRatio, \n",
    "                                                              'Std' : Std}, name = returns.iloc[i+1].name)) \n"
   ]
  },
  {
   "cell_type": "code",
   "execution_count": 23,
   "metadata": {},
   "outputs": [
    {
     "data": {
      "text/html": [
       "<div>\n",
       "<style scoped>\n",
       "    .dataframe tbody tr th:only-of-type {\n",
       "        vertical-align: middle;\n",
       "    }\n",
       "\n",
       "    .dataframe tbody tr th {\n",
       "        vertical-align: top;\n",
       "    }\n",
       "\n",
       "    .dataframe thead th {\n",
       "        text-align: right;\n",
       "    }\n",
       "</style>\n",
       "<table border=\"1\" class=\"dataframe\">\n",
       "  <thead>\n",
       "    <tr style=\"text-align: right;\">\n",
       "      <th></th>\n",
       "      <th>Expected Returns</th>\n",
       "      <th>Real Returns</th>\n",
       "      <th>Sharpe Ratio</th>\n",
       "      <th>Std</th>\n",
       "    </tr>\n",
       "  </thead>\n",
       "  <tbody>\n",
       "    <tr>\n",
       "      <th>2019-07-01</th>\n",
       "      <td>0.037490</td>\n",
       "      <td>0.011483</td>\n",
       "      <td>0.438409</td>\n",
       "      <td>0.084500</td>\n",
       "    </tr>\n",
       "    <tr>\n",
       "      <th>2019-07-08</th>\n",
       "      <td>0.034962</td>\n",
       "      <td>-0.224941</td>\n",
       "      <td>0.411944</td>\n",
       "      <td>0.083790</td>\n",
       "    </tr>\n",
       "    <tr>\n",
       "      <th>2019-07-15</th>\n",
       "      <td>0.034092</td>\n",
       "      <td>-0.014632</td>\n",
       "      <td>0.408895</td>\n",
       "      <td>0.082287</td>\n",
       "    </tr>\n",
       "    <tr>\n",
       "      <th>2019-07-22</th>\n",
       "      <td>0.024841</td>\n",
       "      <td>-0.041803</td>\n",
       "      <td>0.258346</td>\n",
       "      <td>0.094429</td>\n",
       "    </tr>\n",
       "    <tr>\n",
       "      <th>2019-07-29</th>\n",
       "      <td>0.023480</td>\n",
       "      <td>0.073238</td>\n",
       "      <td>0.247631</td>\n",
       "      <td>0.093016</td>\n",
       "    </tr>\n",
       "    <tr>\n",
       "      <th>...</th>\n",
       "      <td>...</td>\n",
       "      <td>...</td>\n",
       "      <td>...</td>\n",
       "      <td>...</td>\n",
       "    </tr>\n",
       "    <tr>\n",
       "      <th>2020-11-03</th>\n",
       "      <td>0.008814</td>\n",
       "      <td>0.077307</td>\n",
       "      <td>0.088837</td>\n",
       "      <td>0.096191</td>\n",
       "    </tr>\n",
       "    <tr>\n",
       "      <th>2020-11-10</th>\n",
       "      <td>0.008206</td>\n",
       "      <td>0.040538</td>\n",
       "      <td>0.082815</td>\n",
       "      <td>0.095869</td>\n",
       "    </tr>\n",
       "    <tr>\n",
       "      <th>2020-11-17</th>\n",
       "      <td>0.008918</td>\n",
       "      <td>0.256984</td>\n",
       "      <td>0.090502</td>\n",
       "      <td>0.095626</td>\n",
       "    </tr>\n",
       "    <tr>\n",
       "      <th>2020-11-24</th>\n",
       "      <td>0.009241</td>\n",
       "      <td>-0.130978</td>\n",
       "      <td>0.094337</td>\n",
       "      <td>0.095186</td>\n",
       "    </tr>\n",
       "    <tr>\n",
       "      <th>2020-11-28</th>\n",
       "      <td>0.011743</td>\n",
       "      <td>0.000784</td>\n",
       "      <td>0.117286</td>\n",
       "      <td>0.097918</td>\n",
       "    </tr>\n",
       "  </tbody>\n",
       "</table>\n",
       "<p>75 rows × 4 columns</p>\n",
       "</div>"
      ],
      "text/plain": [
       "            Expected Returns  Real Returns  Sharpe Ratio       Std\n",
       "2019-07-01          0.037490      0.011483      0.438409  0.084500\n",
       "2019-07-08          0.034962     -0.224941      0.411944  0.083790\n",
       "2019-07-15          0.034092     -0.014632      0.408895  0.082287\n",
       "2019-07-22          0.024841     -0.041803      0.258346  0.094429\n",
       "2019-07-29          0.023480      0.073238      0.247631  0.093016\n",
       "...                      ...           ...           ...       ...\n",
       "2020-11-03          0.008814      0.077307      0.088837  0.096191\n",
       "2020-11-10          0.008206      0.040538      0.082815  0.095869\n",
       "2020-11-17          0.008918      0.256984      0.090502  0.095626\n",
       "2020-11-24          0.009241     -0.130978      0.094337  0.095186\n",
       "2020-11-28          0.011743      0.000784      0.117286  0.097918\n",
       "\n",
       "[75 rows x 4 columns]"
      ]
     },
     "execution_count": 23,
     "metadata": {},
     "output_type": "execute_result"
    }
   ],
   "source": [
    "equal_weights_data"
   ]
  },
  {
   "cell_type": "code",
   "execution_count": null,
   "metadata": {},
   "outputs": [],
   "source": []
  },
  {
   "cell_type": "code",
   "execution_count": 22,
   "metadata": {},
   "outputs": [
    {
     "data": {
      "text/plain": [
       "Timestamp('2019-01-08 00:00:00')"
      ]
     },
     "execution_count": 22,
     "metadata": {},
     "output_type": "execute_result"
    }
   ],
   "source": [
    "returns.iloc[1].name"
   ]
  },
  {
   "cell_type": "code",
   "execution_count": null,
   "metadata": {},
   "outputs": [],
   "source": []
  }
 ],
 "metadata": {
  "kernelspec": {
   "display_name": "Python 3",
   "language": "python",
   "name": "python3"
  },
  "language_info": {
   "codemirror_mode": {
    "name": "ipython",
    "version": 3
   },
   "file_extension": ".py",
   "mimetype": "text/x-python",
   "name": "python",
   "nbconvert_exporter": "python",
   "pygments_lexer": "ipython3",
   "version": "3.8.5"
  }
 },
 "nbformat": 4,
 "nbformat_minor": 4
}
