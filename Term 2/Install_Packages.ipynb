{
 "cells": [
  {
   "cell_type": "code",
   "execution_count": null,
   "metadata": {},
   "outputs": [],
   "source": [
    "!pip install numpy\n",
    "!pip install datetime\n",
    "!pip install ast\n",
    "!pip install scipy\n",
    "!pip install matplotlib\n",
    "!pip install empyrical\n",
    "!pip install pandas\n",
    "!pip install pandas_datareader\n",
    "!pip install pyportfolioopt\n",
    "!pip install statsmodels\n",
    "!pip install prettytable\n",
    "!pip install seaborn\n",
    "!pip install sklearn\n",
    "!pip install tensorflow\n",
    "!pip install warnings\n"
   ]
  }
 ],
 "metadata": {
  "kernelspec": {
   "display_name": "Python 3",
   "language": "python",
   "name": "python3"
  },
  "language_info": {
   "codemirror_mode": {
    "name": "ipython",
    "version": 3
   },
   "file_extension": ".py",
   "mimetype": "text/x-python",
   "name": "python",
   "nbconvert_exporter": "python",
   "pygments_lexer": "ipython3",
   "version": "3.8.3"
  }
 },
 "nbformat": 4,
 "nbformat_minor": 4
}
