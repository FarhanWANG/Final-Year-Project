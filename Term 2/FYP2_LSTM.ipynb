{
 "cells": [
  {
   "cell_type": "code",
   "execution_count": 1,
   "metadata": {},
   "outputs": [],
   "source": [
    "%matplotlib inline\n",
    "\n",
    "from pathlib import Path\n",
    "\n",
    "import numpy as np\n",
    "import pandas as pd\n",
    "import pandas_datareader.data as web\n",
    "from scipy.stats import spearmanr\n",
    "\n",
    "from sklearn.metrics import mean_squared_error\n",
    "from sklearn.preprocessing import MinMaxScaler\n",
    "\n",
    "import tensorflow as tf\n",
    "from tensorflow.keras.callbacks import ModelCheckpoint, EarlyStopping\n",
    "from tensorflow.keras.models import Sequential\n",
    "from tensorflow.keras.layers import Dense, LSTM\n",
    "from tensorflow import keras\n",
    "\n",
    "import matplotlib.pyplot as plt\n",
    "import seaborn as sns"
   ]
  },
  {
   "cell_type": "code",
   "execution_count": 2,
   "metadata": {},
   "outputs": [],
   "source": [
    "import warnings\n",
    "warnings.filterwarnings('ignore')"
   ]
  },
  {
   "cell_type": "code",
   "execution_count": 3,
   "metadata": {},
   "outputs": [
    {
     "name": "stdout",
     "output_type": "stream",
     "text": [
      "Using GPU\n"
     ]
    }
   ],
   "source": [
    "gpu_devices = tf.config.experimental.list_physical_devices('GPU')\n",
    "if gpu_devices:\n",
    "    print('Using GPU')\n",
    "    tf.config.experimental.set_memory_growth(gpu_devices[0], True)\n",
    "else:\n",
    "    print('Using CPU')"
   ]
  },
  {
   "cell_type": "code",
   "execution_count": 4,
   "metadata": {},
   "outputs": [],
   "source": [
    "sns.set_style('whitegrid')\n",
    "np.random.seed(42)"
   ]
  },
  {
   "cell_type": "markdown",
   "metadata": {},
   "source": [
    "# Get Data"
   ]
  },
  {
   "cell_type": "code",
   "execution_count": 5,
   "metadata": {},
   "outputs": [
    {
     "data": {
      "text/html": [
       "<div>\n",
       "<style scoped>\n",
       "    .dataframe tbody tr th:only-of-type {\n",
       "        vertical-align: middle;\n",
       "    }\n",
       "\n",
       "    .dataframe tbody tr th {\n",
       "        vertical-align: top;\n",
       "    }\n",
       "\n",
       "    .dataframe thead th {\n",
       "        text-align: right;\n",
       "    }\n",
       "</style>\n",
       "<table border=\"1\" class=\"dataframe\">\n",
       "  <thead>\n",
       "    <tr style=\"text-align: right;\">\n",
       "      <th></th>\n",
       "      <th>close</th>\n",
       "    </tr>\n",
       "    <tr>\n",
       "      <th>date</th>\n",
       "      <th></th>\n",
       "    </tr>\n",
       "  </thead>\n",
       "  <tbody>\n",
       "    <tr>\n",
       "      <th>2017-01-01</th>\n",
       "      <td>998.325012</td>\n",
       "    </tr>\n",
       "    <tr>\n",
       "      <th>2017-01-02</th>\n",
       "      <td>1021.750000</td>\n",
       "    </tr>\n",
       "    <tr>\n",
       "      <th>2017-01-03</th>\n",
       "      <td>1043.839966</td>\n",
       "    </tr>\n",
       "    <tr>\n",
       "      <th>2017-01-04</th>\n",
       "      <td>1154.729980</td>\n",
       "    </tr>\n",
       "    <tr>\n",
       "      <th>2017-01-05</th>\n",
       "      <td>1013.380005</td>\n",
       "    </tr>\n",
       "    <tr>\n",
       "      <th>...</th>\n",
       "      <td>...</td>\n",
       "    </tr>\n",
       "    <tr>\n",
       "      <th>2020-12-26</th>\n",
       "      <td>26437.037109</td>\n",
       "    </tr>\n",
       "    <tr>\n",
       "      <th>2020-12-27</th>\n",
       "      <td>26272.294922</td>\n",
       "    </tr>\n",
       "    <tr>\n",
       "      <th>2020-12-28</th>\n",
       "      <td>27084.808594</td>\n",
       "    </tr>\n",
       "    <tr>\n",
       "      <th>2020-12-29</th>\n",
       "      <td>27362.437500</td>\n",
       "    </tr>\n",
       "    <tr>\n",
       "      <th>2020-12-30</th>\n",
       "      <td>28840.953125</td>\n",
       "    </tr>\n",
       "  </tbody>\n",
       "</table>\n",
       "<p>1452 rows × 1 columns</p>\n",
       "</div>"
      ],
      "text/plain": [
       "                   close\n",
       "date                    \n",
       "2017-01-01    998.325012\n",
       "2017-01-02   1021.750000\n",
       "2017-01-03   1043.839966\n",
       "2017-01-04   1154.729980\n",
       "2017-01-05   1013.380005\n",
       "...                  ...\n",
       "2020-12-26  26437.037109\n",
       "2020-12-27  26272.294922\n",
       "2020-12-28  27084.808594\n",
       "2020-12-29  27362.437500\n",
       "2020-12-30  28840.953125\n",
       "\n",
       "[1452 rows x 1 columns]"
      ]
     },
     "execution_count": 5,
     "metadata": {},
     "output_type": "execute_result"
    }
   ],
   "source": [
    "df=pd.read_csv('CC_daily_data.csv').dropna()\n",
    "dfclose = df[df['ticker']=='BTC-USD'].set_index(['date'])['close'].to_frame()\n",
    "dfclose = dfclose[~dfclose.index.duplicated(keep = 'first')]\n",
    "dfclose"
   ]
  },
  {
   "cell_type": "code",
   "execution_count": 6,
   "metadata": {},
   "outputs": [
    {
     "data": {
      "text/html": [
       "<div>\n",
       "<style scoped>\n",
       "    .dataframe tbody tr th:only-of-type {\n",
       "        vertical-align: middle;\n",
       "    }\n",
       "\n",
       "    .dataframe tbody tr th {\n",
       "        vertical-align: top;\n",
       "    }\n",
       "\n",
       "    .dataframe thead th {\n",
       "        text-align: right;\n",
       "    }\n",
       "</style>\n",
       "<table border=\"1\" class=\"dataframe\">\n",
       "  <thead>\n",
       "    <tr style=\"text-align: right;\">\n",
       "      <th></th>\n",
       "      <th>return</th>\n",
       "    </tr>\n",
       "    <tr>\n",
       "      <th>date</th>\n",
       "      <th></th>\n",
       "    </tr>\n",
       "  </thead>\n",
       "  <tbody>\n",
       "    <tr>\n",
       "      <th>2017-01-02</th>\n",
       "      <td>0.023193</td>\n",
       "    </tr>\n",
       "    <tr>\n",
       "      <th>2017-01-03</th>\n",
       "      <td>0.021389</td>\n",
       "    </tr>\n",
       "    <tr>\n",
       "      <th>2017-01-04</th>\n",
       "      <td>0.100960</td>\n",
       "    </tr>\n",
       "    <tr>\n",
       "      <th>2017-01-05</th>\n",
       "      <td>-0.130575</td>\n",
       "    </tr>\n",
       "    <tr>\n",
       "      <th>2017-01-06</th>\n",
       "      <td>-0.116209</td>\n",
       "    </tr>\n",
       "    <tr>\n",
       "      <th>...</th>\n",
       "      <td>...</td>\n",
       "    </tr>\n",
       "    <tr>\n",
       "      <th>2020-12-26</th>\n",
       "      <td>0.069389</td>\n",
       "    </tr>\n",
       "    <tr>\n",
       "      <th>2020-12-27</th>\n",
       "      <td>-0.006251</td>\n",
       "    </tr>\n",
       "    <tr>\n",
       "      <th>2020-12-28</th>\n",
       "      <td>0.030458</td>\n",
       "    </tr>\n",
       "    <tr>\n",
       "      <th>2020-12-29</th>\n",
       "      <td>0.010198</td>\n",
       "    </tr>\n",
       "    <tr>\n",
       "      <th>2020-12-30</th>\n",
       "      <td>0.052625</td>\n",
       "    </tr>\n",
       "  </tbody>\n",
       "</table>\n",
       "<p>1451 rows × 1 columns</p>\n",
       "</div>"
      ],
      "text/plain": [
       "              return\n",
       "date                \n",
       "2017-01-02  0.023193\n",
       "2017-01-03  0.021389\n",
       "2017-01-04  0.100960\n",
       "2017-01-05 -0.130575\n",
       "2017-01-06 -0.116209\n",
       "...              ...\n",
       "2020-12-26  0.069389\n",
       "2020-12-27 -0.006251\n",
       "2020-12-28  0.030458\n",
       "2020-12-29  0.010198\n",
       "2020-12-30  0.052625\n",
       "\n",
       "[1451 rows x 1 columns]"
      ]
     },
     "execution_count": 6,
     "metadata": {},
     "output_type": "execute_result"
    }
   ],
   "source": [
    "dfreturn = (np.log(dfclose/dfclose.shift())\n",
    "            .dropna()\n",
    "            .rename(columns = {'close':'return'}))\n",
    "dfreturn"
   ]
  },
  {
   "cell_type": "code",
   "execution_count": 7,
   "metadata": {},
   "outputs": [],
   "source": [
    "results_path = Path('results', 'univariate_LSTM')\n",
    "if not results_path.exists():\n",
    "    results_path.mkdir(parents=True)"
   ]
  },
  {
   "cell_type": "markdown",
   "metadata": {},
   "source": [
    "# Predicting Future Price:"
   ]
  },
  {
   "cell_type": "markdown",
   "metadata": {},
   "source": [
    "# Preprocessing"
   ]
  },
  {
   "cell_type": "code",
   "execution_count": 8,
   "metadata": {},
   "outputs": [
    {
     "data": {
      "text/plain": [
       "count    1452.000000\n",
       "mean        0.239884\n",
       "std         0.151313\n",
       "min         0.000000\n",
       "25%         0.119057\n",
       "50%         0.235580\n",
       "75%         0.316636\n",
       "max         1.000000\n",
       "dtype: float64"
      ]
     },
     "execution_count": 8,
     "metadata": {},
     "output_type": "execute_result"
    }
   ],
   "source": [
    "scaler = MinMaxScaler()\n",
    "dfclose_scaled = pd.Series(scaler.fit_transform(dfclose).squeeze(),index =dfclose.index)\n",
    "dfclose_scaled.describe()"
   ]
  },
  {
   "cell_type": "markdown",
   "metadata": {},
   "source": [
    "# Generating recurrent sequences from the time series"
   ]
  },
  {
   "cell_type": "markdown",
   "metadata": {},
   "source": [
    "We will generate sequences of 90 trading days, approximately 3 months, and use a single LSTM layer with 10 hidden units to predict the index value one timestep ahead. \n",
    "The input to every LSTM layer must have three dimensions, namely:\n",
    "- **Samples**: One sequence is one sample. A batch contains one or more samples.\n",
    "- **Time Steps**: One time step is one point of observation in the sample.\n",
    "- **Features**: One feature is one observation at a time step."
   ]
  },
  {
   "cell_type": "code",
   "execution_count": 9,
   "metadata": {},
   "outputs": [],
   "source": [
    "def create_univariate_rnn_data(data, window_size):\n",
    "    n = len(data)\n",
    "    y = data[window_size:]\n",
    "    data = data.values.reshape(-1, 1) # make 2D\n",
    "    X = np.hstack(tuple([data[i: n-j, :] for i, j in enumerate(range(window_size, 0, -1))]))\n",
    "    return pd.DataFrame(X, index=y.index), y"
   ]
  },
  {
   "cell_type": "code",
   "execution_count": 10,
   "metadata": {},
   "outputs": [],
   "source": [
    "window_size = 90"
   ]
  },
  {
   "cell_type": "code",
   "execution_count": 11,
   "metadata": {},
   "outputs": [],
   "source": [
    "X,y = create_univariate_rnn_data(dfclose_scaled, window_size)"
   ]
  },
  {
   "cell_type": "code",
   "execution_count": 12,
   "metadata": {},
   "outputs": [
    {
     "data": {
      "text/plain": [
       "(1362, 90)"
      ]
     },
     "execution_count": 12,
     "metadata": {},
     "output_type": "execute_result"
    }
   ],
   "source": [
    "X.shape"
   ]
  },
  {
   "cell_type": "markdown",
   "metadata": {},
   "source": [
    "# Train-test split"
   ]
  },
  {
   "cell_type": "code",
   "execution_count": 13,
   "metadata": {},
   "outputs": [
    {
     "data": {
      "image/png": "[encoded data removed]",
      "text/plain": [
       "<Figure size 1008x288 with 1 Axes>"
      ]
     },
     "metadata": {},
     "output_type": "display_data"
    }
   ],
   "source": [
    "ax = dfclose_scaled.plot(lw=2, figsize=(14, 4), rot=0)\n",
    "ax.set_xlabel('')\n",
    "sns.despine()"
   ]
  },
  {
   "cell_type": "code",
   "execution_count": 14,
   "metadata": {},
   "outputs": [],
   "source": [
    "X_train = X[:'2020'].values.reshape(-1, window_size, 1)\n",
    "y_train = y[:'2020']\n",
    "\n",
    "# keep the last year for testing\n",
    "X_test = X['2020':].values.reshape(-1, window_size, 1)\n",
    "y_test = y['2020':]"
   ]
  },
  {
   "cell_type": "code",
   "execution_count": 15,
   "metadata": {},
   "outputs": [],
   "source": [
    "n_obs, window_size, n_features = X_train.shape"
   ]
  },
  {
   "cell_type": "code",
   "execution_count": 16,
   "metadata": {},
   "outputs": [
    {
     "data": {
      "text/plain": [
       "(1002,)"
      ]
     },
     "execution_count": 16,
     "metadata": {},
     "output_type": "execute_result"
    }
   ],
   "source": [
    "y_train.shape"
   ]
  },
  {
   "cell_type": "markdown",
   "metadata": {},
   "source": [
    "# Define Model Architechture"
   ]
  },
  {
   "cell_type": "code",
   "execution_count": 17,
   "metadata": {},
   "outputs": [],
   "source": [
    "rnn_price = Sequential([\n",
    "    LSTM(units = 10, input_shape = (window_size,n_features), name='LSTM'),\n",
    "    Dense(1, name='Output')\n",
    "])"
   ]
  },
  {
   "cell_type": "code",
   "execution_count": 18,
   "metadata": {},
   "outputs": [
    {
     "name": "stdout",
     "output_type": "stream",
     "text": [
      "Model: \"sequential\"\n",
      "_________________________________________________________________\n",
      "Layer (type)                 Output Shape              Param #   \n",
      "=================================================================\n",
      "LSTM (LSTM)                  (None, 10)                480       \n",
      "_________________________________________________________________\n",
      "Output (Dense)               (None, 1)                 11        \n",
      "=================================================================\n",
      "Total params: 491\n",
      "Trainable params: 491\n",
      "Non-trainable params: 0\n",
      "_________________________________________________________________\n"
     ]
    }
   ],
   "source": [
    "rnn_price.summary()"
   ]
  },
  {
   "cell_type": "markdown",
   "metadata": {},
   "source": [
    "# Train the Model"
   ]
  },
  {
   "cell_type": "code",
   "execution_count": 19,
   "metadata": {},
   "outputs": [],
   "source": [
    "optimizer = keras.optimizers.RMSprop(lr=.001, rho = .9, epsilon = 1e-08, decay = .0)\n",
    "rnn_price.compile(loss = 'mean_squared_error', optimizer = optimizer)"
   ]
  },
  {
   "cell_type": "code",
   "execution_count": 20,
   "metadata": {},
   "outputs": [],
   "source": [
    "rnn_path = (results_path / 'rnn.h5').as_posix()\n",
    "checkpointer = ModelCheckpoint(filepath=rnn_path,verbose=1,monitor='val_loss',save_best_only=True)"
   ]
  },
  {
   "cell_type": "code",
   "execution_count": 21,
   "metadata": {},
   "outputs": [],
   "source": [
    "early_stopping = EarlyStopping(monitor = 'val_loss',patience = 20, restore_best_weights = True)"
   ]
  },
  {
   "cell_type": "code",
   "execution_count": 22,
   "metadata": {
    "scrolled": true
   },
   "outputs": [
    {
     "name": "stdout",
     "output_type": "stream",
     "text": [
      "Epoch 1/150\n",
      "51/51 [==============================] - 4s 36ms/step - loss: 0.0431 - val_loss: 0.0178\n",
      "\n",
      "Epoch 00001: val_loss improved from inf to 0.01778, saving model to results/univariate_LSTM\\rnn.h5\n",
      "Epoch 2/150\n",
      "51/51 [==============================] - 1s 11ms/step - loss: 0.0039 - val_loss: 0.0052\n",
      "\n",
      "Epoch 00002: val_loss improved from 0.01778 to 0.00520, saving model to results/univariate_LSTM\\rnn.h5\n",
      "Epoch 3/150\n",
      "51/51 [==============================] - 1s 11ms/step - loss: 0.0020 - val_loss: 0.0051\n",
      "\n",
      "Epoch 00003: val_loss improved from 0.00520 to 0.00508, saving model to results/univariate_LSTM\\rnn.h5\n",
      "Epoch 4/150\n",
      "51/51 [==============================] - 1s 10ms/step - loss: 0.0013 - val_loss: 0.0031\n",
      "\n",
      "Epoch 00004: val_loss improved from 0.00508 to 0.00312, saving model to results/univariate_LSTM\\rnn.h5\n",
      "Epoch 5/150\n",
      "51/51 [==============================] - 1s 11ms/step - loss: 0.0013 - val_loss: 0.0022\n",
      "\n",
      "Epoch 00005: val_loss improved from 0.00312 to 0.00223, saving model to results/univariate_LSTM\\rnn.h5\n",
      "Epoch 6/150\n",
      "51/51 [==============================] - 1s 11ms/step - loss: 0.0011 - val_loss: 0.0020\n",
      "\n",
      "Epoch 00006: val_loss improved from 0.00223 to 0.00200, saving model to results/univariate_LSTM\\rnn.h5\n",
      "Epoch 7/150\n",
      "51/51 [==============================] - 1s 11ms/step - loss: 8.0168e-04 - val_loss: 0.0014\n",
      "\n",
      "Epoch 00007: val_loss improved from 0.00200 to 0.00145, saving model to results/univariate_LSTM\\rnn.h5\n",
      "Epoch 8/150\n",
      "51/51 [==============================] - 1s 11ms/step - loss: 7.8824e-04 - val_loss: 0.0018\n",
      "\n",
      "Epoch 00008: val_loss did not improve from 0.00145\n",
      "Epoch 9/150\n",
      "51/51 [==============================] - 1s 11ms/step - loss: 6.8850e-04 - val_loss: 0.0016\n",
      "\n",
      "Epoch 00009: val_loss did not improve from 0.00145\n",
      "Epoch 10/150\n",
      "51/51 [==============================] - 1s 11ms/step - loss: 6.0923e-04 - val_loss: 0.0023\n",
      "\n",
      "Epoch 00010: val_loss did not improve from 0.00145\n",
      "Epoch 11/150\n",
      "51/51 [==============================] - 1s 10ms/step - loss: 4.9253e-04 - val_loss: 0.0010\n",
      "\n",
      "Epoch 00011: val_loss improved from 0.00145 to 0.00103, saving model to results/univariate_LSTM\\rnn.h5\n",
      "Epoch 12/150\n",
      "51/51 [==============================] - 1s 11ms/step - loss: 5.9122e-04 - val_loss: 0.0022\n",
      "\n",
      "Epoch 00012: val_loss did not improve from 0.00103\n",
      "Epoch 13/150\n",
      "51/51 [==============================] - 1s 11ms/step - loss: 4.3500e-04 - val_loss: 8.8509e-04\n",
      "\n",
      "Epoch 00013: val_loss improved from 0.00103 to 0.00089, saving model to results/univariate_LSTM\\rnn.h5\n",
      "Epoch 14/150\n",
      "51/51 [==============================] - 1s 11ms/step - loss: 5.4243e-04 - val_loss: 9.8607e-04\n",
      "\n",
      "Epoch 00014: val_loss did not improve from 0.00089\n",
      "Epoch 15/150\n",
      "51/51 [==============================] - 1s 11ms/step - loss: 4.9985e-04 - val_loss: 0.0011\n",
      "\n",
      "Epoch 00015: val_loss did not improve from 0.00089\n",
      "Epoch 16/150\n",
      "51/51 [==============================] - 1s 11ms/step - loss: 4.3208e-04 - val_loss: 0.0012\n",
      "\n",
      "Epoch 00016: val_loss did not improve from 0.00089\n",
      "Epoch 17/150\n",
      "51/51 [==============================] - 1s 11ms/step - loss: 5.1762e-04 - val_loss: 0.0018\n",
      "\n",
      "Epoch 00017: val_loss did not improve from 0.00089\n",
      "Epoch 18/150\n",
      "51/51 [==============================] - 1s 10ms/step - loss: 5.7837e-04 - val_loss: 0.0013\n",
      "\n",
      "Epoch 00018: val_loss did not improve from 0.00089\n",
      "Epoch 19/150\n",
      "51/51 [==============================] - 1s 11ms/step - loss: 4.4416e-04 - val_loss: 0.0017\n",
      "\n",
      "Epoch 00019: val_loss did not improve from 0.00089\n",
      "Epoch 20/150\n",
      "51/51 [==============================] - 1s 11ms/step - loss: 4.4403e-04 - val_loss: 0.0012\n",
      "\n",
      "Epoch 00020: val_loss did not improve from 0.00089\n",
      "Epoch 21/150\n",
      "51/51 [==============================] - 1s 11ms/step - loss: 3.5789e-04 - val_loss: 8.0610e-04\n",
      "\n",
      "Epoch 00021: val_loss improved from 0.00089 to 0.00081, saving model to results/univariate_LSTM\\rnn.h5\n",
      "Epoch 22/150\n",
      "51/51 [==============================] - 1s 10ms/step - loss: 4.3449e-04 - val_loss: 0.0017e-0\n",
      "\n",
      "Epoch 00022: val_loss did not improve from 0.00081\n",
      "Epoch 23/150\n",
      "51/51 [==============================] - 1s 11ms/step - loss: 4.1359e-04 - val_loss: 7.4428e-04\n",
      "\n",
      "Epoch 00023: val_loss improved from 0.00081 to 0.00074, saving model to results/univariate_LSTM\\rnn.h5\n",
      "Epoch 24/150\n",
      "51/51 [==============================] - 1s 11ms/step - loss: 4.1367e-04 - val_loss: 8.3374e-04\n",
      "\n",
      "Epoch 00024: val_loss did not improve from 0.00074\n",
      "Epoch 25/150\n",
      "51/51 [==============================] - 1s 10ms/step - loss: 3.7657e-04 - val_loss: 7.0334e-04\n",
      "\n",
      "Epoch 00025: val_loss improved from 0.00074 to 0.00070, saving model to results/univariate_LSTM\\rnn.h5\n",
      "Epoch 26/150\n",
      "51/51 [==============================] - 1s 11ms/step - loss: 3.4802e-04 - val_loss: 9.4299e-04\n",
      "\n",
      "Epoch 00026: val_loss did not improve from 0.00070\n",
      "Epoch 27/150\n",
      "51/51 [==============================] - 1s 11ms/step - loss: 4.5115e-04 - val_loss: 7.7680e-04\n",
      "\n",
      "Epoch 00027: val_loss did not improve from 0.00070\n",
      "Epoch 28/150\n",
      "51/51 [==============================] - 1s 11ms/step - loss: 3.3366e-04 - val_loss: 8.5742e-04\n",
      "\n",
      "Epoch 00028: val_loss did not improve from 0.00070\n",
      "Epoch 29/150\n",
      "51/51 [==============================] - 1s 10ms/step - loss: 3.3469e-04 - val_loss: 0.0011\n",
      "\n",
      "Epoch 00029: val_loss did not improve from 0.00070\n",
      "Epoch 30/150\n",
      "51/51 [==============================] - 1s 11ms/step - loss: 3.0550e-04 - val_loss: 5.5585e-04\n",
      "\n",
      "Epoch 00030: val_loss improved from 0.00070 to 0.00056, saving model to results/univariate_LSTM\\rnn.h5\n",
      "Epoch 31/150\n",
      "51/51 [==============================] - 1s 11ms/step - loss: 3.2776e-04 - val_loss: 0.0020\n",
      "\n",
      "Epoch 00031: val_loss did not improve from 0.00056\n",
      "Epoch 32/150\n",
      "51/51 [==============================] - 1s 11ms/step - loss: 4.4057e-04 - val_loss: 8.5724e-04\n",
      "\n",
      "Epoch 00032: val_loss did not improve from 0.00056\n",
      "Epoch 33/150\n",
      "51/51 [==============================] - 1s 11ms/step - loss: 3.4405e-04 - val_loss: 9.7506e-04\n",
      "\n",
      "Epoch 00033: val_loss did not improve from 0.00056\n",
      "Epoch 34/150\n",
      "51/51 [==============================] - 1s 11ms/step - loss: 4.5546e-04 - val_loss: 5.9505e-04\n",
      "\n",
      "Epoch 00034: val_loss did not improve from 0.00056\n",
      "Epoch 35/150\n",
      "51/51 [==============================] - 1s 10ms/step - loss: 2.8507e-04 - val_loss: 5.3202e-04\n",
      "\n",
      "Epoch 00035: val_loss improved from 0.00056 to 0.00053, saving model to results/univariate_LSTM\\rnn.h5\n",
      "Epoch 36/150\n",
      "51/51 [==============================] - 0s 10ms/step - loss: 4.2366e-04 - val_loss: 6.2813e-04\n",
      "\n",
      "Epoch 00036: val_loss did not improve from 0.00053\n",
      "Epoch 37/150\n",
      "51/51 [==============================] - 1s 10ms/step - loss: 2.8747e-04 - val_loss: 6.6094e-04\n",
      "\n",
      "Epoch 00037: val_loss did not improve from 0.00053\n",
      "Epoch 38/150\n",
      "51/51 [==============================] - 1s 11ms/step - loss: 3.2123e-04 - val_loss: 8.9307e-04\n",
      "\n",
      "Epoch 00038: val_loss did not improve from 0.00053\n",
      "Epoch 39/150\n",
      "51/51 [==============================] - 1s 11ms/step - loss: 3.6453e-04 - val_loss: 4.1325e-04\n",
      "\n",
      "Epoch 00039: val_loss improved from 0.00053 to 0.00041, saving model to results/univariate_LSTM\\rnn.h5\n",
      "Epoch 40/150\n",
      "51/51 [==============================] - 1s 11ms/step - loss: 2.9040e-04 - val_loss: 4.8258e-04\n",
      "\n",
      "Epoch 00040: val_loss did not improve from 0.00041\n",
      "Epoch 41/150\n",
      "51/51 [==============================] - 1s 11ms/step - loss: 3.8441e-04 - val_loss: 4.9312e-04\n",
      "\n",
      "Epoch 00041: val_loss did not improve from 0.00041\n",
      "Epoch 42/150\n",
      "51/51 [==============================] - 1s 11ms/step - loss: 2.5276e-04 - val_loss: 6.2460e-04\n",
      "\n",
      "Epoch 00042: val_loss did not improve from 0.00041\n",
      "Epoch 43/150\n",
      "51/51 [==============================] - 1s 11ms/step - loss: 3.1095e-04 - val_loss: 5.9907e-04\n",
      "\n",
      "Epoch 00043: val_loss did not improve from 0.00041\n",
      "Epoch 44/150\n",
      "51/51 [==============================] - 1s 11ms/step - loss: 3.2626e-04 - val_loss: 0.0014\n",
      "\n",
      "Epoch 00044: val_loss did not improve from 0.00041\n",
      "Epoch 45/150\n",
      "51/51 [==============================] - 1s 11ms/step - loss: 2.7438e-04 - val_loss: 4.7406e-04\n",
      "\n",
      "Epoch 00045: val_loss did not improve from 0.00041\n",
      "Epoch 46/150\n",
      "51/51 [==============================] - 1s 11ms/step - loss: 2.5899e-04 - val_loss: 6.3668e-04\n",
      "\n",
      "Epoch 00046: val_loss did not improve from 0.00041\n",
      "Epoch 47/150\n",
      "51/51 [==============================] - 1s 11ms/step - loss: 2.1552e-04 - val_loss: 4.3236e-04\n",
      "\n",
      "Epoch 00047: val_loss did not improve from 0.00041\n",
      "Epoch 48/150\n"
     ]
    },
    {
     "name": "stdout",
     "output_type": "stream",
     "text": [
      "51/51 [==============================] - 1s 11ms/step - loss: 2.2822e-04 - val_loss: 4.0250e-04\n",
      "\n",
      "Epoch 00048: val_loss improved from 0.00041 to 0.00040, saving model to results/univariate_LSTM\\rnn.h5\n",
      "Epoch 49/150\n",
      "51/51 [==============================] - 1s 11ms/step - loss: 2.3869e-04 - val_loss: 3.6953e-04\n",
      "\n",
      "Epoch 00049: val_loss improved from 0.00040 to 0.00037, saving model to results/univariate_LSTM\\rnn.h5\n",
      "Epoch 50/150\n",
      "51/51 [==============================] - 1s 11ms/step - loss: 3.3556e-04 - val_loss: 5.3996e-04\n",
      "\n",
      "Epoch 00050: val_loss did not improve from 0.00037\n",
      "Epoch 51/150\n",
      "51/51 [==============================] - 1s 10ms/step - loss: 2.3181e-04 - val_loss: 7.0832e-04\n",
      "\n",
      "Epoch 00051: val_loss did not improve from 0.00037\n",
      "Epoch 52/150\n",
      "51/51 [==============================] - 1s 11ms/step - loss: 2.6062e-04 - val_loss: 3.1669e-04\n",
      "\n",
      "Epoch 00052: val_loss improved from 0.00037 to 0.00032, saving model to results/univariate_LSTM\\rnn.h5\n",
      "Epoch 53/150\n",
      "51/51 [==============================] - 1s 11ms/step - loss: 2.3797e-04 - val_loss: 9.9111e-04\n",
      "\n",
      "Epoch 00053: val_loss did not improve from 0.00032\n",
      "Epoch 54/150\n",
      "51/51 [==============================] - 1s 10ms/step - loss: 2.4759e-04 - val_loss: 4.2021e-04\n",
      "\n",
      "Epoch 00054: val_loss did not improve from 0.00032\n",
      "Epoch 55/150\n",
      "51/51 [==============================] - 1s 11ms/step - loss: 2.1771e-04 - val_loss: 6.1057e-04\n",
      "\n",
      "Epoch 00055: val_loss did not improve from 0.00032\n",
      "Epoch 56/150\n",
      "51/51 [==============================] - 1s 11ms/step - loss: 3.2099e-04 - val_loss: 3.3940e-04\n",
      "\n",
      "Epoch 00056: val_loss did not improve from 0.00032\n",
      "Epoch 57/150\n",
      "51/51 [==============================] - 1s 11ms/step - loss: 2.5990e-04 - val_loss: 5.6363e-04\n",
      "\n",
      "Epoch 00057: val_loss did not improve from 0.00032\n",
      "Epoch 58/150\n",
      "51/51 [==============================] - 1s 10ms/step - loss: 2.5331e-04 - val_loss: 4.5435e-04\n",
      "\n",
      "Epoch 00058: val_loss did not improve from 0.00032\n",
      "Epoch 59/150\n",
      "51/51 [==============================] - 1s 11ms/step - loss: 3.4696e-04 - val_loss: 4.3429e-04\n",
      "\n",
      "Epoch 00059: val_loss did not improve from 0.00032\n",
      "Epoch 60/150\n",
      "51/51 [==============================] - 1s 11ms/step - loss: 2.1976e-04 - val_loss: 3.4880e-04\n",
      "\n",
      "Epoch 00060: val_loss did not improve from 0.00032\n",
      "Epoch 61/150\n",
      "51/51 [==============================] - 1s 11ms/step - loss: 2.3300e-04 - val_loss: 3.9673e-04\n",
      "\n",
      "Epoch 00061: val_loss did not improve from 0.00032\n",
      "Epoch 62/150\n",
      "51/51 [==============================] - 1s 11ms/step - loss: 2.1814e-04 - val_loss: 0.0011\n",
      "\n",
      "Epoch 00062: val_loss did not improve from 0.00032\n",
      "Epoch 63/150\n",
      "51/51 [==============================] - 1s 11ms/step - loss: 2.1352e-04 - val_loss: 8.0238e-04\n",
      "\n",
      "Epoch 00063: val_loss did not improve from 0.00032\n",
      "Epoch 64/150\n",
      "51/51 [==============================] - 1s 11ms/step - loss: 2.5819e-04 - val_loss: 5.2684e-04\n",
      "\n",
      "Epoch 00064: val_loss did not improve from 0.00032\n",
      "Epoch 65/150\n",
      "51/51 [==============================] - 1s 10ms/step - loss: 2.2738e-04 - val_loss: 6.6396e-04\n",
      "\n",
      "Epoch 00065: val_loss did not improve from 0.00032\n",
      "Epoch 66/150\n",
      "51/51 [==============================] - 1s 11ms/step - loss: 1.9825e-04 - val_loss: 3.0959e-04\n",
      "\n",
      "Epoch 00066: val_loss improved from 0.00032 to 0.00031, saving model to results/univariate_LSTM\\rnn.h5\n",
      "Epoch 67/150\n",
      "51/51 [==============================] - 1s 11ms/step - loss: 1.9321e-04 - val_loss: 3.2058e-04\n",
      "\n",
      "Epoch 00067: val_loss did not improve from 0.00031\n",
      "Epoch 68/150\n",
      "51/51 [==============================] - 1s 11ms/step - loss: 2.1467e-04 - val_loss: 4.8067e-04\n",
      "\n",
      "Epoch 00068: val_loss did not improve from 0.00031\n",
      "Epoch 69/150\n",
      "51/51 [==============================] - 1s 10ms/step - loss: 2.3624e-04 - val_loss: 9.1068e-04\n",
      "\n",
      "Epoch 00069: val_loss did not improve from 0.00031\n",
      "Epoch 70/150\n",
      "51/51 [==============================] - 1s 11ms/step - loss: 2.0564e-04 - val_loss: 5.8451e-04\n",
      "\n",
      "Epoch 00070: val_loss did not improve from 0.00031\n",
      "Epoch 71/150\n",
      "51/51 [==============================] - 1s 11ms/step - loss: 2.6091e-04 - val_loss: 5.3659e-04\n",
      "\n",
      "Epoch 00071: val_loss did not improve from 0.00031\n",
      "Epoch 72/150\n",
      "51/51 [==============================] - 1s 11ms/step - loss: 2.2207e-04 - val_loss: 5.6959e-04\n",
      "\n",
      "Epoch 00072: val_loss did not improve from 0.00031\n",
      "Epoch 73/150\n",
      "51/51 [==============================] - 1s 11ms/step - loss: 2.4315e-04 - val_loss: 5.7597e-04\n",
      "\n",
      "Epoch 00073: val_loss did not improve from 0.00031\n",
      "Epoch 74/150\n",
      "51/51 [==============================] - 1s 11ms/step - loss: 2.2186e-04 - val_loss: 4.9595e-04\n",
      "\n",
      "Epoch 00074: val_loss did not improve from 0.00031\n",
      "Epoch 75/150\n",
      "51/51 [==============================] - 1s 11ms/step - loss: 2.4205e-04 - val_loss: 4.6319e-04\n",
      "\n",
      "Epoch 00075: val_loss did not improve from 0.00031\n",
      "Epoch 76/150\n",
      "51/51 [==============================] - 1s 10ms/step - loss: 1.9211e-04 - val_loss: 5.0703e-04\n",
      "\n",
      "Epoch 00076: val_loss did not improve from 0.00031\n",
      "Epoch 77/150\n",
      "51/51 [==============================] - 1s 10ms/step - loss: 2.0509e-04 - val_loss: 6.1085e-04\n",
      "\n",
      "Epoch 00077: val_loss did not improve from 0.00031\n",
      "Epoch 78/150\n",
      "51/51 [==============================] - 1s 11ms/step - loss: 2.3393e-04 - val_loss: 9.2624e-04\n",
      "\n",
      "Epoch 00078: val_loss did not improve from 0.00031\n",
      "Epoch 79/150\n",
      "51/51 [==============================] - 1s 11ms/step - loss: 2.0054e-04 - val_loss: 2.8296e-04\n",
      "\n",
      "Epoch 00079: val_loss improved from 0.00031 to 0.00028, saving model to results/univariate_LSTM\\rnn.h5\n",
      "Epoch 80/150\n",
      "51/51 [==============================] - 1s 10ms/step - loss: 2.2567e-04 - val_loss: 4.3305e-04\n",
      "\n",
      "Epoch 00080: val_loss did not improve from 0.00028\n",
      "Epoch 81/150\n",
      "51/51 [==============================] - 1s 11ms/step - loss: 2.1529e-04 - val_loss: 3.2763e-04\n",
      "\n",
      "Epoch 00081: val_loss did not improve from 0.00028\n",
      "Epoch 82/150\n",
      "51/51 [==============================] - 1s 11ms/step - loss: 1.6419e-04 - val_loss: 0.0013\n",
      "\n",
      "Epoch 00082: val_loss did not improve from 0.00028\n",
      "Epoch 83/150\n",
      "51/51 [==============================] - 1s 11ms/step - loss: 2.1825e-04 - val_loss: 5.1269e-04\n",
      "\n",
      "Epoch 00083: val_loss did not improve from 0.00028\n",
      "Epoch 84/150\n",
      "51/51 [==============================] - 1s 10ms/step - loss: 1.8110e-04 - val_loss: 4.7383e-04\n",
      "\n",
      "Epoch 00084: val_loss did not improve from 0.00028\n",
      "Epoch 85/150\n",
      "51/51 [==============================] - 1s 11ms/step - loss: 1.9600e-04 - val_loss: 4.8450e-04\n",
      "\n",
      "Epoch 00085: val_loss did not improve from 0.00028\n",
      "Epoch 86/150\n",
      "51/51 [==============================] - 1s 11ms/step - loss: 1.9116e-04 - val_loss: 3.3262e-04\n",
      "\n",
      "Epoch 00086: val_loss did not improve from 0.00028\n",
      "Epoch 87/150\n",
      "51/51 [==============================] - 1s 10ms/step - loss: 1.9403e-04 - val_loss: 4.5515e-04\n",
      "\n",
      "Epoch 00087: val_loss did not improve from 0.00028\n",
      "Epoch 88/150\n",
      "51/51 [==============================] - 1s 10ms/step - loss: 1.9395e-04 - val_loss: 5.4704e-04\n",
      "\n",
      "Epoch 00088: val_loss did not improve from 0.00028\n",
      "Epoch 89/150\n",
      "51/51 [==============================] - 1s 11ms/step - loss: 2.5626e-04 - val_loss: 3.5930e-04\n",
      "\n",
      "Epoch 00089: val_loss did not improve from 0.00028\n",
      "Epoch 90/150\n",
      "51/51 [==============================] - 1s 11ms/step - loss: 2.1278e-04 - val_loss: 3.0614e-04\n",
      "\n",
      "Epoch 00090: val_loss did not improve from 0.00028\n",
      "Epoch 91/150\n",
      "51/51 [==============================] - 1s 10ms/step - loss: 1.9218e-04 - val_loss: 4.9770e-04\n",
      "\n",
      "Epoch 00091: val_loss did not improve from 0.00028\n",
      "Epoch 92/150\n",
      "51/51 [==============================] - 1s 11ms/step - loss: 2.0407e-04 - val_loss: 3.5487e-04\n",
      "\n",
      "Epoch 00092: val_loss did not improve from 0.00028\n",
      "Epoch 93/150\n",
      "51/51 [==============================] - 1s 11ms/step - loss: 2.4185e-04 - val_loss: 3.3078e-04\n",
      "\n",
      "Epoch 00093: val_loss did not improve from 0.00028\n",
      "Epoch 94/150\n",
      "51/51 [==============================] - 1s 11ms/step - loss: 2.0175e-04 - val_loss: 3.2355e-04\n",
      "\n",
      "Epoch 00094: val_loss did not improve from 0.00028\n",
      "Epoch 95/150\n",
      "51/51 [==============================] - 1s 11ms/step - loss: 1.7506e-04 - val_loss: 3.1075e-04\n",
      "\n",
      "Epoch 00095: val_loss did not improve from 0.00028\n",
      "Epoch 96/150\n",
      "51/51 [==============================] - 1s 11ms/step - loss: 2.3371e-04 - val_loss: 4.4483e-04\n",
      "\n",
      "Epoch 00096: val_loss did not improve from 0.00028\n",
      "Epoch 97/150\n"
     ]
    },
    {
     "name": "stdout",
     "output_type": "stream",
     "text": [
      "51/51 [==============================] - 1s 11ms/step - loss: 2.1606e-04 - val_loss: 6.2748e-04\n",
      "\n",
      "Epoch 00097: val_loss did not improve from 0.00028\n",
      "Epoch 98/150\n",
      "51/51 [==============================] - 1s 10ms/step - loss: 2.1593e-04 - val_loss: 3.1830e-04\n",
      "\n",
      "Epoch 00098: val_loss did not improve from 0.00028\n",
      "Epoch 99/150\n",
      "51/51 [==============================] - 1s 11ms/step - loss: 2.0557e-04 - val_loss: 4.9212e-04\n",
      "\n",
      "Epoch 00099: val_loss did not improve from 0.00028\n"
     ]
    }
   ],
   "source": [
    "lstm_training_price = rnn_price.fit(X_train,y_train, epochs = 150, batch_size = 20, shuffle = True, validation_data=(X_test,y_test),callbacks = [early_stopping,checkpointer],verbose =1)"
   ]
  },
  {
   "cell_type": "markdown",
   "metadata": {},
   "source": [
    "# Evaluate model performance"
   ]
  },
  {
   "cell_type": "code",
   "execution_count": 23,
   "metadata": {},
   "outputs": [
    {
     "data": {
      "image/png": "[encoded data removed]",
      "text/plain": [
       "<Figure size 1296x648 with 1 Axes>"
      ]
     },
     "metadata": {},
     "output_type": "display_data"
    }
   ],
   "source": [
    "fig, ax = plt.subplots(figsize=(18, 9))\n",
    "\n",
    "loss_history = pd.DataFrame(lstm_training_price.history).pow(.5)\n",
    "loss_history.index += 1\n",
    "best_rmse = loss_history.val_loss.min()\n",
    "\n",
    "best_epoch = loss_history.val_loss.idxmin()\n",
    "\n",
    "title = f'5-Epoch Rolling RMSE (Best Validation RMSE: {best_rmse:.4%})'\n",
    "loss_history.columns=['Training RMSE', 'Validation RMSE']\n",
    "loss_history.rolling(5).mean().plot(logy=True, lw=2, title=title, ax=ax)\n",
    "\n",
    "ax.axvline(best_epoch, ls='--', lw=1, c='k')\n",
    "\n",
    "sns.despine()\n",
    "fig.tight_layout()\n",
    "fig.savefig(results_path / 'rnn_cc_error', dpi=300);"
   ]
  },
  {
   "cell_type": "code",
   "execution_count": 24,
   "metadata": {},
   "outputs": [
    {
     "name": "stdout",
     "output_type": "stream",
     "text": [
      "Train RMSE: 0.0143 | Test RMSE: 0.0168\n"
     ]
    }
   ],
   "source": [
    "train_rmse_scaled = np.sqrt(rnn_price.evaluate(X_train, y_train, verbose=0))\n",
    "test_rmse_scaled = np.sqrt(rnn_price.evaluate(X_test, y_test, verbose=0))\n",
    "print(f'Train RMSE: {train_rmse_scaled:.4f} | Test RMSE: {test_rmse_scaled:.4f}')"
   ]
  },
  {
   "cell_type": "code",
   "execution_count": 25,
   "metadata": {},
   "outputs": [],
   "source": [
    "train_predict_scaled = rnn_price.predict(X_train)\n",
    "test_predict_scaled = rnn_price.predict(X_test)"
   ]
  },
  {
   "cell_type": "code",
   "execution_count": 26,
   "metadata": {},
   "outputs": [
    {
     "name": "stdout",
     "output_type": "stream",
     "text": [
      "Train IC: 0.9946 | Test IC: 0.9870\n"
     ]
    }
   ],
   "source": [
    "train_ic = spearmanr(y_train, train_predict_scaled)[0]\n",
    "test_ic = spearmanr(y_test, test_predict_scaled)[0]\n",
    "print(f'Train IC: {train_ic:.4f} | Test IC: {test_ic:.4f}')"
   ]
  },
  {
   "cell_type": "markdown",
   "metadata": {},
   "source": [
    "# Rescale predictions"
   ]
  },
  {
   "cell_type": "code",
   "execution_count": 27,
   "metadata": {},
   "outputs": [],
   "source": [
    "train_predict = pd.Series(scaler.inverse_transform(train_predict_scaled).squeeze(), index=y_train.index)\n",
    "test_predict =  pd.Series(scaler.inverse_transform(test_predict_scaled) .squeeze(), index=y_test.index)"
   ]
  },
  {
   "cell_type": "code",
   "execution_count": 28,
   "metadata": {},
   "outputs": [],
   "source": [
    "y_train_rescaled = scaler.inverse_transform(y_train.to_frame()).squeeze()\n",
    "y_test_rescaled = scaler.inverse_transform(y_test.to_frame()).squeeze()"
   ]
  },
  {
   "cell_type": "code",
   "execution_count": 29,
   "metadata": {},
   "outputs": [
    {
     "name": "stdout",
     "output_type": "stream",
     "text": [
      "Train RMSE: 402.36 | Test RMSE: 472.06\n"
     ]
    }
   ],
   "source": [
    "train_rmse = np.sqrt(mean_squared_error(train_predict, y_train_rescaled))\n",
    "test_rmse = np.sqrt(mean_squared_error(test_predict, y_test_rescaled))\n",
    "print(f'Train RMSE: {train_rmse:.2f} | Test RMSE: {test_rmse:.2f}')"
   ]
  },
  {
   "cell_type": "code",
   "execution_count": 30,
   "metadata": {
    "scrolled": true
   },
   "outputs": [],
   "source": [
    "dfclose['Train Predictions'] = train_predict\n",
    "dfclose['Test Predictions'] = test_predict\n",
    "dfclose = dfclose.join(train_predict.to_frame('predictions').assign(data='Train')\n",
    "                        .append(test_predict.to_frame('predictions').assign(data='Test')))"
   ]
  },
  {
   "cell_type": "code",
   "execution_count": 31,
   "metadata": {},
   "outputs": [
    {
     "data": {
      "text/html": [
       "<div>\n",
       "<style scoped>\n",
       "    .dataframe tbody tr th:only-of-type {\n",
       "        vertical-align: middle;\n",
       "    }\n",
       "\n",
       "    .dataframe tbody tr th {\n",
       "        vertical-align: top;\n",
       "    }\n",
       "\n",
       "    .dataframe thead th {\n",
       "        text-align: right;\n",
       "    }\n",
       "</style>\n",
       "<table border=\"1\" class=\"dataframe\">\n",
       "  <thead>\n",
       "    <tr style=\"text-align: right;\">\n",
       "      <th></th>\n",
       "      <th>close</th>\n",
       "      <th>Train Predictions</th>\n",
       "      <th>Test Predictions</th>\n",
       "      <th>predictions</th>\n",
       "      <th>data</th>\n",
       "    </tr>\n",
       "    <tr>\n",
       "      <th>date</th>\n",
       "      <th></th>\n",
       "      <th></th>\n",
       "      <th></th>\n",
       "      <th></th>\n",
       "      <th></th>\n",
       "    </tr>\n",
       "  </thead>\n",
       "  <tbody>\n",
       "    <tr>\n",
       "      <th>2017-01-01</th>\n",
       "      <td>998.325012</td>\n",
       "      <td>NaN</td>\n",
       "      <td>NaN</td>\n",
       "      <td>NaN</td>\n",
       "      <td>NaN</td>\n",
       "    </tr>\n",
       "    <tr>\n",
       "      <th>2017-01-02</th>\n",
       "      <td>1021.750000</td>\n",
       "      <td>NaN</td>\n",
       "      <td>NaN</td>\n",
       "      <td>NaN</td>\n",
       "      <td>NaN</td>\n",
       "    </tr>\n",
       "    <tr>\n",
       "      <th>2017-01-03</th>\n",
       "      <td>1043.839966</td>\n",
       "      <td>NaN</td>\n",
       "      <td>NaN</td>\n",
       "      <td>NaN</td>\n",
       "      <td>NaN</td>\n",
       "    </tr>\n",
       "    <tr>\n",
       "      <th>2017-01-04</th>\n",
       "      <td>1154.729980</td>\n",
       "      <td>NaN</td>\n",
       "      <td>NaN</td>\n",
       "      <td>NaN</td>\n",
       "      <td>NaN</td>\n",
       "    </tr>\n",
       "    <tr>\n",
       "      <th>2017-01-05</th>\n",
       "      <td>1013.380005</td>\n",
       "      <td>NaN</td>\n",
       "      <td>NaN</td>\n",
       "      <td>NaN</td>\n",
       "      <td>NaN</td>\n",
       "    </tr>\n",
       "    <tr>\n",
       "      <th>...</th>\n",
       "      <td>...</td>\n",
       "      <td>...</td>\n",
       "      <td>...</td>\n",
       "      <td>...</td>\n",
       "      <td>...</td>\n",
       "    </tr>\n",
       "    <tr>\n",
       "      <th>2020-12-26</th>\n",
       "      <td>26437.037109</td>\n",
       "      <td>NaN</td>\n",
       "      <td>24025.875000</td>\n",
       "      <td>24025.875000</td>\n",
       "      <td>Test</td>\n",
       "    </tr>\n",
       "    <tr>\n",
       "      <th>2020-12-27</th>\n",
       "      <td>26272.294922</td>\n",
       "      <td>NaN</td>\n",
       "      <td>25581.613281</td>\n",
       "      <td>25581.613281</td>\n",
       "      <td>Test</td>\n",
       "    </tr>\n",
       "    <tr>\n",
       "      <th>2020-12-28</th>\n",
       "      <td>27084.808594</td>\n",
       "      <td>NaN</td>\n",
       "      <td>25479.716797</td>\n",
       "      <td>25479.716797</td>\n",
       "      <td>Test</td>\n",
       "    </tr>\n",
       "    <tr>\n",
       "      <th>2020-12-29</th>\n",
       "      <td>27362.437500</td>\n",
       "      <td>NaN</td>\n",
       "      <td>26100.761719</td>\n",
       "      <td>26100.761719</td>\n",
       "      <td>Test</td>\n",
       "    </tr>\n",
       "    <tr>\n",
       "      <th>2020-12-30</th>\n",
       "      <td>28840.953125</td>\n",
       "      <td>NaN</td>\n",
       "      <td>26371.603516</td>\n",
       "      <td>26371.603516</td>\n",
       "      <td>Test</td>\n",
       "    </tr>\n",
       "  </tbody>\n",
       "</table>\n",
       "<p>1452 rows × 5 columns</p>\n",
       "</div>"
      ],
      "text/plain": [
       "                   close  Train Predictions  Test Predictions   predictions  \\\n",
       "date                                                                          \n",
       "2017-01-01    998.325012                NaN               NaN           NaN   \n",
       "2017-01-02   1021.750000                NaN               NaN           NaN   \n",
       "2017-01-03   1043.839966                NaN               NaN           NaN   \n",
       "2017-01-04   1154.729980                NaN               NaN           NaN   \n",
       "2017-01-05   1013.380005                NaN               NaN           NaN   \n",
       "...                  ...                ...               ...           ...   \n",
       "2020-12-26  26437.037109                NaN      24025.875000  24025.875000   \n",
       "2020-12-27  26272.294922                NaN      25581.613281  25581.613281   \n",
       "2020-12-28  27084.808594                NaN      25479.716797  25479.716797   \n",
       "2020-12-29  27362.437500                NaN      26100.761719  26100.761719   \n",
       "2020-12-30  28840.953125                NaN      26371.603516  26371.603516   \n",
       "\n",
       "            data  \n",
       "date              \n",
       "2017-01-01   NaN  \n",
       "2017-01-02   NaN  \n",
       "2017-01-03   NaN  \n",
       "2017-01-04   NaN  \n",
       "2017-01-05   NaN  \n",
       "...          ...  \n",
       "2020-12-26  Test  \n",
       "2020-12-27  Test  \n",
       "2020-12-28  Test  \n",
       "2020-12-29  Test  \n",
       "2020-12-30  Test  \n",
       "\n",
       "[1452 rows x 5 columns]"
      ]
     },
     "execution_count": 31,
     "metadata": {},
     "output_type": "execute_result"
    }
   ],
   "source": [
    "dfclose"
   ]
  },
  {
   "cell_type": "code",
   "execution_count": 32,
   "metadata": {},
   "outputs": [
    {
     "data": {
      "image/png": "[encoded data removed]",
      "text/plain": [
       "<Figure size 1296x648 with 4 Axes>"
      ]
     },
     "metadata": {},
     "output_type": "display_data"
    }
   ],
   "source": [
    "fig=plt.figure(figsize=(18,9))\n",
    "ax1 = plt.subplot(221)\n",
    "\n",
    "dfclose.loc['2017':, 'close'].plot(lw=4, ax=ax1, c='k')\n",
    "dfclose.loc['2017':, ['Test Predictions', 'Train Predictions']].plot(lw=1, ax=ax1, ls='--')\n",
    "ax1.set_title('In- and Out-of-sample Predictions')\n",
    "\n",
    "\n",
    "with sns.axes_style(\"white\"):\n",
    "    ax3 = plt.subplot(223)\n",
    "    sns.scatterplot(x='close', y='predictions', data=dfclose, hue='data', ax=ax3)\n",
    "    ax3.text(x=.02, y=.95, s=f'Test IC ={test_ic:.2%}', transform=ax3.transAxes)\n",
    "    ax3.text(x=.02, y=.87, s=f'Train IC={train_ic:.2%}', transform=ax3.transAxes)\n",
    "    ax3.set_title('Correlation')\n",
    "    ax3.legend(loc='lower right')\n",
    "    \n",
    "    ax2 = plt.subplot(222)\n",
    "    ax4 = plt.subplot(224, sharex = ax2, sharey=ax2)\n",
    "    sns.distplot(train_predict.squeeze()- y_train_rescaled, ax=ax2)\n",
    "    ax2.set_title('Train Error')\n",
    "    ax2.text(x=.03, y=.92, s=f'Train RMSE ={train_rmse:.4f}', transform=ax2.transAxes)\n",
    "    sns.distplot(test_predict.squeeze()-y_test_rescaled, ax=ax4)\n",
    "    ax4.set_title('Test Error')\n",
    "    ax4.text(x=.03, y=.92, s=f'Test RMSE ={test_rmse:.4f}', transform=ax4.transAxes)\n",
    "\n",
    "sns.despine()\n",
    "fig.tight_layout()\n",
    "# fig.savefig(results_path / 'rnn_cc_regression', dpi=300);"
   ]
  },
  {
   "cell_type": "code",
   "execution_count": 33,
   "metadata": {},
   "outputs": [
    {
     "name": "stdout",
     "output_type": "stream",
     "text": [
      "Test accuracy: 0.37\n"
     ]
    }
   ],
   "source": [
    "model_test = dfclose.copy()\n",
    "ar = np.log(model_test['close']/model_test['close'].shift()).fillna(0)\n",
    "pr = np.log(model_test['predictions'] / model_test['close'].shift()).fillna(0)\n",
    "tmp = ar*pr[-30:]\n",
    "accuracy = len(tmp[tmp>0])/30\n",
    "print(f'Test accuracy: {accuracy:.2f}')"
   ]
  },
  {
   "cell_type": "code",
   "execution_count": null,
   "metadata": {},
   "outputs": [],
   "source": []
  },
  {
   "cell_type": "code",
   "execution_count": null,
   "metadata": {},
   "outputs": [],
   "source": []
  },
  {
   "cell_type": "markdown",
   "metadata": {},
   "source": [
    "# Predicting Future Returns:"
   ]
  },
  {
   "cell_type": "markdown",
   "metadata": {},
   "source": [
    "# Preprocessing"
   ]
  },
  {
   "cell_type": "code",
   "execution_count": 34,
   "metadata": {},
   "outputs": [
    {
     "data": {
      "text/plain": [
       "count    1451.000000\n",
       "mean        0.677030\n",
       "std         0.061676\n",
       "min         0.000000\n",
       "25%         0.653182\n",
       "50%         0.677319\n",
       "75%         0.703472\n",
       "max         1.000000\n",
       "dtype: float64"
      ]
     },
     "execution_count": 34,
     "metadata": {},
     "output_type": "execute_result"
    }
   ],
   "source": [
    "scaler = MinMaxScaler()\n",
    "dfreturn_scaled = pd.Series(scaler.fit_transform(dfreturn).squeeze(),index =dfreturn.index)\n",
    "dfreturn_scaled.describe()"
   ]
  },
  {
   "cell_type": "markdown",
   "metadata": {},
   "source": [
    "# Generating recurrent sequences from the time series"
   ]
  },
  {
   "cell_type": "code",
   "execution_count": 35,
   "metadata": {},
   "outputs": [],
   "source": [
    "def create_univariate_rnn_data(data, window_size):\n",
    "    n = len(data)\n",
    "    y = data[window_size:]\n",
    "    data = data.values.reshape(-1, 1) # make 2D\n",
    "    X = np.hstack(tuple([data[i: n-j, :] for i, j in enumerate(range(window_size, 0, -1))]))\n",
    "    return pd.DataFrame(X, index=y.index), y"
   ]
  },
  {
   "cell_type": "code",
   "execution_count": 36,
   "metadata": {},
   "outputs": [],
   "source": [
    "window_size = 90"
   ]
  },
  {
   "cell_type": "code",
   "execution_count": 37,
   "metadata": {},
   "outputs": [],
   "source": [
    "X,y = create_univariate_rnn_data(dfreturn_scaled, window_size)"
   ]
  },
  {
   "cell_type": "code",
   "execution_count": 38,
   "metadata": {},
   "outputs": [
    {
     "data": {
      "text/plain": [
       "(1361, 90)"
      ]
     },
     "execution_count": 38,
     "metadata": {},
     "output_type": "execute_result"
    }
   ],
   "source": [
    "X.shape"
   ]
  },
  {
   "cell_type": "markdown",
   "metadata": {},
   "source": [
    "# Train-test split"
   ]
  },
  {
   "cell_type": "code",
   "execution_count": 39,
   "metadata": {},
   "outputs": [
    {
     "data": {
      "image/png": "[encoded data removed]",
      "text/plain": [
       "<Figure size 1008x288 with 1 Axes>"
      ]
     },
     "metadata": {},
     "output_type": "display_data"
    }
   ],
   "source": [
    "ax = dfreturn_scaled.plot(lw=2, figsize=(14, 4), rot=0)\n",
    "ax.set_xlabel('')\n",
    "sns.despine()"
   ]
  },
  {
   "cell_type": "code",
   "execution_count": 40,
   "metadata": {},
   "outputs": [],
   "source": [
    "X_train = X[:'2020'].values.reshape(-1, window_size, 1)\n",
    "y_train = y[:'2020']\n",
    "\n",
    "# keep the last year for testing\n",
    "X_test = X['2020':].values.reshape(-1, window_size, 1)\n",
    "y_test = y['2020':]"
   ]
  },
  {
   "cell_type": "code",
   "execution_count": 41,
   "metadata": {},
   "outputs": [],
   "source": [
    "n_obs, window_size, n_features = X_train.shape"
   ]
  },
  {
   "cell_type": "code",
   "execution_count": 42,
   "metadata": {},
   "outputs": [
    {
     "data": {
      "text/plain": [
       "(1001,)"
      ]
     },
     "execution_count": 42,
     "metadata": {},
     "output_type": "execute_result"
    }
   ],
   "source": [
    "y_train.shape"
   ]
  },
  {
   "cell_type": "markdown",
   "metadata": {},
   "source": [
    "# Define Model Architechture"
   ]
  },
  {
   "cell_type": "code",
   "execution_count": 43,
   "metadata": {},
   "outputs": [],
   "source": [
    "rnn_return = Sequential([\n",
    "    LSTM(units = 10, input_shape = (window_size,n_features), name='LSTM'),\n",
    "    Dense(1, name='Output')\n",
    "])"
   ]
  },
  {
   "cell_type": "code",
   "execution_count": 44,
   "metadata": {},
   "outputs": [
    {
     "name": "stdout",
     "output_type": "stream",
     "text": [
      "Model: \"sequential_1\"\n",
      "_________________________________________________________________\n",
      "Layer (type)                 Output Shape              Param #   \n",
      "=================================================================\n",
      "LSTM (LSTM)                  (None, 10)                480       \n",
      "_________________________________________________________________\n",
      "Output (Dense)               (None, 1)                 11        \n",
      "=================================================================\n",
      "Total params: 491\n",
      "Trainable params: 491\n",
      "Non-trainable params: 0\n",
      "_________________________________________________________________\n"
     ]
    }
   ],
   "source": [
    "rnn_return.summary()"
   ]
  },
  {
   "cell_type": "markdown",
   "metadata": {},
   "source": [
    "# Train the Model"
   ]
  },
  {
   "cell_type": "code",
   "execution_count": 45,
   "metadata": {},
   "outputs": [],
   "source": [
    "rnn_return.compile(loss = 'mean_squared_error', optimizer = optimizer)"
   ]
  },
  {
   "cell_type": "code",
   "execution_count": 46,
   "metadata": {
    "scrolled": true
   },
   "outputs": [
    {
     "name": "stdout",
     "output_type": "stream",
     "text": [
      "Epoch 1/150\n",
      "51/51 [==============================] - 3s 19ms/step - loss: 0.1737 - val_loss: 0.0040\n",
      "\n",
      "Epoch 00001: val_loss did not improve from 0.00028\n",
      "Epoch 2/150\n",
      "51/51 [==============================] - 1s 11ms/step - loss: 0.0043 - val_loss: 0.0036\n",
      "\n",
      "Epoch 00002: val_loss did not improve from 0.00028\n",
      "Epoch 3/150\n",
      "51/51 [==============================] - 1s 11ms/step - loss: 0.0043 - val_loss: 0.0044\n",
      "\n",
      "Epoch 00003: val_loss did not improve from 0.00028\n",
      "Epoch 4/150\n",
      "51/51 [==============================] - 1s 11ms/step - loss: 0.0048 - val_loss: 0.0036\n",
      "\n",
      "Epoch 00004: val_loss did not improve from 0.00028\n",
      "Epoch 5/150\n",
      "51/51 [==============================] - 1s 11ms/step - loss: 0.0038 - val_loss: 0.0060\n",
      "\n",
      "Epoch 00005: val_loss did not improve from 0.00028\n",
      "Epoch 6/150\n",
      "51/51 [==============================] - 1s 11ms/step - loss: 0.0040 - val_loss: 0.0073\n",
      "\n",
      "Epoch 00006: val_loss did not improve from 0.00028\n",
      "Epoch 7/150\n",
      "51/51 [==============================] - 1s 11ms/step - loss: 0.0047 - val_loss: 0.0037\n",
      "\n",
      "Epoch 00007: val_loss did not improve from 0.00028\n",
      "Epoch 8/150\n",
      "51/51 [==============================] - 1s 11ms/step - loss: 0.0042 - val_loss: 0.0038\n",
      "\n",
      "Epoch 00008: val_loss did not improve from 0.00028\n",
      "Epoch 9/150\n",
      "51/51 [==============================] - 1s 11ms/step - loss: 0.0047 - val_loss: 0.0036\n",
      "\n",
      "Epoch 00009: val_loss did not improve from 0.00028\n",
      "Epoch 10/150\n",
      "51/51 [==============================] - 1s 10ms/step - loss: 0.0040 - val_loss: 0.0078\n",
      "\n",
      "Epoch 00010: val_loss did not improve from 0.00028\n",
      "Epoch 11/150\n",
      "51/51 [==============================] - 1s 11ms/step - loss: 0.0050 - val_loss: 0.0038\n",
      "\n",
      "Epoch 00011: val_loss did not improve from 0.00028\n",
      "Epoch 12/150\n",
      "51/51 [==============================] - 1s 11ms/step - loss: 0.0038 - val_loss: 0.0035\n",
      "\n",
      "Epoch 00012: val_loss did not improve from 0.00028\n",
      "Epoch 13/150\n",
      "51/51 [==============================] - 1s 11ms/step - loss: 0.0039 - val_loss: 0.0040\n",
      "\n",
      "Epoch 00013: val_loss did not improve from 0.00028\n",
      "Epoch 14/150\n",
      "51/51 [==============================] - 1s 11ms/step - loss: 0.0042 - val_loss: 0.0035\n",
      "\n",
      "Epoch 00014: val_loss did not improve from 0.00028\n",
      "Epoch 15/150\n",
      "51/51 [==============================] - 1s 11ms/step - loss: 0.0046 - val_loss: 0.0040\n",
      "\n",
      "Epoch 00015: val_loss did not improve from 0.00028\n",
      "Epoch 16/150\n",
      "51/51 [==============================] - 1s 11ms/step - loss: 0.0050 - val_loss: 0.0041\n",
      "\n",
      "Epoch 00016: val_loss did not improve from 0.00028\n",
      "Epoch 17/150\n",
      "51/51 [==============================] - 1s 11ms/step - loss: 0.0044 - val_loss: 0.0047\n",
      "\n",
      "Epoch 00017: val_loss did not improve from 0.00028\n",
      "Epoch 18/150\n",
      "51/51 [==============================] - 1s 11ms/step - loss: 0.0042 - val_loss: 0.0037\n",
      "\n",
      "Epoch 00018: val_loss did not improve from 0.00028\n",
      "Epoch 19/150\n",
      "51/51 [==============================] - 1s 11ms/step - loss: 0.0037 - val_loss: 0.0039\n",
      "\n",
      "Epoch 00019: val_loss did not improve from 0.00028\n",
      "Epoch 20/150\n",
      "51/51 [==============================] - 1s 11ms/step - loss: 0.0039 - val_loss: 0.0058\n",
      "\n",
      "Epoch 00020: val_loss did not improve from 0.00028\n",
      "Epoch 21/150\n",
      "51/51 [==============================] - 1s 10ms/step - loss: 0.0041 - val_loss: 0.0040\n",
      "\n",
      "Epoch 00021: val_loss did not improve from 0.00028\n",
      "Epoch 22/150\n",
      "51/51 [==============================] - 1s 11ms/step - loss: 0.0046 - val_loss: 0.0042\n",
      "\n",
      "Epoch 00022: val_loss did not improve from 0.00028\n",
      "Epoch 23/150\n",
      "51/51 [==============================] - 1s 11ms/step - loss: 0.0042 - val_loss: 0.0043\n",
      "\n",
      "Epoch 00023: val_loss did not improve from 0.00028\n",
      "Epoch 24/150\n",
      "51/51 [==============================] - 1s 11ms/step - loss: 0.0043 - val_loss: 0.0039\n",
      "\n",
      "Epoch 00024: val_loss did not improve from 0.00028\n",
      "Epoch 25/150\n",
      "51/51 [==============================] - 1s 10ms/step - loss: 0.0051 - val_loss: 0.0036\n",
      "\n",
      "Epoch 00025: val_loss did not improve from 0.00028\n",
      "Epoch 26/150\n",
      "51/51 [==============================] - 1s 11ms/step - loss: 0.0037 - val_loss: 0.0053\n",
      "\n",
      "Epoch 00026: val_loss did not improve from 0.00028\n",
      "Epoch 27/150\n",
      "51/51 [==============================] - 1s 11ms/step - loss: 0.0040 - val_loss: 0.0038\n",
      "\n",
      "Epoch 00027: val_loss did not improve from 0.00028\n",
      "Epoch 28/150\n",
      "51/51 [==============================] - 1s 10ms/step - loss: 0.0043 - val_loss: 0.0036\n",
      "\n",
      "Epoch 00028: val_loss did not improve from 0.00028\n",
      "Epoch 29/150\n",
      "51/51 [==============================] - 1s 11ms/step - loss: 0.0042 - val_loss: 0.0040\n",
      "\n",
      "Epoch 00029: val_loss did not improve from 0.00028\n",
      "Epoch 30/150\n",
      "51/51 [==============================] - 1s 11ms/step - loss: 0.0040 - val_loss: 0.0067\n",
      "\n",
      "Epoch 00030: val_loss did not improve from 0.00028\n",
      "Epoch 31/150\n",
      "51/51 [==============================] - 1s 11ms/step - loss: 0.0044 - val_loss: 0.0035\n",
      "\n",
      "Epoch 00031: val_loss did not improve from 0.00028\n",
      "Epoch 32/150\n",
      "51/51 [==============================] - 1s 11ms/step - loss: 0.0040 - val_loss: 0.0043\n",
      "\n",
      "Epoch 00032: val_loss did not improve from 0.00028\n",
      "Epoch 33/150\n",
      "51/51 [==============================] - 1s 11ms/step - loss: 0.0040 - val_loss: 0.0036\n",
      "\n",
      "Epoch 00033: val_loss did not improve from 0.00028\n",
      "Epoch 34/150\n",
      "51/51 [==============================] - 1s 11ms/step - loss: 0.0040 - val_loss: 0.0035\n",
      "\n",
      "Epoch 00034: val_loss did not improve from 0.00028\n",
      "Epoch 35/150\n",
      "51/51 [==============================] - 1s 11ms/step - loss: 0.0041 - val_loss: 0.0035\n",
      "\n",
      "Epoch 00035: val_loss did not improve from 0.00028\n",
      "Epoch 36/150\n",
      "51/51 [==============================] - 1s 11ms/step - loss: 0.0040 - val_loss: 0.0056\n",
      "\n",
      "Epoch 00036: val_loss did not improve from 0.00028\n",
      "Epoch 37/150\n",
      "51/51 [==============================] - 1s 11ms/step - loss: 0.0048 - val_loss: 0.0036\n",
      "\n",
      "Epoch 00037: val_loss did not improve from 0.00028\n",
      "Epoch 38/150\n",
      "51/51 [==============================] - 1s 11ms/step - loss: 0.0042 - val_loss: 0.0037\n",
      "\n",
      "Epoch 00038: val_loss did not improve from 0.00028\n",
      "Epoch 39/150\n",
      "51/51 [==============================] - 1s 10ms/step - loss: 0.0037 - val_loss: 0.0047\n",
      "\n",
      "Epoch 00039: val_loss did not improve from 0.00028\n",
      "Epoch 40/150\n",
      "51/51 [==============================] - 1s 11ms/step - loss: 0.0039 - val_loss: 0.0035\n",
      "\n",
      "Epoch 00040: val_loss did not improve from 0.00028\n",
      "Epoch 41/150\n",
      "51/51 [==============================] - 1s 11ms/step - loss: 0.0041 - val_loss: 0.0048\n",
      "\n",
      "Epoch 00041: val_loss did not improve from 0.00028\n",
      "Epoch 42/150\n",
      "51/51 [==============================] - 1s 11ms/step - loss: 0.0043 - val_loss: 0.0035\n",
      "\n",
      "Epoch 00042: val_loss did not improve from 0.00028\n",
      "Epoch 43/150\n",
      "51/51 [==============================] - 1s 11ms/step - loss: 0.0036 - val_loss: 0.0035\n",
      "\n",
      "Epoch 00043: val_loss did not improve from 0.00028\n",
      "Epoch 44/150\n",
      "51/51 [==============================] - 1s 11ms/step - loss: 0.0042 - val_loss: 0.0049\n",
      "\n",
      "Epoch 00044: val_loss did not improve from 0.00028\n",
      "Epoch 45/150\n",
      "51/51 [==============================] - 1s 11ms/step - loss: 0.0036 - val_loss: 0.0039\n",
      "\n",
      "Epoch 00045: val_loss did not improve from 0.00028\n",
      "Epoch 46/150\n",
      "51/51 [==============================] - 1s 11ms/step - loss: 0.0036 - val_loss: 0.0037\n",
      "\n",
      "Epoch 00046: val_loss did not improve from 0.00028\n",
      "Epoch 47/150\n",
      "51/51 [==============================] - 1s 11ms/step - loss: 0.0042 - val_loss: 0.0047\n",
      "\n",
      "Epoch 00047: val_loss did not improve from 0.00028\n",
      "Epoch 48/150\n",
      "51/51 [==============================] - 1s 11ms/step - loss: 0.0041 - val_loss: 0.0051\n",
      "\n",
      "Epoch 00048: val_loss did not improve from 0.00028\n",
      "Epoch 49/150\n",
      "51/51 [==============================] - 1s 11ms/step - loss: 0.0038 - val_loss: 0.0046\n",
      "\n",
      "Epoch 00049: val_loss did not improve from 0.00028\n",
      "Epoch 50/150\n",
      "51/51 [==============================] - 1s 10ms/step - loss: 0.0046 - val_loss: 0.0046\n",
      "\n",
      "Epoch 00050: val_loss did not improve from 0.00028\n",
      "Epoch 51/150\n",
      "51/51 [==============================] - 1s 11ms/step - loss: 0.0044 - val_loss: 0.0038\n",
      "\n",
      "Epoch 00051: val_loss did not improve from 0.00028\n",
      "Epoch 52/150\n",
      "51/51 [==============================] - 1s 11ms/step - loss: 0.0045 - val_loss: 0.0044\n",
      "\n",
      "Epoch 00052: val_loss did not improve from 0.00028\n",
      "Epoch 53/150\n",
      "51/51 [==============================] - 1s 11ms/step - loss: 0.0037 - val_loss: 0.0035\n",
      "\n",
      "Epoch 00053: val_loss did not improve from 0.00028\n",
      "Epoch 54/150\n",
      "51/51 [==============================] - 1s 11ms/step - loss: 0.0040 - val_loss: 0.0035\n"
     ]
    },
    {
     "name": "stdout",
     "output_type": "stream",
     "text": [
      "\n",
      "Epoch 00054: val_loss did not improve from 0.00028\n",
      "Epoch 55/150\n",
      "51/51 [==============================] - 1s 11ms/step - loss: 0.0042 - val_loss: 0.0035\n",
      "\n",
      "Epoch 00055: val_loss did not improve from 0.00028\n",
      "Epoch 56/150\n",
      "51/51 [==============================] - 1s 11ms/step - loss: 0.0039 - val_loss: 0.0035\n",
      "\n",
      "Epoch 00056: val_loss did not improve from 0.00028\n",
      "Epoch 57/150\n",
      "51/51 [==============================] - 1s 11ms/step - loss: 0.0043 - val_loss: 0.0050\n",
      "\n",
      "Epoch 00057: val_loss did not improve from 0.00028\n",
      "Epoch 58/150\n",
      "51/51 [==============================] - 1s 11ms/step - loss: 0.0039 - val_loss: 0.0035\n",
      "\n",
      "Epoch 00058: val_loss did not improve from 0.00028\n",
      "Epoch 59/150\n",
      "51/51 [==============================] - 1s 11ms/step - loss: 0.0041 - val_loss: 0.0045\n",
      "\n",
      "Epoch 00059: val_loss did not improve from 0.00028\n",
      "Epoch 60/150\n",
      "51/51 [==============================] - 1s 11ms/step - loss: 0.0037 - val_loss: 0.0042\n",
      "\n",
      "Epoch 00060: val_loss did not improve from 0.00028\n",
      "Epoch 61/150\n",
      "51/51 [==============================] - 1s 10ms/step - loss: 0.0037 - val_loss: 0.0036\n",
      "\n",
      "Epoch 00061: val_loss did not improve from 0.00028\n",
      "Epoch 62/150\n",
      "51/51 [==============================] - 1s 11ms/step - loss: 0.0043 - val_loss: 0.0035\n",
      "\n",
      "Epoch 00062: val_loss did not improve from 0.00028\n",
      "Epoch 63/150\n",
      "51/51 [==============================] - 1s 11ms/step - loss: 0.0039 - val_loss: 0.0034\n",
      "\n",
      "Epoch 00063: val_loss did not improve from 0.00028\n",
      "Epoch 64/150\n",
      "51/51 [==============================] - 1s 11ms/step - loss: 0.0042 - val_loss: 0.0036\n",
      "\n",
      "Epoch 00064: val_loss did not improve from 0.00028\n",
      "Epoch 65/150\n",
      "51/51 [==============================] - 1s 11ms/step - loss: 0.0041 - val_loss: 0.0044\n",
      "\n",
      "Epoch 00065: val_loss did not improve from 0.00028\n",
      "Epoch 66/150\n",
      "51/51 [==============================] - 1s 11ms/step - loss: 0.0040 - val_loss: 0.0039\n",
      "\n",
      "Epoch 00066: val_loss did not improve from 0.00028\n",
      "Epoch 67/150\n",
      "51/51 [==============================] - 1s 11ms/step - loss: 0.0048 - val_loss: 0.0036\n",
      "\n",
      "Epoch 00067: val_loss did not improve from 0.00028\n",
      "Epoch 68/150\n",
      "51/51 [==============================] - 1s 11ms/step - loss: 0.0044 - val_loss: 0.0034\n",
      "\n",
      "Epoch 00068: val_loss did not improve from 0.00028\n",
      "Epoch 69/150\n",
      "51/51 [==============================] - 1s 10ms/step - loss: 0.0043 - val_loss: 0.0035\n",
      "\n",
      "Epoch 00069: val_loss did not improve from 0.00028\n",
      "Epoch 70/150\n",
      "51/51 [==============================] - 1s 11ms/step - loss: 0.0039 - val_loss: 0.0035\n",
      "\n",
      "Epoch 00070: val_loss did not improve from 0.00028\n",
      "Epoch 71/150\n",
      "51/51 [==============================] - 1s 11ms/step - loss: 0.0040 - val_loss: 0.0037\n",
      "\n",
      "Epoch 00071: val_loss did not improve from 0.00028\n",
      "Epoch 72/150\n",
      "51/51 [==============================] - 1s 11ms/step - loss: 0.0041 - val_loss: 0.0049\n",
      "\n",
      "Epoch 00072: val_loss did not improve from 0.00028\n",
      "Epoch 73/150\n",
      "51/51 [==============================] - 1s 11ms/step - loss: 0.0042 - val_loss: 0.0034\n",
      "\n",
      "Epoch 00073: val_loss did not improve from 0.00028\n",
      "Epoch 74/150\n",
      "51/51 [==============================] - 1s 11ms/step - loss: 0.0039 - val_loss: 0.0036\n",
      "\n",
      "Epoch 00074: val_loss did not improve from 0.00028\n",
      "Epoch 75/150\n",
      "51/51 [==============================] - 1s 11ms/step - loss: 0.0043 - val_loss: 0.0034\n",
      "\n",
      "Epoch 00075: val_loss did not improve from 0.00028\n",
      "Epoch 76/150\n",
      "51/51 [==============================] - 1s 11ms/step - loss: 0.0038 - val_loss: 0.0034\n",
      "\n",
      "Epoch 00076: val_loss did not improve from 0.00028\n",
      "Epoch 77/150\n",
      "51/51 [==============================] - 1s 11ms/step - loss: 0.0043 - val_loss: 0.0035\n",
      "\n",
      "Epoch 00077: val_loss did not improve from 0.00028\n",
      "Epoch 78/150\n",
      "51/51 [==============================] - 1s 11ms/step - loss: 0.0039 - val_loss: 0.0040\n",
      "\n",
      "Epoch 00078: val_loss did not improve from 0.00028\n",
      "Epoch 79/150\n",
      "51/51 [==============================] - 1s 11ms/step - loss: 0.0039 - val_loss: 0.0034\n",
      "\n",
      "Epoch 00079: val_loss did not improve from 0.00028\n",
      "Epoch 80/150\n",
      "51/51 [==============================] - 1s 11ms/step - loss: 0.0041 - val_loss: 0.0043\n",
      "\n",
      "Epoch 00080: val_loss did not improve from 0.00028\n",
      "Epoch 81/150\n",
      "51/51 [==============================] - 1s 11ms/step - loss: 0.0042 - val_loss: 0.0036\n",
      "\n",
      "Epoch 00081: val_loss did not improve from 0.00028\n",
      "Epoch 82/150\n",
      "51/51 [==============================] - 1s 11ms/step - loss: 0.0039 - val_loss: 0.0051\n",
      "\n",
      "Epoch 00082: val_loss did not improve from 0.00028\n",
      "Epoch 83/150\n",
      "51/51 [==============================] - 1s 11ms/step - loss: 0.0039 - val_loss: 0.0038\n",
      "\n",
      "Epoch 00083: val_loss did not improve from 0.00028\n",
      "Epoch 84/150\n",
      "51/51 [==============================] - 1s 11ms/step - loss: 0.0035 - val_loss: 0.0036\n",
      "\n",
      "Epoch 00084: val_loss did not improve from 0.00028\n",
      "Epoch 85/150\n",
      "51/51 [==============================] - 1s 11ms/step - loss: 0.0037 - val_loss: 0.0039\n",
      "\n",
      "Epoch 00085: val_loss did not improve from 0.00028\n",
      "Epoch 86/150\n",
      "51/51 [==============================] - 1s 11ms/step - loss: 0.0040 - val_loss: 0.0034\n",
      "\n",
      "Epoch 00086: val_loss did not improve from 0.00028\n",
      "Epoch 87/150\n",
      "51/51 [==============================] - 1s 11ms/step - loss: 0.0040 - val_loss: 0.0037\n",
      "\n",
      "Epoch 00087: val_loss did not improve from 0.00028\n",
      "Epoch 88/150\n",
      "51/51 [==============================] - 1s 11ms/step - loss: 0.0036 - val_loss: 0.0034\n",
      "\n",
      "Epoch 00088: val_loss did not improve from 0.00028\n",
      "Epoch 89/150\n",
      "51/51 [==============================] - 1s 10ms/step - loss: 0.0047 - val_loss: 0.0037\n",
      "\n",
      "Epoch 00089: val_loss did not improve from 0.00028\n",
      "Epoch 90/150\n",
      "51/51 [==============================] - 1s 11ms/step - loss: 0.0041 - val_loss: 0.0034\n",
      "\n",
      "Epoch 00090: val_loss did not improve from 0.00028\n",
      "Epoch 91/150\n",
      "51/51 [==============================] - 1s 11ms/step - loss: 0.0037 - val_loss: 0.0038\n",
      "\n",
      "Epoch 00091: val_loss did not improve from 0.00028\n",
      "Epoch 92/150\n",
      "51/51 [==============================] - 1s 11ms/step - loss: 0.0042 - val_loss: 0.0035\n",
      "\n",
      "Epoch 00092: val_loss did not improve from 0.00028\n",
      "Epoch 93/150\n",
      "51/51 [==============================] - 1s 10ms/step - loss: 0.0047 - val_loss: 0.0034\n",
      "\n",
      "Epoch 00093: val_loss did not improve from 0.00028\n",
      "Epoch 94/150\n",
      "51/51 [==============================] - 1s 10ms/step - loss: 0.0043 - val_loss: 0.0035\n",
      "\n",
      "Epoch 00094: val_loss did not improve from 0.00028\n",
      "Epoch 95/150\n",
      "51/51 [==============================] - 1s 10ms/step - loss: 0.0039 - val_loss: 0.0035\n",
      "\n",
      "Epoch 00095: val_loss did not improve from 0.00028\n",
      "Epoch 96/150\n",
      "51/51 [==============================] - 1s 10ms/step - loss: 0.0040 - val_loss: 0.0037\n",
      "\n",
      "Epoch 00096: val_loss did not improve from 0.00028\n",
      "Epoch 97/150\n",
      "51/51 [==============================] - 1s 10ms/step - loss: 0.0041 - val_loss: 0.0036\n",
      "\n",
      "Epoch 00097: val_loss did not improve from 0.00028\n",
      "Epoch 98/150\n",
      "51/51 [==============================] - 1s 10ms/step - loss: 0.0038 - val_loss: 0.0038\n",
      "\n",
      "Epoch 00098: val_loss did not improve from 0.00028\n",
      "Epoch 99/150\n",
      "51/51 [==============================] - 1s 11ms/step - loss: 0.0039 - val_loss: 0.0034\n",
      "\n",
      "Epoch 00099: val_loss did not improve from 0.00028\n",
      "Epoch 100/150\n",
      "51/51 [==============================] - 1s 11ms/step - loss: 0.0041 - val_loss: 0.0049\n",
      "\n",
      "Epoch 00100: val_loss did not improve from 0.00028\n",
      "Epoch 101/150\n",
      "51/51 [==============================] - 1s 11ms/step - loss: 0.0038 - val_loss: 0.0040\n",
      "\n",
      "Epoch 00101: val_loss did not improve from 0.00028\n",
      "Epoch 102/150\n",
      "51/51 [==============================] - 1s 11ms/step - loss: 0.0042 - val_loss: 0.0040\n",
      "\n",
      "Epoch 00102: val_loss did not improve from 0.00028\n",
      "Epoch 103/150\n",
      "51/51 [==============================] - 1s 11ms/step - loss: 0.0041 - val_loss: 0.0034\n",
      "\n",
      "Epoch 00103: val_loss did not improve from 0.00028\n",
      "Epoch 104/150\n",
      "51/51 [==============================] - 1s 11ms/step - loss: 0.0041 - val_loss: 0.0040\n",
      "\n",
      "Epoch 00104: val_loss did not improve from 0.00028\n",
      "Epoch 105/150\n",
      "51/51 [==============================] - 1s 11ms/step - loss: 0.0042 - val_loss: 0.0040\n",
      "\n",
      "Epoch 00105: val_loss did not improve from 0.00028\n",
      "Epoch 106/150\n",
      "51/51 [==============================] - 1s 11ms/step - loss: 0.0044 - val_loss: 0.0035\n",
      "\n",
      "Epoch 00106: val_loss did not improve from 0.00028\n",
      "Epoch 107/150\n",
      "51/51 [==============================] - 1s 11ms/step - loss: 0.0038 - val_loss: 0.0036\n",
      "\n",
      "Epoch 00107: val_loss did not improve from 0.00028\n",
      "Epoch 108/150\n"
     ]
    },
    {
     "name": "stdout",
     "output_type": "stream",
     "text": [
      "51/51 [==============================] - 1s 10ms/step - loss: 0.0043 - val_loss: 0.0035\n",
      "\n",
      "Epoch 00108: val_loss did not improve from 0.00028\n",
      "Epoch 109/150\n",
      "51/51 [==============================] - 1s 11ms/step - loss: 0.0040 - val_loss: 0.0034\n",
      "\n",
      "Epoch 00109: val_loss did not improve from 0.00028\n",
      "Epoch 110/150\n",
      "51/51 [==============================] - 1s 11ms/step - loss: 0.0038 - val_loss: 0.0034\n",
      "\n",
      "Epoch 00110: val_loss did not improve from 0.00028\n",
      "Epoch 111/150\n",
      "51/51 [==============================] - 1s 11ms/step - loss: 0.0035 - val_loss: 0.0035\n",
      "\n",
      "Epoch 00111: val_loss did not improve from 0.00028\n",
      "Epoch 112/150\n",
      "51/51 [==============================] - 1s 10ms/step - loss: 0.0040 - val_loss: 0.0043\n",
      "\n",
      "Epoch 00112: val_loss did not improve from 0.00028\n",
      "Epoch 113/150\n",
      "51/51 [==============================] - 1s 11ms/step - loss: 0.0036 - val_loss: 0.0035\n",
      "\n",
      "Epoch 00113: val_loss did not improve from 0.00028\n",
      "Epoch 114/150\n",
      "51/51 [==============================] - 1s 11ms/step - loss: 0.0042 - val_loss: 0.0040\n",
      "\n",
      "Epoch 00114: val_loss did not improve from 0.00028\n",
      "Epoch 115/150\n",
      "51/51 [==============================] - 1s 11ms/step - loss: 0.0041 - val_loss: 0.0044\n",
      "\n",
      "Epoch 00115: val_loss did not improve from 0.00028\n",
      "Epoch 116/150\n",
      "51/51 [==============================] - 1s 11ms/step - loss: 0.0042 - val_loss: 0.0037\n",
      "\n",
      "Epoch 00116: val_loss did not improve from 0.00028\n",
      "Epoch 117/150\n",
      "51/51 [==============================] - 1s 11ms/step - loss: 0.0039 - val_loss: 0.0034\n",
      "\n",
      "Epoch 00117: val_loss did not improve from 0.00028\n",
      "Epoch 118/150\n",
      "51/51 [==============================] - 1s 11ms/step - loss: 0.0038 - val_loss: 0.0034\n",
      "\n",
      "Epoch 00118: val_loss did not improve from 0.00028\n",
      "Epoch 119/150\n",
      "51/51 [==============================] - 1s 11ms/step - loss: 0.0038 - val_loss: 0.0035\n",
      "\n",
      "Epoch 00119: val_loss did not improve from 0.00028\n",
      "Epoch 120/150\n",
      "51/51 [==============================] - 1s 11ms/step - loss: 0.0044 - val_loss: 0.0035\n",
      "\n",
      "Epoch 00120: val_loss did not improve from 0.00028\n",
      "Epoch 121/150\n",
      "51/51 [==============================] - 1s 11ms/step - loss: 0.0039 - val_loss: 0.0034\n",
      "\n",
      "Epoch 00121: val_loss did not improve from 0.00028\n",
      "Epoch 122/150\n",
      "51/51 [==============================] - 1s 11ms/step - loss: 0.0037 - val_loss: 0.0035\n",
      "\n",
      "Epoch 00122: val_loss did not improve from 0.00028\n",
      "Epoch 123/150\n",
      "51/51 [==============================] - 1s 11ms/step - loss: 0.0039 - val_loss: 0.0036\n",
      "\n",
      "Epoch 00123: val_loss did not improve from 0.00028\n",
      "Epoch 124/150\n",
      "51/51 [==============================] - 1s 11ms/step - loss: 0.0040 - val_loss: 0.0035\n",
      "\n",
      "Epoch 00124: val_loss did not improve from 0.00028\n",
      "Epoch 125/150\n",
      "51/51 [==============================] - 1s 11ms/step - loss: 0.0037 - val_loss: 0.0042\n",
      "\n",
      "Epoch 00125: val_loss did not improve from 0.00028\n",
      "Epoch 126/150\n",
      "51/51 [==============================] - 1s 11ms/step - loss: 0.0039 - val_loss: 0.0038\n",
      "\n",
      "Epoch 00126: val_loss did not improve from 0.00028\n",
      "Epoch 127/150\n",
      "51/51 [==============================] - 1s 10ms/step - loss: 0.0036 - val_loss: 0.0035\n",
      "\n",
      "Epoch 00127: val_loss did not improve from 0.00028\n",
      "Epoch 128/150\n",
      "51/51 [==============================] - 1s 11ms/step - loss: 0.0045 - val_loss: 0.0038\n",
      "\n",
      "Epoch 00128: val_loss did not improve from 0.00028\n",
      "Epoch 129/150\n",
      "51/51 [==============================] - 1s 11ms/step - loss: 0.0038 - val_loss: 0.0034\n",
      "\n",
      "Epoch 00129: val_loss did not improve from 0.00028\n",
      "Epoch 130/150\n",
      "51/51 [==============================] - 1s 11ms/step - loss: 0.0039 - val_loss: 0.0035\n",
      "\n",
      "Epoch 00130: val_loss did not improve from 0.00028\n",
      "Epoch 131/150\n",
      "51/51 [==============================] - 1s 11ms/step - loss: 0.0039 - val_loss: 0.0042\n",
      "\n",
      "Epoch 00131: val_loss did not improve from 0.00028\n",
      "Epoch 132/150\n",
      "51/51 [==============================] - 1s 11ms/step - loss: 0.0036 - val_loss: 0.0035\n",
      "\n",
      "Epoch 00132: val_loss did not improve from 0.00028\n",
      "Epoch 133/150\n",
      "51/51 [==============================] - 1s 11ms/step - loss: 0.0038 - val_loss: 0.0039\n",
      "\n",
      "Epoch 00133: val_loss did not improve from 0.00028\n",
      "Epoch 134/150\n",
      "51/51 [==============================] - 1s 11ms/step - loss: 0.0044 - val_loss: 0.0034\n",
      "\n",
      "Epoch 00134: val_loss did not improve from 0.00028\n",
      "Epoch 135/150\n",
      "51/51 [==============================] - 1s 11ms/step - loss: 0.0039 - val_loss: 0.0034\n",
      "\n",
      "Epoch 00135: val_loss did not improve from 0.00028\n",
      "Epoch 136/150\n",
      "51/51 [==============================] - 1s 11ms/step - loss: 0.0042 - val_loss: 0.0034\n",
      "\n",
      "Epoch 00136: val_loss did not improve from 0.00028\n",
      "Epoch 137/150\n",
      "51/51 [==============================] - 1s 11ms/step - loss: 0.0041 - val_loss: 0.0038\n",
      "\n",
      "Epoch 00137: val_loss did not improve from 0.00028\n",
      "Epoch 138/150\n",
      "51/51 [==============================] - 1s 11ms/step - loss: 0.0043 - val_loss: 0.0034\n",
      "\n",
      "Epoch 00138: val_loss did not improve from 0.00028\n",
      "Epoch 139/150\n",
      "51/51 [==============================] - 1s 11ms/step - loss: 0.0039 - val_loss: 0.0038\n",
      "\n",
      "Epoch 00139: val_loss did not improve from 0.00028\n",
      "Epoch 140/150\n",
      "51/51 [==============================] - 1s 11ms/step - loss: 0.0041 - val_loss: 0.0035\n",
      "\n",
      "Epoch 00140: val_loss did not improve from 0.00028\n",
      "Epoch 141/150\n",
      "51/51 [==============================] - 1s 11ms/step - loss: 0.0045 - val_loss: 0.0035\n",
      "\n",
      "Epoch 00141: val_loss did not improve from 0.00028\n",
      "Epoch 142/150\n",
      "51/51 [==============================] - 1s 11ms/step - loss: 0.0040 - val_loss: 0.0038\n",
      "\n",
      "Epoch 00142: val_loss did not improve from 0.00028\n",
      "Epoch 143/150\n",
      "51/51 [==============================] - 1s 11ms/step - loss: 0.0042 - val_loss: 0.0038\n",
      "\n",
      "Epoch 00143: val_loss did not improve from 0.00028\n",
      "Epoch 144/150\n",
      "51/51 [==============================] - 1s 11ms/step - loss: 0.0043 - val_loss: 0.0035\n",
      "\n",
      "Epoch 00144: val_loss did not improve from 0.00028\n",
      "Epoch 145/150\n",
      "51/51 [==============================] - 1s 11ms/step - loss: 0.0041 - val_loss: 0.0034\n",
      "\n",
      "Epoch 00145: val_loss did not improve from 0.00028\n",
      "Epoch 146/150\n",
      "51/51 [==============================] - 1s 11ms/step - loss: 0.0039 - val_loss: 0.0048\n",
      "\n",
      "Epoch 00146: val_loss did not improve from 0.00028\n",
      "Epoch 147/150\n",
      "51/51 [==============================] - 1s 11ms/step - loss: 0.0038 - val_loss: 0.0035\n",
      "\n",
      "Epoch 00147: val_loss did not improve from 0.00028\n",
      "Epoch 148/150\n",
      "51/51 [==============================] - 1s 11ms/step - loss: 0.0034 - val_loss: 0.0034\n",
      "\n",
      "Epoch 00148: val_loss did not improve from 0.00028\n",
      "Epoch 149/150\n",
      "51/51 [==============================] - 1s 11ms/step - loss: 0.0038 - val_loss: 0.0039\n",
      "\n",
      "Epoch 00149: val_loss did not improve from 0.00028\n",
      "Epoch 150/150\n",
      "51/51 [==============================] - 1s 11ms/step - loss: 0.0042 - val_loss: 0.0034\n",
      "\n",
      "Epoch 00150: val_loss did not improve from 0.00028\n"
     ]
    }
   ],
   "source": [
    "lstm_training_return = rnn_return.fit(X_train,y_train, epochs = 150, batch_size = 20, shuffle = True, validation_data=(X_test,y_test),callbacks = [early_stopping,checkpointer],verbose =1)"
   ]
  },
  {
   "cell_type": "code",
   "execution_count": 47,
   "metadata": {},
   "outputs": [
    {
     "data": {
      "image/png": "[encoded data removed]",
      "text/plain": [
       "<Figure size 1296x648 with 1 Axes>"
      ]
     },
     "metadata": {},
     "output_type": "display_data"
    }
   ],
   "source": [
    "fig, ax = plt.subplots(figsize=(18, 9))\n",
    "\n",
    "loss_history = pd.DataFrame(lstm_training_return.history).pow(.5)\n",
    "loss_history.index += 1\n",
    "best_rmse = loss_history.val_loss.min()\n",
    "\n",
    "best_epoch = loss_history.val_loss.idxmin()\n",
    "\n",
    "title = f'5-Epoch Rolling RMSE (Best Validation RMSE: {best_rmse:.4%})'\n",
    "loss_history.columns=['Training RMSE', 'Validation RMSE']\n",
    "loss_history.rolling(5).mean().plot(logy=True, lw=2, title=title, ax=ax)\n",
    "\n",
    "ax.axvline(best_epoch, ls='--', lw=1, c='k')\n",
    "\n",
    "sns.despine()\n",
    "fig.tight_layout()\n",
    "fig.savefig(results_path / 'rnn_cc_error', dpi=300);"
   ]
  },
  {
   "cell_type": "code",
   "execution_count": 48,
   "metadata": {},
   "outputs": [
    {
     "name": "stdout",
     "output_type": "stream",
     "text": [
      "Train RMSE: 0.0627 | Test RMSE: 0.0585\n"
     ]
    }
   ],
   "source": [
    "train_rmse_scaled = np.sqrt(rnn_return.evaluate(X_train, y_train, verbose=0))\n",
    "test_rmse_scaled = np.sqrt(rnn_return.evaluate(X_test, y_test, verbose=0))\n",
    "print(f'Train RMSE: {train_rmse_scaled:.4f} | Test RMSE: {test_rmse_scaled:.4f}')"
   ]
  },
  {
   "cell_type": "code",
   "execution_count": 49,
   "metadata": {},
   "outputs": [],
   "source": [
    "train_predict_scaled = rnn_return.predict(X_train)\n",
    "test_predict_scaled = rnn_return.predict(X_test)"
   ]
  },
  {
   "cell_type": "code",
   "execution_count": 50,
   "metadata": {},
   "outputs": [
    {
     "name": "stdout",
     "output_type": "stream",
     "text": [
      "Train IC: 0.0791 | Test IC: -0.0012\n"
     ]
    }
   ],
   "source": [
    "train_ic = spearmanr(y_train, train_predict_scaled)[0]\n",
    "test_ic = spearmanr(y_test, test_predict_scaled)[0]\n",
    "print(f'Train IC: {train_ic:.4f} | Test IC: {test_ic:.4f}')"
   ]
  },
  {
   "cell_type": "markdown",
   "metadata": {},
   "source": [
    "# Rescale predictions"
   ]
  },
  {
   "cell_type": "code",
   "execution_count": 51,
   "metadata": {},
   "outputs": [],
   "source": [
    "train_predict = pd.Series(scaler.inverse_transform(train_predict_scaled).squeeze(), index=y_train.index)\n",
    "test_predict = (pd.Series(scaler.inverse_transform(test_predict_scaled).squeeze(), index=y_test.index))"
   ]
  },
  {
   "cell_type": "code",
   "execution_count": 52,
   "metadata": {},
   "outputs": [],
   "source": [
    "y_train_rescaled = scaler.inverse_transform(y_train.to_frame()).squeeze()\n",
    "y_test_rescaled = scaler.inverse_transform(y_test.to_frame()).squeeze()"
   ]
  },
  {
   "cell_type": "code",
   "execution_count": 53,
   "metadata": {},
   "outputs": [
    {
     "data": {
      "text/plain": [
       "'Train RMSE: 0.04 | Test RMSE: 0.04'"
      ]
     },
     "execution_count": 53,
     "metadata": {},
     "output_type": "execute_result"
    }
   ],
   "source": [
    "train_rmse = np.sqrt(mean_squared_error(train_predict, y_train_rescaled))\n",
    "test_rmse = np.sqrt(mean_squared_error(test_predict, y_test_rescaled))\n",
    "f'Train RMSE: {train_rmse:.2f} | Test RMSE: {test_rmse:.2f}'"
   ]
  },
  {
   "cell_type": "code",
   "execution_count": 54,
   "metadata": {},
   "outputs": [],
   "source": [
    "dfreturn['Train Predictions'] = train_predict\n",
    "dfreturn['Test Predictions'] = test_predict\n",
    "dfreturn = dfreturn.join(train_predict.to_frame('predictions').assign(data='Train')\n",
    "                        .append(test_predict.to_frame('predictions').assign(data='Test')))"
   ]
  },
  {
   "cell_type": "code",
   "execution_count": 55,
   "metadata": {},
   "outputs": [
    {
     "data": {
      "text/html": [
       "<div>\n",
       "<style scoped>\n",
       "    .dataframe tbody tr th:only-of-type {\n",
       "        vertical-align: middle;\n",
       "    }\n",
       "\n",
       "    .dataframe tbody tr th {\n",
       "        vertical-align: top;\n",
       "    }\n",
       "\n",
       "    .dataframe thead th {\n",
       "        text-align: right;\n",
       "    }\n",
       "</style>\n",
       "<table border=\"1\" class=\"dataframe\">\n",
       "  <thead>\n",
       "    <tr style=\"text-align: right;\">\n",
       "      <th></th>\n",
       "      <th>return</th>\n",
       "      <th>Train Predictions</th>\n",
       "      <th>Test Predictions</th>\n",
       "      <th>predictions</th>\n",
       "      <th>data</th>\n",
       "    </tr>\n",
       "    <tr>\n",
       "      <th>date</th>\n",
       "      <th></th>\n",
       "      <th></th>\n",
       "      <th></th>\n",
       "      <th></th>\n",
       "      <th></th>\n",
       "    </tr>\n",
       "  </thead>\n",
       "  <tbody>\n",
       "    <tr>\n",
       "      <th>2017-01-02</th>\n",
       "      <td>0.023193</td>\n",
       "      <td>NaN</td>\n",
       "      <td>NaN</td>\n",
       "      <td>NaN</td>\n",
       "      <td>NaN</td>\n",
       "    </tr>\n",
       "    <tr>\n",
       "      <th>2017-01-03</th>\n",
       "      <td>0.021389</td>\n",
       "      <td>NaN</td>\n",
       "      <td>NaN</td>\n",
       "      <td>NaN</td>\n",
       "      <td>NaN</td>\n",
       "    </tr>\n",
       "    <tr>\n",
       "      <th>2017-01-04</th>\n",
       "      <td>0.100960</td>\n",
       "      <td>NaN</td>\n",
       "      <td>NaN</td>\n",
       "      <td>NaN</td>\n",
       "      <td>NaN</td>\n",
       "    </tr>\n",
       "    <tr>\n",
       "      <th>2017-01-05</th>\n",
       "      <td>-0.130575</td>\n",
       "      <td>NaN</td>\n",
       "      <td>NaN</td>\n",
       "      <td>NaN</td>\n",
       "      <td>NaN</td>\n",
       "    </tr>\n",
       "    <tr>\n",
       "      <th>2017-01-06</th>\n",
       "      <td>-0.116209</td>\n",
       "      <td>NaN</td>\n",
       "      <td>NaN</td>\n",
       "      <td>NaN</td>\n",
       "      <td>NaN</td>\n",
       "    </tr>\n",
       "    <tr>\n",
       "      <th>...</th>\n",
       "      <td>...</td>\n",
       "      <td>...</td>\n",
       "      <td>...</td>\n",
       "      <td>...</td>\n",
       "      <td>...</td>\n",
       "    </tr>\n",
       "    <tr>\n",
       "      <th>2020-12-26</th>\n",
       "      <td>0.069389</td>\n",
       "      <td>NaN</td>\n",
       "      <td>0.005866</td>\n",
       "      <td>0.005866</td>\n",
       "      <td>Test</td>\n",
       "    </tr>\n",
       "    <tr>\n",
       "      <th>2020-12-27</th>\n",
       "      <td>-0.006251</td>\n",
       "      <td>NaN</td>\n",
       "      <td>0.006540</td>\n",
       "      <td>0.006540</td>\n",
       "      <td>Test</td>\n",
       "    </tr>\n",
       "    <tr>\n",
       "      <th>2020-12-28</th>\n",
       "      <td>0.030458</td>\n",
       "      <td>NaN</td>\n",
       "      <td>0.007857</td>\n",
       "      <td>0.007857</td>\n",
       "      <td>Test</td>\n",
       "    </tr>\n",
       "    <tr>\n",
       "      <th>2020-12-29</th>\n",
       "      <td>0.010198</td>\n",
       "      <td>NaN</td>\n",
       "      <td>0.006564</td>\n",
       "      <td>0.006564</td>\n",
       "      <td>Test</td>\n",
       "    </tr>\n",
       "    <tr>\n",
       "      <th>2020-12-30</th>\n",
       "      <td>0.052625</td>\n",
       "      <td>NaN</td>\n",
       "      <td>0.007019</td>\n",
       "      <td>0.007019</td>\n",
       "      <td>Test</td>\n",
       "    </tr>\n",
       "  </tbody>\n",
       "</table>\n",
       "<p>1451 rows × 5 columns</p>\n",
       "</div>"
      ],
      "text/plain": [
       "              return  Train Predictions  Test Predictions  predictions  data\n",
       "date                                                                        \n",
       "2017-01-02  0.023193                NaN               NaN          NaN   NaN\n",
       "2017-01-03  0.021389                NaN               NaN          NaN   NaN\n",
       "2017-01-04  0.100960                NaN               NaN          NaN   NaN\n",
       "2017-01-05 -0.130575                NaN               NaN          NaN   NaN\n",
       "2017-01-06 -0.116209                NaN               NaN          NaN   NaN\n",
       "...              ...                ...               ...          ...   ...\n",
       "2020-12-26  0.069389                NaN          0.005866     0.005866  Test\n",
       "2020-12-27 -0.006251                NaN          0.006540     0.006540  Test\n",
       "2020-12-28  0.030458                NaN          0.007857     0.007857  Test\n",
       "2020-12-29  0.010198                NaN          0.006564     0.006564  Test\n",
       "2020-12-30  0.052625                NaN          0.007019     0.007019  Test\n",
       "\n",
       "[1451 rows x 5 columns]"
      ]
     },
     "execution_count": 55,
     "metadata": {},
     "output_type": "execute_result"
    }
   ],
   "source": [
    "dfreturn"
   ]
  },
  {
   "cell_type": "code",
   "execution_count": 56,
   "metadata": {},
   "outputs": [
    {
     "name": "stdout",
     "output_type": "stream",
     "text": [
      "Test accuracy: 0.67\n"
     ]
    }
   ],
   "source": [
    "model_test = dfreturn.copy().fillna(0)\n",
    "tmp = model_test['return']*model_test['predictions'][-30:]\n",
    "accuracy = len(tmp[tmp>0])/30\n",
    "print(f'Test accuracy: {accuracy:.2f}')"
   ]
  },
  {
   "cell_type": "code",
   "execution_count": null,
   "metadata": {},
   "outputs": [],
   "source": []
  },
  {
   "cell_type": "code",
   "execution_count": null,
   "metadata": {},
   "outputs": [],
   "source": []
  },
  {
   "cell_type": "code",
   "execution_count": null,
   "metadata": {},
   "outputs": [],
   "source": []
  }
 ],
 "metadata": {
  "kernelspec": {
   "display_name": "Python 3",
   "language": "python",
   "name": "python3"
  },
  "language_info": {
   "codemirror_mode": {
    "name": "ipython",
    "version": 3
   },
   "file_extension": ".py",
   "mimetype": "text/x-python",
   "name": "python",
   "nbconvert_exporter": "python",
   "pygments_lexer": "ipython3",
   "version": "3.8.5"
  }
 },
 "nbformat": 4,
 "nbformat_minor": 5
}
