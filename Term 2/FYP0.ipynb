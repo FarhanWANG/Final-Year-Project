{
 "cells": [
  {
   "cell_type": "code",
   "execution_count": 1,
   "metadata": {},
   "outputs": [],
   "source": [
    "import pandas as pd\n",
    "from yahoo_fin.stock_info import get_data\n",
    "import datetime"
   ]
  },
  {
   "cell_type": "code",
   "execution_count": 2,
   "metadata": {},
   "outputs": [],
   "source": [
    "START = TRAIN_START = datetime.datetime(2018,1,1)\n",
    "TEST_START = datetime.datetime(2020,1,5)\n",
    "END = datetime.datetime(2020,12,31)"
   ]
  },
  {
   "cell_type": "markdown",
   "metadata": {},
   "source": [
    "### Download cryptocurrency(CC) market 100 index from [Bitwise](https://www.bitwiseinvestments.com/indexes/Bitwise-100) which covers 93% of the CC market."
   ]
  },
  {
   "cell_type": "code",
   "execution_count": 3,
   "metadata": {},
   "outputs": [],
   "source": [
    "CC100_Index = pd.read_csv(\"indexReturns-BITW100.csv\")\n",
    "CC100_Index['Date'] = pd.to_datetime(CC100_Index['Date']).dt.tz_localize(None)\n",
    "CC100_Index = CC100_Index.sort_values('Date').set_index('Date')\n",
    "CC100_Index = CC100_Index.truncate(before = START,after = END)\n",
    "CC100_Index = CC100_Index.resample('W').last()[:-1]"
   ]
  },
  {
   "cell_type": "code",
   "execution_count": 4,
   "metadata": {
    "scrolled": true
   },
   "outputs": [
    {
     "data": {
      "text/html": [
       "<div>\n",
       "<style scoped>\n",
       "    .dataframe tbody tr th:only-of-type {\n",
       "        vertical-align: middle;\n",
       "    }\n",
       "\n",
       "    .dataframe tbody tr th {\n",
       "        vertical-align: top;\n",
       "    }\n",
       "\n",
       "    .dataframe thead th {\n",
       "        text-align: right;\n",
       "    }\n",
       "</style>\n",
       "<table border=\"1\" class=\"dataframe\">\n",
       "  <thead>\n",
       "    <tr style=\"text-align: right;\">\n",
       "      <th></th>\n",
       "      <th>BITW100</th>\n",
       "    </tr>\n",
       "    <tr>\n",
       "      <th>Date</th>\n",
       "      <th></th>\n",
       "    </tr>\n",
       "  </thead>\n",
       "  <tbody>\n",
       "    <tr>\n",
       "      <th>2018-01-07</th>\n",
       "      <td>34027.35</td>\n",
       "    </tr>\n",
       "    <tr>\n",
       "      <th>2018-01-14</th>\n",
       "      <td>30534.28</td>\n",
       "    </tr>\n",
       "    <tr>\n",
       "      <th>2018-01-21</th>\n",
       "      <td>25761.58</td>\n",
       "    </tr>\n",
       "    <tr>\n",
       "      <th>2018-01-28</th>\n",
       "      <td>22724.66</td>\n",
       "    </tr>\n",
       "    <tr>\n",
       "      <th>2018-02-04</th>\n",
       "      <td>18134.05</td>\n",
       "    </tr>\n",
       "    <tr>\n",
       "      <th>...</th>\n",
       "      <td>...</td>\n",
       "    </tr>\n",
       "    <tr>\n",
       "      <th>2020-11-29</th>\n",
       "      <td>18386.98</td>\n",
       "    </tr>\n",
       "    <tr>\n",
       "      <th>2020-12-06</th>\n",
       "      <td>19257.57</td>\n",
       "    </tr>\n",
       "    <tr>\n",
       "      <th>2020-12-13</th>\n",
       "      <td>19002.90</td>\n",
       "    </tr>\n",
       "    <tr>\n",
       "      <th>2020-12-20</th>\n",
       "      <td>23199.63</td>\n",
       "    </tr>\n",
       "    <tr>\n",
       "      <th>2020-12-27</th>\n",
       "      <td>23984.01</td>\n",
       "    </tr>\n",
       "  </tbody>\n",
       "</table>\n",
       "<p>156 rows × 1 columns</p>\n",
       "</div>"
      ],
      "text/plain": [
       "             BITW100\n",
       "Date                \n",
       "2018-01-07  34027.35\n",
       "2018-01-14  30534.28\n",
       "2018-01-21  25761.58\n",
       "2018-01-28  22724.66\n",
       "2018-02-04  18134.05\n",
       "...              ...\n",
       "2020-11-29  18386.98\n",
       "2020-12-06  19257.57\n",
       "2020-12-13  19002.90\n",
       "2020-12-20  23199.63\n",
       "2020-12-27  23984.01\n",
       "\n",
       "[156 rows x 1 columns]"
      ]
     },
     "execution_count": 4,
     "metadata": {},
     "output_type": "execute_result"
    }
   ],
   "source": [
    "CC100_Index"
   ]
  },
  {
   "cell_type": "code",
   "execution_count": 5,
   "metadata": {},
   "outputs": [],
   "source": [
    "Test_TimeList = CC100_Index.loc[TEST_START:].index"
   ]
  },
  {
   "cell_type": "markdown",
   "metadata": {},
   "source": [
    "#### VET Deleted due to late ICO (in Aug 2018)"
   ]
  },
  {
   "cell_type": "code",
   "execution_count": 6,
   "metadata": {},
   "outputs": [],
   "source": [
    "CC_string = \"ADA,ADX,AE,ANT,ARDR,ARK,BAT,BCH,BCN,BNB,BNT,BTC,BTG,BTS,CVC,DASH,DCR,DGB,DGD,DNT,DOGE,EDG,EOS,ETC,ETH,FUN,GAS,GBYTE,GNO,HC,ICX,KIN,KMD,KNC,LINK,LRC,LSK,LTC,MAID,MCO,MIOTA,MLN,MONA,MTL,NANO,NEO,NXS,OMG,PIVX,PPT,QRL,QTUM,REP,RLC,SALT,SC,SNT,STEEM,STORJ,SYS,TRX,VERI,WAVES,WTC,XEM,XLM,XMR,XRP,XVG,ZEC,ZEN,ZRX\"\n",
    "CC_temp_list = CC_string.split(\",\")\n",
    "CC_list = [i+'-USD' for i in CC_temp_list]"
   ]
  },
  {
   "cell_type": "code",
   "execution_count": null,
   "metadata": {},
   "outputs": [
    {
     "name": "stdout",
     "output_type": "stream",
     "text": [
      "ADA-USD\n",
      "ADX-USD\n",
      "AE-USD\n",
      "ANT-USD\n",
      "ARDR-USD\n",
      "ARK-USD\n",
      "BAT-USD\n",
      "BCH-USD\n",
      "BCN-USD\n",
      "BNB-USD\n",
      "BNT-USD\n",
      "BTC-USD\n",
      "BTG-USD\n",
      "BTS-USD\n",
      "CVC-USD\n"
     ]
    }
   ],
   "source": [
    "data_all = pd.DataFrame()\n",
    "for i in CC_list:\n",
    "    print(i)\n",
    "    data = get_data(i,start_date = START,end_date = END).resample('W').last()[:-1]\n",
    "    data_all = pd.concat([data_all,data])\n",
    "data_all.index.names = ['date']\n",
    "data_all"
   ]
  },
  {
   "cell_type": "code",
   "execution_count": null,
   "metadata": {},
   "outputs": [],
   "source": [
    "date = Test_TimeList[0]\n",
    "top10_liquid = data_all.loc[date].sort_values('volume',ascending= False).iloc[:10]\n",
    "top10_liquid"
   ]
  },
  {
   "cell_type": "code",
   "execution_count": null,
   "metadata": {},
   "outputs": [],
   "source": [
    "data_test = data_all.copy()\n",
    "data_test = data_test.reset_index().set_index(['ticker','date'])\n",
    "data_test"
   ]
  },
  {
   "cell_type": "markdown",
   "metadata": {},
   "source": [
    "# 先搞清楚smf.ols的参数设置，已经数据是否允许nan（算法）"
   ]
  },
  {
   "cell_type": "code",
   "execution_count": null,
   "metadata": {},
   "outputs": [],
   "source": [
    "regression = pd.DataFrame(columns=['beta', 'rse'])\n",
    "for ticker in top10_liquid['ticker']:\n",
    "    df = data_test['']\n",
    "    CAPM_model = smf.ols(formula = ticker+' ~ MarketReturns', data = result)\n",
    "    CAPM_fit = CAPM_model.fit()\n",
    "    beta = CAPM_fit.params['MarketReturns']\n",
    "    rse = CAPM_fit.bse['MarketReturns']\n",
    "    dict = {'beta': beta, 'rse': rse} \n",
    "    df = pd.DataFrame(dict, index = ticker)\n",
    "    regression = regression.append(df)\n",
    "    \n",
    "print(regression)"
   ]
  },
  {
   "cell_type": "code",
   "execution_count": null,
   "metadata": {},
   "outputs": [],
   "source": []
  }
 ],
 "metadata": {
  "kernelspec": {
   "display_name": "Python 3",
   "language": "python",
   "name": "python3"
  },
  "language_info": {
   "codemirror_mode": {
    "name": "ipython",
    "version": 3
   },
   "file_extension": ".py",
   "mimetype": "text/x-python",
   "name": "python",
   "nbconvert_exporter": "python",
   "pygments_lexer": "ipython3",
   "version": "3.8.5"
  }
 },
 "nbformat": 4,
 "nbformat_minor": 4
}
