{
 "cells": [
  {
   "cell_type": "code",
   "execution_count": 1,
   "metadata": {},
   "outputs": [],
   "source": [
    "%matplotlib inline\n",
    "\n",
    "from pathlib import Path\n",
    "\n",
    "import numpy as np\n",
    "import pandas as pd\n",
    "import pandas_datareader.data as web\n",
    "from scipy.stats import spearmanr\n",
    "\n",
    "from sklearn.metrics import mean_squared_error\n",
    "from sklearn.preprocessing import MinMaxScaler\n",
    "\n",
    "import tensorflow as tf\n",
    "from tensorflow.keras.callbacks import ModelCheckpoint, EarlyStopping\n",
    "from tensorflow.keras.models import Sequential\n",
    "from tensorflow.keras.layers import Dense, LSTM\n",
    "from tensorflow import keras\n",
    "\n",
    "import matplotlib.pyplot as plt\n",
    "import seaborn as sns"
   ]
  },
  {
   "cell_type": "code",
   "execution_count": 2,
   "metadata": {},
   "outputs": [],
   "source": [
    "import warnings\n",
    "warnings.filterwarnings('ignore')"
   ]
  },
  {
   "cell_type": "code",
   "execution_count": 3,
   "metadata": {},
   "outputs": [
    {
     "name": "stdout",
     "output_type": "stream",
     "text": [
      "Using GPU\n"
     ]
    }
   ],
   "source": [
    "gpu_devices = tf.config.experimental.list_physical_devices('GPU')\n",
    "if gpu_devices:\n",
    "    print('Using GPU')\n",
    "    tf.config.experimental.set_memory_growth(gpu_devices[0], True)\n",
    "else:\n",
    "    print('Using CPU')"
   ]
  },
  {
   "cell_type": "code",
   "execution_count": 4,
   "metadata": {},
   "outputs": [],
   "source": [
    "sns.set_style('whitegrid')\n",
    "np.random.seed(42)"
   ]
  },
  {
   "cell_type": "markdown",
   "metadata": {},
   "source": [
    "# Get Data"
   ]
  },
  {
   "cell_type": "markdown",
   "metadata": {},
   "source": [
    "# OMG-USD"
   ]
  },
  {
   "cell_type": "code",
   "execution_count": 5,
   "metadata": {},
   "outputs": [
    {
     "data": {
      "text/html": [
       "<div>\n",
       "<style scoped>\n",
       "    .dataframe tbody tr th:only-of-type {\n",
       "        vertical-align: middle;\n",
       "    }\n",
       "\n",
       "    .dataframe tbody tr th {\n",
       "        vertical-align: top;\n",
       "    }\n",
       "\n",
       "    .dataframe thead th {\n",
       "        text-align: right;\n",
       "    }\n",
       "</style>\n",
       "<table border=\"1\" class=\"dataframe\">\n",
       "  <thead>\n",
       "    <tr style=\"text-align: right;\">\n",
       "      <th></th>\n",
       "      <th>close</th>\n",
       "    </tr>\n",
       "    <tr>\n",
       "      <th>date</th>\n",
       "      <th></th>\n",
       "    </tr>\n",
       "  </thead>\n",
       "  <tbody>\n",
       "    <tr>\n",
       "      <th>2017-07-13</th>\n",
       "      <td>0.582480</td>\n",
       "    </tr>\n",
       "    <tr>\n",
       "      <th>2017-07-14</th>\n",
       "      <td>0.433351</td>\n",
       "    </tr>\n",
       "    <tr>\n",
       "      <th>2017-07-15</th>\n",
       "      <td>0.384906</td>\n",
       "    </tr>\n",
       "    <tr>\n",
       "      <th>2017-07-16</th>\n",
       "      <td>0.582786</td>\n",
       "    </tr>\n",
       "    <tr>\n",
       "      <th>2017-07-17</th>\n",
       "      <td>0.759819</td>\n",
       "    </tr>\n",
       "    <tr>\n",
       "      <th>...</th>\n",
       "      <td>...</td>\n",
       "    </tr>\n",
       "    <tr>\n",
       "      <th>2020-12-26</th>\n",
       "      <td>2.529716</td>\n",
       "    </tr>\n",
       "    <tr>\n",
       "      <th>2020-12-27</th>\n",
       "      <td>2.604007</td>\n",
       "    </tr>\n",
       "    <tr>\n",
       "      <th>2020-12-28</th>\n",
       "      <td>2.650469</td>\n",
       "    </tr>\n",
       "    <tr>\n",
       "      <th>2020-12-29</th>\n",
       "      <td>2.532067</td>\n",
       "    </tr>\n",
       "    <tr>\n",
       "      <th>2020-12-30</th>\n",
       "      <td>2.433553</td>\n",
       "    </tr>\n",
       "  </tbody>\n",
       "</table>\n",
       "<p>1259 rows × 1 columns</p>\n",
       "</div>"
      ],
      "text/plain": [
       "               close\n",
       "date                \n",
       "2017-07-13  0.582480\n",
       "2017-07-14  0.433351\n",
       "2017-07-15  0.384906\n",
       "2017-07-16  0.582786\n",
       "2017-07-17  0.759819\n",
       "...              ...\n",
       "2020-12-26  2.529716\n",
       "2020-12-27  2.604007\n",
       "2020-12-28  2.650469\n",
       "2020-12-29  2.532067\n",
       "2020-12-30  2.433553\n",
       "\n",
       "[1259 rows x 1 columns]"
      ]
     },
     "execution_count": 5,
     "metadata": {},
     "output_type": "execute_result"
    }
   ],
   "source": [
    "df=pd.read_csv('CC_daily_data.csv').dropna()\n",
    "dfclose = df[df['ticker']=='OMG-USD'].set_index(['date'])['close'].to_frame()\n",
    "dfclose = dfclose[~dfclose.index.duplicated(keep = 'first')]\n",
    "dfclose"
   ]
  },
  {
   "cell_type": "code",
   "execution_count": 6,
   "metadata": {},
   "outputs": [
    {
     "data": {
      "text/html": [
       "<div>\n",
       "<style scoped>\n",
       "    .dataframe tbody tr th:only-of-type {\n",
       "        vertical-align: middle;\n",
       "    }\n",
       "\n",
       "    .dataframe tbody tr th {\n",
       "        vertical-align: top;\n",
       "    }\n",
       "\n",
       "    .dataframe thead th {\n",
       "        text-align: right;\n",
       "    }\n",
       "</style>\n",
       "<table border=\"1\" class=\"dataframe\">\n",
       "  <thead>\n",
       "    <tr style=\"text-align: right;\">\n",
       "      <th></th>\n",
       "      <th>return</th>\n",
       "    </tr>\n",
       "    <tr>\n",
       "      <th>date</th>\n",
       "      <th></th>\n",
       "    </tr>\n",
       "  </thead>\n",
       "  <tbody>\n",
       "    <tr>\n",
       "      <th>2017-07-14</th>\n",
       "      <td>-0.295747</td>\n",
       "    </tr>\n",
       "    <tr>\n",
       "      <th>2017-07-15</th>\n",
       "      <td>-0.118549</td>\n",
       "    </tr>\n",
       "    <tr>\n",
       "      <th>2017-07-16</th>\n",
       "      <td>0.414821</td>\n",
       "    </tr>\n",
       "    <tr>\n",
       "      <th>2017-07-17</th>\n",
       "      <td>0.265260</td>\n",
       "    </tr>\n",
       "    <tr>\n",
       "      <th>2017-07-18</th>\n",
       "      <td>-0.263332</td>\n",
       "    </tr>\n",
       "    <tr>\n",
       "      <th>...</th>\n",
       "      <td>...</td>\n",
       "    </tr>\n",
       "    <tr>\n",
       "      <th>2020-12-26</th>\n",
       "      <td>-0.020800</td>\n",
       "    </tr>\n",
       "    <tr>\n",
       "      <th>2020-12-27</th>\n",
       "      <td>0.028944</td>\n",
       "    </tr>\n",
       "    <tr>\n",
       "      <th>2020-12-28</th>\n",
       "      <td>0.017685</td>\n",
       "    </tr>\n",
       "    <tr>\n",
       "      <th>2020-12-29</th>\n",
       "      <td>-0.045701</td>\n",
       "    </tr>\n",
       "    <tr>\n",
       "      <th>2020-12-30</th>\n",
       "      <td>-0.039684</td>\n",
       "    </tr>\n",
       "  </tbody>\n",
       "</table>\n",
       "<p>1258 rows × 1 columns</p>\n",
       "</div>"
      ],
      "text/plain": [
       "              return\n",
       "date                \n",
       "2017-07-14 -0.295747\n",
       "2017-07-15 -0.118549\n",
       "2017-07-16  0.414821\n",
       "2017-07-17  0.265260\n",
       "2017-07-18 -0.263332\n",
       "...              ...\n",
       "2020-12-26 -0.020800\n",
       "2020-12-27  0.028944\n",
       "2020-12-28  0.017685\n",
       "2020-12-29 -0.045701\n",
       "2020-12-30 -0.039684\n",
       "\n",
       "[1258 rows x 1 columns]"
      ]
     },
     "execution_count": 6,
     "metadata": {},
     "output_type": "execute_result"
    }
   ],
   "source": [
    "dfreturn = (np.log(dfclose/dfclose.shift())\n",
    "            .dropna()\n",
    "            .rename(columns = {'close':'return'}))\n",
    "dfreturn"
   ]
  },
  {
   "cell_type": "code",
   "execution_count": 7,
   "metadata": {},
   "outputs": [],
   "source": [
    "results_path = Path('results', 'univariate_LSTM')\n",
    "if not results_path.exists():\n",
    "    results_path.mkdir(parents=True)"
   ]
  },
  {
   "cell_type": "markdown",
   "metadata": {},
   "source": [
    "# Predicting Future Price:"
   ]
  },
  {
   "cell_type": "markdown",
   "metadata": {},
   "source": [
    "# Preprocessing"
   ]
  },
  {
   "cell_type": "code",
   "execution_count": 8,
   "metadata": {},
   "outputs": [
    {
     "data": {
      "text/plain": [
       "count    1259.000000\n",
       "mean        0.167958\n",
       "std         0.197146\n",
       "min         0.000000\n",
       "25%         0.033794\n",
       "50%         0.073910\n",
       "75%         0.271240\n",
       "max         1.000000\n",
       "dtype: float64"
      ]
     },
     "execution_count": 8,
     "metadata": {},
     "output_type": "execute_result"
    }
   ],
   "source": [
    "scaler = MinMaxScaler()\n",
    "dfclose_scaled = pd.Series(scaler.fit_transform(dfclose).squeeze(),index =dfclose.index)\n",
    "dfclose_scaled.describe()"
   ]
  },
  {
   "cell_type": "markdown",
   "metadata": {},
   "source": [
    "# Generating recurrent sequences from the time series"
   ]
  },
  {
   "cell_type": "markdown",
   "metadata": {},
   "source": [
    "We will generate sequences of 90 trading days, approximately 3 months, and use a single LSTM layer with 10 hidden units to predict the index value one timestep ahead. \n",
    "The input to every LSTM layer must have three dimensions, namely:\n",
    "- **Samples**: One sequence is one sample. A batch contains one or more samples.\n",
    "- **Time Steps**: One time step is one point of observation in the sample.\n",
    "- **Features**: One feature is one observation at a time step."
   ]
  },
  {
   "cell_type": "code",
   "execution_count": 9,
   "metadata": {},
   "outputs": [],
   "source": [
    "def create_univariate_rnn_data(data, window_size):\n",
    "    n = len(data)\n",
    "    y = data[window_size:]\n",
    "    data = data.values.reshape(-1, 1) # make 2D\n",
    "    X = np.hstack(tuple([data[i: n-j, :] for i, j in enumerate(range(window_size, 0, -1))]))\n",
    "    return pd.DataFrame(X, index=y.index), y\n"
   ]
  },
  {
   "cell_type": "code",
   "execution_count": 10,
   "metadata": {},
   "outputs": [],
   "source": [
    "window_size = 90"
   ]
  },
  {
   "cell_type": "code",
   "execution_count": 11,
   "metadata": {},
   "outputs": [],
   "source": [
    "X,y = create_univariate_rnn_data(dfclose_scaled, window_size)"
   ]
  },
  {
   "cell_type": "code",
   "execution_count": 12,
   "metadata": {},
   "outputs": [
    {
     "data": {
      "text/plain": [
       "(1169, 90)"
      ]
     },
     "execution_count": 12,
     "metadata": {},
     "output_type": "execute_result"
    }
   ],
   "source": [
    "X.shape"
   ]
  },
  {
   "cell_type": "markdown",
   "metadata": {},
   "source": [
    "# Train-test split"
   ]
  },
  {
   "cell_type": "code",
   "execution_count": 13,
   "metadata": {},
   "outputs": [
    {
     "data": {
      "image/png": "[encoded data removed]",
      "text/plain": [
       "<Figure size 1008x288 with 1 Axes>"
      ]
     },
     "metadata": {},
     "output_type": "display_data"
    }
   ],
   "source": [
    "ax = dfclose_scaled.plot(lw=2, figsize=(14, 4), rot=0)\n",
    "ax.set_xlabel('')\n",
    "sns.despine()"
   ]
  },
  {
   "cell_type": "code",
   "execution_count": 14,
   "metadata": {},
   "outputs": [],
   "source": [
    "X_train = X[:'2020'].values.reshape(-1, window_size, 1)\n",
    "y_train = y[:'2020']\n",
    "\n",
    "# keep the last year for testing\n",
    "X_test = X['2020':].values.reshape(-1, window_size, 1)\n",
    "y_test = y['2020':]"
   ]
  },
  {
   "cell_type": "code",
   "execution_count": 15,
   "metadata": {},
   "outputs": [],
   "source": [
    "n_obs, window_size, n_features = X_train.shape"
   ]
  },
  {
   "cell_type": "code",
   "execution_count": 16,
   "metadata": {},
   "outputs": [
    {
     "data": {
      "text/plain": [
       "(809,)"
      ]
     },
     "execution_count": 16,
     "metadata": {},
     "output_type": "execute_result"
    }
   ],
   "source": [
    "y_train.shape"
   ]
  },
  {
   "cell_type": "markdown",
   "metadata": {},
   "source": [
    "# Define Model Architechture"
   ]
  },
  {
   "cell_type": "code",
   "execution_count": 17,
   "metadata": {},
   "outputs": [],
   "source": [
    "rnn_price = Sequential([\n",
    "    LSTM(units = 10, input_shape = (window_size,n_features), name='LSTM'),\n",
    "    Dense(1, name='Output')\n",
    "])"
   ]
  },
  {
   "cell_type": "code",
   "execution_count": 18,
   "metadata": {},
   "outputs": [
    {
     "name": "stdout",
     "output_type": "stream",
     "text": [
      "Model: \"sequential\"\n",
      "_________________________________________________________________\n",
      "Layer (type)                 Output Shape              Param #   \n",
      "=================================================================\n",
      "LSTM (LSTM)                  (None, 10)                480       \n",
      "_________________________________________________________________\n",
      "Output (Dense)               (None, 1)                 11        \n",
      "=================================================================\n",
      "Total params: 491\n",
      "Trainable params: 491\n",
      "Non-trainable params: 0\n",
      "_________________________________________________________________\n"
     ]
    }
   ],
   "source": [
    "rnn_price.summary()"
   ]
  },
  {
   "cell_type": "markdown",
   "metadata": {},
   "source": [
    "# Train the Model"
   ]
  },
  {
   "cell_type": "code",
   "execution_count": 19,
   "metadata": {},
   "outputs": [],
   "source": [
    "optimizer = keras.optimizers.RMSprop(lr=.001, rho = .9, epsilon = 1e-08, decay = .0)\n",
    "rnn_price.compile(loss = 'mean_squared_error', optimizer = optimizer)"
   ]
  },
  {
   "cell_type": "code",
   "execution_count": 20,
   "metadata": {},
   "outputs": [],
   "source": [
    "rnn_path = (results_path / 'rnn.h5').as_posix()\n",
    "checkpointer = ModelCheckpoint(filepath=rnn_path,verbose=1,monitor='val_loss',save_best_only=True)"
   ]
  },
  {
   "cell_type": "code",
   "execution_count": 21,
   "metadata": {},
   "outputs": [],
   "source": [
    "early_stopping = EarlyStopping(monitor = 'val_loss',patience = 20, restore_best_weights = True)"
   ]
  },
  {
   "cell_type": "code",
   "execution_count": 22,
   "metadata": {
    "scrolled": true
   },
   "outputs": [
    {
     "name": "stdout",
     "output_type": "stream",
     "text": [
      "Epoch 1/150\n",
      "41/41 [==============================] - 4s 43ms/step - loss: 0.1410 - val_loss: 0.0119\n",
      "\n",
      "Epoch 00001: val_loss improved from inf to 0.01186, saving model to results/univariate_LSTM\\rnn.h5\n",
      "Epoch 2/150\n",
      "41/41 [==============================] - 0s 11ms/step - loss: 0.0253 - val_loss: 0.0026\n",
      "\n",
      "Epoch 00002: val_loss improved from 0.01186 to 0.00262, saving model to results/univariate_LSTM\\rnn.h5\n",
      "Epoch 3/150\n",
      "41/41 [==============================] - 0s 12ms/step - loss: 0.0052 - val_loss: 7.2286e-04\n",
      "\n",
      "Epoch 00003: val_loss improved from 0.00262 to 0.00072, saving model to results/univariate_LSTM\\rnn.h5\n",
      "Epoch 4/150\n",
      "41/41 [==============================] - 0s 11ms/step - loss: 0.0040 - val_loss: 5.9858e-04\n",
      "\n",
      "Epoch 00004: val_loss improved from 0.00072 to 0.00060, saving model to results/univariate_LSTM\\rnn.h5\n",
      "Epoch 5/150\n",
      "41/41 [==============================] - 0s 12ms/step - loss: 0.0034 - val_loss: 5.6047e-04\n",
      "\n",
      "Epoch 00005: val_loss improved from 0.00060 to 0.00056, saving model to results/univariate_LSTM\\rnn.h5\n",
      "Epoch 6/150\n",
      "41/41 [==============================] - 0s 11ms/step - loss: 0.0026 - val_loss: 3.9014e-04\n",
      "\n",
      "Epoch 00006: val_loss improved from 0.00056 to 0.00039, saving model to results/univariate_LSTM\\rnn.h5\n",
      "Epoch 7/150\n",
      "41/41 [==============================] - 0s 11ms/step - loss: 0.0019 - val_loss: 3.7385e-04\n",
      "\n",
      "Epoch 00007: val_loss improved from 0.00039 to 0.00037, saving model to results/univariate_LSTM\\rnn.h5\n",
      "Epoch 8/150\n",
      "41/41 [==============================] - 0s 11ms/step - loss: 0.0016 - val_loss: 3.6929e-04\n",
      "\n",
      "Epoch 00008: val_loss improved from 0.00037 to 0.00037, saving model to results/univariate_LSTM\\rnn.h5\n",
      "Epoch 9/150\n",
      "41/41 [==============================] - 0s 11ms/step - loss: 0.0015 - val_loss: 3.2723e-04\n",
      "\n",
      "Epoch 00009: val_loss improved from 0.00037 to 0.00033, saving model to results/univariate_LSTM\\rnn.h5\n",
      "Epoch 10/150\n",
      "41/41 [==============================] - 0s 11ms/step - loss: 0.0011 - val_loss: 3.3547e-04\n",
      "\n",
      "Epoch 00010: val_loss did not improve from 0.00033\n",
      "Epoch 11/150\n",
      "41/41 [==============================] - 0s 11ms/step - loss: 0.0013 - val_loss: 3.2993e-04\n",
      "\n",
      "Epoch 00011: val_loss did not improve from 0.00033\n",
      "Epoch 12/150\n",
      "41/41 [==============================] - 0s 11ms/step - loss: 0.0014 - val_loss: 3.0395e-04\n",
      "\n",
      "Epoch 00012: val_loss improved from 0.00033 to 0.00030, saving model to results/univariate_LSTM\\rnn.h5\n",
      "Epoch 13/150\n",
      "41/41 [==============================] - 0s 11ms/step - loss: 0.0012 - val_loss: 4.7046e-04\n",
      "\n",
      "Epoch 00013: val_loss did not improve from 0.00030\n",
      "Epoch 14/150\n",
      "41/41 [==============================] - 0s 11ms/step - loss: 0.0012 - val_loss: 3.0143e-04\n",
      "\n",
      "Epoch 00014: val_loss improved from 0.00030 to 0.00030, saving model to results/univariate_LSTM\\rnn.h5\n",
      "Epoch 15/150\n",
      "41/41 [==============================] - 0s 11ms/step - loss: 0.0012 - val_loss: 2.5865e-04\n",
      "\n",
      "Epoch 00015: val_loss improved from 0.00030 to 0.00026, saving model to results/univariate_LSTM\\rnn.h5\n",
      "Epoch 16/150\n",
      "41/41 [==============================] - 0s 11ms/step - loss: 0.0012 - val_loss: 2.5853e-04\n",
      "\n",
      "Epoch 00016: val_loss improved from 0.00026 to 0.00026, saving model to results/univariate_LSTM\\rnn.h5\n",
      "Epoch 17/150\n",
      "41/41 [==============================] - 0s 11ms/step - loss: 9.5975e-04 - val_loss: 2.4874e-04\n",
      "\n",
      "Epoch 00017: val_loss improved from 0.00026 to 0.00025, saving model to results/univariate_LSTM\\rnn.h5\n",
      "Epoch 18/150\n",
      "41/41 [==============================] - 0s 11ms/step - loss: 0.0011 - val_loss: 2.4083e-04\n",
      "\n",
      "Epoch 00018: val_loss improved from 0.00025 to 0.00024, saving model to results/univariate_LSTM\\rnn.h5\n",
      "Epoch 19/150\n",
      "41/41 [==============================] - 0s 11ms/step - loss: 9.9121e-04 - val_loss: 2.5373e-04\n",
      "\n",
      "Epoch 00019: val_loss did not improve from 0.00024\n",
      "Epoch 20/150\n",
      "41/41 [==============================] - 0s 11ms/step - loss: 0.0011 - val_loss: 2.4110e-04\n",
      "\n",
      "Epoch 00020: val_loss did not improve from 0.00024\n",
      "Epoch 21/150\n",
      "41/41 [==============================] - 0s 11ms/step - loss: 0.0010 - val_loss: 2.3927e-04\n",
      "\n",
      "Epoch 00021: val_loss improved from 0.00024 to 0.00024, saving model to results/univariate_LSTM\\rnn.h5\n",
      "Epoch 22/150\n",
      "41/41 [==============================] - 0s 11ms/step - loss: 0.0011 - val_loss: 2.1471e-04\n",
      "\n",
      "Epoch 00022: val_loss improved from 0.00024 to 0.00021, saving model to results/univariate_LSTM\\rnn.h5\n",
      "Epoch 23/150\n",
      "41/41 [==============================] - 0s 11ms/step - loss: 0.0011 - val_loss: 2.4346e-04\n",
      "\n",
      "Epoch 00023: val_loss did not improve from 0.00021\n",
      "Epoch 24/150\n",
      "41/41 [==============================] - 0s 11ms/step - loss: 0.0010 - val_loss: 2.3838e-04\n",
      "\n",
      "Epoch 00024: val_loss did not improve from 0.00021\n",
      "Epoch 25/150\n",
      "41/41 [==============================] - 0s 11ms/step - loss: 8.3776e-04 - val_loss: 3.5744e-04\n",
      "\n",
      "Epoch 00025: val_loss did not improve from 0.00021\n",
      "Epoch 26/150\n",
      "41/41 [==============================] - 0s 11ms/step - loss: 8.4829e-04 - val_loss: 2.1517e-04\n",
      "\n",
      "Epoch 00026: val_loss did not improve from 0.00021\n",
      "Epoch 27/150\n",
      "41/41 [==============================] - 0s 11ms/step - loss: 9.3767e-04 - val_loss: 1.9285e-04\n",
      "\n",
      "Epoch 00027: val_loss improved from 0.00021 to 0.00019, saving model to results/univariate_LSTM\\rnn.h5\n",
      "Epoch 28/150\n",
      "41/41 [==============================] - 0s 11ms/step - loss: 6.4333e-04 - val_loss: 1.9342e-04\n",
      "\n",
      "Epoch 00028: val_loss did not improve from 0.00019\n",
      "Epoch 29/150\n",
      "41/41 [==============================] - 0s 11ms/step - loss: 8.7128e-04 - val_loss: 1.8556e-04\n",
      "\n",
      "Epoch 00029: val_loss improved from 0.00019 to 0.00019, saving model to results/univariate_LSTM\\rnn.h5\n",
      "Epoch 30/150\n",
      "41/41 [==============================] - 0s 11ms/step - loss: 9.9482e-04 - val_loss: 3.2701e-04\n",
      "\n",
      "Epoch 00030: val_loss did not improve from 0.00019\n",
      "Epoch 31/150\n",
      "41/41 [==============================] - 0s 12ms/step - loss: 0.0011 - val_loss: 1.7950e-04\n",
      "\n",
      "Epoch 00031: val_loss improved from 0.00019 to 0.00018, saving model to results/univariate_LSTM\\rnn.h5\n",
      "Epoch 32/150\n",
      "41/41 [==============================] - 0s 11ms/step - loss: 8.1034e-04 - val_loss: 2.3159e-04\n",
      "\n",
      "Epoch 00032: val_loss did not improve from 0.00018\n",
      "Epoch 33/150\n",
      "41/41 [==============================] - 0s 11ms/step - loss: 7.1484e-04 - val_loss: 1.9787e-04\n",
      "\n",
      "Epoch 00033: val_loss did not improve from 0.00018\n",
      "Epoch 34/150\n",
      "41/41 [==============================] - 0s 11ms/step - loss: 7.3644e-04 - val_loss: 1.7212e-04\n",
      "\n",
      "Epoch 00034: val_loss improved from 0.00018 to 0.00017, saving model to results/univariate_LSTM\\rnn.h5\n",
      "Epoch 35/150\n",
      "41/41 [==============================] - 0s 11ms/step - loss: 8.0860e-04 - val_loss: 1.6653e-04\n",
      "\n",
      "Epoch 00035: val_loss improved from 0.00017 to 0.00017, saving model to results/univariate_LSTM\\rnn.h5\n",
      "Epoch 36/150\n",
      "41/41 [==============================] - 0s 11ms/step - loss: 8.7749e-04 - val_loss: 1.6357e-04\n",
      "\n",
      "Epoch 00036: val_loss improved from 0.00017 to 0.00016, saving model to results/univariate_LSTM\\rnn.h5\n",
      "Epoch 37/150\n",
      "41/41 [==============================] - 0s 11ms/step - loss: 0.0010 - val_loss: 2.3652e-04\n",
      "\n",
      "Epoch 00037: val_loss did not improve from 0.00016\n",
      "Epoch 38/150\n",
      "41/41 [==============================] - 0s 11ms/step - loss: 0.0011 - val_loss: 1.8227e-04\n",
      "\n",
      "Epoch 00038: val_loss did not improve from 0.00016\n",
      "Epoch 39/150\n",
      "41/41 [==============================] - 0s 11ms/step - loss: 7.9039e-04 - val_loss: 1.7924e-04\n",
      "\n",
      "Epoch 00039: val_loss did not improve from 0.00016\n",
      "Epoch 40/150\n",
      "41/41 [==============================] - 0s 11ms/step - loss: 8.5145e-04 - val_loss: 1.9218e-04\n",
      "\n",
      "Epoch 00040: val_loss did not improve from 0.00016\n",
      "Epoch 41/150\n",
      "41/41 [==============================] - 0s 11ms/step - loss: 6.6246e-04 - val_loss: 1.5771e-04\n",
      "\n",
      "Epoch 00041: val_loss improved from 0.00016 to 0.00016, saving model to results/univariate_LSTM\\rnn.h5\n",
      "Epoch 42/150\n",
      "41/41 [==============================] - 0s 11ms/step - loss: 8.9882e-04 - val_loss: 1.5097e-04\n",
      "\n",
      "Epoch 00042: val_loss improved from 0.00016 to 0.00015, saving model to results/univariate_LSTM\\rnn.h5\n",
      "Epoch 43/150\n",
      "41/41 [==============================] - 0s 11ms/step - loss: 6.5180e-04 - val_loss: 1.4872e-04\n",
      "\n",
      "Epoch 00043: val_loss improved from 0.00015 to 0.00015, saving model to results/univariate_LSTM\\rnn.h5\n",
      "Epoch 44/150\n"
     ]
    },
    {
     "name": "stdout",
     "output_type": "stream",
     "text": [
      "41/41 [==============================] - 0s 11ms/step - loss: 7.5533e-04 - val_loss: 2.0825e-04\n",
      "\n",
      "Epoch 00044: val_loss did not improve from 0.00015\n",
      "Epoch 45/150\n",
      "41/41 [==============================] - 0s 11ms/step - loss: 7.5284e-04 - val_loss: 1.5125e-04\n",
      "\n",
      "Epoch 00045: val_loss did not improve from 0.00015\n",
      "Epoch 46/150\n",
      "41/41 [==============================] - 0s 11ms/step - loss: 8.4525e-04 - val_loss: 1.4839e-04\n",
      "\n",
      "Epoch 00046: val_loss improved from 0.00015 to 0.00015, saving model to results/univariate_LSTM\\rnn.h5\n",
      "Epoch 47/150\n",
      "41/41 [==============================] - 0s 11ms/step - loss: 9.9212e-04 - val_loss: 2.1308e-04\n",
      "\n",
      "Epoch 00047: val_loss did not improve from 0.00015\n",
      "Epoch 48/150\n",
      "41/41 [==============================] - 0s 11ms/step - loss: 6.5658e-04 - val_loss: 1.3919e-04\n",
      "\n",
      "Epoch 00048: val_loss improved from 0.00015 to 0.00014, saving model to results/univariate_LSTM\\rnn.h5\n",
      "Epoch 49/150\n",
      "41/41 [==============================] - 0s 11ms/step - loss: 7.5537e-04 - val_loss: 2.1114e-04\n",
      "\n",
      "Epoch 00049: val_loss did not improve from 0.00014\n",
      "Epoch 50/150\n",
      "41/41 [==============================] - 0s 11ms/step - loss: 8.9584e-04 - val_loss: 1.4040e-04\n",
      "\n",
      "Epoch 00050: val_loss did not improve from 0.00014\n",
      "Epoch 51/150\n",
      "41/41 [==============================] - 0s 11ms/step - loss: 8.1331e-04 - val_loss: 1.3605e-04\n",
      "\n",
      "Epoch 00051: val_loss improved from 0.00014 to 0.00014, saving model to results/univariate_LSTM\\rnn.h5\n",
      "Epoch 52/150\n",
      "41/41 [==============================] - 0s 11ms/step - loss: 7.4868e-04 - val_loss: 1.5039e-04\n",
      "\n",
      "Epoch 00052: val_loss did not improve from 0.00014\n",
      "Epoch 53/150\n",
      "41/41 [==============================] - 0s 11ms/step - loss: 8.1237e-04 - val_loss: 1.3781e-04\n",
      "\n",
      "Epoch 00053: val_loss did not improve from 0.00014\n",
      "Epoch 54/150\n",
      "41/41 [==============================] - 0s 11ms/step - loss: 7.3893e-04 - val_loss: 1.3186e-04\n",
      "\n",
      "Epoch 00054: val_loss improved from 0.00014 to 0.00013, saving model to results/univariate_LSTM\\rnn.h5\n",
      "Epoch 55/150\n",
      "41/41 [==============================] - ETA: 0s - loss: 7.7705e-0 - 0s 11ms/step - loss: 7.7300e-04 - val_loss: 1.2865e-04\n",
      "\n",
      "Epoch 00055: val_loss improved from 0.00013 to 0.00013, saving model to results/univariate_LSTM\\rnn.h5\n",
      "Epoch 56/150\n",
      "41/41 [==============================] - 0s 11ms/step - loss: 5.9990e-04 - val_loss: 1.5532e-04\n",
      "\n",
      "Epoch 00056: val_loss did not improve from 0.00013\n",
      "Epoch 57/150\n",
      "41/41 [==============================] - 0s 11ms/step - loss: 7.2839e-04 - val_loss: 1.5805e-04\n",
      "\n",
      "Epoch 00057: val_loss did not improve from 0.00013\n",
      "Epoch 58/150\n",
      "41/41 [==============================] - 0s 11ms/step - loss: 0.0010 - val_loss: 1.8386e-04\n",
      "\n",
      "Epoch 00058: val_loss did not improve from 0.00013\n",
      "Epoch 59/150\n",
      "41/41 [==============================] - 0s 11ms/step - loss: 8.8060e-04 - val_loss: 1.3548e-04\n",
      "\n",
      "Epoch 00059: val_loss did not improve from 0.00013\n",
      "Epoch 60/150\n",
      "41/41 [==============================] - 0s 12ms/step - loss: 7.1894e-04 - val_loss: 1.4778e-04\n",
      "\n",
      "Epoch 00060: val_loss did not improve from 0.00013\n",
      "Epoch 61/150\n",
      "41/41 [==============================] - 0s 11ms/step - loss: 8.9364e-04 - val_loss: 1.2932e-04\n",
      "\n",
      "Epoch 00061: val_loss did not improve from 0.00013\n",
      "Epoch 62/150\n",
      "41/41 [==============================] - 0s 11ms/step - loss: 7.5749e-04 - val_loss: 1.4819e-04\n",
      "\n",
      "Epoch 00062: val_loss did not improve from 0.00013\n",
      "Epoch 63/150\n",
      "41/41 [==============================] - 0s 11ms/step - loss: 7.6320e-04 - val_loss: 1.2529e-04\n",
      "\n",
      "Epoch 00063: val_loss improved from 0.00013 to 0.00013, saving model to results/univariate_LSTM\\rnn.h5\n",
      "Epoch 64/150\n",
      "41/41 [==============================] - 0s 11ms/step - loss: 7.1547e-04 - val_loss: 1.2011e-04\n",
      "\n",
      "Epoch 00064: val_loss improved from 0.00013 to 0.00012, saving model to results/univariate_LSTM\\rnn.h5\n",
      "Epoch 65/150\n",
      "41/41 [==============================] - 0s 11ms/step - loss: 7.4975e-04 - val_loss: 1.2201e-04\n",
      "\n",
      "Epoch 00065: val_loss did not improve from 0.00012\n",
      "Epoch 66/150\n",
      "41/41 [==============================] - 0s 11ms/step - loss: 6.3690e-04 - val_loss: 1.5074e-04\n",
      "\n",
      "Epoch 00066: val_loss did not improve from 0.00012\n",
      "Epoch 67/150\n",
      "41/41 [==============================] - 0s 11ms/step - loss: 6.8558e-04 - val_loss: 1.4058e-04\n",
      "\n",
      "Epoch 00067: val_loss did not improve from 0.00012\n",
      "Epoch 68/150\n",
      "41/41 [==============================] - 0s 11ms/step - loss: 6.4157e-04 - val_loss: 1.2504e-04\n",
      "\n",
      "Epoch 00068: val_loss did not improve from 0.00012\n",
      "Epoch 69/150\n",
      "41/41 [==============================] - 0s 11ms/step - loss: 6.7848e-04 - val_loss: 1.5924e-04\n",
      "\n",
      "Epoch 00069: val_loss did not improve from 0.00012\n",
      "Epoch 70/150\n",
      "41/41 [==============================] - 0s 12ms/step - loss: 7.9885e-04 - val_loss: 1.1564e-04\n",
      "\n",
      "Epoch 00070: val_loss improved from 0.00012 to 0.00012, saving model to results/univariate_LSTM\\rnn.h5\n",
      "Epoch 71/150\n",
      "41/41 [==============================] - 0s 12ms/step - loss: 0.0011 - val_loss: 1.1628e-04\n",
      "\n",
      "Epoch 00071: val_loss did not improve from 0.00012\n",
      "Epoch 72/150\n",
      "41/41 [==============================] - 0s 11ms/step - loss: 5.2858e-04 - val_loss: 1.3229e-04\n",
      "\n",
      "Epoch 00072: val_loss did not improve from 0.00012\n",
      "Epoch 73/150\n",
      "41/41 [==============================] - 0s 11ms/step - loss: 6.2009e-04 - val_loss: 1.1346e-04\n",
      "\n",
      "Epoch 00073: val_loss improved from 0.00012 to 0.00011, saving model to results/univariate_LSTM\\rnn.h5\n",
      "Epoch 74/150\n",
      "41/41 [==============================] - 0s 11ms/step - loss: 8.8391e-04 - val_loss: 1.4434e-04\n",
      "\n",
      "Epoch 00074: val_loss did not improve from 0.00011\n",
      "Epoch 75/150\n",
      "41/41 [==============================] - 0s 11ms/step - loss: 6.3380e-04 - val_loss: 3.0654e-04\n",
      "\n",
      "Epoch 00075: val_loss did not improve from 0.00011\n",
      "Epoch 76/150\n",
      "41/41 [==============================] - 0s 11ms/step - loss: 8.6441e-04 - val_loss: 1.1451e-04\n",
      "\n",
      "Epoch 00076: val_loss did not improve from 0.00011\n",
      "Epoch 77/150\n",
      "41/41 [==============================] - 0s 11ms/step - loss: 8.6882e-04 - val_loss: 1.1440e-04\n",
      "\n",
      "Epoch 00077: val_loss did not improve from 0.00011\n",
      "Epoch 78/150\n",
      "41/41 [==============================] - 0s 11ms/step - loss: 7.5084e-04 - val_loss: 1.1034e-04\n",
      "\n",
      "Epoch 00078: val_loss improved from 0.00011 to 0.00011, saving model to results/univariate_LSTM\\rnn.h5\n",
      "Epoch 79/150\n",
      "41/41 [==============================] - 0s 11ms/step - loss: 6.7651e-04 - val_loss: 2.3279e-04\n",
      "\n",
      "Epoch 00079: val_loss did not improve from 0.00011\n",
      "Epoch 80/150\n",
      "41/41 [==============================] - 0s 11ms/step - loss: 0.0011 - val_loss: 1.1838e-04\n",
      "\n",
      "Epoch 00080: val_loss did not improve from 0.00011\n",
      "Epoch 81/150\n",
      "41/41 [==============================] - 0s 11ms/step - loss: 7.4357e-04 - val_loss: 1.1160e-04\n",
      "\n",
      "Epoch 00081: val_loss did not improve from 0.00011\n",
      "Epoch 82/150\n",
      "41/41 [==============================] - 0s 11ms/step - loss: 6.0100e-04 - val_loss: 1.0992e-04\n",
      "\n",
      "Epoch 00082: val_loss improved from 0.00011 to 0.00011, saving model to results/univariate_LSTM\\rnn.h5\n",
      "Epoch 83/150\n",
      "41/41 [==============================] - 0s 11ms/step - loss: 7.8421e-04 - val_loss: 1.1590e-04\n",
      "\n",
      "Epoch 00083: val_loss did not improve from 0.00011\n",
      "Epoch 84/150\n",
      "41/41 [==============================] - 0s 11ms/step - loss: 5.8297e-04 - val_loss: 1.3185e-04\n",
      "\n",
      "Epoch 00084: val_loss did not improve from 0.00011\n",
      "Epoch 85/150\n",
      "41/41 [==============================] - 0s 11ms/step - loss: 8.4790e-04 - val_loss: 1.1960e-04\n",
      "\n",
      "Epoch 00085: val_loss did not improve from 0.00011\n",
      "Epoch 86/150\n",
      "41/41 [==============================] - 0s 11ms/step - loss: 7.9532e-04 - val_loss: 1.1398e-04\n",
      "\n",
      "Epoch 00086: val_loss did not improve from 0.00011\n",
      "Epoch 87/150\n",
      "41/41 [==============================] - 0s 11ms/step - loss: 5.2692e-04 - val_loss: 1.2246e-04\n",
      "\n",
      "Epoch 00087: val_loss did not improve from 0.00011\n",
      "Epoch 88/150\n",
      "41/41 [==============================] - 0s 11ms/step - loss: 6.9979e-04 - val_loss: 1.2158e-04\n",
      "\n",
      "Epoch 00088: val_loss did not improve from 0.00011\n",
      "Epoch 89/150\n",
      "41/41 [==============================] - 0s 11ms/step - loss: 6.9128e-04 - val_loss: 1.2398e-04\n",
      "\n",
      "Epoch 00089: val_loss did not improve from 0.00011\n",
      "Epoch 90/150\n",
      "41/41 [==============================] - 0s 11ms/step - loss: 5.5981e-04 - val_loss: 1.1120e-04\n",
      "\n",
      "Epoch 00090: val_loss did not improve from 0.00011\n",
      "Epoch 91/150\n"
     ]
    },
    {
     "name": "stdout",
     "output_type": "stream",
     "text": [
      "41/41 [==============================] - 0s 11ms/step - loss: 6.9933e-04 - val_loss: 1.0674e-04\n",
      "\n",
      "Epoch 00091: val_loss improved from 0.00011 to 0.00011, saving model to results/univariate_LSTM\\rnn.h5\n",
      "Epoch 92/150\n",
      "41/41 [==============================] - 0s 11ms/step - loss: 5.6654e-04 - val_loss: 1.1090e-04\n",
      "\n",
      "Epoch 00092: val_loss did not improve from 0.00011\n",
      "Epoch 93/150\n",
      "41/41 [==============================] - 0s 11ms/step - loss: 7.0586e-04 - val_loss: 1.1454e-04\n",
      "\n",
      "Epoch 00093: val_loss did not improve from 0.00011\n",
      "Epoch 94/150\n",
      "41/41 [==============================] - 0s 11ms/step - loss: 6.1922e-04 - val_loss: 1.7646e-04\n",
      "\n",
      "Epoch 00094: val_loss did not improve from 0.00011\n",
      "Epoch 95/150\n",
      "41/41 [==============================] - 0s 11ms/step - loss: 6.4278e-04 - val_loss: 1.0417e-04\n",
      "\n",
      "Epoch 00095: val_loss improved from 0.00011 to 0.00010, saving model to results/univariate_LSTM\\rnn.h5\n",
      "Epoch 96/150\n",
      "41/41 [==============================] - 0s 11ms/step - loss: 6.3699e-04 - val_loss: 1.7901e-04\n",
      "\n",
      "Epoch 00096: val_loss did not improve from 0.00010\n",
      "Epoch 97/150\n",
      "41/41 [==============================] - 0s 12ms/step - loss: 6.3127e-04 - val_loss: 1.4081e-04\n",
      "\n",
      "Epoch 00097: val_loss did not improve from 0.00010\n",
      "Epoch 98/150\n",
      "41/41 [==============================] - 0s 12ms/step - loss: 9.2686e-04 - val_loss: 1.3888e-04\n",
      "\n",
      "Epoch 00098: val_loss did not improve from 0.00010\n",
      "Epoch 99/150\n",
      "41/41 [==============================] - 1s 13ms/step - loss: 5.8044e-04 - val_loss: 1.2563e-04\n",
      "\n",
      "Epoch 00099: val_loss did not improve from 0.00010\n",
      "Epoch 100/150\n",
      "41/41 [==============================] - 0s 11ms/step - loss: 6.4472e-04 - val_loss: 1.3841e-04\n",
      "\n",
      "Epoch 00100: val_loss did not improve from 0.00010\n",
      "Epoch 101/150\n",
      "41/41 [==============================] - 0s 11ms/step - loss: 5.8594e-04 - val_loss: 1.5436e-04\n",
      "\n",
      "Epoch 00101: val_loss did not improve from 0.00010\n",
      "Epoch 102/150\n",
      "41/41 [==============================] - 0s 11ms/step - loss: 5.5418e-04 - val_loss: 1.1334e-04\n",
      "\n",
      "Epoch 00102: val_loss did not improve from 0.00010\n",
      "Epoch 103/150\n",
      "41/41 [==============================] - 0s 11ms/step - loss: 7.4422e-04 - val_loss: 1.1957e-04\n",
      "\n",
      "Epoch 00103: val_loss did not improve from 0.00010\n",
      "Epoch 104/150\n",
      "41/41 [==============================] - 0s 11ms/step - loss: 5.8283e-04 - val_loss: 1.0236e-04\n",
      "\n",
      "Epoch 00104: val_loss improved from 0.00010 to 0.00010, saving model to results/univariate_LSTM\\rnn.h5\n",
      "Epoch 105/150\n",
      "41/41 [==============================] - 0s 12ms/step - loss: 8.4656e-04 - val_loss: 1.0093e-04\n",
      "\n",
      "Epoch 00105: val_loss improved from 0.00010 to 0.00010, saving model to results/univariate_LSTM\\rnn.h5\n",
      "Epoch 106/150\n",
      "41/41 [==============================] - 0s 11ms/step - loss: 5.6036e-04 - val_loss: 1.2290e-04\n",
      "\n",
      "Epoch 00106: val_loss did not improve from 0.00010\n",
      "Epoch 107/150\n",
      "41/41 [==============================] - 0s 11ms/step - loss: 5.7767e-04 - val_loss: 1.1434e-04\n",
      "\n",
      "Epoch 00107: val_loss did not improve from 0.00010\n",
      "Epoch 108/150\n",
      "41/41 [==============================] - 0s 11ms/step - loss: 5.4863e-04 - val_loss: 1.0433e-04\n",
      "\n",
      "Epoch 00108: val_loss did not improve from 0.00010\n",
      "Epoch 109/150\n",
      "41/41 [==============================] - 0s 11ms/step - loss: 5.9619e-04 - val_loss: 1.0435e-04\n",
      "\n",
      "Epoch 00109: val_loss did not improve from 0.00010\n",
      "Epoch 110/150\n",
      "41/41 [==============================] - 0s 11ms/step - loss: 5.7416e-04 - val_loss: 1.3983e-04\n",
      "\n",
      "Epoch 00110: val_loss did not improve from 0.00010\n",
      "Epoch 111/150\n",
      "41/41 [==============================] - 0s 11ms/step - loss: 5.7443e-04 - val_loss: 1.0061e-04\n",
      "\n",
      "Epoch 00111: val_loss improved from 0.00010 to 0.00010, saving model to results/univariate_LSTM\\rnn.h5\n",
      "Epoch 112/150\n",
      "41/41 [==============================] - 0s 10ms/step - loss: 5.8267e-04 - val_loss: 1.0099e-04\n",
      "\n",
      "Epoch 00112: val_loss did not improve from 0.00010\n",
      "Epoch 113/150\n",
      "41/41 [==============================] - 0s 11ms/step - loss: 6.0805e-04 - val_loss: 9.9245e-05\n",
      "\n",
      "Epoch 00113: val_loss improved from 0.00010 to 0.00010, saving model to results/univariate_LSTM\\rnn.h5\n",
      "Epoch 114/150\n",
      "41/41 [==============================] - 0s 11ms/step - loss: 5.2980e-04 - val_loss: 2.7548e-04\n",
      "\n",
      "Epoch 00114: val_loss did not improve from 0.00010\n",
      "Epoch 115/150\n",
      "41/41 [==============================] - 0s 11ms/step - loss: 5.4469e-04 - val_loss: 9.8478e-05\n",
      "\n",
      "Epoch 00115: val_loss improved from 0.00010 to 0.00010, saving model to results/univariate_LSTM\\rnn.h5\n",
      "Epoch 116/150\n",
      "41/41 [==============================] - 0s 11ms/step - loss: 7.8297e-04 - val_loss: 1.4727e-04\n",
      "\n",
      "Epoch 00116: val_loss did not improve from 0.00010\n",
      "Epoch 117/150\n",
      "41/41 [==============================] - 0s 11ms/step - loss: 6.1893e-04 - val_loss: 1.4165e-04\n",
      "\n",
      "Epoch 00117: val_loss did not improve from 0.00010\n",
      "Epoch 118/150\n",
      "41/41 [==============================] - 0s 11ms/step - loss: 5.4617e-04 - val_loss: 1.2368e-04\n",
      "\n",
      "Epoch 00118: val_loss did not improve from 0.00010\n",
      "Epoch 119/150\n",
      "41/41 [==============================] - 0s 11ms/step - loss: 6.2568e-04 - val_loss: 9.8635e-05\n",
      "\n",
      "Epoch 00119: val_loss did not improve from 0.00010\n",
      "Epoch 120/150\n",
      "41/41 [==============================] - 0s 11ms/step - loss: 6.6651e-04 - val_loss: 9.7265e-05\n",
      "\n",
      "Epoch 00120: val_loss improved from 0.00010 to 0.00010, saving model to results/univariate_LSTM\\rnn.h5\n",
      "Epoch 121/150\n",
      "41/41 [==============================] - 0s 11ms/step - loss: 4.6118e-04 - val_loss: 1.2915e-04\n",
      "\n",
      "Epoch 00121: val_loss did not improve from 0.00010\n",
      "Epoch 122/150\n",
      "41/41 [==============================] - 0s 11ms/step - loss: 7.7269e-04 - val_loss: 1.0042e-04\n",
      "\n",
      "Epoch 00122: val_loss did not improve from 0.00010\n",
      "Epoch 123/150\n",
      "41/41 [==============================] - 0s 11ms/step - loss: 6.4622e-04 - val_loss: 9.8411e-05\n",
      "\n",
      "Epoch 00123: val_loss did not improve from 0.00010\n",
      "Epoch 124/150\n",
      "41/41 [==============================] - 0s 11ms/step - loss: 6.1010e-04 - val_loss: 1.3705e-04\n",
      "\n",
      "Epoch 00124: val_loss did not improve from 0.00010\n",
      "Epoch 125/150\n",
      "41/41 [==============================] - 0s 11ms/step - loss: 5.4501e-04 - val_loss: 1.3029e-04\n",
      "\n",
      "Epoch 00125: val_loss did not improve from 0.00010\n",
      "Epoch 126/150\n",
      "41/41 [==============================] - 0s 11ms/step - loss: 5.8689e-04 - val_loss: 1.1152e-04\n",
      "\n",
      "Epoch 00126: val_loss did not improve from 0.00010\n",
      "Epoch 127/150\n",
      "41/41 [==============================] - 0s 11ms/step - loss: 5.9636e-04 - val_loss: 1.1084e-04\n",
      "\n",
      "Epoch 00127: val_loss did not improve from 0.00010\n",
      "Epoch 128/150\n",
      "41/41 [==============================] - 0s 11ms/step - loss: 6.3228e-04 - val_loss: 1.1674e-04\n",
      "\n",
      "Epoch 00128: val_loss did not improve from 0.00010\n",
      "Epoch 129/150\n",
      "41/41 [==============================] - 0s 11ms/step - loss: 6.0377e-04 - val_loss: 1.0267e-04\n",
      "\n",
      "Epoch 00129: val_loss did not improve from 0.00010\n",
      "Epoch 130/150\n",
      "41/41 [==============================] - 0s 12ms/step - loss: 5.1766e-04 - val_loss: 9.5420e-05\n",
      "\n",
      "Epoch 00130: val_loss improved from 0.00010 to 0.00010, saving model to results/univariate_LSTM\\rnn.h5\n",
      "Epoch 131/150\n",
      "41/41 [==============================] - 0s 12ms/step - loss: 6.4630e-04 - val_loss: 1.0371e-04\n",
      "\n",
      "Epoch 00131: val_loss did not improve from 0.00010\n",
      "Epoch 132/150\n",
      "41/41 [==============================] - 0s 10ms/step - loss: 6.7773e-04 - val_loss: 1.8196e-04\n",
      "\n",
      "Epoch 00132: val_loss did not improve from 0.00010\n",
      "Epoch 133/150\n",
      "41/41 [==============================] - 0s 11ms/step - loss: 6.3415e-04 - val_loss: 1.0394e-04\n",
      "\n",
      "Epoch 00133: val_loss did not improve from 0.00010\n",
      "Epoch 134/150\n",
      "41/41 [==============================] - 0s 11ms/step - loss: 8.8119e-04 - val_loss: 1.0329e-04\n",
      "\n",
      "Epoch 00134: val_loss did not improve from 0.00010\n",
      "Epoch 135/150\n",
      "41/41 [==============================] - 0s 11ms/step - loss: 6.3583e-04 - val_loss: 1.1183e-04\n",
      "\n",
      "Epoch 00135: val_loss did not improve from 0.00010\n",
      "Epoch 136/150\n",
      "41/41 [==============================] - 0s 11ms/step - loss: 5.4796e-04 - val_loss: 9.7506e-05\n",
      "\n",
      "Epoch 00136: val_loss did not improve from 0.00010\n",
      "Epoch 137/150\n",
      "41/41 [==============================] - 0s 11ms/step - loss: 5.3229e-04 - val_loss: 9.4597e-05\n",
      "\n",
      "Epoch 00137: val_loss improved from 0.00010 to 0.00009, saving model to results/univariate_LSTM\\rnn.h5\n",
      "Epoch 138/150\n"
     ]
    },
    {
     "name": "stdout",
     "output_type": "stream",
     "text": [
      "41/41 [==============================] - 0s 11ms/step - loss: 6.2958e-04 - val_loss: 1.2871e-04\n",
      "\n",
      "Epoch 00138: val_loss did not improve from 0.00009\n",
      "Epoch 139/150\n",
      "41/41 [==============================] - 0s 11ms/step - loss: 5.3644e-04 - val_loss: 9.4618e-05\n",
      "\n",
      "Epoch 00139: val_loss did not improve from 0.00009\n",
      "Epoch 140/150\n",
      "41/41 [==============================] - 0s 11ms/step - loss: 6.6657e-04 - val_loss: 1.0726e-04\n",
      "\n",
      "Epoch 00140: val_loss did not improve from 0.00009\n",
      "Epoch 141/150\n",
      "41/41 [==============================] - 0s 11ms/step - loss: 6.4662e-04 - val_loss: 1.0079e-04\n",
      "\n",
      "Epoch 00141: val_loss did not improve from 0.00009\n",
      "Epoch 142/150\n",
      "41/41 [==============================] - 0s 11ms/step - loss: 6.3859e-04 - val_loss: 1.0045e-04\n",
      "\n",
      "Epoch 00142: val_loss did not improve from 0.00009\n",
      "Epoch 143/150\n",
      "41/41 [==============================] - 0s 11ms/step - loss: 6.9110e-04 - val_loss: 1.4419e-04\n",
      "\n",
      "Epoch 00143: val_loss did not improve from 0.00009\n",
      "Epoch 144/150\n",
      "41/41 [==============================] - 0s 11ms/step - loss: 7.7469e-04 - val_loss: 9.4628e-05\n",
      "\n",
      "Epoch 00144: val_loss did not improve from 0.00009\n",
      "Epoch 145/150\n",
      "41/41 [==============================] - 0s 11ms/step - loss: 5.7649e-04 - val_loss: 9.7207e-05\n",
      "\n",
      "Epoch 00145: val_loss did not improve from 0.00009\n",
      "Epoch 146/150\n",
      "41/41 [==============================] - 0s 11ms/step - loss: 7.0288e-04 - val_loss: 1.2411e-04\n",
      "\n",
      "Epoch 00146: val_loss did not improve from 0.00009\n",
      "Epoch 147/150\n",
      "41/41 [==============================] - 0s 11ms/step - loss: 5.7975e-04 - val_loss: 9.3053e-05\n",
      "\n",
      "Epoch 00147: val_loss improved from 0.00009 to 0.00009, saving model to results/univariate_LSTM\\rnn.h5\n",
      "Epoch 148/150\n",
      "41/41 [==============================] - 0s 11ms/step - loss: 8.6246e-04 - val_loss: 9.8411e-05\n",
      "\n",
      "Epoch 00148: val_loss did not improve from 0.00009\n",
      "Epoch 149/150\n",
      "41/41 [==============================] - 0s 11ms/step - loss: 5.9842e-04 - val_loss: 2.0573e-04\n",
      "\n",
      "Epoch 00149: val_loss did not improve from 0.00009\n",
      "Epoch 150/150\n",
      "41/41 [==============================] - 0s 11ms/step - loss: 7.2605e-04 - val_loss: 9.3618e-05\n",
      "\n",
      "Epoch 00150: val_loss did not improve from 0.00009\n"
     ]
    }
   ],
   "source": [
    "lstm_training_price = rnn_price.fit(X_train,y_train, epochs = 150, batch_size = 20, shuffle = True, validation_data=(X_test,y_test),callbacks = [early_stopping,checkpointer],verbose =1)"
   ]
  },
  {
   "cell_type": "markdown",
   "metadata": {},
   "source": [
    "# Evaluate model performance"
   ]
  },
  {
   "cell_type": "code",
   "execution_count": 23,
   "metadata": {},
   "outputs": [
    {
     "data": {
      "image/png": "[encoded data removed]",
      "text/plain": [
       "<Figure size 1296x648 with 1 Axes>"
      ]
     },
     "metadata": {},
     "output_type": "display_data"
    }
   ],
   "source": [
    "fig, ax = plt.subplots(figsize=(18, 9))\n",
    "\n",
    "loss_history = pd.DataFrame(lstm_training_price.history).pow(.5)\n",
    "loss_history.index += 1\n",
    "best_rmse = loss_history.val_loss.min()\n",
    "\n",
    "best_epoch = loss_history.val_loss.idxmin()\n",
    "\n",
    "title = f'5-Epoch Rolling RMSE (Best Validation RMSE: {best_rmse:.4%})'\n",
    "loss_history.columns=['Training RMSE', 'Validation RMSE']\n",
    "loss_history.rolling(5).mean().plot(logy=True, lw=2, title=title, ax=ax)\n",
    "\n",
    "ax.axvline(best_epoch, ls='--', lw=1, c='k')\n",
    "\n",
    "sns.despine()\n",
    "fig.tight_layout()\n",
    "fig.savefig(results_path / 'rnn_cc_error', dpi=300);"
   ]
  },
  {
   "cell_type": "code",
   "execution_count": 24,
   "metadata": {},
   "outputs": [
    {
     "name": "stdout",
     "output_type": "stream",
     "text": [
      "Train RMSE: 0.0248 | Test RMSE: 0.0097\n"
     ]
    }
   ],
   "source": [
    "train_rmse_scaled = np.sqrt(rnn_price.evaluate(X_train, y_train, verbose=0))\n",
    "test_rmse_scaled = np.sqrt(rnn_price.evaluate(X_test, y_test, verbose=0))\n",
    "print(f'Train RMSE: {train_rmse_scaled:.4f} | Test RMSE: {test_rmse_scaled:.4f}')"
   ]
  },
  {
   "cell_type": "code",
   "execution_count": 25,
   "metadata": {},
   "outputs": [],
   "source": [
    "train_predict_scaled = rnn_price.predict(X_train)\n",
    "test_predict_scaled = rnn_price.predict(X_test)"
   ]
  },
  {
   "cell_type": "code",
   "execution_count": 26,
   "metadata": {},
   "outputs": [
    {
     "name": "stdout",
     "output_type": "stream",
     "text": [
      "Train IC: 0.9967 | Test IC: 0.9872\n"
     ]
    }
   ],
   "source": [
    "train_ic = spearmanr(y_train, train_predict_scaled)[0]\n",
    "test_ic = spearmanr(y_test, test_predict_scaled)[0]\n",
    "print(f'Train IC: {train_ic:.4f} | Test IC: {test_ic:.4f}')"
   ]
  },
  {
   "cell_type": "markdown",
   "metadata": {},
   "source": [
    "# Rescale predictions"
   ]
  },
  {
   "cell_type": "code",
   "execution_count": 27,
   "metadata": {},
   "outputs": [],
   "source": [
    "train_predict = pd.Series(scaler.inverse_transform(train_predict_scaled).squeeze(), index=y_train.index)\n",
    "test_predict =  pd.Series(scaler.inverse_transform(test_predict_scaled) .squeeze(), index=y_test.index)"
   ]
  },
  {
   "cell_type": "code",
   "execution_count": 28,
   "metadata": {},
   "outputs": [],
   "source": [
    "y_train_rescaled = scaler.inverse_transform(y_train.to_frame()).squeeze()\n",
    "y_test_rescaled = scaler.inverse_transform(y_test.to_frame()).squeeze()"
   ]
  },
  {
   "cell_type": "code",
   "execution_count": 29,
   "metadata": {},
   "outputs": [
    {
     "name": "stdout",
     "output_type": "stream",
     "text": [
      "Train RMSE: 0.63 | Test RMSE: 0.25\n"
     ]
    }
   ],
   "source": [
    "train_rmse = np.sqrt(mean_squared_error(train_predict, y_train_rescaled))\n",
    "test_rmse = np.sqrt(mean_squared_error(test_predict, y_test_rescaled))\n",
    "print(f'Train RMSE: {train_rmse:.2f} | Test RMSE: {test_rmse:.2f}')"
   ]
  },
  {
   "cell_type": "code",
   "execution_count": 30,
   "metadata": {
    "scrolled": true
   },
   "outputs": [],
   "source": [
    "dfclose['Train Predictions'] = train_predict\n",
    "dfclose['Test Predictions'] = test_predict\n",
    "dfclose = dfclose.join(train_predict.to_frame('predictions').assign(data='Train')\n",
    "                        .append(test_predict.to_frame('predictions').assign(data='Test')))"
   ]
  },
  {
   "cell_type": "code",
   "execution_count": 31,
   "metadata": {},
   "outputs": [
    {
     "data": {
      "text/html": [
       "<div>\n",
       "<style scoped>\n",
       "    .dataframe tbody tr th:only-of-type {\n",
       "        vertical-align: middle;\n",
       "    }\n",
       "\n",
       "    .dataframe tbody tr th {\n",
       "        vertical-align: top;\n",
       "    }\n",
       "\n",
       "    .dataframe thead th {\n",
       "        text-align: right;\n",
       "    }\n",
       "</style>\n",
       "<table border=\"1\" class=\"dataframe\">\n",
       "  <thead>\n",
       "    <tr style=\"text-align: right;\">\n",
       "      <th></th>\n",
       "      <th>close</th>\n",
       "      <th>Train Predictions</th>\n",
       "      <th>Test Predictions</th>\n",
       "      <th>predictions</th>\n",
       "      <th>data</th>\n",
       "    </tr>\n",
       "    <tr>\n",
       "      <th>date</th>\n",
       "      <th></th>\n",
       "      <th></th>\n",
       "      <th></th>\n",
       "      <th></th>\n",
       "      <th></th>\n",
       "    </tr>\n",
       "  </thead>\n",
       "  <tbody>\n",
       "    <tr>\n",
       "      <th>2017-07-13</th>\n",
       "      <td>0.582480</td>\n",
       "      <td>NaN</td>\n",
       "      <td>NaN</td>\n",
       "      <td>NaN</td>\n",
       "      <td>NaN</td>\n",
       "    </tr>\n",
       "    <tr>\n",
       "      <th>2017-07-14</th>\n",
       "      <td>0.433351</td>\n",
       "      <td>NaN</td>\n",
       "      <td>NaN</td>\n",
       "      <td>NaN</td>\n",
       "      <td>NaN</td>\n",
       "    </tr>\n",
       "    <tr>\n",
       "      <th>2017-07-15</th>\n",
       "      <td>0.384906</td>\n",
       "      <td>NaN</td>\n",
       "      <td>NaN</td>\n",
       "      <td>NaN</td>\n",
       "      <td>NaN</td>\n",
       "    </tr>\n",
       "    <tr>\n",
       "      <th>2017-07-16</th>\n",
       "      <td>0.582786</td>\n",
       "      <td>NaN</td>\n",
       "      <td>NaN</td>\n",
       "      <td>NaN</td>\n",
       "      <td>NaN</td>\n",
       "    </tr>\n",
       "    <tr>\n",
       "      <th>2017-07-17</th>\n",
       "      <td>0.759819</td>\n",
       "      <td>NaN</td>\n",
       "      <td>NaN</td>\n",
       "      <td>NaN</td>\n",
       "      <td>NaN</td>\n",
       "    </tr>\n",
       "    <tr>\n",
       "      <th>...</th>\n",
       "      <td>...</td>\n",
       "      <td>...</td>\n",
       "      <td>...</td>\n",
       "      <td>...</td>\n",
       "      <td>...</td>\n",
       "    </tr>\n",
       "    <tr>\n",
       "      <th>2020-12-26</th>\n",
       "      <td>2.529716</td>\n",
       "      <td>NaN</td>\n",
       "      <td>2.515153</td>\n",
       "      <td>2.515153</td>\n",
       "      <td>Test</td>\n",
       "    </tr>\n",
       "    <tr>\n",
       "      <th>2020-12-27</th>\n",
       "      <td>2.604007</td>\n",
       "      <td>NaN</td>\n",
       "      <td>2.495146</td>\n",
       "      <td>2.495146</td>\n",
       "      <td>Test</td>\n",
       "    </tr>\n",
       "    <tr>\n",
       "      <th>2020-12-28</th>\n",
       "      <td>2.650469</td>\n",
       "      <td>NaN</td>\n",
       "      <td>2.534472</td>\n",
       "      <td>2.534472</td>\n",
       "      <td>Test</td>\n",
       "    </tr>\n",
       "    <tr>\n",
       "      <th>2020-12-29</th>\n",
       "      <td>2.532067</td>\n",
       "      <td>NaN</td>\n",
       "      <td>2.583673</td>\n",
       "      <td>2.583673</td>\n",
       "      <td>Test</td>\n",
       "    </tr>\n",
       "    <tr>\n",
       "      <th>2020-12-30</th>\n",
       "      <td>2.433553</td>\n",
       "      <td>NaN</td>\n",
       "      <td>2.539939</td>\n",
       "      <td>2.539939</td>\n",
       "      <td>Test</td>\n",
       "    </tr>\n",
       "  </tbody>\n",
       "</table>\n",
       "<p>1259 rows × 5 columns</p>\n",
       "</div>"
      ],
      "text/plain": [
       "               close  Train Predictions  Test Predictions  predictions  data\n",
       "date                                                                        \n",
       "2017-07-13  0.582480                NaN               NaN          NaN   NaN\n",
       "2017-07-14  0.433351                NaN               NaN          NaN   NaN\n",
       "2017-07-15  0.384906                NaN               NaN          NaN   NaN\n",
       "2017-07-16  0.582786                NaN               NaN          NaN   NaN\n",
       "2017-07-17  0.759819                NaN               NaN          NaN   NaN\n",
       "...              ...                ...               ...          ...   ...\n",
       "2020-12-26  2.529716                NaN          2.515153     2.515153  Test\n",
       "2020-12-27  2.604007                NaN          2.495146     2.495146  Test\n",
       "2020-12-28  2.650469                NaN          2.534472     2.534472  Test\n",
       "2020-12-29  2.532067                NaN          2.583673     2.583673  Test\n",
       "2020-12-30  2.433553                NaN          2.539939     2.539939  Test\n",
       "\n",
       "[1259 rows x 5 columns]"
      ]
     },
     "execution_count": 31,
     "metadata": {},
     "output_type": "execute_result"
    }
   ],
   "source": [
    "dfclose"
   ]
  },
  {
   "cell_type": "code",
   "execution_count": 32,
   "metadata": {},
   "outputs": [
    {
     "data": {
      "image/png": "[encoded data removed]",
      "text/plain": [
       "<Figure size 1296x648 with 4 Axes>"
      ]
     },
     "metadata": {},
     "output_type": "display_data"
    }
   ],
   "source": [
    "fig=plt.figure(figsize=(18,9))\n",
    "ax1 = plt.subplot(221)\n",
    "\n",
    "dfclose.loc['2017':, 'close'].plot(lw=4, ax=ax1, c='k')\n",
    "dfclose.loc['2017':, ['Test Predictions', 'Train Predictions']].plot(lw=1, ax=ax1, ls='--')\n",
    "ax1.set_title('In- and Out-of-sample Predictions')\n",
    "\n",
    "\n",
    "with sns.axes_style(\"white\"):\n",
    "    ax3 = plt.subplot(223)\n",
    "    sns.scatterplot(x='close', y='predictions', data=dfclose, hue='data', ax=ax3)\n",
    "    ax3.text(x=.02, y=.95, s=f'Test IC ={test_ic:.2%}', transform=ax3.transAxes)\n",
    "    ax3.text(x=.02, y=.87, s=f'Train IC={train_ic:.2%}', transform=ax3.transAxes)\n",
    "    ax3.set_title('Correlation')\n",
    "    ax3.legend(loc='lower right')\n",
    "    \n",
    "    ax2 = plt.subplot(222)\n",
    "    ax4 = plt.subplot(224, sharex = ax2, sharey=ax2)\n",
    "    sns.distplot(train_predict.squeeze()- y_train_rescaled, ax=ax2)\n",
    "    ax2.set_title('Train Error')\n",
    "    ax2.text(x=.03, y=.92, s=f'Train RMSE ={train_rmse:.4f}', transform=ax2.transAxes)\n",
    "    sns.distplot(test_predict.squeeze()-y_test_rescaled, ax=ax4)\n",
    "    ax4.set_title('Test Error')\n",
    "    ax4.text(x=.03, y=.92, s=f'Test RMSE ={test_rmse:.4f}', transform=ax4.transAxes)\n",
    "\n",
    "sns.despine()\n",
    "fig.tight_layout()\n",
    "# fig.savefig(results_path / 'rnn_cc_regression', dpi=300);"
   ]
  },
  {
   "cell_type": "code",
   "execution_count": 33,
   "metadata": {},
   "outputs": [
    {
     "name": "stdout",
     "output_type": "stream",
     "text": [
      "Test accuracy: 0.70\n"
     ]
    }
   ],
   "source": [
    "model_test = dfclose.copy()\n",
    "ar = np.log(model_test['close']/model_test['close'].shift()).fillna(0)\n",
    "pr = np.log(model_test['predictions'] / model_test['close'].shift()).fillna(0)\n",
    "tmp = ar*pr[-30:]\n",
    "accuracy = len(tmp[tmp>0])/30\n",
    "print(f'Test accuracy: {accuracy:.2f}')"
   ]
  },
  {
   "cell_type": "code",
   "execution_count": null,
   "metadata": {},
   "outputs": [],
   "source": []
  },
  {
   "cell_type": "code",
   "execution_count": null,
   "metadata": {},
   "outputs": [],
   "source": []
  },
  {
   "cell_type": "markdown",
   "metadata": {},
   "source": [
    "# Predicting Future Returns:"
   ]
  },
  {
   "cell_type": "markdown",
   "metadata": {},
   "source": [
    "# Preprocessing"
   ]
  },
  {
   "cell_type": "code",
   "execution_count": 34,
   "metadata": {},
   "outputs": [
    {
     "data": {
      "text/plain": [
       "count    1258.000000\n",
       "mean        0.505543\n",
       "std         0.070120\n",
       "min         0.000000\n",
       "25%         0.474584\n",
       "50%         0.502778\n",
       "75%         0.534419\n",
       "max         1.000000\n",
       "dtype: float64"
      ]
     },
     "execution_count": 34,
     "metadata": {},
     "output_type": "execute_result"
    }
   ],
   "source": [
    "scaler = MinMaxScaler()\n",
    "dfreturn_scaled = pd.Series(scaler.fit_transform(dfreturn).squeeze(),index =dfreturn.index)\n",
    "dfreturn_scaled.describe()"
   ]
  },
  {
   "cell_type": "markdown",
   "metadata": {},
   "source": [
    "# Generating recurrent sequences from the time series"
   ]
  },
  {
   "cell_type": "code",
   "execution_count": 35,
   "metadata": {},
   "outputs": [],
   "source": [
    "def create_univariate_rnn_data(data, window_size):\n",
    "    n = len(data)\n",
    "    y = data[window_size:]\n",
    "    data = data.values.reshape(-1, 1) # make 2D\n",
    "    X = np.hstack(tuple([data[i: n-j, :] for i, j in enumerate(range(window_size, 0, -1))]))\n",
    "    return pd.DataFrame(X, index=y.index), y"
   ]
  },
  {
   "cell_type": "code",
   "execution_count": 36,
   "metadata": {},
   "outputs": [],
   "source": [
    "window_size = 90"
   ]
  },
  {
   "cell_type": "code",
   "execution_count": 37,
   "metadata": {},
   "outputs": [],
   "source": [
    "X,y = create_univariate_rnn_data(dfreturn_scaled, window_size)"
   ]
  },
  {
   "cell_type": "code",
   "execution_count": 38,
   "metadata": {},
   "outputs": [
    {
     "data": {
      "text/plain": [
       "(1168, 90)"
      ]
     },
     "execution_count": 38,
     "metadata": {},
     "output_type": "execute_result"
    }
   ],
   "source": [
    "X.shape"
   ]
  },
  {
   "cell_type": "markdown",
   "metadata": {},
   "source": [
    "# Train-test split"
   ]
  },
  {
   "cell_type": "code",
   "execution_count": 39,
   "metadata": {},
   "outputs": [
    {
     "data": {
      "image/png": "[encoded data removed]",
      "text/plain": [
       "<Figure size 1008x288 with 1 Axes>"
      ]
     },
     "metadata": {},
     "output_type": "display_data"
    }
   ],
   "source": [
    "ax = dfreturn_scaled.plot(lw=2, figsize=(14, 4), rot=0)\n",
    "ax.set_xlabel('')\n",
    "sns.despine()"
   ]
  },
  {
   "cell_type": "code",
   "execution_count": 40,
   "metadata": {},
   "outputs": [],
   "source": [
    "X_train = X[:'2020'].values.reshape(-1, window_size, 1)\n",
    "y_train = y[:'2020']\n",
    "\n",
    "# keep the last year for testing\n",
    "X_test = X['2020':].values.reshape(-1, window_size, 1)\n",
    "y_test = y['2020':]"
   ]
  },
  {
   "cell_type": "code",
   "execution_count": 41,
   "metadata": {},
   "outputs": [],
   "source": [
    "n_obs, window_size, n_features = X_train.shape"
   ]
  },
  {
   "cell_type": "code",
   "execution_count": 42,
   "metadata": {},
   "outputs": [
    {
     "data": {
      "text/plain": [
       "(808,)"
      ]
     },
     "execution_count": 42,
     "metadata": {},
     "output_type": "execute_result"
    }
   ],
   "source": [
    "y_train.shape"
   ]
  },
  {
   "cell_type": "markdown",
   "metadata": {},
   "source": [
    "# Define Model Architechture"
   ]
  },
  {
   "cell_type": "code",
   "execution_count": 43,
   "metadata": {},
   "outputs": [],
   "source": [
    "rnn_return = Sequential([\n",
    "    LSTM(units = 10, input_shape = (window_size,n_features), name='LSTM'),\n",
    "    Dense(1, name='Output')\n",
    "])"
   ]
  },
  {
   "cell_type": "code",
   "execution_count": 44,
   "metadata": {},
   "outputs": [
    {
     "name": "stdout",
     "output_type": "stream",
     "text": [
      "Model: \"sequential_1\"\n",
      "_________________________________________________________________\n",
      "Layer (type)                 Output Shape              Param #   \n",
      "=================================================================\n",
      "LSTM (LSTM)                  (None, 10)                480       \n",
      "_________________________________________________________________\n",
      "Output (Dense)               (None, 1)                 11        \n",
      "=================================================================\n",
      "Total params: 491\n",
      "Trainable params: 491\n",
      "Non-trainable params: 0\n",
      "_________________________________________________________________\n"
     ]
    }
   ],
   "source": [
    "rnn_return.summary()"
   ]
  },
  {
   "cell_type": "markdown",
   "metadata": {},
   "source": [
    "# Train the Model"
   ]
  },
  {
   "cell_type": "code",
   "execution_count": 45,
   "metadata": {},
   "outputs": [],
   "source": [
    "rnn_return.compile(loss = 'mean_squared_error', optimizer = optimizer)"
   ]
  },
  {
   "cell_type": "code",
   "execution_count": 46,
   "metadata": {
    "scrolled": true
   },
   "outputs": [
    {
     "name": "stdout",
     "output_type": "stream",
     "text": [
      "Epoch 1/150\n",
      "41/41 [==============================] - 3s 20ms/step - loss: 0.5035 - val_loss: 0.0798\n",
      "\n",
      "Epoch 00001: val_loss did not improve from 0.00009\n",
      "Epoch 2/150\n",
      "41/41 [==============================] - 0s 11ms/step - loss: 0.0301 - val_loss: 0.0050\n",
      "\n",
      "Epoch 00002: val_loss did not improve from 0.00009\n",
      "Epoch 3/150\n",
      "41/41 [==============================] - 0s 11ms/step - loss: 0.0034 - val_loss: 0.0058\n",
      "\n",
      "Epoch 00003: val_loss did not improve from 0.00009\n",
      "Epoch 4/150\n",
      "41/41 [==============================] - 0s 11ms/step - loss: 0.0035 - val_loss: 0.0052\n",
      "\n",
      "Epoch 00004: val_loss did not improve from 0.00009\n",
      "Epoch 5/150\n",
      "41/41 [==============================] - 0s 11ms/step - loss: 0.0030 - val_loss: 0.0057\n",
      "\n",
      "Epoch 00005: val_loss did not improve from 0.00009\n",
      "Epoch 6/150\n",
      "41/41 [==============================] - 0s 11ms/step - loss: 0.0040 - val_loss: 0.0054\n",
      "\n",
      "Epoch 00006: val_loss did not improve from 0.00009\n",
      "Epoch 7/150\n",
      "41/41 [==============================] - 0s 11ms/step - loss: 0.0036 - val_loss: 0.0063\n",
      "\n",
      "Epoch 00007: val_loss did not improve from 0.00009\n",
      "Epoch 8/150\n",
      "41/41 [==============================] - 0s 11ms/step - loss: 0.0033 - val_loss: 0.0050\n",
      "\n",
      "Epoch 00008: val_loss did not improve from 0.00009\n",
      "Epoch 9/150\n",
      "41/41 [==============================] - 0s 11ms/step - loss: 0.0037 - val_loss: 0.0050\n",
      "\n",
      "Epoch 00009: val_loss did not improve from 0.00009\n",
      "Epoch 10/150\n",
      "41/41 [==============================] - 0s 11ms/step - loss: 0.0032 - val_loss: 0.0052\n",
      "\n",
      "Epoch 00010: val_loss did not improve from 0.00009\n",
      "Epoch 11/150\n",
      "41/41 [==============================] - 0s 11ms/step - loss: 0.0036 - val_loss: 0.0061\n",
      "\n",
      "Epoch 00011: val_loss did not improve from 0.00009\n",
      "Epoch 12/150\n",
      "41/41 [==============================] - 0s 11ms/step - loss: 0.0031 - val_loss: 0.0057\n",
      "\n",
      "Epoch 00012: val_loss did not improve from 0.00009\n",
      "Epoch 13/150\n",
      "41/41 [==============================] - 0s 11ms/step - loss: 0.0040 - val_loss: 0.0052\n",
      "\n",
      "Epoch 00013: val_loss did not improve from 0.00009\n",
      "Epoch 14/150\n",
      "41/41 [==============================] - 0s 11ms/step - loss: 0.0035 - val_loss: 0.0050\n",
      "\n",
      "Epoch 00014: val_loss did not improve from 0.00009\n",
      "Epoch 15/150\n",
      "41/41 [==============================] - 0s 11ms/step - loss: 0.0035 - val_loss: 0.0051\n",
      "\n",
      "Epoch 00015: val_loss did not improve from 0.00009\n",
      "Epoch 16/150\n",
      "41/41 [==============================] - 0s 11ms/step - loss: 0.0035 - val_loss: 0.0062\n",
      "\n",
      "Epoch 00016: val_loss did not improve from 0.00009\n",
      "Epoch 17/150\n",
      "41/41 [==============================] - 0s 11ms/step - loss: 0.0033 - val_loss: 0.0050\n",
      "\n",
      "Epoch 00017: val_loss did not improve from 0.00009\n",
      "Epoch 18/150\n",
      "41/41 [==============================] - 0s 11ms/step - loss: 0.0036 - val_loss: 0.0051\n",
      "\n",
      "Epoch 00018: val_loss did not improve from 0.00009\n",
      "Epoch 19/150\n",
      "41/41 [==============================] - 0s 11ms/step - loss: 0.0030 - val_loss: 0.0050\n",
      "\n",
      "Epoch 00019: val_loss did not improve from 0.00009\n",
      "Epoch 20/150\n",
      "41/41 [==============================] - 0s 11ms/step - loss: 0.0030 - val_loss: 0.0059\n",
      "\n",
      "Epoch 00020: val_loss did not improve from 0.00009\n",
      "Epoch 21/150\n",
      "41/41 [==============================] - 0s 11ms/step - loss: 0.0040 - val_loss: 0.0052\n",
      "\n",
      "Epoch 00021: val_loss did not improve from 0.00009\n",
      "Epoch 22/150\n",
      "41/41 [==============================] - 0s 11ms/step - loss: 0.0035 - val_loss: 0.0051\n",
      "\n",
      "Epoch 00022: val_loss did not improve from 0.00009\n",
      "Epoch 23/150\n",
      "41/41 [==============================] - 0s 11ms/step - loss: 0.0032 - val_loss: 0.0053\n",
      "\n",
      "Epoch 00023: val_loss did not improve from 0.00009\n",
      "Epoch 24/150\n",
      "41/41 [==============================] - 0s 11ms/step - loss: 0.0035 - val_loss: 0.0054\n",
      "\n",
      "Epoch 00024: val_loss did not improve from 0.00009\n",
      "Epoch 25/150\n",
      "41/41 [==============================] - 0s 11ms/step - loss: 0.0032 - val_loss: 0.0050\n",
      "\n",
      "Epoch 00025: val_loss did not improve from 0.00009\n",
      "Epoch 26/150\n",
      "41/41 [==============================] - 0s 11ms/step - loss: 0.0031 - val_loss: 0.0052\n",
      "\n",
      "Epoch 00026: val_loss did not improve from 0.00009\n",
      "Epoch 27/150\n",
      "41/41 [==============================] - 0s 11ms/step - loss: 0.0030 - val_loss: 0.0051\n",
      "\n",
      "Epoch 00027: val_loss did not improve from 0.00009\n",
      "Epoch 28/150\n",
      "41/41 [==============================] - 0s 11ms/step - loss: 0.0035 - val_loss: 0.0052\n",
      "\n",
      "Epoch 00028: val_loss did not improve from 0.00009\n",
      "Epoch 29/150\n",
      "41/41 [==============================] - 0s 11ms/step - loss: 0.0033 - val_loss: 0.0050\n",
      "\n",
      "Epoch 00029: val_loss did not improve from 0.00009\n",
      "Epoch 30/150\n",
      "41/41 [==============================] - 0s 11ms/step - loss: 0.0035 - val_loss: 0.0060\n",
      "\n",
      "Epoch 00030: val_loss did not improve from 0.00009\n",
      "Epoch 31/150\n",
      "41/41 [==============================] - 0s 11ms/step - loss: 0.0034 - val_loss: 0.0056\n",
      "\n",
      "Epoch 00031: val_loss did not improve from 0.00009\n",
      "Epoch 32/150\n",
      "41/41 [==============================] - 0s 11ms/step - loss: 0.0033 - val_loss: 0.0053\n",
      "\n",
      "Epoch 00032: val_loss did not improve from 0.00009\n",
      "Epoch 33/150\n",
      "41/41 [==============================] - 0s 11ms/step - loss: 0.0034 - val_loss: 0.0050\n",
      "\n",
      "Epoch 00033: val_loss did not improve from 0.00009\n",
      "Epoch 34/150\n",
      "41/41 [==============================] - 0s 11ms/step - loss: 0.0032 - val_loss: 0.0050\n",
      "\n",
      "Epoch 00034: val_loss did not improve from 0.00009\n",
      "Epoch 35/150\n",
      "41/41 [==============================] - 0s 11ms/step - loss: 0.0036 - val_loss: 0.0050\n",
      "\n",
      "Epoch 00035: val_loss did not improve from 0.00009\n",
      "Epoch 36/150\n",
      "41/41 [==============================] - 0s 11ms/step - loss: 0.0030 - val_loss: 0.0056\n",
      "\n",
      "Epoch 00036: val_loss did not improve from 0.00009\n",
      "Epoch 37/150\n",
      "41/41 [==============================] - 0s 11ms/step - loss: 0.0032 - val_loss: 0.0053\n",
      "\n",
      "Epoch 00037: val_loss did not improve from 0.00009\n",
      "Epoch 38/150\n",
      "41/41 [==============================] - 0s 11ms/step - loss: 0.0036 - val_loss: 0.0051\n",
      "\n",
      "Epoch 00038: val_loss did not improve from 0.00009\n",
      "Epoch 39/150\n",
      "41/41 [==============================] - 0s 11ms/step - loss: 0.0034 - val_loss: 0.0049\n",
      "\n",
      "Epoch 00039: val_loss did not improve from 0.00009\n",
      "Epoch 40/150\n",
      "41/41 [==============================] - 0s 11ms/step - loss: 0.0033 - val_loss: 0.0054\n",
      "\n",
      "Epoch 00040: val_loss did not improve from 0.00009\n",
      "Epoch 41/150\n",
      "41/41 [==============================] - 0s 11ms/step - loss: 0.0032 - val_loss: 0.0056\n",
      "\n",
      "Epoch 00041: val_loss did not improve from 0.00009\n",
      "Epoch 42/150\n",
      "41/41 [==============================] - 0s 11ms/step - loss: 0.0034 - val_loss: 0.0050\n",
      "\n",
      "Epoch 00042: val_loss did not improve from 0.00009\n",
      "Epoch 43/150\n",
      "41/41 [==============================] - 0s 11ms/step - loss: 0.0036 - val_loss: 0.0053\n",
      "\n",
      "Epoch 00043: val_loss did not improve from 0.00009\n",
      "Epoch 44/150\n",
      "41/41 [==============================] - 0s 11ms/step - loss: 0.0035 - val_loss: 0.0050\n",
      "\n",
      "Epoch 00044: val_loss did not improve from 0.00009\n",
      "Epoch 45/150\n",
      "41/41 [==============================] - 0s 11ms/step - loss: 0.0035 - val_loss: 0.0052\n",
      "\n",
      "Epoch 00045: val_loss did not improve from 0.00009\n",
      "Epoch 46/150\n",
      "41/41 [==============================] - 0s 11ms/step - loss: 0.0033 - val_loss: 0.0051\n",
      "\n",
      "Epoch 00046: val_loss did not improve from 0.00009\n",
      "Epoch 47/150\n",
      "41/41 [==============================] - 0s 11ms/step - loss: 0.0036 - val_loss: 0.0051\n",
      "\n",
      "Epoch 00047: val_loss did not improve from 0.00009\n",
      "Epoch 48/150\n",
      "41/41 [==============================] - 0s 11ms/step - loss: 0.0034 - val_loss: 0.0051\n",
      "\n",
      "Epoch 00048: val_loss did not improve from 0.00009\n",
      "Epoch 49/150\n",
      "41/41 [==============================] - 0s 11ms/step - loss: 0.0034 - val_loss: 0.0049\n",
      "\n",
      "Epoch 00049: val_loss did not improve from 0.00009\n",
      "Epoch 50/150\n",
      "41/41 [==============================] - 0s 11ms/step - loss: 0.0032 - val_loss: 0.0049\n",
      "\n",
      "Epoch 00050: val_loss did not improve from 0.00009\n",
      "Epoch 51/150\n",
      "41/41 [==============================] - 0s 11ms/step - loss: 0.0034 - val_loss: 0.0050\n",
      "\n",
      "Epoch 00051: val_loss did not improve from 0.00009\n",
      "Epoch 52/150\n",
      "41/41 [==============================] - 0s 11ms/step - loss: 0.0029 - val_loss: 0.0050\n",
      "\n",
      "Epoch 00052: val_loss did not improve from 0.00009\n",
      "Epoch 53/150\n",
      "41/41 [==============================] - 0s 11ms/step - loss: 0.0032 - val_loss: 0.0053\n",
      "\n",
      "Epoch 00053: val_loss did not improve from 0.00009\n",
      "Epoch 54/150\n",
      "41/41 [==============================] - 0s 11ms/step - loss: 0.0034 - val_loss: 0.0049\n"
     ]
    },
    {
     "name": "stdout",
     "output_type": "stream",
     "text": [
      "\n",
      "Epoch 00054: val_loss did not improve from 0.00009\n",
      "Epoch 55/150\n",
      "41/41 [==============================] - 0s 11ms/step - loss: 0.0031 - val_loss: 0.0055\n",
      "\n",
      "Epoch 00055: val_loss did not improve from 0.00009\n",
      "Epoch 56/150\n",
      "41/41 [==============================] - 0s 11ms/step - loss: 0.0032 - val_loss: 0.0050\n",
      "\n",
      "Epoch 00056: val_loss did not improve from 0.00009\n",
      "Epoch 57/150\n",
      "41/41 [==============================] - 0s 11ms/step - loss: 0.0033 - val_loss: 0.0056\n",
      "\n",
      "Epoch 00057: val_loss did not improve from 0.00009\n",
      "Epoch 58/150\n",
      "41/41 [==============================] - 0s 11ms/step - loss: 0.0035 - val_loss: 0.0050\n",
      "\n",
      "Epoch 00058: val_loss did not improve from 0.00009\n",
      "Epoch 59/150\n",
      "41/41 [==============================] - 0s 11ms/step - loss: 0.0032 - val_loss: 0.0053\n",
      "\n",
      "Epoch 00059: val_loss did not improve from 0.00009\n",
      "Epoch 60/150\n",
      "41/41 [==============================] - 0s 11ms/step - loss: 0.0035 - val_loss: 0.0049\n",
      "\n",
      "Epoch 00060: val_loss did not improve from 0.00009\n",
      "Epoch 61/150\n",
      "41/41 [==============================] - 0s 11ms/step - loss: 0.0035 - val_loss: 0.0051\n",
      "\n",
      "Epoch 00061: val_loss did not improve from 0.00009\n",
      "Epoch 62/150\n",
      "41/41 [==============================] - 0s 11ms/step - loss: 0.0033 - val_loss: 0.0060\n",
      "\n",
      "Epoch 00062: val_loss did not improve from 0.00009\n",
      "Epoch 63/150\n",
      "41/41 [==============================] - 0s 11ms/step - loss: 0.0033 - val_loss: 0.0049\n",
      "\n",
      "Epoch 00063: val_loss did not improve from 0.00009\n",
      "Epoch 64/150\n",
      "41/41 [==============================] - 0s 11ms/step - loss: 0.0033 - val_loss: 0.0050\n",
      "\n",
      "Epoch 00064: val_loss did not improve from 0.00009\n",
      "Epoch 65/150\n",
      "41/41 [==============================] - 0s 11ms/step - loss: 0.0034 - val_loss: 0.0054\n",
      "\n",
      "Epoch 00065: val_loss did not improve from 0.00009\n",
      "Epoch 66/150\n",
      "41/41 [==============================] - 0s 11ms/step - loss: 0.0035 - val_loss: 0.0050\n",
      "\n",
      "Epoch 00066: val_loss did not improve from 0.00009\n",
      "Epoch 67/150\n",
      "41/41 [==============================] - 0s 11ms/step - loss: 0.0034 - val_loss: 0.0051\n",
      "\n",
      "Epoch 00067: val_loss did not improve from 0.00009\n",
      "Epoch 68/150\n",
      "41/41 [==============================] - 0s 11ms/step - loss: 0.0035 - val_loss: 0.0050\n",
      "\n",
      "Epoch 00068: val_loss did not improve from 0.00009\n",
      "Epoch 69/150\n",
      "41/41 [==============================] - 0s 11ms/step - loss: 0.0033 - val_loss: 0.0051\n",
      "\n",
      "Epoch 00069: val_loss did not improve from 0.00009\n",
      "Epoch 70/150\n",
      "41/41 [==============================] - 0s 11ms/step - loss: 0.0032 - val_loss: 0.0050\n",
      "\n",
      "Epoch 00070: val_loss did not improve from 0.00009\n",
      "Epoch 71/150\n",
      "41/41 [==============================] - 0s 11ms/step - loss: 0.0033 - val_loss: 0.0049\n",
      "\n",
      "Epoch 00071: val_loss did not improve from 0.00009\n",
      "Epoch 72/150\n",
      "41/41 [==============================] - 0s 11ms/step - loss: 0.0031 - val_loss: 0.0050\n",
      "\n",
      "Epoch 00072: val_loss did not improve from 0.00009\n",
      "Epoch 73/150\n",
      "41/41 [==============================] - 0s 12ms/step - loss: 0.0031 - val_loss: 0.0063\n",
      "\n",
      "Epoch 00073: val_loss did not improve from 0.00009\n",
      "Epoch 74/150\n",
      "41/41 [==============================] - 0s 11ms/step - loss: 0.0038 - val_loss: 0.0050\n",
      "\n",
      "Epoch 00074: val_loss did not improve from 0.00009\n",
      "Epoch 75/150\n",
      "41/41 [==============================] - 0s 11ms/step - loss: 0.0034 - val_loss: 0.0051\n",
      "\n",
      "Epoch 00075: val_loss did not improve from 0.00009\n",
      "Epoch 76/150\n",
      "41/41 [==============================] - 0s 11ms/step - loss: 0.0032 - val_loss: 0.0050\n",
      "\n",
      "Epoch 00076: val_loss did not improve from 0.00009\n",
      "Epoch 77/150\n",
      "41/41 [==============================] - 0s 11ms/step - loss: 0.0035 - val_loss: 0.0049\n",
      "\n",
      "Epoch 00077: val_loss did not improve from 0.00009\n",
      "Epoch 78/150\n",
      "41/41 [==============================] - 0s 11ms/step - loss: 0.0028 - val_loss: 0.0053\n",
      "\n",
      "Epoch 00078: val_loss did not improve from 0.00009\n",
      "Epoch 79/150\n",
      "41/41 [==============================] - 0s 10ms/step - loss: 0.0036 - val_loss: 0.0050\n",
      "\n",
      "Epoch 00079: val_loss did not improve from 0.00009\n",
      "Epoch 80/150\n",
      "41/41 [==============================] - 0s 10ms/step - loss: 0.0032 - val_loss: 0.0049\n",
      "\n",
      "Epoch 00080: val_loss did not improve from 0.00009\n",
      "Epoch 81/150\n",
      "41/41 [==============================] - 0s 11ms/step - loss: 0.0032 - val_loss: 0.0050\n",
      "\n",
      "Epoch 00081: val_loss did not improve from 0.00009\n",
      "Epoch 82/150\n",
      "41/41 [==============================] - 0s 12ms/step - loss: 0.0037 - val_loss: 0.0053\n",
      "\n",
      "Epoch 00082: val_loss did not improve from 0.00009\n",
      "Epoch 83/150\n",
      "41/41 [==============================] - 0s 11ms/step - loss: 0.0034 - val_loss: 0.0058\n",
      "\n",
      "Epoch 00083: val_loss did not improve from 0.00009\n",
      "Epoch 84/150\n",
      "41/41 [==============================] - 0s 11ms/step - loss: 0.0033 - val_loss: 0.0049\n",
      "\n",
      "Epoch 00084: val_loss did not improve from 0.00009\n",
      "Epoch 85/150\n",
      "41/41 [==============================] - 0s 11ms/step - loss: 0.0035 - val_loss: 0.0050\n",
      "\n",
      "Epoch 00085: val_loss did not improve from 0.00009\n",
      "Epoch 86/150\n",
      "41/41 [==============================] - 0s 12ms/step - loss: 0.0029 - val_loss: 0.0063\n",
      "\n",
      "Epoch 00086: val_loss did not improve from 0.00009\n",
      "Epoch 87/150\n",
      "41/41 [==============================] - 0s 11ms/step - loss: 0.0034 - val_loss: 0.0056\n",
      "\n",
      "Epoch 00087: val_loss did not improve from 0.00009\n",
      "Epoch 88/150\n",
      "41/41 [==============================] - 0s 11ms/step - loss: 0.0035 - val_loss: 0.0050\n",
      "\n",
      "Epoch 00088: val_loss did not improve from 0.00009\n",
      "Epoch 89/150\n",
      "41/41 [==============================] - 0s 12ms/step - loss: 0.0029 - val_loss: 0.0053\n",
      "\n",
      "Epoch 00089: val_loss did not improve from 0.00009\n",
      "Epoch 90/150\n",
      "41/41 [==============================] - 0s 12ms/step - loss: 0.0035 - val_loss: 0.0051\n",
      "\n",
      "Epoch 00090: val_loss did not improve from 0.00009\n",
      "Epoch 91/150\n",
      "41/41 [==============================] - 0s 11ms/step - loss: 0.0036 - val_loss: 0.0049\n",
      "\n",
      "Epoch 00091: val_loss did not improve from 0.00009\n",
      "Epoch 92/150\n",
      "41/41 [==============================] - 0s 12ms/step - loss: 0.0028 - val_loss: 0.0049\n",
      "\n",
      "Epoch 00092: val_loss did not improve from 0.00009\n",
      "Epoch 93/150\n",
      "41/41 [==============================] - 0s 11ms/step - loss: 0.0035 - val_loss: 0.0050\n",
      "\n",
      "Epoch 00093: val_loss did not improve from 0.00009\n",
      "Epoch 94/150\n",
      "41/41 [==============================] - 0s 11ms/step - loss: 0.0034 - val_loss: 0.0053\n",
      "\n",
      "Epoch 00094: val_loss did not improve from 0.00009\n",
      "Epoch 95/150\n",
      "41/41 [==============================] - 0s 11ms/step - loss: 0.0029 - val_loss: 0.0050\n",
      "\n",
      "Epoch 00095: val_loss did not improve from 0.00009\n",
      "Epoch 96/150\n",
      "41/41 [==============================] - 0s 11ms/step - loss: 0.0034 - val_loss: 0.0050\n",
      "\n",
      "Epoch 00096: val_loss did not improve from 0.00009\n",
      "Epoch 97/150\n",
      "41/41 [==============================] - 0s 11ms/step - loss: 0.0032 - val_loss: 0.0072\n",
      "\n",
      "Epoch 00097: val_loss did not improve from 0.00009\n",
      "Epoch 98/150\n",
      "41/41 [==============================] - 0s 11ms/step - loss: 0.0038 - val_loss: 0.0050\n",
      "\n",
      "Epoch 00098: val_loss did not improve from 0.00009\n",
      "Epoch 99/150\n",
      "41/41 [==============================] - 0s 11ms/step - loss: 0.0032 - val_loss: 0.0049\n",
      "\n",
      "Epoch 00099: val_loss did not improve from 0.00009\n",
      "Epoch 100/150\n",
      "41/41 [==============================] - 0s 11ms/step - loss: 0.0034 - val_loss: 0.0061\n",
      "\n",
      "Epoch 00100: val_loss did not improve from 0.00009\n",
      "Epoch 101/150\n",
      "41/41 [==============================] - 0s 11ms/step - loss: 0.0036 - val_loss: 0.0050\n",
      "\n",
      "Epoch 00101: val_loss did not improve from 0.00009\n",
      "Epoch 102/150\n",
      "41/41 [==============================] - 0s 11ms/step - loss: 0.0031 - val_loss: 0.0050\n",
      "\n",
      "Epoch 00102: val_loss did not improve from 0.00009\n",
      "Epoch 103/150\n",
      "41/41 [==============================] - 0s 11ms/step - loss: 0.0034 - val_loss: 0.0050\n",
      "\n",
      "Epoch 00103: val_loss did not improve from 0.00009\n",
      "Epoch 104/150\n",
      "41/41 [==============================] - 0s 11ms/step - loss: 0.0032 - val_loss: 0.0051\n",
      "\n",
      "Epoch 00104: val_loss did not improve from 0.00009\n",
      "Epoch 105/150\n",
      "41/41 [==============================] - 0s 11ms/step - loss: 0.0038 - val_loss: 0.0049\n",
      "\n",
      "Epoch 00105: val_loss did not improve from 0.00009\n",
      "Epoch 106/150\n",
      "41/41 [==============================] - 0s 11ms/step - loss: 0.0031 - val_loss: 0.0049\n",
      "\n",
      "Epoch 00106: val_loss did not improve from 0.00009\n",
      "Epoch 107/150\n",
      "41/41 [==============================] - 0s 11ms/step - loss: 0.0029 - val_loss: 0.0051\n",
      "\n",
      "Epoch 00107: val_loss did not improve from 0.00009\n",
      "Epoch 108/150\n"
     ]
    },
    {
     "name": "stdout",
     "output_type": "stream",
     "text": [
      "41/41 [==============================] - 0s 11ms/step - loss: 0.0033 - val_loss: 0.0049\n",
      "\n",
      "Epoch 00108: val_loss did not improve from 0.00009\n",
      "Epoch 109/150\n",
      "41/41 [==============================] - 0s 11ms/step - loss: 0.0031 - val_loss: 0.0057\n",
      "\n",
      "Epoch 00109: val_loss did not improve from 0.00009\n",
      "Epoch 110/150\n",
      "41/41 [==============================] - 0s 11ms/step - loss: 0.0035 - val_loss: 0.0051\n",
      "\n",
      "Epoch 00110: val_loss did not improve from 0.00009\n",
      "Epoch 111/150\n",
      "41/41 [==============================] - 0s 11ms/step - loss: 0.0030 - val_loss: 0.0050\n",
      "\n",
      "Epoch 00111: val_loss did not improve from 0.00009\n",
      "Epoch 112/150\n",
      "41/41 [==============================] - 0s 11ms/step - loss: 0.0033 - val_loss: 0.0049\n",
      "\n",
      "Epoch 00112: val_loss did not improve from 0.00009\n",
      "Epoch 113/150\n",
      "41/41 [==============================] - 0s 11ms/step - loss: 0.0034 - val_loss: 0.0049\n",
      "\n",
      "Epoch 00113: val_loss did not improve from 0.00009\n",
      "Epoch 114/150\n",
      "41/41 [==============================] - 0s 11ms/step - loss: 0.0031 - val_loss: 0.0049\n",
      "\n",
      "Epoch 00114: val_loss did not improve from 0.00009\n",
      "Epoch 115/150\n",
      "41/41 [==============================] - 0s 11ms/step - loss: 0.0032 - val_loss: 0.0049\n",
      "\n",
      "Epoch 00115: val_loss did not improve from 0.00009\n",
      "Epoch 116/150\n",
      "41/41 [==============================] - 0s 11ms/step - loss: 0.0032 - val_loss: 0.0049\n",
      "\n",
      "Epoch 00116: val_loss did not improve from 0.00009\n",
      "Epoch 117/150\n",
      "41/41 [==============================] - 1s 13ms/step - loss: 0.0030 - val_loss: 0.0050\n",
      "\n",
      "Epoch 00117: val_loss did not improve from 0.00009\n",
      "Epoch 118/150\n",
      "41/41 [==============================] - 0s 12ms/step - loss: 0.0033 - val_loss: 0.0049\n",
      "\n",
      "Epoch 00118: val_loss did not improve from 0.00009\n",
      "Epoch 119/150\n",
      "41/41 [==============================] - 0s 11ms/step - loss: 0.0033 - val_loss: 0.0049\n",
      "\n",
      "Epoch 00119: val_loss did not improve from 0.00009\n",
      "Epoch 120/150\n",
      "41/41 [==============================] - 0s 11ms/step - loss: 0.0034 - val_loss: 0.0049\n",
      "\n",
      "Epoch 00120: val_loss did not improve from 0.00009\n",
      "Epoch 121/150\n",
      "41/41 [==============================] - 0s 11ms/step - loss: 0.0034 - val_loss: 0.0051\n",
      "\n",
      "Epoch 00121: val_loss did not improve from 0.00009\n",
      "Epoch 122/150\n",
      "41/41 [==============================] - 0s 11ms/step - loss: 0.0033 - val_loss: 0.0050\n",
      "\n",
      "Epoch 00122: val_loss did not improve from 0.00009\n",
      "Epoch 123/150\n",
      "41/41 [==============================] - 0s 11ms/step - loss: 0.0033 - val_loss: 0.0054\n",
      "\n",
      "Epoch 00123: val_loss did not improve from 0.00009\n",
      "Epoch 124/150\n",
      "41/41 [==============================] - 0s 11ms/step - loss: 0.0036 - val_loss: 0.0050\n",
      "\n",
      "Epoch 00124: val_loss did not improve from 0.00009\n",
      "Epoch 125/150\n",
      "41/41 [==============================] - 0s 11ms/step - loss: 0.0034 - val_loss: 0.0050\n",
      "\n",
      "Epoch 00125: val_loss did not improve from 0.00009\n",
      "Epoch 126/150\n",
      "41/41 [==============================] - 0s 11ms/step - loss: 0.0032 - val_loss: 0.0050\n",
      "\n",
      "Epoch 00126: val_loss did not improve from 0.00009\n",
      "Epoch 127/150\n",
      "41/41 [==============================] - 0s 11ms/step - loss: 0.0035 - val_loss: 0.0050\n",
      "\n",
      "Epoch 00127: val_loss did not improve from 0.00009\n",
      "Epoch 128/150\n",
      "41/41 [==============================] - 0s 11ms/step - loss: 0.0032 - val_loss: 0.0050\n",
      "\n",
      "Epoch 00128: val_loss did not improve from 0.00009\n",
      "Epoch 129/150\n",
      "41/41 [==============================] - 0s 11ms/step - loss: 0.0033 - val_loss: 0.0051\n",
      "\n",
      "Epoch 00129: val_loss did not improve from 0.00009\n",
      "Epoch 130/150\n",
      "41/41 [==============================] - 0s 11ms/step - loss: 0.0031 - val_loss: 0.0050\n",
      "\n",
      "Epoch 00130: val_loss did not improve from 0.00009\n",
      "Epoch 131/150\n",
      "41/41 [==============================] - 1s 13ms/step - loss: 0.0035 - val_loss: 0.0050\n",
      "\n",
      "Epoch 00131: val_loss did not improve from 0.00009\n",
      "Epoch 132/150\n",
      "41/41 [==============================] - 0s 11ms/step - loss: 0.0031 - val_loss: 0.0050\n",
      "\n",
      "Epoch 00132: val_loss did not improve from 0.00009\n",
      "Epoch 133/150\n",
      "41/41 [==============================] - 0s 12ms/step - loss: 0.0034 - val_loss: 0.0051\n",
      "\n",
      "Epoch 00133: val_loss did not improve from 0.00009\n",
      "Epoch 134/150\n",
      "41/41 [==============================] - 0s 11ms/step - loss: 0.0034 - val_loss: 0.0053\n",
      "\n",
      "Epoch 00134: val_loss did not improve from 0.00009\n",
      "Epoch 135/150\n",
      "41/41 [==============================] - 0s 11ms/step - loss: 0.0033 - val_loss: 0.0049\n",
      "\n",
      "Epoch 00135: val_loss did not improve from 0.00009\n",
      "Epoch 136/150\n",
      "41/41 [==============================] - 0s 11ms/step - loss: 0.0030 - val_loss: 0.0049\n",
      "\n",
      "Epoch 00136: val_loss did not improve from 0.00009\n",
      "Epoch 137/150\n",
      "41/41 [==============================] - 0s 11ms/step - loss: 0.0032 - val_loss: 0.0051\n",
      "\n",
      "Epoch 00137: val_loss did not improve from 0.00009\n",
      "Epoch 138/150\n",
      "41/41 [==============================] - 0s 11ms/step - loss: 0.0036 - val_loss: 0.0049\n",
      "\n",
      "Epoch 00138: val_loss did not improve from 0.00009\n",
      "Epoch 139/150\n",
      "41/41 [==============================] - 0s 11ms/step - loss: 0.0034 - val_loss: 0.0051\n",
      "\n",
      "Epoch 00139: val_loss did not improve from 0.00009\n"
     ]
    }
   ],
   "source": [
    "lstm_training_return = rnn_return.fit(X_train,y_train, epochs = 150, batch_size = 20, shuffle = True, validation_data=(X_test,y_test),callbacks = [early_stopping,checkpointer],verbose =1)"
   ]
  },
  {
   "cell_type": "code",
   "execution_count": 47,
   "metadata": {},
   "outputs": [
    {
     "data": {
      "image/png": "[encoded data removed]",
      "text/plain": [
       "<Figure size 1296x648 with 1 Axes>"
      ]
     },
     "metadata": {},
     "output_type": "display_data"
    }
   ],
   "source": [
    "fig, ax = plt.subplots(figsize=(18, 9))\n",
    "\n",
    "loss_history = pd.DataFrame(lstm_training_return.history).pow(.5)\n",
    "loss_history.index += 1\n",
    "best_rmse = loss_history.val_loss.min()\n",
    "\n",
    "best_epoch = loss_history.val_loss.idxmin()\n",
    "\n",
    "title = f'5-Epoch Rolling RMSE (Best Validation RMSE: {best_rmse:.4%})'\n",
    "loss_history.columns=['Training RMSE', 'Validation RMSE']\n",
    "loss_history.rolling(5).mean().plot(logy=True, lw=2, title=title, ax=ax)\n",
    "\n",
    "ax.axvline(best_epoch, ls='--', lw=1, c='k')\n",
    "\n",
    "sns.despine()\n",
    "fig.tight_layout()\n",
    "fig.savefig(results_path / 'rnn_cc_error', dpi=300);"
   ]
  },
  {
   "cell_type": "code",
   "execution_count": 48,
   "metadata": {},
   "outputs": [
    {
     "name": "stdout",
     "output_type": "stream",
     "text": [
      "Train RMSE: 0.0567 | Test RMSE: 0.0701\n"
     ]
    }
   ],
   "source": [
    "train_rmse_scaled = np.sqrt(rnn_return.evaluate(X_train, y_train, verbose=0))\n",
    "test_rmse_scaled = np.sqrt(rnn_return.evaluate(X_test, y_test, verbose=0))\n",
    "print(f'Train RMSE: {train_rmse_scaled:.4f} | Test RMSE: {test_rmse_scaled:.4f}')"
   ]
  },
  {
   "cell_type": "code",
   "execution_count": 49,
   "metadata": {},
   "outputs": [],
   "source": [
    "train_predict_scaled = rnn_return.predict(X_train)\n",
    "test_predict_scaled = rnn_return.predict(X_test)"
   ]
  },
  {
   "cell_type": "code",
   "execution_count": 50,
   "metadata": {},
   "outputs": [
    {
     "name": "stdout",
     "output_type": "stream",
     "text": [
      "Train IC: 0.0374 | Test IC: 0.0738\n"
     ]
    }
   ],
   "source": [
    "train_ic = spearmanr(y_train, train_predict_scaled)[0]\n",
    "test_ic = spearmanr(y_test, test_predict_scaled)[0]\n",
    "print(f'Train IC: {train_ic:.4f} | Test IC: {test_ic:.4f}')"
   ]
  },
  {
   "cell_type": "markdown",
   "metadata": {},
   "source": [
    "# Rescale predictions"
   ]
  },
  {
   "cell_type": "code",
   "execution_count": 51,
   "metadata": {},
   "outputs": [],
   "source": [
    "train_predict = pd.Series(scaler.inverse_transform(train_predict_scaled).squeeze(), index=y_train.index)\n",
    "test_predict = (pd.Series(scaler.inverse_transform(test_predict_scaled).squeeze(), index=y_test.index))"
   ]
  },
  {
   "cell_type": "code",
   "execution_count": 52,
   "metadata": {},
   "outputs": [],
   "source": [
    "y_train_rescaled = scaler.inverse_transform(y_train.to_frame()).squeeze()\n",
    "y_test_rescaled = scaler.inverse_transform(y_test.to_frame()).squeeze()"
   ]
  },
  {
   "cell_type": "code",
   "execution_count": 53,
   "metadata": {},
   "outputs": [
    {
     "data": {
      "text/plain": [
       "'Train RMSE: 0.06 | Test RMSE: 0.08'"
      ]
     },
     "execution_count": 53,
     "metadata": {},
     "output_type": "execute_result"
    }
   ],
   "source": [
    "train_rmse = np.sqrt(mean_squared_error(train_predict, y_train_rescaled))\n",
    "test_rmse = np.sqrt(mean_squared_error(test_predict, y_test_rescaled))\n",
    "f'Train RMSE: {train_rmse:.2f} | Test RMSE: {test_rmse:.2f}'"
   ]
  },
  {
   "cell_type": "code",
   "execution_count": 54,
   "metadata": {},
   "outputs": [],
   "source": [
    "dfreturn['Train Predictions'] = train_predict\n",
    "dfreturn['Test Predictions'] = test_predict\n",
    "dfreturn = dfreturn.join(train_predict.to_frame('predictions').assign(data='Train')\n",
    "                        .append(test_predict.to_frame('predictions').assign(data='Test')))"
   ]
  },
  {
   "cell_type": "code",
   "execution_count": 55,
   "metadata": {},
   "outputs": [
    {
     "data": {
      "text/html": [
       "<div>\n",
       "<style scoped>\n",
       "    .dataframe tbody tr th:only-of-type {\n",
       "        vertical-align: middle;\n",
       "    }\n",
       "\n",
       "    .dataframe tbody tr th {\n",
       "        vertical-align: top;\n",
       "    }\n",
       "\n",
       "    .dataframe thead th {\n",
       "        text-align: right;\n",
       "    }\n",
       "</style>\n",
       "<table border=\"1\" class=\"dataframe\">\n",
       "  <thead>\n",
       "    <tr style=\"text-align: right;\">\n",
       "      <th></th>\n",
       "      <th>return</th>\n",
       "      <th>Train Predictions</th>\n",
       "      <th>Test Predictions</th>\n",
       "      <th>predictions</th>\n",
       "      <th>data</th>\n",
       "    </tr>\n",
       "    <tr>\n",
       "      <th>date</th>\n",
       "      <th></th>\n",
       "      <th></th>\n",
       "      <th></th>\n",
       "      <th></th>\n",
       "      <th></th>\n",
       "    </tr>\n",
       "  </thead>\n",
       "  <tbody>\n",
       "    <tr>\n",
       "      <th>2017-07-14</th>\n",
       "      <td>-0.295747</td>\n",
       "      <td>NaN</td>\n",
       "      <td>NaN</td>\n",
       "      <td>NaN</td>\n",
       "      <td>NaN</td>\n",
       "    </tr>\n",
       "    <tr>\n",
       "      <th>2017-07-15</th>\n",
       "      <td>-0.118549</td>\n",
       "      <td>NaN</td>\n",
       "      <td>NaN</td>\n",
       "      <td>NaN</td>\n",
       "      <td>NaN</td>\n",
       "    </tr>\n",
       "    <tr>\n",
       "      <th>2017-07-16</th>\n",
       "      <td>0.414821</td>\n",
       "      <td>NaN</td>\n",
       "      <td>NaN</td>\n",
       "      <td>NaN</td>\n",
       "      <td>NaN</td>\n",
       "    </tr>\n",
       "    <tr>\n",
       "      <th>2017-07-17</th>\n",
       "      <td>0.265260</td>\n",
       "      <td>NaN</td>\n",
       "      <td>NaN</td>\n",
       "      <td>NaN</td>\n",
       "      <td>NaN</td>\n",
       "    </tr>\n",
       "    <tr>\n",
       "      <th>2017-07-18</th>\n",
       "      <td>-0.263332</td>\n",
       "      <td>NaN</td>\n",
       "      <td>NaN</td>\n",
       "      <td>NaN</td>\n",
       "      <td>NaN</td>\n",
       "    </tr>\n",
       "    <tr>\n",
       "      <th>...</th>\n",
       "      <td>...</td>\n",
       "      <td>...</td>\n",
       "      <td>...</td>\n",
       "      <td>...</td>\n",
       "      <td>...</td>\n",
       "    </tr>\n",
       "    <tr>\n",
       "      <th>2020-12-26</th>\n",
       "      <td>-0.020800</td>\n",
       "      <td>NaN</td>\n",
       "      <td>-0.003542</td>\n",
       "      <td>-0.003542</td>\n",
       "      <td>Test</td>\n",
       "    </tr>\n",
       "    <tr>\n",
       "      <th>2020-12-27</th>\n",
       "      <td>0.028944</td>\n",
       "      <td>NaN</td>\n",
       "      <td>-0.002180</td>\n",
       "      <td>-0.002180</td>\n",
       "      <td>Test</td>\n",
       "    </tr>\n",
       "    <tr>\n",
       "      <th>2020-12-28</th>\n",
       "      <td>0.017685</td>\n",
       "      <td>NaN</td>\n",
       "      <td>-0.003198</td>\n",
       "      <td>-0.003198</td>\n",
       "      <td>Test</td>\n",
       "    </tr>\n",
       "    <tr>\n",
       "      <th>2020-12-29</th>\n",
       "      <td>-0.045701</td>\n",
       "      <td>NaN</td>\n",
       "      <td>-0.001696</td>\n",
       "      <td>-0.001696</td>\n",
       "      <td>Test</td>\n",
       "    </tr>\n",
       "    <tr>\n",
       "      <th>2020-12-30</th>\n",
       "      <td>-0.039684</td>\n",
       "      <td>NaN</td>\n",
       "      <td>0.000970</td>\n",
       "      <td>0.000970</td>\n",
       "      <td>Test</td>\n",
       "    </tr>\n",
       "  </tbody>\n",
       "</table>\n",
       "<p>1258 rows × 5 columns</p>\n",
       "</div>"
      ],
      "text/plain": [
       "              return  Train Predictions  Test Predictions  predictions  data\n",
       "date                                                                        \n",
       "2017-07-14 -0.295747                NaN               NaN          NaN   NaN\n",
       "2017-07-15 -0.118549                NaN               NaN          NaN   NaN\n",
       "2017-07-16  0.414821                NaN               NaN          NaN   NaN\n",
       "2017-07-17  0.265260                NaN               NaN          NaN   NaN\n",
       "2017-07-18 -0.263332                NaN               NaN          NaN   NaN\n",
       "...              ...                ...               ...          ...   ...\n",
       "2020-12-26 -0.020800                NaN         -0.003542    -0.003542  Test\n",
       "2020-12-27  0.028944                NaN         -0.002180    -0.002180  Test\n",
       "2020-12-28  0.017685                NaN         -0.003198    -0.003198  Test\n",
       "2020-12-29 -0.045701                NaN         -0.001696    -0.001696  Test\n",
       "2020-12-30 -0.039684                NaN          0.000970     0.000970  Test\n",
       "\n",
       "[1258 rows x 5 columns]"
      ]
     },
     "execution_count": 55,
     "metadata": {},
     "output_type": "execute_result"
    }
   ],
   "source": [
    "dfreturn"
   ]
  },
  {
   "cell_type": "code",
   "execution_count": 56,
   "metadata": {},
   "outputs": [
    {
     "name": "stdout",
     "output_type": "stream",
     "text": [
      "Test accuracy: 0.50\n"
     ]
    }
   ],
   "source": [
    "model_test = dfreturn.copy().fillna(0)\n",
    "tmp = model_test['return']*model_test['predictions'][-30:]\n",
    "accuracy = len(tmp[tmp>0])/30\n",
    "print(f'Test accuracy: {accuracy:.2f}')"
   ]
  },
  {
   "cell_type": "code",
   "execution_count": null,
   "metadata": {},
   "outputs": [],
   "source": []
  },
  {
   "cell_type": "code",
   "execution_count": null,
   "metadata": {},
   "outputs": [],
   "source": []
  },
  {
   "cell_type": "code",
   "execution_count": null,
   "metadata": {},
   "outputs": [],
   "source": []
  },
  {
   "cell_type": "markdown",
   "metadata": {},
   "source": [
    "# QUTM-USD"
   ]
  },
  {
   "cell_type": "code",
   "execution_count": 57,
   "metadata": {},
   "outputs": [
    {
     "data": {
      "text/html": [
       "<div>\n",
       "<style scoped>\n",
       "    .dataframe tbody tr th:only-of-type {\n",
       "        vertical-align: middle;\n",
       "    }\n",
       "\n",
       "    .dataframe tbody tr th {\n",
       "        vertical-align: top;\n",
       "    }\n",
       "\n",
       "    .dataframe thead th {\n",
       "        text-align: right;\n",
       "    }\n",
       "</style>\n",
       "<table border=\"1\" class=\"dataframe\">\n",
       "  <thead>\n",
       "    <tr style=\"text-align: right;\">\n",
       "      <th></th>\n",
       "      <th>close</th>\n",
       "    </tr>\n",
       "    <tr>\n",
       "      <th>date</th>\n",
       "      <th></th>\n",
       "    </tr>\n",
       "  </thead>\n",
       "  <tbody>\n",
       "    <tr>\n",
       "      <th>2017-05-23</th>\n",
       "      <td>6.190530</td>\n",
       "    </tr>\n",
       "    <tr>\n",
       "      <th>2017-05-24</th>\n",
       "      <td>4.656620</td>\n",
       "    </tr>\n",
       "    <tr>\n",
       "      <th>2017-05-25</th>\n",
       "      <td>4.099790</td>\n",
       "    </tr>\n",
       "    <tr>\n",
       "      <th>2017-05-26</th>\n",
       "      <td>4.533650</td>\n",
       "    </tr>\n",
       "    <tr>\n",
       "      <th>2017-05-27</th>\n",
       "      <td>4.621810</td>\n",
       "    </tr>\n",
       "    <tr>\n",
       "      <th>...</th>\n",
       "      <td>...</td>\n",
       "    </tr>\n",
       "    <tr>\n",
       "      <th>2020-12-26</th>\n",
       "      <td>2.263639</td>\n",
       "    </tr>\n",
       "    <tr>\n",
       "      <th>2020-12-27</th>\n",
       "      <td>2.272775</td>\n",
       "    </tr>\n",
       "    <tr>\n",
       "      <th>2020-12-28</th>\n",
       "      <td>2.378930</td>\n",
       "    </tr>\n",
       "    <tr>\n",
       "      <th>2020-12-29</th>\n",
       "      <td>2.272770</td>\n",
       "    </tr>\n",
       "    <tr>\n",
       "      <th>2020-12-30</th>\n",
       "      <td>2.217653</td>\n",
       "    </tr>\n",
       "  </tbody>\n",
       "</table>\n",
       "<p>1310 rows × 1 columns</p>\n",
       "</div>"
      ],
      "text/plain": [
       "               close\n",
       "date                \n",
       "2017-05-23  6.190530\n",
       "2017-05-24  4.656620\n",
       "2017-05-25  4.099790\n",
       "2017-05-26  4.533650\n",
       "2017-05-27  4.621810\n",
       "...              ...\n",
       "2020-12-26  2.263639\n",
       "2020-12-27  2.272775\n",
       "2020-12-28  2.378930\n",
       "2020-12-29  2.272770\n",
       "2020-12-30  2.217653\n",
       "\n",
       "[1310 rows x 1 columns]"
      ]
     },
     "execution_count": 57,
     "metadata": {},
     "output_type": "execute_result"
    }
   ],
   "source": [
    "df=pd.read_csv('CC_daily_data.csv').dropna()\n",
    "dfclose = df[df['ticker']=='QTUM-USD'].set_index(['date'])['close'].to_frame()\n",
    "dfclose = dfclose[~dfclose.index.duplicated(keep = 'first')]\n",
    "dfclose"
   ]
  },
  {
   "cell_type": "code",
   "execution_count": 58,
   "metadata": {},
   "outputs": [
    {
     "data": {
      "text/html": [
       "<div>\n",
       "<style scoped>\n",
       "    .dataframe tbody tr th:only-of-type {\n",
       "        vertical-align: middle;\n",
       "    }\n",
       "\n",
       "    .dataframe tbody tr th {\n",
       "        vertical-align: top;\n",
       "    }\n",
       "\n",
       "    .dataframe thead th {\n",
       "        text-align: right;\n",
       "    }\n",
       "</style>\n",
       "<table border=\"1\" class=\"dataframe\">\n",
       "  <thead>\n",
       "    <tr style=\"text-align: right;\">\n",
       "      <th></th>\n",
       "      <th>return</th>\n",
       "    </tr>\n",
       "    <tr>\n",
       "      <th>date</th>\n",
       "      <th></th>\n",
       "    </tr>\n",
       "  </thead>\n",
       "  <tbody>\n",
       "    <tr>\n",
       "      <th>2017-05-24</th>\n",
       "      <td>-0.284731</td>\n",
       "    </tr>\n",
       "    <tr>\n",
       "      <th>2017-05-25</th>\n",
       "      <td>-0.127354</td>\n",
       "    </tr>\n",
       "    <tr>\n",
       "      <th>2017-05-26</th>\n",
       "      <td>0.100592</td>\n",
       "    </tr>\n",
       "    <tr>\n",
       "      <th>2017-05-27</th>\n",
       "      <td>0.019259</td>\n",
       "    </tr>\n",
       "    <tr>\n",
       "      <th>2017-05-28</th>\n",
       "      <td>-0.003694</td>\n",
       "    </tr>\n",
       "    <tr>\n",
       "      <th>...</th>\n",
       "      <td>...</td>\n",
       "    </tr>\n",
       "    <tr>\n",
       "      <th>2020-12-26</th>\n",
       "      <td>-0.013039</td>\n",
       "    </tr>\n",
       "    <tr>\n",
       "      <th>2020-12-27</th>\n",
       "      <td>0.004028</td>\n",
       "    </tr>\n",
       "    <tr>\n",
       "      <th>2020-12-28</th>\n",
       "      <td>0.045649</td>\n",
       "    </tr>\n",
       "    <tr>\n",
       "      <th>2020-12-29</th>\n",
       "      <td>-0.045652</td>\n",
       "    </tr>\n",
       "    <tr>\n",
       "      <th>2020-12-30</th>\n",
       "      <td>-0.024550</td>\n",
       "    </tr>\n",
       "  </tbody>\n",
       "</table>\n",
       "<p>1309 rows × 1 columns</p>\n",
       "</div>"
      ],
      "text/plain": [
       "              return\n",
       "date                \n",
       "2017-05-24 -0.284731\n",
       "2017-05-25 -0.127354\n",
       "2017-05-26  0.100592\n",
       "2017-05-27  0.019259\n",
       "2017-05-28 -0.003694\n",
       "...              ...\n",
       "2020-12-26 -0.013039\n",
       "2020-12-27  0.004028\n",
       "2020-12-28  0.045649\n",
       "2020-12-29 -0.045652\n",
       "2020-12-30 -0.024550\n",
       "\n",
       "[1309 rows x 1 columns]"
      ]
     },
     "execution_count": 58,
     "metadata": {},
     "output_type": "execute_result"
    }
   ],
   "source": [
    "dfreturn = (np.log(dfclose/dfclose.shift())\n",
    "            .dropna()\n",
    "            .rename(columns = {'close':'return'}))\n",
    "dfreturn"
   ]
  },
  {
   "cell_type": "code",
   "execution_count": 59,
   "metadata": {},
   "outputs": [],
   "source": [
    "results_path = Path('results', 'univariate_LSTM')\n",
    "if not results_path.exists():\n",
    "    results_path.mkdir(parents=True)"
   ]
  },
  {
   "cell_type": "markdown",
   "metadata": {},
   "source": [
    "# Predicting Future Price:"
   ]
  },
  {
   "cell_type": "markdown",
   "metadata": {},
   "source": [
    "# Preprocessing"
   ]
  },
  {
   "cell_type": "code",
   "execution_count": 60,
   "metadata": {},
   "outputs": [
    {
     "data": {
      "text/plain": [
       "count    1310.000000\n",
       "mean        0.069901\n",
       "std         0.114721\n",
       "min         0.000000\n",
       "25%         0.011272\n",
       "50%         0.020041\n",
       "75%         0.096886\n",
       "max         1.000000\n",
       "dtype: float64"
      ]
     },
     "execution_count": 60,
     "metadata": {},
     "output_type": "execute_result"
    }
   ],
   "source": [
    "scaler = MinMaxScaler()\n",
    "dfclose_scaled = pd.Series(scaler.fit_transform(dfclose).squeeze(),index =dfclose.index)\n",
    "dfclose_scaled.describe()"
   ]
  },
  {
   "cell_type": "markdown",
   "metadata": {},
   "source": [
    "# Generating recurrent sequences from the time series"
   ]
  },
  {
   "cell_type": "markdown",
   "metadata": {},
   "source": [
    "We will generate sequences of 90 trading days, approximately 3 months, and use a single LSTM layer with 10 hidden units to predict the index value one timestep ahead. \n",
    "The input to every LSTM layer must have three dimensions, namely:\n",
    "- **Samples**: One sequence is one sample. A batch contains one or more samples.\n",
    "- **Time Steps**: One time step is one point of observation in the sample.\n",
    "- **Features**: One feature is one observation at a time step."
   ]
  },
  {
   "cell_type": "code",
   "execution_count": 61,
   "metadata": {},
   "outputs": [],
   "source": [
    "def create_univariate_rnn_data(data, window_size):\n",
    "    n = len(data)\n",
    "    y = data[window_size:]\n",
    "    data = data.values.reshape(-1, 1) # make 2D\n",
    "    X = np.hstack(tuple([data[i: n-j, :] for i, j in enumerate(range(window_size, 0, -1))]))\n",
    "    return pd.DataFrame(X, index=y.index), y\n"
   ]
  },
  {
   "cell_type": "code",
   "execution_count": 62,
   "metadata": {},
   "outputs": [],
   "source": [
    "window_size = 90"
   ]
  },
  {
   "cell_type": "code",
   "execution_count": 63,
   "metadata": {},
   "outputs": [],
   "source": [
    "X,y = create_univariate_rnn_data(dfclose_scaled, window_size)"
   ]
  },
  {
   "cell_type": "code",
   "execution_count": 64,
   "metadata": {},
   "outputs": [
    {
     "data": {
      "text/plain": [
       "(1220, 90)"
      ]
     },
     "execution_count": 64,
     "metadata": {},
     "output_type": "execute_result"
    }
   ],
   "source": [
    "X.shape"
   ]
  },
  {
   "cell_type": "markdown",
   "metadata": {},
   "source": [
    "# Train-test split"
   ]
  },
  {
   "cell_type": "code",
   "execution_count": 65,
   "metadata": {},
   "outputs": [
    {
     "data": {
      "image/png": "[encoded data removed]",
      "text/plain": [
       "<Figure size 1008x288 with 1 Axes>"
      ]
     },
     "metadata": {},
     "output_type": "display_data"
    }
   ],
   "source": [
    "ax = dfclose_scaled.plot(lw=2, figsize=(14, 4), rot=0)\n",
    "ax.set_xlabel('')\n",
    "sns.despine()"
   ]
  },
  {
   "cell_type": "code",
   "execution_count": 66,
   "metadata": {},
   "outputs": [],
   "source": [
    "X_train = X[:'2020'].values.reshape(-1, window_size, 1)\n",
    "y_train = y[:'2020']\n",
    "\n",
    "# keep the last year for testing\n",
    "X_test = X['2020':].values.reshape(-1, window_size, 1)\n",
    "y_test = y['2020':]"
   ]
  },
  {
   "cell_type": "code",
   "execution_count": 67,
   "metadata": {},
   "outputs": [],
   "source": [
    "n_obs, window_size, n_features = X_train.shape"
   ]
  },
  {
   "cell_type": "code",
   "execution_count": 68,
   "metadata": {},
   "outputs": [
    {
     "data": {
      "text/plain": [
       "(860,)"
      ]
     },
     "execution_count": 68,
     "metadata": {},
     "output_type": "execute_result"
    }
   ],
   "source": [
    "y_train.shape"
   ]
  },
  {
   "cell_type": "markdown",
   "metadata": {},
   "source": [
    "# Define Model Architechture"
   ]
  },
  {
   "cell_type": "code",
   "execution_count": 69,
   "metadata": {},
   "outputs": [],
   "source": [
    "rnn_price = Sequential([\n",
    "    LSTM(units = 10, input_shape = (window_size,n_features), name='LSTM'),\n",
    "    Dense(1, name='Output')\n",
    "])"
   ]
  },
  {
   "cell_type": "code",
   "execution_count": 70,
   "metadata": {},
   "outputs": [
    {
     "name": "stdout",
     "output_type": "stream",
     "text": [
      "Model: \"sequential_2\"\n",
      "_________________________________________________________________\n",
      "Layer (type)                 Output Shape              Param #   \n",
      "=================================================================\n",
      "LSTM (LSTM)                  (None, 10)                480       \n",
      "_________________________________________________________________\n",
      "Output (Dense)               (None, 1)                 11        \n",
      "=================================================================\n",
      "Total params: 491\n",
      "Trainable params: 491\n",
      "Non-trainable params: 0\n",
      "_________________________________________________________________\n"
     ]
    }
   ],
   "source": [
    "rnn_price.summary()"
   ]
  },
  {
   "cell_type": "markdown",
   "metadata": {},
   "source": [
    "# Train the Model"
   ]
  },
  {
   "cell_type": "code",
   "execution_count": 71,
   "metadata": {},
   "outputs": [],
   "source": [
    "optimizer = keras.optimizers.RMSprop(lr=.001, rho = .9, epsilon = 1e-08, decay = .0)\n",
    "rnn_price.compile(loss = 'mean_squared_error', optimizer = optimizer)"
   ]
  },
  {
   "cell_type": "code",
   "execution_count": 72,
   "metadata": {},
   "outputs": [],
   "source": [
    "rnn_path = (results_path / 'rnn.h5').as_posix()\n",
    "checkpointer = ModelCheckpoint(filepath=rnn_path,verbose=1,monitor='val_loss',save_best_only=True)"
   ]
  },
  {
   "cell_type": "code",
   "execution_count": 73,
   "metadata": {},
   "outputs": [],
   "source": [
    "early_stopping = EarlyStopping(monitor = 'val_loss',patience = 20, restore_best_weights = True)"
   ]
  },
  {
   "cell_type": "code",
   "execution_count": 74,
   "metadata": {
    "scrolled": true
   },
   "outputs": [
    {
     "name": "stdout",
     "output_type": "stream",
     "text": [
      "Epoch 1/150\n",
      "43/43 [==============================] - 3s 20ms/step - loss: 0.0122 - val_loss: 4.8692e-04\n",
      "\n",
      "Epoch 00001: val_loss improved from inf to 0.00049, saving model to results/univariate_LSTM\\rnn.h5\n",
      "Epoch 2/150\n",
      "43/43 [==============================] - 0s 10ms/step - loss: 0.0038 - val_loss: 1.1860e-05\n",
      "\n",
      "Epoch 00002: val_loss improved from 0.00049 to 0.00001, saving model to results/univariate_LSTM\\rnn.h5\n",
      "Epoch 3/150\n",
      "43/43 [==============================] - 0s 10ms/step - loss: 0.0018 - val_loss: 6.7383e-05\n",
      "\n",
      "Epoch 00003: val_loss did not improve from 0.00001\n",
      "Epoch 4/150\n",
      "43/43 [==============================] - 0s 10ms/step - loss: 0.0022 - val_loss: 1.0244e-05\n",
      "\n",
      "Epoch 00004: val_loss improved from 0.00001 to 0.00001, saving model to results/univariate_LSTM\\rnn.h5\n",
      "Epoch 5/150\n",
      "43/43 [==============================] - 0s 10ms/step - loss: 0.0019 - val_loss: 9.9289e-06\n",
      "\n",
      "Epoch 00005: val_loss improved from 0.00001 to 0.00001, saving model to results/univariate_LSTM\\rnn.h5\n",
      "Epoch 6/150\n",
      "43/43 [==============================] - 0s 10ms/step - loss: 0.0011 - val_loss: 8.9089e-06\n",
      "\n",
      "Epoch 00006: val_loss improved from 0.00001 to 0.00001, saving model to results/univariate_LSTM\\rnn.h5\n",
      "Epoch 7/150\n",
      "43/43 [==============================] - 0s 10ms/step - loss: 0.0010 - val_loss: 5.4294e-06\n",
      "\n",
      "Epoch 00007: val_loss improved from 0.00001 to 0.00001, saving model to results/univariate_LSTM\\rnn.h5\n",
      "Epoch 8/150\n",
      "43/43 [==============================] - 0s 10ms/step - loss: 0.0018 - val_loss: 4.4833e-05\n",
      "\n",
      "Epoch 00008: val_loss did not improve from 0.00001\n",
      "Epoch 9/150\n",
      "43/43 [==============================] - 0s 10ms/step - loss: 0.0019 - val_loss: 2.0259e-04\n",
      "\n",
      "Epoch 00009: val_loss did not improve from 0.00001\n",
      "Epoch 10/150\n",
      "43/43 [==============================] - 0s 9ms/step - loss: 0.0011 - val_loss: 1.4834e-05\n",
      "\n",
      "Epoch 00010: val_loss did not improve from 0.00001\n",
      "Epoch 11/150\n",
      "43/43 [==============================] - 0s 10ms/step - loss: 0.0012 - val_loss: 3.7383e-06\n",
      "\n",
      "Epoch 00011: val_loss improved from 0.00001 to 0.00000, saving model to results/univariate_LSTM\\rnn.h5\n",
      "Epoch 12/150\n",
      "43/43 [==============================] - 0s 10ms/step - loss: 0.0012 - val_loss: 2.7999e-05\n",
      "\n",
      "Epoch 00012: val_loss did not improve from 0.00000\n",
      "Epoch 13/150\n",
      "43/43 [==============================] - 0s 10ms/step - loss: 0.0011 - val_loss: 7.0984e-06\n",
      "\n",
      "Epoch 00013: val_loss did not improve from 0.00000\n",
      "Epoch 14/150\n",
      "43/43 [==============================] - 0s 10ms/step - loss: 0.0012 - val_loss: 3.7339e-06\n",
      "\n",
      "Epoch 00014: val_loss improved from 0.00000 to 0.00000, saving model to results/univariate_LSTM\\rnn.h5\n",
      "Epoch 15/150\n",
      "43/43 [==============================] - 0s 10ms/step - loss: 7.7349e-04 - val_loss: 9.6798e-06\n",
      "\n",
      "Epoch 00015: val_loss did not improve from 0.00000\n",
      "Epoch 16/150\n",
      "43/43 [==============================] - 0s 10ms/step - loss: 9.0020e-04 - val_loss: 1.6816e-05\n",
      "\n",
      "Epoch 00016: val_loss did not improve from 0.00000\n",
      "Epoch 17/150\n",
      "43/43 [==============================] - 0s 9ms/step - loss: 7.1053e-04 - val_loss: 6.8748e-05\n",
      "\n",
      "Epoch 00017: val_loss did not improve from 0.00000\n",
      "Epoch 18/150\n",
      "43/43 [==============================] - 0s 10ms/step - loss: 9.6320e-04 - val_loss: 3.0572e-05\n",
      "\n",
      "Epoch 00018: val_loss did not improve from 0.00000\n",
      "Epoch 19/150\n",
      "43/43 [==============================] - 0s 10ms/step - loss: 8.4097e-04 - val_loss: 3.9501e-06\n",
      "\n",
      "Epoch 00019: val_loss did not improve from 0.00000\n",
      "Epoch 20/150\n",
      "43/43 [==============================] - 0s 10ms/step - loss: 8.3856e-04 - val_loss: 3.4980e-05\n",
      "\n",
      "Epoch 00020: val_loss did not improve from 0.00000\n",
      "Epoch 21/150\n",
      "43/43 [==============================] - 0s 10ms/step - loss: 0.0010 - val_loss: 1.6941e-05\n",
      "\n",
      "Epoch 00021: val_loss did not improve from 0.00000\n",
      "Epoch 22/150\n",
      "43/43 [==============================] - 0s 9ms/step - loss: 8.1489e-04 - val_loss: 4.7460e-06\n",
      "\n",
      "Epoch 00022: val_loss did not improve from 0.00000\n",
      "Epoch 23/150\n",
      "43/43 [==============================] - 0s 10ms/step - loss: 8.1952e-04 - val_loss: 1.8308e-05\n",
      "\n",
      "Epoch 00023: val_loss did not improve from 0.00000\n",
      "Epoch 24/150\n",
      "43/43 [==============================] - 0s 9ms/step - loss: 7.7698e-04 - val_loss: 1.7094e-04\n",
      "\n",
      "Epoch 00024: val_loss did not improve from 0.00000\n",
      "Epoch 25/150\n",
      "43/43 [==============================] - 0s 10ms/step - loss: 5.9402e-04 - val_loss: 3.6101e-06\n",
      "\n",
      "Epoch 00025: val_loss improved from 0.00000 to 0.00000, saving model to results/univariate_LSTM\\rnn.h5\n",
      "Epoch 26/150\n",
      "43/43 [==============================] - 0s 10ms/step - loss: 0.0011 - val_loss: 1.2590e-05\n",
      "\n",
      "Epoch 00026: val_loss did not improve from 0.00000\n",
      "Epoch 27/150\n",
      "43/43 [==============================] - 0s 10ms/step - loss: 7.9313e-04 - val_loss: 1.1922e-05\n",
      "\n",
      "Epoch 00027: val_loss did not improve from 0.00000\n",
      "Epoch 28/150\n",
      "43/43 [==============================] - 0s 10ms/step - loss: 6.7867e-04 - val_loss: 3.2501e-06\n",
      "\n",
      "Epoch 00028: val_loss improved from 0.00000 to 0.00000, saving model to results/univariate_LSTM\\rnn.h5\n",
      "Epoch 29/150\n",
      "43/43 [==============================] - 0s 10ms/step - loss: 4.9290e-04 - val_loss: 7.2792e-06\n",
      "\n",
      "Epoch 00029: val_loss did not improve from 0.00000\n",
      "Epoch 30/150\n",
      "43/43 [==============================] - 0s 10ms/step - loss: 5.3341e-04 - val_loss: 4.5888e-05\n",
      "\n",
      "Epoch 00030: val_loss did not improve from 0.00000\n",
      "Epoch 31/150\n",
      "43/43 [==============================] - 0s 9ms/step - loss: 7.0733e-04 - val_loss: 3.7477e-05\n",
      "\n",
      "Epoch 00031: val_loss did not improve from 0.00000\n",
      "Epoch 32/150\n",
      "43/43 [==============================] - 0s 10ms/step - loss: 5.9870e-04 - val_loss: 1.5829e-05\n",
      "\n",
      "Epoch 00032: val_loss did not improve from 0.00000\n",
      "Epoch 33/150\n",
      "43/43 [==============================] - 0s 9ms/step - loss: 9.6773e-04 - val_loss: 2.3344e-05\n",
      "\n",
      "Epoch 00033: val_loss did not improve from 0.00000\n",
      "Epoch 34/150\n",
      "43/43 [==============================] - 0s 9ms/step - loss: 4.5941e-04 - val_loss: 4.5304e-06\n",
      "\n",
      "Epoch 00034: val_loss did not improve from 0.00000\n",
      "Epoch 35/150\n",
      "43/43 [==============================] - 0s 10ms/step - loss: 6.6442e-04 - val_loss: 3.0320e-06\n",
      "\n",
      "Epoch 00035: val_loss improved from 0.00000 to 0.00000, saving model to results/univariate_LSTM\\rnn.h5\n",
      "Epoch 36/150\n",
      "43/43 [==============================] - 0s 10ms/step - loss: 5.2688e-04 - val_loss: 4.3649e-06\n",
      "\n",
      "Epoch 00036: val_loss did not improve from 0.00000\n",
      "Epoch 37/150\n",
      "43/43 [==============================] - 0s 10ms/step - loss: 5.9119e-04 - val_loss: 8.5363e-06\n",
      "\n",
      "Epoch 00037: val_loss did not improve from 0.00000\n",
      "Epoch 38/150\n",
      "43/43 [==============================] - 0s 10ms/step - loss: 0.0010 - val_loss: 7.6865e-06\n",
      "\n",
      "Epoch 00038: val_loss did not improve from 0.00000\n",
      "Epoch 39/150\n",
      "43/43 [==============================] - 0s 9ms/step - loss: 8.3198e-04 - val_loss: 3.9611e-06\n",
      "\n",
      "Epoch 00039: val_loss did not improve from 0.00000\n",
      "Epoch 40/150\n",
      "43/43 [==============================] - 0s 10ms/step - loss: 7.7623e-04 - val_loss: 1.1096e-05\n",
      "\n",
      "Epoch 00040: val_loss did not improve from 0.00000\n",
      "Epoch 41/150\n",
      "43/43 [==============================] - 0s 9ms/step - loss: 5.9813e-04 - val_loss: 3.1117e-06\n",
      "\n",
      "Epoch 00041: val_loss did not improve from 0.00000\n",
      "Epoch 42/150\n",
      "43/43 [==============================] - 0s 10ms/step - loss: 6.4006e-04 - val_loss: 3.1867e-06\n",
      "\n",
      "Epoch 00042: val_loss did not improve from 0.00000\n",
      "Epoch 43/150\n",
      "43/43 [==============================] - 0s 10ms/step - loss: 6.2423e-04 - val_loss: 2.9919e-06\n",
      "\n",
      "Epoch 00043: val_loss improved from 0.00000 to 0.00000, saving model to results/univariate_LSTM\\rnn.h5\n",
      "Epoch 44/150\n",
      "43/43 [==============================] - 0s 10ms/step - loss: 4.6812e-04 - val_loss: 1.1271e-05\n",
      "\n",
      "Epoch 00044: val_loss did not improve from 0.00000\n",
      "Epoch 45/150\n",
      "43/43 [==============================] - 0s 10ms/step - loss: 4.6527e-04 - val_loss: 4.8014e-06\n",
      "\n",
      "Epoch 00045: val_loss did not improve from 0.00000\n",
      "Epoch 46/150\n",
      "43/43 [==============================] - 0s 9ms/step - loss: 4.8630e-04 - val_loss: 8.3611e-06\n",
      "\n",
      "Epoch 00046: val_loss did not improve from 0.00000\n",
      "Epoch 47/150\n",
      "43/43 [==============================] - 0s 10ms/step - loss: 4.5210e-04 - val_loss: 3.0633e-06\n",
      "\n",
      "Epoch 00047: val_loss did not improve from 0.00000\n",
      "Epoch 48/150\n",
      "43/43 [==============================] - 0s 10ms/step - loss: 5.2339e-04 - val_loss: 3.9073e-06\n"
     ]
    },
    {
     "name": "stdout",
     "output_type": "stream",
     "text": [
      "\n",
      "Epoch 00048: val_loss did not improve from 0.00000\n",
      "Epoch 49/150\n",
      "43/43 [==============================] - 0s 10ms/step - loss: 5.2295e-04 - val_loss: 4.7050e-06\n",
      "\n",
      "Epoch 00049: val_loss did not improve from 0.00000\n",
      "Epoch 50/150\n",
      "43/43 [==============================] - 0s 9ms/step - loss: 6.3450e-04 - val_loss: 7.4938e-05\n",
      "\n",
      "Epoch 00050: val_loss did not improve from 0.00000\n",
      "Epoch 51/150\n",
      "43/43 [==============================] - 0s 10ms/step - loss: 4.2130e-04 - val_loss: 5.5385e-05\n",
      "\n",
      "Epoch 00051: val_loss did not improve from 0.00000\n",
      "Epoch 52/150\n",
      "43/43 [==============================] - 0s 10ms/step - loss: 0.0011 - val_loss: 8.8009e-06\n",
      "\n",
      "Epoch 00052: val_loss did not improve from 0.00000\n",
      "Epoch 53/150\n",
      "43/43 [==============================] - 0s 9ms/step - loss: 8.6939e-04 - val_loss: 1.7270e-05\n",
      "\n",
      "Epoch 00053: val_loss did not improve from 0.00000\n",
      "Epoch 54/150\n",
      "43/43 [==============================] - 0s 9ms/step - loss: 5.6459e-04 - val_loss: 2.6502e-05\n",
      "\n",
      "Epoch 00054: val_loss did not improve from 0.00000\n",
      "Epoch 55/150\n",
      "43/43 [==============================] - 0s 9ms/step - loss: 4.5351e-04 - val_loss: 9.9507e-06\n",
      "\n",
      "Epoch 00055: val_loss did not improve from 0.00000\n",
      "Epoch 56/150\n",
      "43/43 [==============================] - 0s 10ms/step - loss: 3.5871e-04 - val_loss: 7.6627e-06\n",
      "\n",
      "Epoch 00056: val_loss did not improve from 0.00000\n",
      "Epoch 57/150\n",
      "43/43 [==============================] - 0s 10ms/step - loss: 5.1643e-04 - val_loss: 2.6640e-06\n",
      "\n",
      "Epoch 00057: val_loss improved from 0.00000 to 0.00000, saving model to results/univariate_LSTM\\rnn.h5\n",
      "Epoch 58/150\n",
      "43/43 [==============================] - 0s 10ms/step - loss: 8.3021e-04 - val_loss: 2.8864e-05\n",
      "\n",
      "Epoch 00058: val_loss did not improve from 0.00000\n",
      "Epoch 59/150\n",
      "43/43 [==============================] - 0s 10ms/step - loss: 4.6832e-04 - val_loss: 5.1153e-06\n",
      "\n",
      "Epoch 00059: val_loss did not improve from 0.00000\n",
      "Epoch 60/150\n",
      "43/43 [==============================] - 0s 10ms/step - loss: 3.6912e-04 - val_loss: 6.8292e-06\n",
      "\n",
      "Epoch 00060: val_loss did not improve from 0.00000\n",
      "Epoch 61/150\n",
      "43/43 [==============================] - 0s 10ms/step - loss: 4.1949e-04 - val_loss: 5.2434e-06\n",
      "\n",
      "Epoch 00061: val_loss did not improve from 0.00000\n",
      "Epoch 62/150\n",
      "43/43 [==============================] - 0s 10ms/step - loss: 8.7644e-04 - val_loss: 1.2647e-05\n",
      "\n",
      "Epoch 00062: val_loss did not improve from 0.00000\n",
      "Epoch 63/150\n",
      "43/43 [==============================] - 0s 10ms/step - loss: 3.8912e-04 - val_loss: 1.1070e-05\n",
      "\n",
      "Epoch 00063: val_loss did not improve from 0.00000\n",
      "Epoch 64/150\n",
      "43/43 [==============================] - 0s 10ms/step - loss: 5.1659e-04 - val_loss: 2.8171e-06\n",
      "\n",
      "Epoch 00064: val_loss did not improve from 0.00000\n",
      "Epoch 65/150\n",
      "43/43 [==============================] - 0s 9ms/step - loss: 7.0332e-04 - val_loss: 4.0744e-06\n",
      "\n",
      "Epoch 00065: val_loss did not improve from 0.00000\n",
      "Epoch 66/150\n",
      "43/43 [==============================] - 0s 10ms/step - loss: 6.8711e-04 - val_loss: 2.5628e-06\n",
      "\n",
      "Epoch 00066: val_loss improved from 0.00000 to 0.00000, saving model to results/univariate_LSTM\\rnn.h5\n",
      "Epoch 67/150\n",
      "43/43 [==============================] - 0s 10ms/step - loss: 3.4544e-04 - val_loss: 2.5205e-06\n",
      "\n",
      "Epoch 00067: val_loss improved from 0.00000 to 0.00000, saving model to results/univariate_LSTM\\rnn.h5\n",
      "Epoch 68/150\n",
      "43/43 [==============================] - 0s 10ms/step - loss: 7.6687e-04 - val_loss: 5.2315e-06\n",
      "\n",
      "Epoch 00068: val_loss did not improve from 0.00000\n",
      "Epoch 69/150\n",
      "43/43 [==============================] - 0s 10ms/step - loss: 5.5671e-04 - val_loss: 2.4256e-06\n",
      "\n",
      "Epoch 00069: val_loss improved from 0.00000 to 0.00000, saving model to results/univariate_LSTM\\rnn.h5\n",
      "Epoch 70/150\n",
      "43/43 [==============================] - 0s 10ms/step - loss: 5.2097e-04 - val_loss: 5.2750e-06\n",
      "\n",
      "Epoch 00070: val_loss did not improve from 0.00000\n",
      "Epoch 71/150\n",
      "43/43 [==============================] - 0s 10ms/step - loss: 4.6998e-04 - val_loss: 6.4427e-06\n",
      "\n",
      "Epoch 00071: val_loss did not improve from 0.00000\n",
      "Epoch 72/150\n",
      "43/43 [==============================] - 0s 10ms/step - loss: 5.6988e-04 - val_loss: 5.6801e-06\n",
      "\n",
      "Epoch 00072: val_loss did not improve from 0.00000\n",
      "Epoch 73/150\n",
      "43/43 [==============================] - 0s 10ms/step - loss: 0.0014 - val_loss: 1.0874e-05\n",
      "\n",
      "Epoch 00073: val_loss did not improve from 0.00000\n",
      "Epoch 74/150\n",
      "43/43 [==============================] - 0s 10ms/step - loss: 5.3395e-04 - val_loss: 3.0965e-06\n",
      "\n",
      "Epoch 00074: val_loss did not improve from 0.00000\n",
      "Epoch 75/150\n",
      "43/43 [==============================] - 0s 10ms/step - loss: 5.0485e-04 - val_loss: 2.8465e-06\n",
      "\n",
      "Epoch 00075: val_loss did not improve from 0.00000\n",
      "Epoch 76/150\n",
      "43/43 [==============================] - 0s 10ms/step - loss: 9.4548e-04 - val_loss: 2.3764e-05\n",
      "\n",
      "Epoch 00076: val_loss did not improve from 0.00000\n",
      "Epoch 77/150\n",
      "43/43 [==============================] - 0s 10ms/step - loss: 6.9070e-04 - val_loss: 4.4999e-05\n",
      "\n",
      "Epoch 00077: val_loss did not improve from 0.00000\n",
      "Epoch 78/150\n",
      "43/43 [==============================] - 0s 9ms/step - loss: 4.5394e-04 - val_loss: 1.5066e-05\n",
      "\n",
      "Epoch 00078: val_loss did not improve from 0.00000\n",
      "Epoch 79/150\n",
      "43/43 [==============================] - 0s 10ms/step - loss: 3.5603e-04 - val_loss: 5.0741e-06\n",
      "\n",
      "Epoch 00079: val_loss did not improve from 0.00000\n",
      "Epoch 80/150\n",
      "43/43 [==============================] - 0s 9ms/step - loss: 7.4531e-04 - val_loss: 1.7700e-05\n",
      "\n",
      "Epoch 00080: val_loss did not improve from 0.00000\n",
      "Epoch 81/150\n",
      "43/43 [==============================] - 0s 10ms/step - loss: 4.8498e-04 - val_loss: 3.5746e-06\n",
      "\n",
      "Epoch 00081: val_loss did not improve from 0.00000\n",
      "Epoch 82/150\n",
      "43/43 [==============================] - 0s 10ms/step - loss: 4.0529e-04 - val_loss: 2.4291e-06\n",
      "\n",
      "Epoch 00082: val_loss did not improve from 0.00000\n",
      "Epoch 83/150\n",
      "43/43 [==============================] - 0s 9ms/step - loss: 7.1099e-04 - val_loss: 8.0812e-06\n",
      "\n",
      "Epoch 00083: val_loss did not improve from 0.00000\n",
      "Epoch 84/150\n",
      "43/43 [==============================] - 0s 9ms/step - loss: 5.3817e-04 - val_loss: 2.4584e-06\n",
      "\n",
      "Epoch 00084: val_loss did not improve from 0.00000\n",
      "Epoch 85/150\n",
      "43/43 [==============================] - 0s 10ms/step - loss: 4.7190e-04 - val_loss: 3.0070e-06\n",
      "\n",
      "Epoch 00085: val_loss did not improve from 0.00000\n",
      "Epoch 86/150\n",
      "43/43 [==============================] - 0s 10ms/step - loss: 5.3374e-04 - val_loss: 4.7387e-06\n",
      "\n",
      "Epoch 00086: val_loss did not improve from 0.00000\n",
      "Epoch 87/150\n",
      "43/43 [==============================] - 0s 10ms/step - loss: 4.1104e-04 - val_loss: 6.9020e-06\n",
      "\n",
      "Epoch 00087: val_loss did not improve from 0.00000\n",
      "Epoch 88/150\n",
      "43/43 [==============================] - 0s 10ms/step - loss: 5.3911e-04 - val_loss: 8.0777e-06\n",
      "\n",
      "Epoch 00088: val_loss did not improve from 0.00000\n",
      "Epoch 89/150\n",
      "43/43 [==============================] - 0s 10ms/step - loss: 4.0990e-04 - val_loss: 2.8511e-06\n",
      "\n",
      "Epoch 00089: val_loss did not improve from 0.00000\n"
     ]
    }
   ],
   "source": [
    "lstm_training_price = rnn_price.fit(X_train,y_train, epochs = 150, batch_size = 20, shuffle = True, validation_data=(X_test,y_test),callbacks = [early_stopping,checkpointer],verbose =1)"
   ]
  },
  {
   "cell_type": "markdown",
   "metadata": {},
   "source": [
    "# Evaluate model performance"
   ]
  },
  {
   "cell_type": "code",
   "execution_count": 75,
   "metadata": {},
   "outputs": [
    {
     "data": {
      "image/png": "[encoded data removed]",
      "text/plain": [
       "<Figure size 1296x648 with 1 Axes>"
      ]
     },
     "metadata": {},
     "output_type": "display_data"
    }
   ],
   "source": [
    "fig, ax = plt.subplots(figsize=(18, 9))\n",
    "\n",
    "loss_history = pd.DataFrame(lstm_training_price.history).pow(.5)\n",
    "loss_history.index += 1\n",
    "best_rmse = loss_history.val_loss.min()\n",
    "\n",
    "best_epoch = loss_history.val_loss.idxmin()\n",
    "\n",
    "title = f'5-Epoch Rolling RMSE (Best Validation RMSE: {best_rmse:.4%})'\n",
    "loss_history.columns=['Training RMSE', 'Validation RMSE']\n",
    "loss_history.rolling(5).mean().plot(logy=True, lw=2, title=title, ax=ax)\n",
    "\n",
    "ax.axvline(best_epoch, ls='--', lw=1, c='k')\n",
    "\n",
    "sns.despine()\n",
    "fig.tight_layout()\n",
    "fig.savefig(results_path / 'rnn_cc_error', dpi=300);"
   ]
  },
  {
   "cell_type": "code",
   "execution_count": 76,
   "metadata": {},
   "outputs": [
    {
     "name": "stdout",
     "output_type": "stream",
     "text": [
      "Train RMSE: 0.0256 | Test RMSE: 0.0016\n"
     ]
    }
   ],
   "source": [
    "train_rmse_scaled = np.sqrt(rnn_price.evaluate(X_train, y_train, verbose=0))\n",
    "test_rmse_scaled = np.sqrt(rnn_price.evaluate(X_test, y_test, verbose=0))\n",
    "print(f'Train RMSE: {train_rmse_scaled:.4f} | Test RMSE: {test_rmse_scaled:.4f}')"
   ]
  },
  {
   "cell_type": "code",
   "execution_count": 77,
   "metadata": {},
   "outputs": [],
   "source": [
    "train_predict_scaled = rnn_price.predict(X_train)\n",
    "test_predict_scaled = rnn_price.predict(X_test)"
   ]
  },
  {
   "cell_type": "code",
   "execution_count": 78,
   "metadata": {},
   "outputs": [
    {
     "name": "stdout",
     "output_type": "stream",
     "text": [
      "Train IC: 0.9940 | Test IC: 0.9738\n"
     ]
    }
   ],
   "source": [
    "train_ic = spearmanr(y_train, train_predict_scaled)[0]\n",
    "test_ic = spearmanr(y_test, test_predict_scaled)[0]\n",
    "print(f'Train IC: {train_ic:.4f} | Test IC: {test_ic:.4f}')"
   ]
  },
  {
   "cell_type": "markdown",
   "metadata": {},
   "source": [
    "# Rescale predictions"
   ]
  },
  {
   "cell_type": "code",
   "execution_count": 79,
   "metadata": {},
   "outputs": [],
   "source": [
    "train_predict = pd.Series(scaler.inverse_transform(train_predict_scaled).squeeze(), index=y_train.index)\n",
    "test_predict =  pd.Series(scaler.inverse_transform(test_predict_scaled) .squeeze(), index=y_test.index)"
   ]
  },
  {
   "cell_type": "code",
   "execution_count": 80,
   "metadata": {},
   "outputs": [],
   "source": [
    "y_train_rescaled = scaler.inverse_transform(y_train.to_frame()).squeeze()\n",
    "y_test_rescaled = scaler.inverse_transform(y_test.to_frame()).squeeze()"
   ]
  },
  {
   "cell_type": "code",
   "execution_count": 81,
   "metadata": {},
   "outputs": [
    {
     "name": "stdout",
     "output_type": "stream",
     "text": [
      "Train RMSE: 2.40 | Test RMSE: 0.15\n"
     ]
    }
   ],
   "source": [
    "train_rmse = np.sqrt(mean_squared_error(train_predict, y_train_rescaled))\n",
    "test_rmse = np.sqrt(mean_squared_error(test_predict, y_test_rescaled))\n",
    "print(f'Train RMSE: {train_rmse:.2f} | Test RMSE: {test_rmse:.2f}')"
   ]
  },
  {
   "cell_type": "code",
   "execution_count": 82,
   "metadata": {
    "scrolled": true
   },
   "outputs": [],
   "source": [
    "dfclose['Train Predictions'] = train_predict\n",
    "dfclose['Test Predictions'] = test_predict\n",
    "dfclose = dfclose.join(train_predict.to_frame('predictions').assign(data='Train')\n",
    "                        .append(test_predict.to_frame('predictions').assign(data='Test')))"
   ]
  },
  {
   "cell_type": "code",
   "execution_count": 83,
   "metadata": {},
   "outputs": [
    {
     "data": {
      "text/html": [
       "<div>\n",
       "<style scoped>\n",
       "    .dataframe tbody tr th:only-of-type {\n",
       "        vertical-align: middle;\n",
       "    }\n",
       "\n",
       "    .dataframe tbody tr th {\n",
       "        vertical-align: top;\n",
       "    }\n",
       "\n",
       "    .dataframe thead th {\n",
       "        text-align: right;\n",
       "    }\n",
       "</style>\n",
       "<table border=\"1\" class=\"dataframe\">\n",
       "  <thead>\n",
       "    <tr style=\"text-align: right;\">\n",
       "      <th></th>\n",
       "      <th>close</th>\n",
       "      <th>Train Predictions</th>\n",
       "      <th>Test Predictions</th>\n",
       "      <th>predictions</th>\n",
       "      <th>data</th>\n",
       "    </tr>\n",
       "    <tr>\n",
       "      <th>date</th>\n",
       "      <th></th>\n",
       "      <th></th>\n",
       "      <th></th>\n",
       "      <th></th>\n",
       "      <th></th>\n",
       "    </tr>\n",
       "  </thead>\n",
       "  <tbody>\n",
       "    <tr>\n",
       "      <th>2017-05-23</th>\n",
       "      <td>6.190530</td>\n",
       "      <td>NaN</td>\n",
       "      <td>NaN</td>\n",
       "      <td>NaN</td>\n",
       "      <td>NaN</td>\n",
       "    </tr>\n",
       "    <tr>\n",
       "      <th>2017-05-24</th>\n",
       "      <td>4.656620</td>\n",
       "      <td>NaN</td>\n",
       "      <td>NaN</td>\n",
       "      <td>NaN</td>\n",
       "      <td>NaN</td>\n",
       "    </tr>\n",
       "    <tr>\n",
       "      <th>2017-05-25</th>\n",
       "      <td>4.099790</td>\n",
       "      <td>NaN</td>\n",
       "      <td>NaN</td>\n",
       "      <td>NaN</td>\n",
       "      <td>NaN</td>\n",
       "    </tr>\n",
       "    <tr>\n",
       "      <th>2017-05-26</th>\n",
       "      <td>4.533650</td>\n",
       "      <td>NaN</td>\n",
       "      <td>NaN</td>\n",
       "      <td>NaN</td>\n",
       "      <td>NaN</td>\n",
       "    </tr>\n",
       "    <tr>\n",
       "      <th>2017-05-27</th>\n",
       "      <td>4.621810</td>\n",
       "      <td>NaN</td>\n",
       "      <td>NaN</td>\n",
       "      <td>NaN</td>\n",
       "      <td>NaN</td>\n",
       "    </tr>\n",
       "    <tr>\n",
       "      <th>...</th>\n",
       "      <td>...</td>\n",
       "      <td>...</td>\n",
       "      <td>...</td>\n",
       "      <td>...</td>\n",
       "      <td>...</td>\n",
       "    </tr>\n",
       "    <tr>\n",
       "      <th>2020-12-26</th>\n",
       "      <td>2.263639</td>\n",
       "      <td>NaN</td>\n",
       "      <td>2.274905</td>\n",
       "      <td>2.274905</td>\n",
       "      <td>Test</td>\n",
       "    </tr>\n",
       "    <tr>\n",
       "      <th>2020-12-27</th>\n",
       "      <td>2.272775</td>\n",
       "      <td>NaN</td>\n",
       "      <td>2.245942</td>\n",
       "      <td>2.245942</td>\n",
       "      <td>Test</td>\n",
       "    </tr>\n",
       "    <tr>\n",
       "      <th>2020-12-28</th>\n",
       "      <td>2.378930</td>\n",
       "      <td>NaN</td>\n",
       "      <td>2.240146</td>\n",
       "      <td>2.240146</td>\n",
       "      <td>Test</td>\n",
       "    </tr>\n",
       "    <tr>\n",
       "      <th>2020-12-29</th>\n",
       "      <td>2.272770</td>\n",
       "      <td>NaN</td>\n",
       "      <td>2.289539</td>\n",
       "      <td>2.289539</td>\n",
       "      <td>Test</td>\n",
       "    </tr>\n",
       "    <tr>\n",
       "      <th>2020-12-30</th>\n",
       "      <td>2.217653</td>\n",
       "      <td>NaN</td>\n",
       "      <td>2.283817</td>\n",
       "      <td>2.283817</td>\n",
       "      <td>Test</td>\n",
       "    </tr>\n",
       "  </tbody>\n",
       "</table>\n",
       "<p>1310 rows × 5 columns</p>\n",
       "</div>"
      ],
      "text/plain": [
       "               close  Train Predictions  Test Predictions  predictions  data\n",
       "date                                                                        \n",
       "2017-05-23  6.190530                NaN               NaN          NaN   NaN\n",
       "2017-05-24  4.656620                NaN               NaN          NaN   NaN\n",
       "2017-05-25  4.099790                NaN               NaN          NaN   NaN\n",
       "2017-05-26  4.533650                NaN               NaN          NaN   NaN\n",
       "2017-05-27  4.621810                NaN               NaN          NaN   NaN\n",
       "...              ...                ...               ...          ...   ...\n",
       "2020-12-26  2.263639                NaN          2.274905     2.274905  Test\n",
       "2020-12-27  2.272775                NaN          2.245942     2.245942  Test\n",
       "2020-12-28  2.378930                NaN          2.240146     2.240146  Test\n",
       "2020-12-29  2.272770                NaN          2.289539     2.289539  Test\n",
       "2020-12-30  2.217653                NaN          2.283817     2.283817  Test\n",
       "\n",
       "[1310 rows x 5 columns]"
      ]
     },
     "execution_count": 83,
     "metadata": {},
     "output_type": "execute_result"
    }
   ],
   "source": [
    "dfclose"
   ]
  },
  {
   "cell_type": "code",
   "execution_count": 84,
   "metadata": {},
   "outputs": [
    {
     "data": {
      "image/png": "[encoded data removed]",
      "text/plain": [
       "<Figure size 1296x648 with 4 Axes>"
      ]
     },
     "metadata": {},
     "output_type": "display_data"
    }
   ],
   "source": [
    "fig=plt.figure(figsize=(18,9))\n",
    "ax1 = plt.subplot(221)\n",
    "\n",
    "dfclose.loc['2017':, 'close'].plot(lw=4, ax=ax1, c='k')\n",
    "dfclose.loc['2017':, ['Test Predictions', 'Train Predictions']].plot(lw=1, ax=ax1, ls='--')\n",
    "ax1.set_title('In- and Out-of-sample Predictions')\n",
    "\n",
    "\n",
    "with sns.axes_style(\"white\"):\n",
    "    ax3 = plt.subplot(223)\n",
    "    sns.scatterplot(x='close', y='predictions', data=dfclose, hue='data', ax=ax3)\n",
    "    ax3.text(x=.02, y=.95, s=f'Test IC ={test_ic:.2%}', transform=ax3.transAxes)\n",
    "    ax3.text(x=.02, y=.87, s=f'Train IC={train_ic:.2%}', transform=ax3.transAxes)\n",
    "    ax3.set_title('Correlation')\n",
    "    ax3.legend(loc='lower right')\n",
    "    \n",
    "    ax2 = plt.subplot(222)\n",
    "    ax4 = plt.subplot(224, sharex = ax2, sharey=ax2)\n",
    "    sns.distplot(train_predict.squeeze()- y_train_rescaled, ax=ax2)\n",
    "    ax2.set_title('Train Error')\n",
    "    ax2.text(x=.03, y=.92, s=f'Train RMSE ={train_rmse:.4f}', transform=ax2.transAxes)\n",
    "    sns.distplot(test_predict.squeeze()-y_test_rescaled, ax=ax4)\n",
    "    ax4.set_title('Test Error')\n",
    "    ax4.text(x=.03, y=.92, s=f'Test RMSE ={test_rmse:.4f}', transform=ax4.transAxes)\n",
    "\n",
    "sns.despine()\n",
    "fig.tight_layout()\n",
    "# fig.savefig(results_path / 'rnn_cc_regression', dpi=300);"
   ]
  },
  {
   "cell_type": "code",
   "execution_count": 85,
   "metadata": {},
   "outputs": [
    {
     "name": "stdout",
     "output_type": "stream",
     "text": [
      "Test accuracy: 0.47\n"
     ]
    }
   ],
   "source": [
    "model_test = dfclose.copy()\n",
    "ar = np.log(model_test['close']/model_test['close'].shift()).fillna(0)\n",
    "pr = np.log(model_test['predictions'] / model_test['close'].shift()).fillna(0)\n",
    "tmp = ar*pr[-30:]\n",
    "accuracy = len(tmp[tmp>0])/30\n",
    "print(f'Test accuracy: {accuracy:.2f}')"
   ]
  },
  {
   "cell_type": "code",
   "execution_count": null,
   "metadata": {},
   "outputs": [],
   "source": []
  },
  {
   "cell_type": "code",
   "execution_count": null,
   "metadata": {},
   "outputs": [],
   "source": []
  },
  {
   "cell_type": "markdown",
   "metadata": {},
   "source": [
    "# Predicting Future Returns:"
   ]
  },
  {
   "cell_type": "markdown",
   "metadata": {},
   "source": [
    "# Preprocessing"
   ]
  },
  {
   "cell_type": "code",
   "execution_count": 86,
   "metadata": {},
   "outputs": [
    {
     "data": {
      "text/plain": [
       "count    1309.000000\n",
       "mean        0.508504\n",
       "std         0.067504\n",
       "min         0.000000\n",
       "25%         0.482511\n",
       "50%         0.508543\n",
       "75%         0.535973\n",
       "max         1.000000\n",
       "dtype: float64"
      ]
     },
     "execution_count": 86,
     "metadata": {},
     "output_type": "execute_result"
    }
   ],
   "source": [
    "scaler = MinMaxScaler()\n",
    "dfreturn_scaled = pd.Series(scaler.fit_transform(dfreturn).squeeze(),index =dfreturn.index)\n",
    "dfreturn_scaled.describe()"
   ]
  },
  {
   "cell_type": "markdown",
   "metadata": {},
   "source": [
    "# Generating recurrent sequences from the time series"
   ]
  },
  {
   "cell_type": "code",
   "execution_count": 87,
   "metadata": {},
   "outputs": [],
   "source": [
    "def create_univariate_rnn_data(data, window_size):\n",
    "    n = len(data)\n",
    "    y = data[window_size:]\n",
    "    data = data.values.reshape(-1, 1) # make 2D\n",
    "    X = np.hstack(tuple([data[i: n-j, :] for i, j in enumerate(range(window_size, 0, -1))]))\n",
    "    return pd.DataFrame(X, index=y.index), y"
   ]
  },
  {
   "cell_type": "code",
   "execution_count": 88,
   "metadata": {},
   "outputs": [],
   "source": [
    "window_size = 90"
   ]
  },
  {
   "cell_type": "code",
   "execution_count": 89,
   "metadata": {},
   "outputs": [],
   "source": [
    "X,y = create_univariate_rnn_data(dfreturn_scaled, window_size)"
   ]
  },
  {
   "cell_type": "code",
   "execution_count": 90,
   "metadata": {},
   "outputs": [
    {
     "data": {
      "text/plain": [
       "(1219, 90)"
      ]
     },
     "execution_count": 90,
     "metadata": {},
     "output_type": "execute_result"
    }
   ],
   "source": [
    "X.shape"
   ]
  },
  {
   "cell_type": "markdown",
   "metadata": {},
   "source": [
    "# Train-test split"
   ]
  },
  {
   "cell_type": "code",
   "execution_count": 91,
   "metadata": {},
   "outputs": [
    {
     "data": {
      "image/png": "[encoded data removed]",
      "text/plain": [
       "<Figure size 1008x288 with 1 Axes>"
      ]
     },
     "metadata": {},
     "output_type": "display_data"
    }
   ],
   "source": [
    "ax = dfreturn_scaled.plot(lw=2, figsize=(14, 4), rot=0)\n",
    "ax.set_xlabel('')\n",
    "sns.despine()"
   ]
  },
  {
   "cell_type": "code",
   "execution_count": 92,
   "metadata": {},
   "outputs": [],
   "source": [
    "X_train = X[:'2020'].values.reshape(-1, window_size, 1)\n",
    "y_train = y[:'2020']\n",
    "\n",
    "# keep the last year for testing\n",
    "X_test = X['2020':].values.reshape(-1, window_size, 1)\n",
    "y_test = y['2020':]"
   ]
  },
  {
   "cell_type": "code",
   "execution_count": 93,
   "metadata": {},
   "outputs": [],
   "source": [
    "n_obs, window_size, n_features = X_train.shape"
   ]
  },
  {
   "cell_type": "code",
   "execution_count": 94,
   "metadata": {},
   "outputs": [
    {
     "data": {
      "text/plain": [
       "(859,)"
      ]
     },
     "execution_count": 94,
     "metadata": {},
     "output_type": "execute_result"
    }
   ],
   "source": [
    "y_train.shape"
   ]
  },
  {
   "cell_type": "markdown",
   "metadata": {},
   "source": [
    "# Define Model Architechture"
   ]
  },
  {
   "cell_type": "code",
   "execution_count": 95,
   "metadata": {},
   "outputs": [],
   "source": [
    "rnn_return = Sequential([\n",
    "    LSTM(units = 10, input_shape = (window_size,n_features), name='LSTM'),\n",
    "    Dense(1, name='Output')\n",
    "])"
   ]
  },
  {
   "cell_type": "code",
   "execution_count": 96,
   "metadata": {},
   "outputs": [
    {
     "name": "stdout",
     "output_type": "stream",
     "text": [
      "Model: \"sequential_3\"\n",
      "_________________________________________________________________\n",
      "Layer (type)                 Output Shape              Param #   \n",
      "=================================================================\n",
      "LSTM (LSTM)                  (None, 10)                480       \n",
      "_________________________________________________________________\n",
      "Output (Dense)               (None, 1)                 11        \n",
      "=================================================================\n",
      "Total params: 491\n",
      "Trainable params: 491\n",
      "Non-trainable params: 0\n",
      "_________________________________________________________________\n"
     ]
    }
   ],
   "source": [
    "rnn_return.summary()"
   ]
  },
  {
   "cell_type": "markdown",
   "metadata": {},
   "source": [
    "# Train the Model"
   ]
  },
  {
   "cell_type": "code",
   "execution_count": 97,
   "metadata": {},
   "outputs": [],
   "source": [
    "rnn_return.compile(loss = 'mean_squared_error', optimizer = optimizer)"
   ]
  },
  {
   "cell_type": "code",
   "execution_count": 98,
   "metadata": {
    "scrolled": true
   },
   "outputs": [
    {
     "name": "stdout",
     "output_type": "stream",
     "text": [
      "Epoch 1/150\n",
      "43/43 [==============================] - 3s 22ms/step - loss: 0.2691 - val_loss: 0.0034\n",
      "\n",
      "Epoch 00001: val_loss did not improve from 0.00000\n",
      "Epoch 2/150\n",
      "43/43 [==============================] - 0s 11ms/step - loss: 0.0045 - val_loss: 0.0029\n",
      "\n",
      "Epoch 00002: val_loss did not improve from 0.00000\n",
      "Epoch 3/150\n",
      "43/43 [==============================] - 0s 11ms/step - loss: 0.0043 - val_loss: 0.0030\n",
      "\n",
      "Epoch 00003: val_loss did not improve from 0.00000\n",
      "Epoch 4/150\n",
      "43/43 [==============================] - 0s 11ms/step - loss: 0.0049 - val_loss: 0.0031\n",
      "\n",
      "Epoch 00004: val_loss did not improve from 0.00000\n",
      "Epoch 5/150\n",
      "43/43 [==============================] - 0s 11ms/step - loss: 0.0052 - val_loss: 0.0033\n",
      "\n",
      "Epoch 00005: val_loss did not improve from 0.00000\n",
      "Epoch 6/150\n",
      "43/43 [==============================] - 1s 12ms/step - loss: 0.0051 - val_loss: 0.0030\n",
      "\n",
      "Epoch 00006: val_loss did not improve from 0.00000\n",
      "Epoch 7/150\n",
      "43/43 [==============================] - 0s 11ms/step - loss: 0.0047 - val_loss: 0.0032\n",
      "\n",
      "Epoch 00007: val_loss did not improve from 0.00000\n",
      "Epoch 8/150\n",
      "43/43 [==============================] - 0s 12ms/step - loss: 0.0042 - val_loss: 0.0030\n",
      "\n",
      "Epoch 00008: val_loss did not improve from 0.00000\n",
      "Epoch 9/150\n",
      "43/43 [==============================] - 0s 11ms/step - loss: 0.0041 - val_loss: 0.0038\n",
      "\n",
      "Epoch 00009: val_loss did not improve from 0.00000\n",
      "Epoch 10/150\n",
      "43/43 [==============================] - 0s 11ms/step - loss: 0.0053 - val_loss: 0.0034\n",
      "\n",
      "Epoch 00010: val_loss did not improve from 0.00000\n",
      "Epoch 11/150\n",
      "43/43 [==============================] - 0s 11ms/step - loss: 0.0045 - val_loss: 0.0031\n",
      "\n",
      "Epoch 00011: val_loss did not improve from 0.00000\n",
      "Epoch 12/150\n",
      "43/43 [==============================] - 0s 11ms/step - loss: 0.0043 - val_loss: 0.0030\n",
      "\n",
      "Epoch 00012: val_loss did not improve from 0.00000\n",
      "Epoch 13/150\n",
      "43/43 [==============================] - 0s 11ms/step - loss: 0.0041 - val_loss: 0.0029\n",
      "\n",
      "Epoch 00013: val_loss did not improve from 0.00000\n",
      "Epoch 14/150\n",
      "43/43 [==============================] - 0s 11ms/step - loss: 0.0047 - val_loss: 0.0030\n",
      "\n",
      "Epoch 00014: val_loss did not improve from 0.00000\n",
      "Epoch 15/150\n",
      "43/43 [==============================] - 0s 10ms/step - loss: 0.0047 - val_loss: 0.0032\n",
      "\n",
      "Epoch 00015: val_loss did not improve from 0.00000\n",
      "Epoch 16/150\n",
      "43/43 [==============================] - 0s 11ms/step - loss: 0.0043 - val_loss: 0.0033\n",
      "\n",
      "Epoch 00016: val_loss did not improve from 0.00000\n",
      "Epoch 17/150\n",
      "43/43 [==============================] - 0s 11ms/step - loss: 0.0043 - val_loss: 0.0030\n",
      "\n",
      "Epoch 00017: val_loss did not improve from 0.00000\n",
      "Epoch 18/150\n",
      "43/43 [==============================] - 0s 11ms/step - loss: 0.0047 - val_loss: 0.0029\n",
      "\n",
      "Epoch 00018: val_loss did not improve from 0.00000\n",
      "Epoch 19/150\n",
      "43/43 [==============================] - 0s 11ms/step - loss: 0.0044 - val_loss: 0.0029\n",
      "\n",
      "Epoch 00019: val_loss did not improve from 0.00000\n",
      "Epoch 20/150\n",
      "43/43 [==============================] - 0s 11ms/step - loss: 0.0053 - val_loss: 0.0029\n",
      "\n",
      "Epoch 00020: val_loss did not improve from 0.00000\n",
      "Epoch 21/150\n",
      "43/43 [==============================] - 0s 11ms/step - loss: 0.0040 - val_loss: 0.0032\n",
      "\n",
      "Epoch 00021: val_loss did not improve from 0.00000\n",
      "Epoch 22/150\n",
      "43/43 [==============================] - 0s 11ms/step - loss: 0.0040 - val_loss: 0.0031\n",
      "\n",
      "Epoch 00022: val_loss did not improve from 0.00000\n",
      "Epoch 23/150\n",
      "43/43 [==============================] - 0s 11ms/step - loss: 0.0051 - val_loss: 0.0031\n",
      "\n",
      "Epoch 00023: val_loss did not improve from 0.00000\n",
      "Epoch 24/150\n",
      "43/43 [==============================] - 0s 11ms/step - loss: 0.0056 - val_loss: 0.0030\n",
      "\n",
      "Epoch 00024: val_loss did not improve from 0.00000\n",
      "Epoch 25/150\n",
      "43/43 [==============================] - 0s 11ms/step - loss: 0.0045 - val_loss: 0.0029\n",
      "\n",
      "Epoch 00025: val_loss did not improve from 0.00000\n",
      "Epoch 26/150\n",
      "43/43 [==============================] - 0s 11ms/step - loss: 0.0048 - val_loss: 0.0029\n",
      "\n",
      "Epoch 00026: val_loss did not improve from 0.00000\n",
      "Epoch 27/150\n",
      "43/43 [==============================] - 0s 11ms/step - loss: 0.0042 - val_loss: 0.0029\n",
      "\n",
      "Epoch 00027: val_loss did not improve from 0.00000\n",
      "Epoch 28/150\n",
      "43/43 [==============================] - 0s 11ms/step - loss: 0.0045 - val_loss: 0.0032\n",
      "\n",
      "Epoch 00028: val_loss did not improve from 0.00000\n",
      "Epoch 29/150\n",
      "43/43 [==============================] - 0s 11ms/step - loss: 0.0037 - val_loss: 0.0029\n",
      "\n",
      "Epoch 00029: val_loss did not improve from 0.00000\n",
      "Epoch 30/150\n",
      "43/43 [==============================] - 0s 11ms/step - loss: 0.0036 - val_loss: 0.0029\n",
      "\n",
      "Epoch 00030: val_loss did not improve from 0.00000\n",
      "Epoch 31/150\n",
      "43/43 [==============================] - 0s 11ms/step - loss: 0.0041 - val_loss: 0.0029\n",
      "\n",
      "Epoch 00031: val_loss did not improve from 0.00000\n",
      "Epoch 32/150\n",
      "43/43 [==============================] - 0s 11ms/step - loss: 0.0044 - val_loss: 0.0029\n",
      "\n",
      "Epoch 00032: val_loss did not improve from 0.00000\n",
      "Epoch 33/150\n",
      "43/43 [==============================] - 0s 11ms/step - loss: 0.0042 - val_loss: 0.0029\n",
      "\n",
      "Epoch 00033: val_loss did not improve from 0.00000\n",
      "Epoch 34/150\n",
      "43/43 [==============================] - 0s 11ms/step - loss: 0.0037 - val_loss: 0.0030\n",
      "\n",
      "Epoch 00034: val_loss did not improve from 0.00000\n",
      "Epoch 35/150\n",
      "43/43 [==============================] - 0s 11ms/step - loss: 0.0052 - val_loss: 0.0029\n",
      "\n",
      "Epoch 00035: val_loss did not improve from 0.00000\n",
      "Epoch 36/150\n",
      "43/43 [==============================] - 0s 11ms/step - loss: 0.0049 - val_loss: 0.0029\n",
      "\n",
      "Epoch 00036: val_loss did not improve from 0.00000\n",
      "Epoch 37/150\n",
      "43/43 [==============================] - 0s 11ms/step - loss: 0.0046 - val_loss: 0.0029\n",
      "\n",
      "Epoch 00037: val_loss did not improve from 0.00000\n",
      "Epoch 38/150\n",
      "43/43 [==============================] - 0s 11ms/step - loss: 0.0043 - val_loss: 0.0029\n",
      "\n",
      "Epoch 00038: val_loss did not improve from 0.00000\n",
      "Epoch 39/150\n",
      "43/43 [==============================] - 0s 11ms/step - loss: 0.0050 - val_loss: 0.0031\n",
      "\n",
      "Epoch 00039: val_loss did not improve from 0.00000\n",
      "Epoch 40/150\n",
      "43/43 [==============================] - 0s 11ms/step - loss: 0.0036 - val_loss: 0.0030\n",
      "\n",
      "Epoch 00040: val_loss did not improve from 0.00000\n",
      "Epoch 41/150\n",
      "43/43 [==============================] - 1s 12ms/step - loss: 0.0050 - val_loss: 0.0034\n",
      "\n",
      "Epoch 00041: val_loss did not improve from 0.00000\n",
      "Epoch 42/150\n",
      "43/43 [==============================] - 0s 11ms/step - loss: 0.0049 - val_loss: 0.0029\n",
      "\n",
      "Epoch 00042: val_loss did not improve from 0.00000\n",
      "Epoch 43/150\n",
      "43/43 [==============================] - 0s 11ms/step - loss: 0.0055 - val_loss: 0.0031\n",
      "\n",
      "Epoch 00043: val_loss did not improve from 0.00000\n",
      "Epoch 44/150\n",
      "43/43 [==============================] - 0s 11ms/step - loss: 0.0038 - val_loss: 0.0030\n",
      "\n",
      "Epoch 00044: val_loss did not improve from 0.00000\n",
      "Epoch 45/150\n",
      "43/43 [==============================] - 0s 11ms/step - loss: 0.0049 - val_loss: 0.0029\n",
      "\n",
      "Epoch 00045: val_loss did not improve from 0.00000\n",
      "Epoch 46/150\n",
      "43/43 [==============================] - 0s 11ms/step - loss: 0.0042 - val_loss: 0.0031\n",
      "\n",
      "Epoch 00046: val_loss did not improve from 0.00000\n",
      "Epoch 47/150\n",
      "43/43 [==============================] - 0s 11ms/step - loss: 0.0041 - val_loss: 0.0029\n",
      "\n",
      "Epoch 00047: val_loss did not improve from 0.00000\n",
      "Epoch 48/150\n",
      "43/43 [==============================] - 0s 10ms/step - loss: 0.0042 - val_loss: 0.0031\n",
      "\n",
      "Epoch 00048: val_loss did not improve from 0.00000\n",
      "Epoch 49/150\n",
      "43/43 [==============================] - 0s 11ms/step - loss: 0.0053 - val_loss: 0.0042\n",
      "\n",
      "Epoch 00049: val_loss did not improve from 0.00000\n",
      "Epoch 50/150\n",
      "43/43 [==============================] - 0s 11ms/step - loss: 0.0041 - val_loss: 0.0032\n",
      "\n",
      "Epoch 00050: val_loss did not improve from 0.00000\n",
      "Epoch 51/150\n",
      "43/43 [==============================] - 0s 11ms/step - loss: 0.0042 - val_loss: 0.0029\n",
      "\n",
      "Epoch 00051: val_loss did not improve from 0.00000\n",
      "Epoch 52/150\n",
      "43/43 [==============================] - 0s 11ms/step - loss: 0.0043 - val_loss: 0.0032\n",
      "\n",
      "Epoch 00052: val_loss did not improve from 0.00000\n",
      "Epoch 53/150\n",
      "43/43 [==============================] - 1s 13ms/step - loss: 0.0048 - val_loss: 0.0029\n",
      "\n",
      "Epoch 00053: val_loss did not improve from 0.00000\n",
      "Epoch 54/150\n",
      "43/43 [==============================] - 0s 10ms/step - loss: 0.0045 - val_loss: 0.0030\n"
     ]
    },
    {
     "name": "stdout",
     "output_type": "stream",
     "text": [
      "\n",
      "Epoch 00054: val_loss did not improve from 0.00000\n",
      "Epoch 55/150\n",
      "43/43 [==============================] - 0s 11ms/step - loss: 0.0046 - val_loss: 0.0029\n",
      "\n",
      "Epoch 00055: val_loss did not improve from 0.00000\n"
     ]
    }
   ],
   "source": [
    "lstm_training_return = rnn_return.fit(X_train,y_train, epochs = 150, batch_size = 20, shuffle = True, validation_data=(X_test,y_test),callbacks = [early_stopping,checkpointer],verbose =1)"
   ]
  },
  {
   "cell_type": "code",
   "execution_count": 99,
   "metadata": {},
   "outputs": [
    {
     "data": {
      "image/png": "[encoded data removed]",
      "text/plain": [
       "<Figure size 1296x648 with 1 Axes>"
      ]
     },
     "metadata": {},
     "output_type": "display_data"
    }
   ],
   "source": [
    "fig, ax = plt.subplots(figsize=(18, 9))\n",
    "\n",
    "loss_history = pd.DataFrame(lstm_training_return.history).pow(.5)\n",
    "loss_history.index += 1\n",
    "best_rmse = loss_history.val_loss.min()\n",
    "\n",
    "best_epoch = loss_history.val_loss.idxmin()\n",
    "\n",
    "title = f'5-Epoch Rolling RMSE (Best Validation RMSE: {best_rmse:.4%})'\n",
    "loss_history.columns=['Training RMSE', 'Validation RMSE']\n",
    "loss_history.rolling(5).mean().plot(logy=True, lw=2, title=title, ax=ax)\n",
    "\n",
    "ax.axvline(best_epoch, ls='--', lw=1, c='k')\n",
    "\n",
    "sns.despine()\n",
    "fig.tight_layout()\n",
    "fig.savefig(results_path / 'rnn_cc_error', dpi=300);"
   ]
  },
  {
   "cell_type": "code",
   "execution_count": 100,
   "metadata": {},
   "outputs": [
    {
     "name": "stdout",
     "output_type": "stream",
     "text": [
      "Train RMSE: 0.0662 | Test RMSE: 0.0537\n"
     ]
    }
   ],
   "source": [
    "train_rmse_scaled = np.sqrt(rnn_return.evaluate(X_train, y_train, verbose=0))\n",
    "test_rmse_scaled = np.sqrt(rnn_return.evaluate(X_test, y_test, verbose=0))\n",
    "print(f'Train RMSE: {train_rmse_scaled:.4f} | Test RMSE: {test_rmse_scaled:.4f}')"
   ]
  },
  {
   "cell_type": "code",
   "execution_count": 101,
   "metadata": {},
   "outputs": [],
   "source": [
    "train_predict_scaled = rnn_return.predict(X_train)\n",
    "test_predict_scaled = rnn_return.predict(X_test)"
   ]
  },
  {
   "cell_type": "code",
   "execution_count": 102,
   "metadata": {},
   "outputs": [
    {
     "name": "stdout",
     "output_type": "stream",
     "text": [
      "Train IC: 0.0123 | Test IC: -0.0195\n"
     ]
    }
   ],
   "source": [
    "train_ic = spearmanr(y_train, train_predict_scaled)[0]\n",
    "test_ic = spearmanr(y_test, test_predict_scaled)[0]\n",
    "print(f'Train IC: {train_ic:.4f} | Test IC: {test_ic:.4f}')"
   ]
  },
  {
   "cell_type": "markdown",
   "metadata": {},
   "source": [
    "# Rescale predictions"
   ]
  },
  {
   "cell_type": "code",
   "execution_count": 103,
   "metadata": {},
   "outputs": [],
   "source": [
    "train_predict = pd.Series(scaler.inverse_transform(train_predict_scaled).squeeze(), index=y_train.index)\n",
    "test_predict = (pd.Series(scaler.inverse_transform(test_predict_scaled).squeeze(), index=y_test.index))"
   ]
  },
  {
   "cell_type": "code",
   "execution_count": 104,
   "metadata": {},
   "outputs": [],
   "source": [
    "y_train_rescaled = scaler.inverse_transform(y_train.to_frame()).squeeze()\n",
    "y_test_rescaled = scaler.inverse_transform(y_test.to_frame()).squeeze()"
   ]
  },
  {
   "cell_type": "code",
   "execution_count": 105,
   "metadata": {},
   "outputs": [
    {
     "data": {
      "text/plain": [
       "'Train RMSE: 0.08 | Test RMSE: 0.06'"
      ]
     },
     "execution_count": 105,
     "metadata": {},
     "output_type": "execute_result"
    }
   ],
   "source": [
    "train_rmse = np.sqrt(mean_squared_error(train_predict, y_train_rescaled))\n",
    "test_rmse = np.sqrt(mean_squared_error(test_predict, y_test_rescaled))\n",
    "f'Train RMSE: {train_rmse:.2f} | Test RMSE: {test_rmse:.2f}'"
   ]
  },
  {
   "cell_type": "code",
   "execution_count": 106,
   "metadata": {},
   "outputs": [],
   "source": [
    "dfreturn['Train Predictions'] = train_predict\n",
    "dfreturn['Test Predictions'] = test_predict\n",
    "dfreturn = dfreturn.join(train_predict.to_frame('predictions').assign(data='Train')\n",
    "                        .append(test_predict.to_frame('predictions').assign(data='Test')))"
   ]
  },
  {
   "cell_type": "code",
   "execution_count": 107,
   "metadata": {},
   "outputs": [
    {
     "data": {
      "text/html": [
       "<div>\n",
       "<style scoped>\n",
       "    .dataframe tbody tr th:only-of-type {\n",
       "        vertical-align: middle;\n",
       "    }\n",
       "\n",
       "    .dataframe tbody tr th {\n",
       "        vertical-align: top;\n",
       "    }\n",
       "\n",
       "    .dataframe thead th {\n",
       "        text-align: right;\n",
       "    }\n",
       "</style>\n",
       "<table border=\"1\" class=\"dataframe\">\n",
       "  <thead>\n",
       "    <tr style=\"text-align: right;\">\n",
       "      <th></th>\n",
       "      <th>return</th>\n",
       "      <th>Train Predictions</th>\n",
       "      <th>Test Predictions</th>\n",
       "      <th>predictions</th>\n",
       "      <th>data</th>\n",
       "    </tr>\n",
       "    <tr>\n",
       "      <th>date</th>\n",
       "      <th></th>\n",
       "      <th></th>\n",
       "      <th></th>\n",
       "      <th></th>\n",
       "      <th></th>\n",
       "    </tr>\n",
       "  </thead>\n",
       "  <tbody>\n",
       "    <tr>\n",
       "      <th>2017-05-24</th>\n",
       "      <td>-0.284731</td>\n",
       "      <td>NaN</td>\n",
       "      <td>NaN</td>\n",
       "      <td>NaN</td>\n",
       "      <td>NaN</td>\n",
       "    </tr>\n",
       "    <tr>\n",
       "      <th>2017-05-25</th>\n",
       "      <td>-0.127354</td>\n",
       "      <td>NaN</td>\n",
       "      <td>NaN</td>\n",
       "      <td>NaN</td>\n",
       "      <td>NaN</td>\n",
       "    </tr>\n",
       "    <tr>\n",
       "      <th>2017-05-26</th>\n",
       "      <td>0.100592</td>\n",
       "      <td>NaN</td>\n",
       "      <td>NaN</td>\n",
       "      <td>NaN</td>\n",
       "      <td>NaN</td>\n",
       "    </tr>\n",
       "    <tr>\n",
       "      <th>2017-05-27</th>\n",
       "      <td>0.019259</td>\n",
       "      <td>NaN</td>\n",
       "      <td>NaN</td>\n",
       "      <td>NaN</td>\n",
       "      <td>NaN</td>\n",
       "    </tr>\n",
       "    <tr>\n",
       "      <th>2017-05-28</th>\n",
       "      <td>-0.003694</td>\n",
       "      <td>NaN</td>\n",
       "      <td>NaN</td>\n",
       "      <td>NaN</td>\n",
       "      <td>NaN</td>\n",
       "    </tr>\n",
       "    <tr>\n",
       "      <th>...</th>\n",
       "      <td>...</td>\n",
       "      <td>...</td>\n",
       "      <td>...</td>\n",
       "      <td>...</td>\n",
       "      <td>...</td>\n",
       "    </tr>\n",
       "    <tr>\n",
       "      <th>2020-12-26</th>\n",
       "      <td>-0.013039</td>\n",
       "      <td>NaN</td>\n",
       "      <td>-0.002400</td>\n",
       "      <td>-0.002400</td>\n",
       "      <td>Test</td>\n",
       "    </tr>\n",
       "    <tr>\n",
       "      <th>2020-12-27</th>\n",
       "      <td>0.004028</td>\n",
       "      <td>NaN</td>\n",
       "      <td>-0.003209</td>\n",
       "      <td>-0.003209</td>\n",
       "      <td>Test</td>\n",
       "    </tr>\n",
       "    <tr>\n",
       "      <th>2020-12-28</th>\n",
       "      <td>0.045649</td>\n",
       "      <td>NaN</td>\n",
       "      <td>-0.003341</td>\n",
       "      <td>-0.003341</td>\n",
       "      <td>Test</td>\n",
       "    </tr>\n",
       "    <tr>\n",
       "      <th>2020-12-29</th>\n",
       "      <td>-0.045652</td>\n",
       "      <td>NaN</td>\n",
       "      <td>-0.002709</td>\n",
       "      <td>-0.002709</td>\n",
       "      <td>Test</td>\n",
       "    </tr>\n",
       "    <tr>\n",
       "      <th>2020-12-30</th>\n",
       "      <td>-0.024550</td>\n",
       "      <td>NaN</td>\n",
       "      <td>-0.003520</td>\n",
       "      <td>-0.003520</td>\n",
       "      <td>Test</td>\n",
       "    </tr>\n",
       "  </tbody>\n",
       "</table>\n",
       "<p>1309 rows × 5 columns</p>\n",
       "</div>"
      ],
      "text/plain": [
       "              return  Train Predictions  Test Predictions  predictions  data\n",
       "date                                                                        \n",
       "2017-05-24 -0.284731                NaN               NaN          NaN   NaN\n",
       "2017-05-25 -0.127354                NaN               NaN          NaN   NaN\n",
       "2017-05-26  0.100592                NaN               NaN          NaN   NaN\n",
       "2017-05-27  0.019259                NaN               NaN          NaN   NaN\n",
       "2017-05-28 -0.003694                NaN               NaN          NaN   NaN\n",
       "...              ...                ...               ...          ...   ...\n",
       "2020-12-26 -0.013039                NaN         -0.002400    -0.002400  Test\n",
       "2020-12-27  0.004028                NaN         -0.003209    -0.003209  Test\n",
       "2020-12-28  0.045649                NaN         -0.003341    -0.003341  Test\n",
       "2020-12-29 -0.045652                NaN         -0.002709    -0.002709  Test\n",
       "2020-12-30 -0.024550                NaN         -0.003520    -0.003520  Test\n",
       "\n",
       "[1309 rows x 5 columns]"
      ]
     },
     "execution_count": 107,
     "metadata": {},
     "output_type": "execute_result"
    }
   ],
   "source": [
    "dfreturn"
   ]
  },
  {
   "cell_type": "code",
   "execution_count": 108,
   "metadata": {},
   "outputs": [
    {
     "name": "stdout",
     "output_type": "stream",
     "text": [
      "Test accuracy: 0.40\n"
     ]
    }
   ],
   "source": [
    "model_test = dfreturn.copy().fillna(0)\n",
    "tmp = model_test['return']*model_test['predictions'][-30:]\n",
    "accuracy = len(tmp[tmp>0])/30\n",
    "print(f'Test accuracy: {accuracy:.2f}')"
   ]
  },
  {
   "cell_type": "code",
   "execution_count": null,
   "metadata": {},
   "outputs": [],
   "source": []
  },
  {
   "cell_type": "code",
   "execution_count": null,
   "metadata": {},
   "outputs": [],
   "source": []
  }
 ],
 "metadata": {
  "kernelspec": {
   "display_name": "Python 3",
   "language": "python",
   "name": "python3"
  },
  "language_info": {
   "codemirror_mode": {
    "name": "ipython",
    "version": 3
   },
   "file_extension": ".py",
   "mimetype": "text/x-python",
   "name": "python",
   "nbconvert_exporter": "python",
   "pygments_lexer": "ipython3",
   "version": "3.8.5"
  }
 },
 "nbformat": 4,
 "nbformat_minor": 5
}
