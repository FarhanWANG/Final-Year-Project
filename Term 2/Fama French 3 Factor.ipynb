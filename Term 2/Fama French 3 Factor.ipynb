{
 "cells": [
  {
   "cell_type": "code",
   "execution_count": 183,
   "metadata": {},
   "outputs": [],
   "source": [
    "import pandas as pd\n",
    "import numpy as np\n",
    "import statsmodels.formula.api as smf\n",
    "import datetime \n",
    "from statsmodels.iolib.summary2 import summary_col\n",
    "from stargazer.stargazer import Stargazer\n",
    "from IPython.core.display import HTML\n",
    "from prettytable import PrettyTable"
   ]
  },
  {
   "cell_type": "markdown",
   "metadata": {},
   "source": [
    "# Train Data"
   ]
  },
  {
   "cell_type": "code",
   "execution_count": 184,
   "metadata": {},
   "outputs": [],
   "source": [
    "START = datetime.datetime(2018,1,1)\n",
    "END = datetime.datetime(2020,12,31)"
   ]
  },
  {
   "cell_type": "markdown",
   "metadata": {},
   "source": [
    "Read data for market returns"
   ]
  },
  {
   "cell_type": "code",
   "execution_count": 185,
   "metadata": {},
   "outputs": [
    {
     "data": {
      "text/html": [
       "<div>\n",
       "<style scoped>\n",
       "    .dataframe tbody tr th:only-of-type {\n",
       "        vertical-align: middle;\n",
       "    }\n",
       "\n",
       "    .dataframe tbody tr th {\n",
       "        vertical-align: top;\n",
       "    }\n",
       "\n",
       "    .dataframe thead th {\n",
       "        text-align: right;\n",
       "    }\n",
       "</style>\n",
       "<table border=\"1\" class=\"dataframe\">\n",
       "  <thead>\n",
       "    <tr style=\"text-align: right;\">\n",
       "      <th></th>\n",
       "      <th>MarketReturn</th>\n",
       "    </tr>\n",
       "    <tr>\n",
       "      <th>date</th>\n",
       "      <th></th>\n",
       "    </tr>\n",
       "  </thead>\n",
       "  <tbody>\n",
       "    <tr>\n",
       "      <th>2018-01-07</th>\n",
       "      <td>-0.102655</td>\n",
       "    </tr>\n",
       "    <tr>\n",
       "      <th>2018-01-14</th>\n",
       "      <td>-0.102655</td>\n",
       "    </tr>\n",
       "    <tr>\n",
       "      <th>2018-01-21</th>\n",
       "      <td>-0.156306</td>\n",
       "    </tr>\n",
       "    <tr>\n",
       "      <th>2018-01-28</th>\n",
       "      <td>-0.117886</td>\n",
       "    </tr>\n",
       "    <tr>\n",
       "      <th>2018-02-04</th>\n",
       "      <td>-0.202010</td>\n",
       "    </tr>\n",
       "    <tr>\n",
       "      <th>...</th>\n",
       "      <td>...</td>\n",
       "    </tr>\n",
       "    <tr>\n",
       "      <th>2020-12-06</th>\n",
       "      <td>0.047348</td>\n",
       "    </tr>\n",
       "    <tr>\n",
       "      <th>2020-12-13</th>\n",
       "      <td>-0.013224</td>\n",
       "    </tr>\n",
       "    <tr>\n",
       "      <th>2020-12-20</th>\n",
       "      <td>0.220847</td>\n",
       "    </tr>\n",
       "    <tr>\n",
       "      <th>2020-12-27</th>\n",
       "      <td>0.033810</td>\n",
       "    </tr>\n",
       "    <tr>\n",
       "      <th>2021-01-03</th>\n",
       "      <td>0.098167</td>\n",
       "    </tr>\n",
       "  </tbody>\n",
       "</table>\n",
       "<p>157 rows × 1 columns</p>\n",
       "</div>"
      ],
      "text/plain": [
       "            MarketReturn\n",
       "date                    \n",
       "2018-01-07     -0.102655\n",
       "2018-01-14     -0.102655\n",
       "2018-01-21     -0.156306\n",
       "2018-01-28     -0.117886\n",
       "2018-02-04     -0.202010\n",
       "...                  ...\n",
       "2020-12-06      0.047348\n",
       "2020-12-13     -0.013224\n",
       "2020-12-20      0.220847\n",
       "2020-12-27      0.033810\n",
       "2021-01-03      0.098167\n",
       "\n",
       "[157 rows x 1 columns]"
      ]
     },
     "execution_count": 185,
     "metadata": {},
     "output_type": "execute_result"
    }
   ],
   "source": [
    "CC100_Index = pd.read_csv(\"indexReturns-BITW100.csv\")\n",
    "CC100_Index['date'] = pd.to_datetime(CC100_Index['date']).dt.tz_localize(None)\n",
    "CC100_Index = CC100_Index.sort_values('date').set_index('date')\n",
    "CC100_Index = CC100_Index.truncate(before = START,after = END)\n",
    "CC100_Index = CC100_Index.resample('W').last()\n",
    "CC100_Return = CC100_Index.pct_change().fillna(axis = 0, method ='bfill').rename(columns = {\"MarketIndex\":\"MarketReturn\"})\n",
    "CC100_Return"
   ]
  },
  {
   "cell_type": "markdown",
   "metadata": {},
   "source": [
    "Read data for CC used in this project.\n",
    "The CC have data as from Jan 2018 to present day.\n",
    "There is a total of 68 CC. "
   ]
  },
  {
   "cell_type": "code",
   "execution_count": 186,
   "metadata": {},
   "outputs": [
    {
     "data": {
      "text/plain": [
       "0       zrx\n",
       "1       adx\n",
       "2        ae\n",
       "3       ant\n",
       "4      ardr\n",
       "      ...  \n",
       "63      xvg\n",
       "64      wtc\n",
       "65    waves\n",
       "66      zec\n",
       "67      zen\n",
       "Name: symbol, Length: 68, dtype: object"
      ]
     },
     "execution_count": 186,
     "metadata": {},
     "output_type": "execute_result"
    }
   ],
   "source": [
    "listOfCC = pd.read_csv(\"Symbols.csv\")\n",
    "listOfCC['symbol']"
   ]
  },
  {
   "cell_type": "markdown",
   "metadata": {},
   "source": [
    "Data is resampled for each CC: The daily data is transformed into weekly data. For the market cap and price, the last value of the day in a week is taken, for the market cap, the mean value for the week is taken and for the volume, the sum of all the volume of each day is taken."
   ]
  },
  {
   "cell_type": "code",
   "execution_count": 187,
   "metadata": {},
   "outputs": [],
   "source": [
    "ALL_DATA = pd.DataFrame()\n",
    "\n",
    "for ticker in listOfCC['symbol']:\n",
    "    \n",
    "    filename = \"CoinGecko_Data/\" + ticker + '-usd-max.csv'\n",
    "    temp = pd.read_csv(filename, parse_dates=['snapped_at'])\n",
    "    temp = temp.rename(columns = {\"snapped_at\":\"date\"})\n",
    "    temp['date'] = pd.to_datetime(temp['date']).dt.tz_localize(None)\n",
    "    temp = temp.sort_values('date').set_index('date')\n",
    "    temp = temp.truncate(before = START,after = END)\n",
    "    \n",
    "    temp1 = pd.to_numeric(temp['price'], downcast=\"float\")\n",
    "    temp2 = pd.to_numeric(temp['market_cap'], downcast=\"float\")\n",
    "    temp3 = pd.to_numeric(temp['total_volume'], downcast=\"float\")\n",
    "        \n",
    "    temp1 = temp1.resample('W').last()\n",
    "    temp2 = temp2.resample('W').mean()\n",
    "    temp3 = temp3.resample('W').sum()\n",
    "    temp4 = pd.DataFrame(index = [temp1.index])\n",
    "    temp4 = pd.concat([temp1, temp2, temp3], axis=1)\n",
    "    \n",
    "    temp4 = temp4.fillna(axis = 0, method ='bfill')\n",
    "    temp4['Returns'] = temp4['price'].pct_change()\n",
    "    temp4['Ticker'] = ticker\n",
    "    ALL_DATA = pd.concat([ALL_DATA,temp4])"
   ]
  },
  {
   "cell_type": "code",
   "execution_count": 188,
   "metadata": {},
   "outputs": [
    {
     "data": {
      "text/html": [
       "<div>\n",
       "<style scoped>\n",
       "    .dataframe tbody tr th:only-of-type {\n",
       "        vertical-align: middle;\n",
       "    }\n",
       "\n",
       "    .dataframe tbody tr th {\n",
       "        vertical-align: top;\n",
       "    }\n",
       "\n",
       "    .dataframe thead th {\n",
       "        text-align: right;\n",
       "    }\n",
       "</style>\n",
       "<table border=\"1\" class=\"dataframe\">\n",
       "  <thead>\n",
       "    <tr style=\"text-align: right;\">\n",
       "      <th></th>\n",
       "      <th>price</th>\n",
       "      <th>market_cap</th>\n",
       "      <th>total_volume</th>\n",
       "      <th>Returns</th>\n",
       "      <th>Ticker</th>\n",
       "    </tr>\n",
       "    <tr>\n",
       "      <th>date</th>\n",
       "      <th></th>\n",
       "      <th></th>\n",
       "      <th></th>\n",
       "      <th></th>\n",
       "      <th></th>\n",
       "    </tr>\n",
       "  </thead>\n",
       "  <tbody>\n",
       "    <tr>\n",
       "      <th>2018-01-07</th>\n",
       "      <td>1.429257</td>\n",
       "      <td>5.478657e+08</td>\n",
       "      <td>200383264.0</td>\n",
       "      <td>0.000000</td>\n",
       "      <td>zrx</td>\n",
       "    </tr>\n",
       "    <tr>\n",
       "      <th>2018-01-14</th>\n",
       "      <td>2.090971</td>\n",
       "      <td>1.082455e+09</td>\n",
       "      <td>505867104.0</td>\n",
       "      <td>0.462978</td>\n",
       "      <td>zrx</td>\n",
       "    </tr>\n",
       "    <tr>\n",
       "      <th>2018-01-21</th>\n",
       "      <td>1.742747</td>\n",
       "      <td>8.778975e+08</td>\n",
       "      <td>215137936.0</td>\n",
       "      <td>-0.166537</td>\n",
       "      <td>zrx</td>\n",
       "    </tr>\n",
       "    <tr>\n",
       "      <th>2018-01-28</th>\n",
       "      <td>1.979192</td>\n",
       "      <td>9.018653e+08</td>\n",
       "      <td>225045584.0</td>\n",
       "      <td>0.135673</td>\n",
       "      <td>zrx</td>\n",
       "    </tr>\n",
       "    <tr>\n",
       "      <th>2018-02-04</th>\n",
       "      <td>1.376865</td>\n",
       "      <td>8.179149e+08</td>\n",
       "      <td>142141824.0</td>\n",
       "      <td>-0.304330</td>\n",
       "      <td>zrx</td>\n",
       "    </tr>\n",
       "    <tr>\n",
       "      <th>...</th>\n",
       "      <td>...</td>\n",
       "      <td>...</td>\n",
       "      <td>...</td>\n",
       "      <td>...</td>\n",
       "      <td>...</td>\n",
       "    </tr>\n",
       "    <tr>\n",
       "      <th>2020-12-06</th>\n",
       "      <td>12.489144</td>\n",
       "      <td>1.420835e+08</td>\n",
       "      <td>112744968.0</td>\n",
       "      <td>-0.147160</td>\n",
       "      <td>zen</td>\n",
       "    </tr>\n",
       "    <tr>\n",
       "      <th>2020-12-13</th>\n",
       "      <td>10.172314</td>\n",
       "      <td>1.121735e+08</td>\n",
       "      <td>65833872.0</td>\n",
       "      <td>-0.185508</td>\n",
       "      <td>zen</td>\n",
       "    </tr>\n",
       "    <tr>\n",
       "      <th>2020-12-20</th>\n",
       "      <td>12.075764</td>\n",
       "      <td>1.237890e+08</td>\n",
       "      <td>86296248.0</td>\n",
       "      <td>0.187121</td>\n",
       "      <td>zen</td>\n",
       "    </tr>\n",
       "    <tr>\n",
       "      <th>2020-12-27</th>\n",
       "      <td>11.915156</td>\n",
       "      <td>1.114705e+08</td>\n",
       "      <td>80495400.0</td>\n",
       "      <td>-0.013300</td>\n",
       "      <td>zen</td>\n",
       "    </tr>\n",
       "    <tr>\n",
       "      <th>2021-01-03</th>\n",
       "      <td>10.836555</td>\n",
       "      <td>1.251109e+08</td>\n",
       "      <td>56058960.0</td>\n",
       "      <td>-0.090523</td>\n",
       "      <td>zen</td>\n",
       "    </tr>\n",
       "  </tbody>\n",
       "</table>\n",
       "<p>10676 rows × 5 columns</p>\n",
       "</div>"
      ],
      "text/plain": [
       "                price    market_cap  total_volume   Returns Ticker\n",
       "date                                                              \n",
       "2018-01-07   1.429257  5.478657e+08   200383264.0  0.000000    zrx\n",
       "2018-01-14   2.090971  1.082455e+09   505867104.0  0.462978    zrx\n",
       "2018-01-21   1.742747  8.778975e+08   215137936.0 -0.166537    zrx\n",
       "2018-01-28   1.979192  9.018653e+08   225045584.0  0.135673    zrx\n",
       "2018-02-04   1.376865  8.179149e+08   142141824.0 -0.304330    zrx\n",
       "...               ...           ...           ...       ...    ...\n",
       "2020-12-06  12.489144  1.420835e+08   112744968.0 -0.147160    zen\n",
       "2020-12-13  10.172314  1.121735e+08    65833872.0 -0.185508    zen\n",
       "2020-12-20  12.075764  1.237890e+08    86296248.0  0.187121    zen\n",
       "2020-12-27  11.915156  1.114705e+08    80495400.0 -0.013300    zen\n",
       "2021-01-03  10.836555  1.251109e+08    56058960.0 -0.090523    zen\n",
       "\n",
       "[10676 rows x 5 columns]"
      ]
     },
     "execution_count": 188,
     "metadata": {},
     "output_type": "execute_result"
    }
   ],
   "source": [
    "ALL_DATA = ALL_DATA.fillna(0)\n",
    "ALL_DATA"
   ]
  },
  {
   "cell_type": "raw",
   "metadata": {},
   "source": [
    "1.Create 2 dataframes with MultiIndex, with columns Ticker and Date. Each dataframe has a different order of index\n",
    "2.Set date index to be used"
   ]
  },
  {
   "cell_type": "code",
   "execution_count": 189,
   "metadata": {},
   "outputs": [],
   "source": [
    "ALL_DATA.reset_index(drop=False, inplace=True)\n",
    "tickerData = ALL_DATA.set_index(['Ticker','date'])\n",
    "dateData = ALL_DATA.set_index(['date', 'Ticker'])\n",
    "tickerData.sort_index(inplace=True)\n",
    "dateData.sort_index(inplace=True)"
   ]
  },
  {
   "cell_type": "code",
   "execution_count": 190,
   "metadata": {},
   "outputs": [
    {
     "data": {
      "text/html": [
       "<div>\n",
       "<style scoped>\n",
       "    .dataframe tbody tr th:only-of-type {\n",
       "        vertical-align: middle;\n",
       "    }\n",
       "\n",
       "    .dataframe tbody tr th {\n",
       "        vertical-align: top;\n",
       "    }\n",
       "\n",
       "    .dataframe thead th {\n",
       "        text-align: right;\n",
       "    }\n",
       "</style>\n",
       "<table border=\"1\" class=\"dataframe\">\n",
       "  <thead>\n",
       "    <tr style=\"text-align: right;\">\n",
       "      <th></th>\n",
       "      <th></th>\n",
       "      <th>price</th>\n",
       "      <th>market_cap</th>\n",
       "      <th>total_volume</th>\n",
       "      <th>Returns</th>\n",
       "    </tr>\n",
       "    <tr>\n",
       "      <th>Ticker</th>\n",
       "      <th>date</th>\n",
       "      <th></th>\n",
       "      <th></th>\n",
       "      <th></th>\n",
       "      <th></th>\n",
       "    </tr>\n",
       "  </thead>\n",
       "  <tbody>\n",
       "    <tr>\n",
       "      <th rowspan=\"5\" valign=\"top\">ada</th>\n",
       "      <th>2018-01-07</th>\n",
       "      <td>1.052854</td>\n",
       "      <td>2.605216e+10</td>\n",
       "      <td>2.750787e+09</td>\n",
       "      <td>0.000000</td>\n",
       "    </tr>\n",
       "    <tr>\n",
       "      <th>2018-01-14</th>\n",
       "      <td>0.841890</td>\n",
       "      <td>2.257185e+10</td>\n",
       "      <td>1.857563e+09</td>\n",
       "      <td>-0.200374</td>\n",
       "    </tr>\n",
       "    <tr>\n",
       "      <th>2018-01-21</th>\n",
       "      <td>0.629033</td>\n",
       "      <td>1.781683e+10</td>\n",
       "      <td>1.034086e+09</td>\n",
       "      <td>-0.252832</td>\n",
       "    </tr>\n",
       "    <tr>\n",
       "      <th>2018-01-28</th>\n",
       "      <td>0.630576</td>\n",
       "      <td>1.587981e+10</td>\n",
       "      <td>5.482682e+08</td>\n",
       "      <td>0.002453</td>\n",
       "    </tr>\n",
       "    <tr>\n",
       "      <th>2018-02-04</th>\n",
       "      <td>0.448043</td>\n",
       "      <td>1.274673e+10</td>\n",
       "      <td>6.180009e+08</td>\n",
       "      <td>-0.289471</td>\n",
       "    </tr>\n",
       "    <tr>\n",
       "      <th>...</th>\n",
       "      <th>...</th>\n",
       "      <td>...</td>\n",
       "      <td>...</td>\n",
       "      <td>...</td>\n",
       "      <td>...</td>\n",
       "    </tr>\n",
       "    <tr>\n",
       "      <th rowspan=\"5\" valign=\"top\">zrx</th>\n",
       "      <th>2020-12-06</th>\n",
       "      <td>0.408543</td>\n",
       "      <td>3.085792e+08</td>\n",
       "      <td>3.243042e+08</td>\n",
       "      <td>-0.017129</td>\n",
       "    </tr>\n",
       "    <tr>\n",
       "      <th>2020-12-13</th>\n",
       "      <td>0.392484</td>\n",
       "      <td>2.005443e+08</td>\n",
       "      <td>2.680847e+08</td>\n",
       "      <td>-0.039307</td>\n",
       "    </tr>\n",
       "    <tr>\n",
       "      <th>2020-12-20</th>\n",
       "      <td>0.423716</td>\n",
       "      <td>2.881971e+08</td>\n",
       "      <td>3.250699e+08</td>\n",
       "      <td>0.079574</td>\n",
       "    </tr>\n",
       "    <tr>\n",
       "      <th>2020-12-27</th>\n",
       "      <td>0.353898</td>\n",
       "      <td>2.756317e+08</td>\n",
       "      <td>4.010995e+08</td>\n",
       "      <td>-0.164775</td>\n",
       "    </tr>\n",
       "    <tr>\n",
       "      <th>2021-01-03</th>\n",
       "      <td>0.360868</td>\n",
       "      <td>2.773057e+08</td>\n",
       "      <td>2.996306e+08</td>\n",
       "      <td>0.019694</td>\n",
       "    </tr>\n",
       "  </tbody>\n",
       "</table>\n",
       "<p>10676 rows × 4 columns</p>\n",
       "</div>"
      ],
      "text/plain": [
       "                      price    market_cap  total_volume   Returns\n",
       "Ticker date                                                      \n",
       "ada    2018-01-07  1.052854  2.605216e+10  2.750787e+09  0.000000\n",
       "       2018-01-14  0.841890  2.257185e+10  1.857563e+09 -0.200374\n",
       "       2018-01-21  0.629033  1.781683e+10  1.034086e+09 -0.252832\n",
       "       2018-01-28  0.630576  1.587981e+10  5.482682e+08  0.002453\n",
       "       2018-02-04  0.448043  1.274673e+10  6.180009e+08 -0.289471\n",
       "...                     ...           ...           ...       ...\n",
       "zrx    2020-12-06  0.408543  3.085792e+08  3.243042e+08 -0.017129\n",
       "       2020-12-13  0.392484  2.005443e+08  2.680847e+08 -0.039307\n",
       "       2020-12-20  0.423716  2.881971e+08  3.250699e+08  0.079574\n",
       "       2020-12-27  0.353898  2.756317e+08  4.010995e+08 -0.164775\n",
       "       2021-01-03  0.360868  2.773057e+08  2.996306e+08  0.019694\n",
       "\n",
       "[10676 rows x 4 columns]"
      ]
     },
     "execution_count": 190,
     "metadata": {},
     "output_type": "execute_result"
    }
   ],
   "source": [
    "tickerData"
   ]
  },
  {
   "cell_type": "code",
   "execution_count": 191,
   "metadata": {},
   "outputs": [
    {
     "name": "stdout",
     "output_type": "stream",
     "text": [
      "id\n",
      "symbol\n"
     ]
    }
   ],
   "source": [
    "date_list = tickerData.loc['btc'].index\n",
    "CC100_Return.set_index(date_list, drop=True, inplace=True)\n",
    "\n",
    "Returns_data = CC100_Return.copy()\n",
    "\n",
    "for ticker in listOfCC:\n",
    "    try:\n",
    "        Returns_data[ticker] = tickerData.loc[ticker][:]['Returns']\n",
    "    except:\n",
    "        print(ticker)"
   ]
  },
  {
   "cell_type": "raw",
   "metadata": {},
   "source": [
    "Calculate the returns of each factor"
   ]
  },
  {
   "cell_type": "code",
   "execution_count": 192,
   "metadata": {},
   "outputs": [
    {
     "data": {
      "text/html": [
       "<div>\n",
       "<style scoped>\n",
       "    .dataframe tbody tr th:only-of-type {\n",
       "        vertical-align: middle;\n",
       "    }\n",
       "\n",
       "    .dataframe tbody tr th {\n",
       "        vertical-align: top;\n",
       "    }\n",
       "\n",
       "    .dataframe thead th {\n",
       "        text-align: right;\n",
       "    }\n",
       "</style>\n",
       "<table border=\"1\" class=\"dataframe\">\n",
       "  <thead>\n",
       "    <tr style=\"text-align: right;\">\n",
       "      <th></th>\n",
       "      <th></th>\n",
       "      <th>price</th>\n",
       "      <th>market_cap</th>\n",
       "      <th>total_volume</th>\n",
       "      <th>Returns</th>\n",
       "      <th>NVT</th>\n",
       "    </tr>\n",
       "    <tr>\n",
       "      <th>date</th>\n",
       "      <th>Ticker</th>\n",
       "      <th></th>\n",
       "      <th></th>\n",
       "      <th></th>\n",
       "      <th></th>\n",
       "      <th></th>\n",
       "    </tr>\n",
       "  </thead>\n",
       "  <tbody>\n",
       "    <tr>\n",
       "      <th rowspan=\"5\" valign=\"top\">2018-01-07</th>\n",
       "      <th>ada</th>\n",
       "      <td>1.052854</td>\n",
       "      <td>2.605216e+10</td>\n",
       "      <td>2.750787e+09</td>\n",
       "      <td>0.000000</td>\n",
       "      <td>9.470802</td>\n",
       "    </tr>\n",
       "    <tr>\n",
       "      <th>adx</th>\n",
       "      <td>3.287920</td>\n",
       "      <td>1.825394e+08</td>\n",
       "      <td>1.972941e+08</td>\n",
       "      <td>0.000000</td>\n",
       "      <td>0.925215</td>\n",
       "    </tr>\n",
       "    <tr>\n",
       "      <th>ae</th>\n",
       "      <td>2.737842</td>\n",
       "      <td>4.608177e+08</td>\n",
       "      <td>2.592159e+07</td>\n",
       "      <td>0.000000</td>\n",
       "      <td>17.777370</td>\n",
       "    </tr>\n",
       "    <tr>\n",
       "      <th>ant</th>\n",
       "      <td>8.023694</td>\n",
       "      <td>1.965826e+08</td>\n",
       "      <td>2.687493e+07</td>\n",
       "      <td>0.000000</td>\n",
       "      <td>7.314721</td>\n",
       "    </tr>\n",
       "    <tr>\n",
       "      <th>ardr</th>\n",
       "      <td>1.817910</td>\n",
       "      <td>1.751584e+09</td>\n",
       "      <td>1.332934e+08</td>\n",
       "      <td>0.000000</td>\n",
       "      <td>13.140822</td>\n",
       "    </tr>\n",
       "    <tr>\n",
       "      <th>...</th>\n",
       "      <th>...</th>\n",
       "      <td>...</td>\n",
       "      <td>...</td>\n",
       "      <td>...</td>\n",
       "      <td>...</td>\n",
       "      <td>...</td>\n",
       "    </tr>\n",
       "    <tr>\n",
       "      <th rowspan=\"5\" valign=\"top\">2021-01-03</th>\n",
       "      <th>xrp</th>\n",
       "      <td>0.212070</td>\n",
       "      <td>1.097121e+10</td>\n",
       "      <td>3.017823e+10</td>\n",
       "      <td>-0.282052</td>\n",
       "      <td>0.363547</td>\n",
       "    </tr>\n",
       "    <tr>\n",
       "      <th>xvg</th>\n",
       "      <td>0.007829</td>\n",
       "      <td>1.283332e+08</td>\n",
       "      <td>1.938374e+07</td>\n",
       "      <td>0.097947</td>\n",
       "      <td>6.620659</td>\n",
       "    </tr>\n",
       "    <tr>\n",
       "      <th>zec</th>\n",
       "      <td>63.972191</td>\n",
       "      <td>7.189166e+08</td>\n",
       "      <td>2.031491e+09</td>\n",
       "      <td>-0.037638</td>\n",
       "      <td>0.353886</td>\n",
       "    </tr>\n",
       "    <tr>\n",
       "      <th>zen</th>\n",
       "      <td>10.836555</td>\n",
       "      <td>1.251109e+08</td>\n",
       "      <td>5.605896e+07</td>\n",
       "      <td>-0.090523</td>\n",
       "      <td>2.231774</td>\n",
       "    </tr>\n",
       "    <tr>\n",
       "      <th>zrx</th>\n",
       "      <td>0.360868</td>\n",
       "      <td>2.773057e+08</td>\n",
       "      <td>2.996306e+08</td>\n",
       "      <td>0.019694</td>\n",
       "      <td>0.925492</td>\n",
       "    </tr>\n",
       "  </tbody>\n",
       "</table>\n",
       "<p>10676 rows × 5 columns</p>\n",
       "</div>"
      ],
      "text/plain": [
       "                       price    market_cap  total_volume   Returns        NVT\n",
       "date       Ticker                                                            \n",
       "2018-01-07 ada      1.052854  2.605216e+10  2.750787e+09  0.000000   9.470802\n",
       "           adx      3.287920  1.825394e+08  1.972941e+08  0.000000   0.925215\n",
       "           ae       2.737842  4.608177e+08  2.592159e+07  0.000000  17.777370\n",
       "           ant      8.023694  1.965826e+08  2.687493e+07  0.000000   7.314721\n",
       "           ardr     1.817910  1.751584e+09  1.332934e+08  0.000000  13.140822\n",
       "...                      ...           ...           ...       ...        ...\n",
       "2021-01-03 xrp      0.212070  1.097121e+10  3.017823e+10 -0.282052   0.363547\n",
       "           xvg      0.007829  1.283332e+08  1.938374e+07  0.097947   6.620659\n",
       "           zec     63.972191  7.189166e+08  2.031491e+09 -0.037638   0.353886\n",
       "           zen     10.836555  1.251109e+08  5.605896e+07 -0.090523   2.231774\n",
       "           zrx      0.360868  2.773057e+08  2.996306e+08  0.019694   0.925492\n",
       "\n",
       "[10676 rows x 5 columns]"
      ]
     },
     "execution_count": 192,
     "metadata": {},
     "output_type": "execute_result"
    }
   ],
   "source": [
    "# Calculate NVT for each date\n",
    "# NVT = Market Cap/ Volume\n",
    "dateData['NVT'] = dateData['market_cap'] / dateData['total_volume']\n",
    "dateData"
   ]
  },
  {
   "cell_type": "code",
   "execution_count": 194,
   "metadata": {
    "scrolled": true
   },
   "outputs": [],
   "source": [
    "factors = pd.DataFrame(columns=['SMB', 'NVT'])\n",
    "\n",
    "for date in date_list:\n",
    "    tempData = (dateData.loc[date]).copy()\n",
    "    \n",
    "    m1 = tempData['market_cap'].quantile(0.1)\n",
    "    m2 = tempData['market_cap'].quantile(0.9)\n",
    "    \n",
    "    n1 = tempData['NVT'].quantile(0.1)\n",
    "    n2 = tempData['NVT'].quantile(0.9)\n",
    "    \n",
    "    SMB_factor = tempData.Returns.loc[(tempData['market_cap'] <= m1)].mean()\n",
    "    - tempData.Returns.loc[(tempData['market_cap'] >= m2)].mean()\n",
    "    \n",
    "    NVT_factor = tempData.Returns.loc[(tempData['NVT'] >= n2)].mean()\n",
    "    - tempData.Returns.loc[(tempData['NVT'] <= n1)].mean()\n",
    "    \n",
    "    df = pd.DataFrame({'SMB': SMB_factor, 'NVT' : NVT_factor}, index = [date])\n",
    "    factors = factors.append(df)\n"
   ]
  },
  {
   "cell_type": "code",
   "execution_count": 196,
   "metadata": {},
   "outputs": [],
   "source": [
    "factors = pd.concat([factors, CC100_Return], axis=1)"
   ]
  },
  {
   "cell_type": "code",
   "execution_count": 197,
   "metadata": {},
   "outputs": [],
   "source": [
    "def calc_vif(X):\n",
    "    from statsmodels.stats.outliers_influence import variance_inflation_factor\n",
    "\n",
    "    # Calculating VIF\n",
    "    vif = pd.DataFrame()\n",
    "    vif[\"variables\"] = X.columns\n",
    "    vif[\"VIF\"] = [variance_inflation_factor(X.values, i) for i in range(X.shape[1])]\n",
    "\n",
    "    return(vif)"
   ]
  },
  {
   "cell_type": "code",
   "execution_count": 198,
   "metadata": {},
   "outputs": [
    {
     "name": "stdout",
     "output_type": "stream",
     "text": [
      "+-----+--------+--------+--------+\n",
      "|     |  SMB   |  NVT   | Market |\n",
      "+-----+--------+--------+--------+\n",
      "| VIF | 3.1221 | 4.8746 | 3.1681 |\n",
      "+-----+--------+--------+--------+\n"
     ]
    }
   ],
   "source": [
    "x2 = PrettyTable([\"\",\"SMB\", \"NVT\",\"Market\"])\n",
    "x2.padding_width = 1\n",
    "y2 = round(calc_vif(factors)['VIF'], 4).tolist()\n",
    "y2 = [\"VIF\"] + y2\n",
    "x2.add_row(y2)\n",
    "\n",
    "print(x2)"
   ]
  },
  {
   "cell_type": "markdown",
   "metadata": {},
   "source": [
    "Calculate returns of each portfolio"
   ]
  },
  {
   "cell_type": "code",
   "execution_count": 199,
   "metadata": {},
   "outputs": [],
   "source": [
    "columns_name = ['SMB1', 'SMB2', 'SMB3', 'SMB4', 'SMB5', 'NVT1', 'NVT2', 'NVT3', 'NVT4', 'NVT5']\n",
    "portfolio_returns = pd.DataFrame(columns= columns_name)"
   ]
  },
  {
   "cell_type": "code",
   "execution_count": 200,
   "metadata": {},
   "outputs": [],
   "source": [
    "for date in date_list:\n",
    "    tempData = (dateData.loc[date]).copy()\n",
    "    \n",
    "    m1 = tempData['market_cap'].quantile(0.2)\n",
    "    m2 = tempData['market_cap'].quantile(0.4)\n",
    "    m3 = tempData['market_cap'].quantile(0.6)\n",
    "    m4 = tempData['market_cap'].quantile(0.8)\n",
    "    \n",
    "    n1 = tempData['NVT'].quantile(0.2)\n",
    "    n2 = tempData['NVT'].quantile(0.4)\n",
    "    n3 = tempData['NVT'].quantile(0.6)\n",
    "    n4 = tempData['NVT'].quantile(0.8)\n",
    "    \n",
    "    SMB1 = tempData.Returns.loc[(tempData['market_cap'] <= m1)].mean()\n",
    "    SMB2 = tempData.Returns.loc[(tempData['market_cap'] <= m2) & (tempData['market_cap'] > m1)].mean()\n",
    "    SMB3 = tempData.Returns.loc[(tempData['market_cap'] <= m3) & (tempData['market_cap'] > m2)].mean()\n",
    "    SMB4 = tempData.Returns.loc[(tempData['market_cap'] <= m4) & (tempData['market_cap'] > m3)].mean()\n",
    "    SMB5 = tempData.Returns.loc[(tempData['market_cap'] > m4)].mean()\n",
    "    \n",
    "    NVT1 = tempData.Returns.loc[(tempData['NVT'] <= n1)].mean()\n",
    "    NVT2 = tempData.Returns.loc[(tempData['NVT'] <= n2) & (tempData['NVT'] > n1)].mean()\n",
    "    NVT3 = tempData.Returns.loc[(tempData['NVT'] <= n3) & (tempData['NVT'] > n2)].mean()\n",
    "    NVT4 = tempData.Returns.loc[(tempData['NVT'] <= n4) & (tempData['NVT'] > n3)].mean()\n",
    "    NVT5 = tempData.Returns.loc[(tempData['NVT'] > n4)].mean()\n",
    "    \n",
    "    df = pd.DataFrame({'SMB1':SMB1, 'SMB2':SMB2, 'SMB3':SMB3, 'SMB4':SMB4, 'SMB5':SMB5,\n",
    "                       'NVT1':NVT1, 'NVT2':NVT2, 'NVT3':NVT3,'NVT4':NVT4, 'NVT5':NVT5},\n",
    "                       index = [date])\n",
    "    portfolio_returns = portfolio_returns.append(df)"
   ]
  },
  {
   "cell_type": "code",
   "execution_count": 201,
   "metadata": {},
   "outputs": [
    {
     "data": {
      "text/html": [
       "<div>\n",
       "<style scoped>\n",
       "    .dataframe tbody tr th:only-of-type {\n",
       "        vertical-align: middle;\n",
       "    }\n",
       "\n",
       "    .dataframe tbody tr th {\n",
       "        vertical-align: top;\n",
       "    }\n",
       "\n",
       "    .dataframe thead th {\n",
       "        text-align: right;\n",
       "    }\n",
       "</style>\n",
       "<table border=\"1\" class=\"dataframe\">\n",
       "  <thead>\n",
       "    <tr style=\"text-align: right;\">\n",
       "      <th></th>\n",
       "      <th>SMB1</th>\n",
       "      <th>SMB2</th>\n",
       "      <th>SMB3</th>\n",
       "      <th>SMB4</th>\n",
       "      <th>SMB5</th>\n",
       "      <th>NVT1</th>\n",
       "      <th>NVT2</th>\n",
       "      <th>NVT3</th>\n",
       "      <th>NVT4</th>\n",
       "      <th>NVT5</th>\n",
       "    </tr>\n",
       "  </thead>\n",
       "  <tbody>\n",
       "    <tr>\n",
       "      <th>2018-01-07</th>\n",
       "      <td>0.000000</td>\n",
       "      <td>0.000000</td>\n",
       "      <td>0.000000</td>\n",
       "      <td>0.000000</td>\n",
       "      <td>0.000000</td>\n",
       "      <td>0.000000</td>\n",
       "      <td>0.000000</td>\n",
       "      <td>0.000000</td>\n",
       "      <td>0.000000</td>\n",
       "      <td>0.000000</td>\n",
       "    </tr>\n",
       "    <tr>\n",
       "      <th>2018-01-14</th>\n",
       "      <td>-0.047185</td>\n",
       "      <td>-0.003107</td>\n",
       "      <td>-0.075791</td>\n",
       "      <td>-0.112003</td>\n",
       "      <td>-0.044925</td>\n",
       "      <td>-0.003358</td>\n",
       "      <td>-0.054365</td>\n",
       "      <td>0.033228</td>\n",
       "      <td>-0.122742</td>\n",
       "      <td>-0.140202</td>\n",
       "    </tr>\n",
       "    <tr>\n",
       "      <th>2018-01-21</th>\n",
       "      <td>-0.249425</td>\n",
       "      <td>-0.232047</td>\n",
       "      <td>-0.248672</td>\n",
       "      <td>-0.270017</td>\n",
       "      <td>-0.223426</td>\n",
       "      <td>-0.217415</td>\n",
       "      <td>-0.279271</td>\n",
       "      <td>-0.236500</td>\n",
       "      <td>-0.259926</td>\n",
       "      <td>-0.233127</td>\n",
       "    </tr>\n",
       "    <tr>\n",
       "      <th>2018-01-28</th>\n",
       "      <td>0.032719</td>\n",
       "      <td>0.135872</td>\n",
       "      <td>0.106964</td>\n",
       "      <td>0.066650</td>\n",
       "      <td>0.014568</td>\n",
       "      <td>0.043296</td>\n",
       "      <td>0.015173</td>\n",
       "      <td>0.119768</td>\n",
       "      <td>0.029561</td>\n",
       "      <td>0.137704</td>\n",
       "    </tr>\n",
       "    <tr>\n",
       "      <th>2018-02-04</th>\n",
       "      <td>-0.306758</td>\n",
       "      <td>-0.271310</td>\n",
       "      <td>-0.200478</td>\n",
       "      <td>-0.267003</td>\n",
       "      <td>-0.275624</td>\n",
       "      <td>-0.210466</td>\n",
       "      <td>-0.286925</td>\n",
       "      <td>-0.282367</td>\n",
       "      <td>-0.265925</td>\n",
       "      <td>-0.276528</td>\n",
       "    </tr>\n",
       "    <tr>\n",
       "      <th>...</th>\n",
       "      <td>...</td>\n",
       "      <td>...</td>\n",
       "      <td>...</td>\n",
       "      <td>...</td>\n",
       "      <td>...</td>\n",
       "      <td>...</td>\n",
       "      <td>...</td>\n",
       "      <td>...</td>\n",
       "      <td>...</td>\n",
       "      <td>...</td>\n",
       "    </tr>\n",
       "    <tr>\n",
       "      <th>2020-12-06</th>\n",
       "      <td>0.091747</td>\n",
       "      <td>0.087508</td>\n",
       "      <td>0.058307</td>\n",
       "      <td>0.032436</td>\n",
       "      <td>0.051728</td>\n",
       "      <td>0.095126</td>\n",
       "      <td>0.046269</td>\n",
       "      <td>0.010428</td>\n",
       "      <td>0.063384</td>\n",
       "      <td>0.105783</td>\n",
       "    </tr>\n",
       "    <tr>\n",
       "      <th>2020-12-13</th>\n",
       "      <td>-0.052792</td>\n",
       "      <td>-0.102789</td>\n",
       "      <td>-0.071850</td>\n",
       "      <td>-0.078546</td>\n",
       "      <td>-0.054445</td>\n",
       "      <td>-0.071304</td>\n",
       "      <td>-0.099832</td>\n",
       "      <td>-0.072238</td>\n",
       "      <td>-0.054850</td>\n",
       "      <td>-0.060294</td>\n",
       "    </tr>\n",
       "    <tr>\n",
       "      <th>2020-12-20</th>\n",
       "      <td>0.161581</td>\n",
       "      <td>0.088575</td>\n",
       "      <td>0.149523</td>\n",
       "      <td>0.122617</td>\n",
       "      <td>0.170883</td>\n",
       "      <td>0.215877</td>\n",
       "      <td>0.109294</td>\n",
       "      <td>0.076045</td>\n",
       "      <td>0.148537</td>\n",
       "      <td>0.146757</td>\n",
       "    </tr>\n",
       "    <tr>\n",
       "      <th>2020-12-27</th>\n",
       "      <td>0.004933</td>\n",
       "      <td>-0.165198</td>\n",
       "      <td>-0.087038</td>\n",
       "      <td>-0.068230</td>\n",
       "      <td>-0.090599</td>\n",
       "      <td>-0.027529</td>\n",
       "      <td>-0.135722</td>\n",
       "      <td>-0.088807</td>\n",
       "      <td>-0.107666</td>\n",
       "      <td>-0.047119</td>\n",
       "    </tr>\n",
       "    <tr>\n",
       "      <th>2021-01-03</th>\n",
       "      <td>0.014558</td>\n",
       "      <td>0.000650</td>\n",
       "      <td>0.023684</td>\n",
       "      <td>0.003836</td>\n",
       "      <td>0.002408</td>\n",
       "      <td>-0.039666</td>\n",
       "      <td>0.041780</td>\n",
       "      <td>0.002622</td>\n",
       "      <td>0.019637</td>\n",
       "      <td>0.024831</td>\n",
       "    </tr>\n",
       "  </tbody>\n",
       "</table>\n",
       "<p>157 rows × 10 columns</p>\n",
       "</div>"
      ],
      "text/plain": [
       "                SMB1      SMB2      SMB3      SMB4      SMB5      NVT1  \\\n",
       "2018-01-07  0.000000  0.000000  0.000000  0.000000  0.000000  0.000000   \n",
       "2018-01-14 -0.047185 -0.003107 -0.075791 -0.112003 -0.044925 -0.003358   \n",
       "2018-01-21 -0.249425 -0.232047 -0.248672 -0.270017 -0.223426 -0.217415   \n",
       "2018-01-28  0.032719  0.135872  0.106964  0.066650  0.014568  0.043296   \n",
       "2018-02-04 -0.306758 -0.271310 -0.200478 -0.267003 -0.275624 -0.210466   \n",
       "...              ...       ...       ...       ...       ...       ...   \n",
       "2020-12-06  0.091747  0.087508  0.058307  0.032436  0.051728  0.095126   \n",
       "2020-12-13 -0.052792 -0.102789 -0.071850 -0.078546 -0.054445 -0.071304   \n",
       "2020-12-20  0.161581  0.088575  0.149523  0.122617  0.170883  0.215877   \n",
       "2020-12-27  0.004933 -0.165198 -0.087038 -0.068230 -0.090599 -0.027529   \n",
       "2021-01-03  0.014558  0.000650  0.023684  0.003836  0.002408 -0.039666   \n",
       "\n",
       "                NVT2      NVT3      NVT4      NVT5  \n",
       "2018-01-07  0.000000  0.000000  0.000000  0.000000  \n",
       "2018-01-14 -0.054365  0.033228 -0.122742 -0.140202  \n",
       "2018-01-21 -0.279271 -0.236500 -0.259926 -0.233127  \n",
       "2018-01-28  0.015173  0.119768  0.029561  0.137704  \n",
       "2018-02-04 -0.286925 -0.282367 -0.265925 -0.276528  \n",
       "...              ...       ...       ...       ...  \n",
       "2020-12-06  0.046269  0.010428  0.063384  0.105783  \n",
       "2020-12-13 -0.099832 -0.072238 -0.054850 -0.060294  \n",
       "2020-12-20  0.109294  0.076045  0.148537  0.146757  \n",
       "2020-12-27 -0.135722 -0.088807 -0.107666 -0.047119  \n",
       "2021-01-03  0.041780  0.002622  0.019637  0.024831  \n",
       "\n",
       "[157 rows x 10 columns]"
      ]
     },
     "execution_count": 201,
     "metadata": {},
     "output_type": "execute_result"
    }
   ],
   "source": [
    "portfolio_returns"
   ]
  },
  {
   "cell_type": "code",
   "execution_count": 202,
   "metadata": {
    "scrolled": true
   },
   "outputs": [],
   "source": [
    "portfolio_returns = pd.concat([portfolio_returns, factors], axis=1)"
   ]
  },
  {
   "cell_type": "markdown",
   "metadata": {},
   "source": [
    "Mean returns of each portfolio"
   ]
  },
  {
   "cell_type": "code",
   "execution_count": 203,
   "metadata": {},
   "outputs": [
    {
     "name": "stdout",
     "output_type": "stream",
     "text": [
      "+------+----------+---------+--------+--------+---------+\n",
      "|      | Smallest |    2    |   3    |   4    | Largest |\n",
      "+------+----------+---------+--------+--------+---------+\n",
      "| Mean | -0.0006  | -0.0029 | 0.0005 | 0.0005 |  0.0026 |\n",
      "+------+----------+---------+--------+--------+---------+\n"
     ]
    }
   ],
   "source": [
    "x2 = PrettyTable([\"\",\"Smallest\", \"2\",\"3\", \"4\",\"Largest\"])\n",
    "x2.padding_width = 1\n",
    "y2 = round(portfolio_returns.loc[:,'SMB1': 'SMB5'].mean(), 4).tolist()\n",
    "y2 = [\"Mean\"] + y2\n",
    "x2.add_row(y2)\n",
    "\n",
    "print(x2)"
   ]
  },
  {
   "cell_type": "code",
   "execution_count": 204,
   "metadata": {},
   "outputs": [
    {
     "name": "stdout",
     "output_type": "stream",
     "text": [
      "+------+--------+--------+---------+-------+---------+\n",
      "|      | Lowest |   2    |    3    |   4   | Highest |\n",
      "+------+--------+--------+---------+-------+---------+\n",
      "| Mean | 0.0207 | 0.0021 | -0.0002 | -0.01 |  -0.013 |\n",
      "+------+--------+--------+---------+-------+---------+\n"
     ]
    }
   ],
   "source": [
    "x1 = PrettyTable([\"\",\"Lowest\", \"2\",\"3\", \"4\",\"Highest\"])\n",
    "x1.padding_width = 1\n",
    "y1 = round(portfolio_returns.loc[:,'NVT1': 'NVT5'].mean(), 4).tolist()\n",
    "y1 = [\"Mean\"] + y1\n",
    "x1.add_row(y1)\n",
    "print(x1)"
   ]
  },
  {
   "cell_type": "markdown",
   "metadata": {},
   "source": [
    "## CAPM"
   ]
  },
  {
   "cell_type": "code",
   "execution_count": 205,
   "metadata": {},
   "outputs": [],
   "source": [
    "trial_result = []\n",
    "for ticker in columns_name:\n",
    "    French_model = smf.ols(formula = ticker+' ~ MarketReturn', data = portfolio_returns)\n",
    "    French_fit = French_model.fit()\n",
    "    trial_result.append(French_fit)"
   ]
  },
  {
   "cell_type": "code",
   "execution_count": 206,
   "metadata": {},
   "outputs": [
    {
     "data": {
      "text/html": [
       "<table style=\"text-align:center\"><tr><td colspan=\"6\" style=\"border-bottom: 1px solid black\"></td></tr><tr><td style=\"text-align:left\"></td><tr><td></td><td colspan=\"1\">Smallest</td><td colspan=\"1\">2</td><td colspan=\"1\">3</td><td colspan=\"1\">4</td><td colspan=\"1\">Largest</td></tr><tr><td colspan=\"6\" style=\"border-bottom: 1px solid black\"></td></tr><tr><td style=\"text-align:left\">Intercept</td><td>-0.004<sup></sup></td><td>-0.006<sup></sup></td><td>-0.003<sup></sup></td><td>-0.003<sup></sup></td><td>-0.001<sup></sup></td></tr><tr><td style=\"text-align:left\"></td><td>(0.006)</td><td>(0.007)</td><td>(0.006)</td><td>(0.006)</td><td>(0.004)</td></tr><tr><td style=\"text-align:left\">Market Return</td><td>0.942<sup>***</sup></td><td>0.918<sup>***</sup></td><td>0.961<sup>***</sup></td><td>0.958<sup>***</sup></td><td>1.027<sup>***</sup></td></tr><tr><td style=\"text-align:left\"></td><td>(0.060)</td><td>(0.063)</td><td>(0.058)</td><td>(0.056)</td><td>(0.042)</td></tr><td colspan=\"6\" style=\"border-bottom: 1px solid black\"></td></tr><tr><td style=\"text-align: left\">Observations</td><td>157</td><td>157</td><td>157</td><td>157</td><td>157</td></tr><tr><td style=\"text-align: left\">R<sup>2</sup></td><td>0.613</td><td>0.579</td><td>0.638</td><td>0.657</td><td>0.792</td></tr><tr><td style=\"text-align: left\">Adjusted R<sup>2</sup></td><td>0.611</td><td>0.576</td><td>0.636</td><td>0.655</td><td>0.791</td></tr><tr><td style=\"text-align: left\">Residual Std. Error</td><td>0.080 (df=155)</td><td>0.084 (df=155)</td><td>0.078 (df=155)</td><td>0.074 (df=155)</td><td>0.056 (df=155)</td></tr><tr><td style=\"text-align: left\">F Statistic</td><td>245.814<sup>***</sup> (df=1; 155)</td><td>212.779<sup>***</sup> (df=1; 155)</td><td>273.013<sup>***</sup> (df=1; 155)</td><td>297.108<sup>***</sup> (df=1; 155)</td><td>591.706<sup>***</sup> (df=1; 155)</td></tr><tr><td colspan=\"6\" style=\"border-bottom: 1px solid black\"></td></tr><tr><td style=\"text-align: left\">Note:</td>\n",
       " <td colspan=\"5\" style=\"text-align: right\">\n",
       "  <sup>*</sup>p&lt;0.1;\n",
       "  <sup>**</sup>p&lt;0.05;\n",
       "  <sup>***</sup>p&lt;0.01\n",
       " </td></tr></table>"
      ],
      "text/plain": [
       "<IPython.core.display.HTML object>"
      ]
     },
     "execution_count": 206,
     "metadata": {},
     "output_type": "execute_result"
    }
   ],
   "source": [
    "stargazer = Stargazer(trial_result[0:5])\n",
    "stargazer.show_model_numbers(False)\n",
    "stargazer.custom_columns([\"Smallest\", \"2\",\"3\", \"4\",\"Largest\"], [1,1,1,1,1])\n",
    "stargazer.rename_covariates({'MarketReturn': 'Market Return'})\n",
    "HTML(stargazer.render_html())"
   ]
  },
  {
   "cell_type": "code",
   "execution_count": 207,
   "metadata": {},
   "outputs": [
    {
     "data": {
      "text/html": [
       "<table style=\"text-align:center\"><tr><td colspan=\"6\" style=\"border-bottom: 1px solid black\"></td></tr><tr><td style=\"text-align:left\"></td><tr><td></td><td colspan=\"1\">Lowest</td><td colspan=\"1\">2</td><td colspan=\"1\">3</td><td colspan=\"1\">4</td><td colspan=\"1\">Highest</td></tr><tr><td colspan=\"6\" style=\"border-bottom: 1px solid black\"></td></tr><tr><td style=\"text-align:left\">Intercept</td><td>0.017<sup>**</sup></td><td>-0.001<sup></sup></td><td>-0.004<sup></sup></td><td>-0.013<sup>**</sup></td><td>-0.016<sup>***</sup></td></tr><tr><td style=\"text-align:left\"></td><td>(0.007)</td><td>(0.006)</td><td>(0.006)</td><td>(0.005)</td><td>(0.005)</td></tr><tr><td style=\"text-align:left\">Market Return</td><td>1.054<sup>***</sup></td><td>0.972<sup>***</sup></td><td>0.957<sup>***</sup></td><td>0.904<sup>***</sup></td><td>0.919<sup>***</sup></td></tr><tr><td style=\"text-align:left\"></td><td>(0.064)</td><td>(0.054)</td><td>(0.055)</td><td>(0.051)</td><td>(0.049)</td></tr><td colspan=\"6\" style=\"border-bottom: 1px solid black\"></td></tr><tr><td style=\"text-align: left\">Observations</td><td>157</td><td>157</td><td>157</td><td>157</td><td>157</td></tr><tr><td style=\"text-align: left\">R<sup>2</sup></td><td>0.633</td><td>0.676</td><td>0.658</td><td>0.669</td><td>0.691</td></tr><tr><td style=\"text-align: left\">Adjusted R<sup>2</sup></td><td>0.631</td><td>0.674</td><td>0.656</td><td>0.667</td><td>0.689</td></tr><tr><td style=\"text-align: left\">Residual Std. Error</td><td>0.086 (df=155)</td><td>0.072 (df=155)</td><td>0.074 (df=155)</td><td>0.068 (df=155)</td><td>0.066 (df=155)</td></tr><tr><td style=\"text-align: left\">F Statistic</td><td>267.607<sup>***</sup> (df=1; 155)</td><td>323.328<sup>***</sup> (df=1; 155)</td><td>298.300<sup>***</sup> (df=1; 155)</td><td>313.710<sup>***</sup> (df=1; 155)</td><td>346.427<sup>***</sup> (df=1; 155)</td></tr><tr><td colspan=\"6\" style=\"border-bottom: 1px solid black\"></td></tr><tr><td style=\"text-align: left\">Note:</td>\n",
       " <td colspan=\"5\" style=\"text-align: right\">\n",
       "  <sup>*</sup>p&lt;0.1;\n",
       "  <sup>**</sup>p&lt;0.05;\n",
       "  <sup>***</sup>p&lt;0.01\n",
       " </td></tr></table>"
      ],
      "text/plain": [
       "<IPython.core.display.HTML object>"
      ]
     },
     "execution_count": 207,
     "metadata": {},
     "output_type": "execute_result"
    }
   ],
   "source": [
    "stargazer = Stargazer(trial_result[5:10])\n",
    "stargazer.show_model_numbers(False)\n",
    "stargazer.custom_columns([\"Lowest\", \"2\",\"3\", \"4\",\"Highest\"], [1,1,1,1,1])\n",
    "stargazer.rename_covariates({'MarketReturn': 'Market Return'})\n",
    "HTML(stargazer.render_html())"
   ]
  },
  {
   "cell_type": "markdown",
   "metadata": {},
   "source": [
    "## Fama-French 3 Factor"
   ]
  },
  {
   "cell_type": "code",
   "execution_count": 208,
   "metadata": {
    "scrolled": true
   },
   "outputs": [],
   "source": [
    "trial_result = []\n",
    "for ticker in columns_name:\n",
    "    French_model = smf.ols(formula = ticker+' ~ MarketReturn + SMB + NVT', data = portfolio_returns)\n",
    "    French_fit = French_model.fit()\n",
    "    trial_result.append(French_fit)"
   ]
  },
  {
   "cell_type": "code",
   "execution_count": 209,
   "metadata": {
    "scrolled": false
   },
   "outputs": [
    {
     "data": {
      "text/html": [
       "<table style=\"text-align:center\"><tr><td colspan=\"6\" style=\"border-bottom: 1px solid black\"></td></tr><tr><td style=\"text-align:left\"></td><tr><td></td><td colspan=\"1\">Smallest</td><td colspan=\"1\">2</td><td colspan=\"1\">3</td><td colspan=\"1\">4</td><td colspan=\"1\">Largest</td></tr><tr><td colspan=\"6\" style=\"border-bottom: 1px solid black\"></td></tr><tr><td style=\"text-align:left\">Intercept</td><td>0.001<sup></sup></td><td>0.003<sup></sup></td><td>0.005<sup></sup></td><td>0.004<sup></sup></td><td>0.005<sup></sup></td></tr><tr><td style=\"text-align:left\"></td><td>(0.003)</td><td>(0.005)</td><td>(0.005)</td><td>(0.005)</td><td>(0.004)</td></tr><tr><td style=\"text-align:left\">Market Return</td><td>0.106<sup>**</sup></td><td>0.098<sup></sup></td><td>0.253<sup>***</sup></td><td>0.353<sup>***</sup></td><td>0.572<sup>***</sup></td></tr><tr><td style=\"text-align:left\"></td><td>(0.044)</td><td>(0.081)</td><td>(0.080)</td><td>(0.082)</td><td>(0.063)</td></tr><tr><td style=\"text-align:left\">NVT</td><td>0.304<sup>***</sup></td><td>0.733<sup>***</sup></td><td>0.645<sup>***</sup></td><td>0.548<sup>***</sup></td><td>0.449<sup>***</sup></td></tr><tr><td style=\"text-align:left\"></td><td>(0.051)</td><td>(0.093)</td><td>(0.091)</td><td>(0.094)</td><td>(0.072)</td></tr><tr><td style=\"text-align:left\">SMB</td><td>0.596<sup>***</sup></td><td>0.163<sup>***</sup></td><td>0.128<sup>**</sup></td><td>0.113<sup>*</sup></td><td>0.049<sup></sup></td></tr><tr><td style=\"text-align:left\"></td><td>(0.033)</td><td>(0.061)</td><td>(0.059)</td><td>(0.061)</td><td>(0.047)</td></tr><td colspan=\"6\" style=\"border-bottom: 1px solid black\"></td></tr><tr><td style=\"text-align: left\">Observations</td><td>157</td><td>157</td><td>157</td><td>157</td><td>157</td></tr><tr><td style=\"text-align: left\">R<sup>2</sup></td><td>0.936</td><td>0.787</td><td>0.794</td><td>0.775</td><td>0.861</td></tr><tr><td style=\"text-align: left\">Adjusted R<sup>2</sup></td><td>0.935</td><td>0.783</td><td>0.789</td><td>0.771</td><td>0.859</td></tr><tr><td style=\"text-align: left\">Residual Std. Error</td><td>0.033 (df=153)</td><td>0.060 (df=153)</td><td>0.059 (df=153)</td><td>0.060 (df=153)</td><td>0.046 (df=153)</td></tr><tr><td style=\"text-align: left\">F Statistic</td><td>751.377<sup>***</sup> (df=3; 153)</td><td>188.779<sup>***</sup> (df=3; 153)</td><td>196.004<sup>***</sup> (df=3; 153)</td><td>175.692<sup>***</sup> (df=3; 153)</td><td>317.036<sup>***</sup> (df=3; 153)</td></tr><tr><td colspan=\"6\" style=\"border-bottom: 1px solid black\"></td></tr><tr><td style=\"text-align: left\">Note:</td>\n",
       " <td colspan=\"5\" style=\"text-align: right\">\n",
       "  <sup>*</sup>p&lt;0.1;\n",
       "  <sup>**</sup>p&lt;0.05;\n",
       "  <sup>***</sup>p&lt;0.01\n",
       " </td></tr></table>"
      ],
      "text/plain": [
       "<IPython.core.display.HTML object>"
      ]
     },
     "execution_count": 209,
     "metadata": {},
     "output_type": "execute_result"
    }
   ],
   "source": [
    "stargazer = Stargazer(trial_result[0:5])\n",
    "stargazer.show_model_numbers(False)\n",
    "stargazer.custom_columns([\"Smallest\", \"2\",\"3\", \"4\",\"Largest\"], [1,1,1,1,1])\n",
    "stargazer.rename_covariates({'MarketReturn': 'Market Return'})\n",
    "HTML(stargazer.render_html())"
   ]
  },
  {
   "cell_type": "code",
   "execution_count": 210,
   "metadata": {
    "scrolled": false
   },
   "outputs": [
    {
     "data": {
      "text/html": [
       "<table style=\"text-align:center\"><tr><td colspan=\"6\" style=\"border-bottom: 1px solid black\"></td></tr><tr><td style=\"text-align:left\"></td><tr><td></td><td colspan=\"1\">Lowest</td><td colspan=\"1\">2</td><td colspan=\"1\">3</td><td colspan=\"1\">4</td><td colspan=\"1\">Highest</td></tr><tr><td colspan=\"6\" style=\"border-bottom: 1px solid black\"></td></tr><tr><td style=\"text-align:left\">Intercept</td><td>0.021<sup>***</sup></td><td>0.006<sup></sup></td><td>0.004<sup></sup></td><td>-0.006<sup></sup></td><td>-0.006<sup>***</sup></td></tr><tr><td style=\"text-align:left\"></td><td>(0.006)</td><td>(0.004)</td><td>(0.004)</td><td>(0.004)</td><td>(0.002)</td></tr><tr><td style=\"text-align:left\">Market Return</td><td>0.535<sup>***</sup></td><td>0.300<sup>***</sup></td><td>0.255<sup>***</sup></td><td>0.226<sup>***</sup></td><td>0.071<sup>**</sup></td></tr><tr><td style=\"text-align:left\"></td><td>(0.102)</td><td>(0.072)</td><td>(0.072)</td><td>(0.063)</td><td>(0.033)</td></tr><tr><td style=\"text-align:left\">NVT</td><td>0.282<sup>**</sup></td><td>0.542<sup>***</sup></td><td>0.553<sup>***</sup></td><td>0.537<sup>***</sup></td><td>0.750<sup>***</sup></td></tr><tr><td style=\"text-align:left\"></td><td>(0.117)</td><td>(0.082)</td><td>(0.082)</td><td>(0.072)</td><td>(0.038)</td></tr><tr><td style=\"text-align:left\">SMB</td><td>0.279<sup>***</sup></td><td>0.190<sup>***</sup></td><td>0.211<sup>***</sup></td><td>0.201<sup>***</sup></td><td>0.176<sup>***</sup></td></tr><tr><td style=\"text-align:left\"></td><td>(0.076)</td><td>(0.054)</td><td>(0.054)</td><td>(0.047)</td><td>(0.025)</td></tr><td colspan=\"6\" style=\"border-bottom: 1px solid black\"></td></tr><tr><td style=\"text-align: left\">Observations</td><td>157</td><td>157</td><td>157</td><td>157</td><td>157</td></tr><tr><td style=\"text-align: left\">R<sup>2</sup></td><td>0.719</td><td>0.827</td><td>0.825</td><td>0.846</td><td>0.957</td></tr><tr><td style=\"text-align: left\">Adjusted R<sup>2</sup></td><td>0.714</td><td>0.824</td><td>0.821</td><td>0.843</td><td>0.957</td></tr><tr><td style=\"text-align: left\">Residual Std. Error</td><td>0.076 (df=153)</td><td>0.053 (df=153)</td><td>0.053 (df=153)</td><td>0.047 (df=153)</td><td>0.025 (df=153)</td></tr><tr><td style=\"text-align: left\">F Statistic</td><td>130.732<sup>***</sup> (df=3; 153)</td><td>243.808<sup>***</sup> (df=3; 153)</td><td>240.314<sup>***</sup> (df=3; 153)</td><td>280.872<sup>***</sup> (df=3; 153)</td><td>1147.556<sup>***</sup> (df=3; 153)</td></tr><tr><td colspan=\"6\" style=\"border-bottom: 1px solid black\"></td></tr><tr><td style=\"text-align: left\">Note:</td>\n",
       " <td colspan=\"5\" style=\"text-align: right\">\n",
       "  <sup>*</sup>p&lt;0.1;\n",
       "  <sup>**</sup>p&lt;0.05;\n",
       "  <sup>***</sup>p&lt;0.01\n",
       " </td></tr></table>"
      ],
      "text/plain": [
       "<IPython.core.display.HTML object>"
      ]
     },
     "execution_count": 210,
     "metadata": {},
     "output_type": "execute_result"
    }
   ],
   "source": [
    "stargazer = Stargazer(trial_result[5:10])\n",
    "stargazer.show_model_numbers(False)\n",
    "stargazer.custom_columns([\"Lowest\", \"2\",\"3\", \"4\",\"Highest\"], [1,1,1,1,1])\n",
    "stargazer.rename_covariates({'MarketReturn': 'Market Return'})\n",
    "HTML(stargazer.render_html())"
   ]
  },
  {
   "cell_type": "code",
   "execution_count": 234,
   "metadata": {},
   "outputs": [
    {
     "name": "stdout",
     "output_type": "stream",
     "text": [
      "0.006499246216009898\n"
     ]
    }
   ],
   "source": [
    "out_of_sample_returns = 0\n",
    "\n",
    "for i in range(0,156): \n",
    "    # long SMB1 and short SMB5\n",
    "    \n",
    "    \n",
    "    tempData_currentWeek = (dateData.loc[date_list[i]]).copy()\n",
    "    tempData_nextWeek = (dateData.loc[date_list[i+1]]).copy()\n",
    "    \n",
    "    n1 = tempData_currentWeek['market_cap'].quantile(0.2)\n",
    "    n2 = tempData_currentWeek['market_cap'].quantile(0.8)\n",
    "    \n",
    "    SMB1 = (tempData_currentWeek.loc[(tempData_currentWeek['market_cap'] <= n1)]).index.to_list() \n",
    "    SMB5 = (tempData_currentWeek.loc[(tempData_currentWeek['market_cap'] >= n2)]).index.to_list() \n",
    "    \n",
    "    out_of_sample_returns += tempData_nextWeek.Returns.loc[SMB1].mean() - tempData_nextWeek.Returns.loc[SMB5].mean()\n",
    "    df = pd.DataFrame({'Large': tempData_nextWeek.Returns.loc[SMB5].mean(), 'Small' : tempData_nextWeek.Returns.loc[SMB1].mean()}, index = [i])\n",
    "    X = X.append(df)\n",
    "out_of_sample_returns /= 156 \n",
    "print(out_of_sample_returns)\n"
   ]
  },
  {
   "cell_type": "code",
   "execution_count": 239,
   "metadata": {},
   "outputs": [
    {
     "name": "stdout",
     "output_type": "stream",
     "text": [
      "0.007350698960064433\n"
     ]
    }
   ],
   "source": [
    "out_of_sample_returns = 0\n",
    "for i in range(0,156): \n",
    "    # long NVT1 and short NVT5\n",
    "    \n",
    "    \n",
    "    tempData_currentWeek = (dateData.loc[date_list[i]]).copy()\n",
    "    tempData_nextWeek = (dateData.loc[date_list[i+1]]).copy()\n",
    "    n1 = tempData_currentWeek['NVT'].quantile(0.2)\n",
    "    n2 = tempData_currentWeek['NVT'].quantile(0.8)\n",
    "    \n",
    "    NVT1 = (tempData_currentWeek.loc[(tempData_currentWeek['NVT'] <= n1)]).index.to_list() \n",
    "    NVT5 = (tempData_currentWeek.loc[(tempData_currentWeek['NVT'] >= n2)]).index.to_list() \n",
    "    \n",
    "    out_of_sample_returns += tempData_nextWeek.Returns.loc[NVT5].mean() - tempData_nextWeek.Returns.loc[NVT1].mean()\n",
    "out_of_sample_returns /= 156\n",
    "print(out_of_sample_returns)"
   ]
  },
  {
   "cell_type": "code",
   "execution_count": 237,
   "metadata": {},
   "outputs": [
    {
     "name": "stdout",
     "output_type": "stream",
     "text": [
      "0.009574256367975464\n"
     ]
    }
   ],
   "source": [
    "out_of_sample_returns = 0\n",
    "for i in range(0,156):     \n",
    "    \n",
    "    tempData_currentWeek = (dateData.loc[date_list[i]]).copy()\n",
    "    tempData_nextWeek = (dateData.loc[date_list[i+1]]).copy()\n",
    "    \n",
    "    m1 = tempData_currentWeek['market_cap'].quantile(0.2)\n",
    "    m2 = tempData_currentWeek['market_cap'].quantile(0.8)\n",
    "    n1 = tempData_currentWeek['NVT'].quantile(0.2)\n",
    "    n2 = tempData_currentWeek['NVT'].quantile(0.8)\n",
    "    \n",
    "    NVT1 = (tempData_currentWeek.Returns.loc[(tempData_currentWeek['NVT'] <= n1)]).index.to_list()\n",
    "    NVT5 = (tempData_currentWeek.Returns.loc[(tempData_currentWeek['NVT'] >= n2)]).index.to_list()\n",
    "    \n",
    "    SMB1 = (tempData_currentWeek.Returns.loc[(tempData_currentWeek['market_cap'] <= m1)]).index.to_list()\n",
    "    SMB5= (tempData_currentWeek.Returns.loc[(tempData_currentWeek['market_cap'] >= m2)]).index.to_list()\n",
    "    \n",
    "    investment_list1 = set(NVT5).intersection(SMB1)\n",
    "    investment_list2 = set(NVT1).intersection(SMB5)\n",
    "    \n",
    "    out_of_sample_returns += tempData_nextWeek.Returns.loc[investment_list1].mean() - tempData_nextWeek.Returns.loc[investment_list2].mean()\n",
    "    \n",
    "out_of_sample_returns /= 156\n",
    "print(out_of_sample_returns)"
   ]
  },
  {
   "cell_type": "code",
   "execution_count": null,
   "metadata": {},
   "outputs": [],
   "source": []
  },
  {
   "cell_type": "code",
   "execution_count": null,
   "metadata": {},
   "outputs": [],
   "source": []
  }
 ],
 "metadata": {
  "kernelspec": {
   "display_name": "Python 3",
   "language": "python",
   "name": "python3"
  },
  "language_info": {
   "codemirror_mode": {
    "name": "ipython",
    "version": 3
   },
   "file_extension": ".py",
   "mimetype": "text/x-python",
   "name": "python",
   "nbconvert_exporter": "python",
   "pygments_lexer": "ipython3",
   "version": "3.8.3"
  }
 },
 "nbformat": 4,
 "nbformat_minor": 4
}
