{
 "cells": [
  {
   "cell_type": "code",
   "execution_count": 1,
   "id": "hindu-invasion",
   "metadata": {},
   "outputs": [],
   "source": [
    "import pandas as pd\n",
    "import numpy as np\n",
    "import matplotlib.pyplot as plt\n",
    "import tensorflow as tf"
   ]
  },
  {
   "cell_type": "code",
   "execution_count": 2,
   "id": "cloudy-gentleman",
   "metadata": {},
   "outputs": [],
   "source": [
    "import warnings\n",
    "warnings.filterwarnings('ignore')"
   ]
  },
  {
   "cell_type": "code",
   "execution_count": 3,
   "id": "normal-approval",
   "metadata": {},
   "outputs": [],
   "source": [
    "df=pd.read_csv('CC_data.csv')\n",
    "data = np.array(df[df['ticker']=='BTC-USD']['high'])"
   ]
  },
  {
   "cell_type": "code",
   "execution_count": 4,
   "id": "completed-committee",
   "metadata": {},
   "outputs": [
    {
     "data": {
      "image/png": "[encoded data removed]",
      "text/plain": [
       "<Figure size 432x288 with 1 Axes>"
      ]
     },
     "metadata": {
      "needs_background": "light"
     },
     "output_type": "display_data"
    }
   ],
   "source": [
    "plt.figure()\n",
    "plt.plot(data)\n",
    "plt.show()"
   ]
  },
  {
   "cell_type": "code",
   "execution_count": 5,
   "id": "adjacent-rocket",
   "metadata": {},
   "outputs": [],
   "source": [
    "normalize_data=(data-np.mean(data))/np.std(data)  #标准化\n",
    "normalize_data=normalize_data[:,np.newaxis]"
   ]
  },
  {
   "cell_type": "code",
   "execution_count": 6,
   "id": "proper-husband",
   "metadata": {},
   "outputs": [],
   "source": [
    "time_step=20      \n",
    "rnn_unit=10       #hidden layer units\n",
    "batch_size=60     \n",
    "input_size=1      \n",
    "output_size=1     \n",
    "lr=0.0006"
   ]
  },
  {
   "cell_type": "code",
   "execution_count": 7,
   "id": "early-nicholas",
   "metadata": {},
   "outputs": [],
   "source": [
    "train_x,train_y=[],[]\n",
    "for i in range(len(normalize_data)-time_step-1):\n",
    "    x=normalize_data[i:i+time_step]\n",
    "    y=normalize_data[i+1:i+time_step+1]\n",
    "    train_x.append(x.tolist())\n",
    "    train_y.append(y.tolist()) "
   ]
  },
  {
   "cell_type": "code",
   "execution_count": 8,
   "id": "organized-friendship",
   "metadata": {
    "scrolled": true
   },
   "outputs": [
    {
     "name": "stdout",
     "output_type": "stream",
     "text": [
      "WARNING:tensorflow:From C:\\ProgramData\\Anaconda3\\lib\\site-packages\\tensorflow\\python\\compat\\v2_compat.py:96: disable_resource_variables (from tensorflow.python.ops.variable_scope) is deprecated and will be removed in a future version.\n",
      "Instructions for updating:\n",
      "non-resource variables are not supported in the long term\n"
     ]
    }
   ],
   "source": [
    "import tensorflow.compat.v1 as tf\n",
    "tf.disable_v2_behavior()\n",
    "X=tf.placeholder(tf.float32, [None,time_step,input_size])\n",
    "Y=tf.placeholder(tf.float32, [None,time_step,output_size])"
   ]
  },
  {
   "cell_type": "code",
   "execution_count": 9,
   "id": "mathematical-parameter",
   "metadata": {},
   "outputs": [],
   "source": [
    "weights={\n",
    "         'in':tf.Variable(tf.random_normal([input_size,rnn_unit])),\n",
    "         'out':tf.Variable(tf.random_normal([rnn_unit,1]))\n",
    "         }\n",
    "biases={\n",
    "        'in':tf.Variable(tf.constant(0.1,shape=[rnn_unit,])),\n",
    "        'out':tf.Variable(tf.constant(0.1,shape=[1,]))\n",
    "        }"
   ]
  },
  {
   "cell_type": "code",
   "execution_count": 10,
   "id": "sought-parks",
   "metadata": {},
   "outputs": [],
   "source": [
    "def lstm(batch):  \n",
    "    w_in=weights['in']\n",
    "    b_in=biases['in']\n",
    "    input=tf.reshape(X,[-1,input_size]) \n",
    "    input_rnn=tf.matmul(input,w_in)+b_in\n",
    "    input_rnn=tf.reshape(input_rnn,[-1,time_step,rnn_unit]) \n",
    "    cell=tf.nn.rnn_cell.BasicLSTMCell(rnn_unit)\n",
    "    init_state=cell.zero_state(batch,dtype=tf.float32)\n",
    "    output_rnn,final_states=tf.nn.dynamic_rnn(cell, input_rnn,initial_state=init_state, dtype=tf.float32)\n",
    "    output=tf.reshape(output_rnn,[-1,rnn_unit]) \n",
    "    w_out=weights['out']\n",
    "    b_out=biases['out']\n",
    "    pred=tf.matmul(output,w_out)+b_out\n",
    "    return pred,final_states"
   ]
  },
  {
   "cell_type": "code",
   "execution_count": 11,
   "id": "technical-kentucky",
   "metadata": {},
   "outputs": [],
   "source": [
    "def train_lstm():\n",
    "    global batch_size\n",
    "#     pred,_=lstm(batch_size)\n",
    "\n",
    "    with tf.variable_scope('lstm'):\n",
    "        pred,_=lstm(batch_size) \n",
    "        \n",
    "    loss=tf.reduce_mean(tf.square(tf.reshape(pred,[-1])-tf.reshape(Y, [-1])))\n",
    "    train_op=tf.train.AdamOptimizer(lr).minimize(loss)\n",
    "    saver=tf.train.Saver(tf.global_variables())\n",
    "    with tf.Session() as sess:\n",
    "        sess.run(tf.global_variables_initializer())\n",
    "\n",
    "        for i in range(100):\n",
    "            step=0\n",
    "            start=0\n",
    "            end=start+batch_size\n",
    "            while(end<len(train_x)):\n",
    "                _,loss_=sess.run([train_op,loss],feed_dict={X:train_x[start:end],Y:train_y[start:end]})\n",
    "                start+=batch_size\n",
    "                end=start+batch_size\n",
    "\n",
    "                if step%10==0:\n",
    "                    print(i,step,loss_)\n",
    "                    print(\"Save Model: \",saver.save(sess,'stock.model'))\n",
    "                step+=1\n"
   ]
  },
  {
   "cell_type": "code",
   "execution_count": 12,
   "id": "legislative-intention",
   "metadata": {
    "scrolled": true
   },
   "outputs": [
    {
     "name": "stdout",
     "output_type": "stream",
     "text": [
      "WARNING:tensorflow:From <ipython-input-10-9d676c1e1d2a>:9: dynamic_rnn (from tensorflow.python.ops.rnn) is deprecated and will be removed in a future version.\n",
      "Instructions for updating:\n",
      "Please use `keras.layers.RNN(cell)`, which is equivalent to this API\n",
      "WARNING:tensorflow:From C:\\ProgramData\\Anaconda3\\lib\\site-packages\\tensorflow\\python\\keras\\layers\\legacy_rnn\\rnn_cell_impl.py:753: calling Zeros.__init__ (from tensorflow.python.ops.init_ops) with dtype is deprecated and will be removed in a future version.\n",
      "Instructions for updating:\n",
      "Call initializer instance with the dtype argument instead of passing it to the constructor\n",
      "0 0 2.2695928\n",
      "Save Model:  stock.model\n",
      "1 0 2.0754416\n",
      "Save Model:  stock.model\n",
      "2 0 1.9044163\n",
      "Save Model:  stock.model\n",
      "3 0 1.745484\n",
      "Save Model:  stock.model\n",
      "4 0 1.5969218\n",
      "Save Model:  stock.model\n",
      "5 0 1.4579831\n",
      "Save Model:  stock.model\n",
      "6 0 1.3281133\n",
      "Save Model:  stock.model\n",
      "7 0 1.2068205\n",
      "Save Model:  stock.model\n",
      "8 0 1.093677\n",
      "Save Model:  stock.model\n",
      "9 0 0.9883329\n",
      "Save Model:  stock.model\n",
      "10 0 0.8905124\n",
      "Save Model:  stock.model\n",
      "11 0 0.7999922\n",
      "Save Model:  stock.model\n",
      "12 0 0.7165762\n",
      "Save Model:  stock.model\n",
      "13 0 0.6400732\n",
      "Save Model:  stock.model\n",
      "14 0 0.57028115\n",
      "Save Model:  stock.model\n",
      "15 0 0.5069773\n",
      "Save Model:  stock.model\n",
      "16 0 0.44991195\n",
      "Save Model:  stock.model\n",
      "17 0 0.3988066\n",
      "Save Model:  stock.model\n",
      "18 0 0.35335463\n",
      "Save Model:  stock.model\n",
      "19 0 0.31322333\n",
      "Save Model:  stock.model\n",
      "20 0 0.27805734\n",
      "Save Model:  stock.model\n",
      "21 0 0.24748395\n",
      "Save Model:  stock.model\n",
      "22 0 0.22111835\n",
      "Save Model:  stock.model\n",
      "23 0 0.19856995\n",
      "Save Model:  stock.model\n",
      "24 0 0.17944813\n",
      "Save Model:  stock.model\n",
      "25 0 0.16336855\n",
      "Save Model:  stock.model\n",
      "26 0 0.14995895\n",
      "Save Model:  stock.model\n",
      "27 0 0.13886434\n",
      "Save Model:  stock.model\n",
      "28 0 0.1297514\n",
      "Save Model:  stock.model\n",
      "29 0 0.12231231\n",
      "Save Model:  stock.model\n",
      "30 0 0.11626744\n",
      "Save Model:  stock.model\n",
      "31 0 0.11136724\n",
      "Save Model:  stock.model\n",
      "32 0 0.107392885\n",
      "Save Model:  stock.model\n",
      "33 0 0.1041562\n",
      "Save Model:  stock.model\n",
      "34 0 0.10149854\n",
      "Save Model:  stock.model\n",
      "35 0 0.09928892\n",
      "Save Model:  stock.model\n",
      "36 0 0.09742163\n",
      "Save Model:  stock.model\n",
      "37 0 0.09581337\n",
      "Save Model:  stock.model\n",
      "38 0 0.09440013\n",
      "Save Model:  stock.model\n",
      "39 0 0.093134075\n",
      "Save Model:  stock.model\n",
      "40 0 0.09198043\n",
      "Save Model:  stock.model\n",
      "41 0 0.09091461\n",
      "Save Model:  stock.model\n",
      "42 0 0.089919776\n",
      "Save Model:  stock.model\n",
      "43 0 0.08898453\n",
      "Save Model:  stock.model\n",
      "44 0 0.088101245\n",
      "Save Model:  stock.model\n",
      "45 0 0.08726456\n",
      "Save Model:  stock.model\n",
      "46 0 0.08647046\n",
      "Save Model:  stock.model\n",
      "47 0 0.08571551\n",
      "Save Model:  stock.model\n",
      "48 0 0.08499639\n",
      "Save Model:  stock.model\n",
      "49 0 0.08430975\n",
      "Save Model:  stock.model\n",
      "50 0 0.08365209\n",
      "Save Model:  stock.model\n",
      "51 0 0.083019756\n",
      "Save Model:  stock.model\n",
      "52 0 0.08240909\n",
      "Save Model:  stock.model\n",
      "53 0 0.081816606\n",
      "Save Model:  stock.model\n",
      "54 0 0.081239\n",
      "Save Model:  stock.model\n",
      "55 0 0.08067333\n",
      "Save Model:  stock.model\n",
      "56 0 0.080117114\n",
      "Save Model:  stock.model\n",
      "57 0 0.079568364\n",
      "Save Model:  stock.model\n",
      "58 0 0.07902562\n",
      "Save Model:  stock.model\n",
      "59 0 0.07848782\n",
      "Save Model:  stock.model\n",
      "60 0 0.07795451\n",
      "Save Model:  stock.model\n",
      "61 0 0.07742546\n",
      "Save Model:  stock.model\n",
      "62 0 0.07690086\n",
      "Save Model:  stock.model\n",
      "63 0 0.076381184\n",
      "Save Model:  stock.model\n",
      "64 0 0.07586701\n",
      "Save Model:  stock.model\n",
      "65 0 0.07535903\n",
      "Save Model:  stock.model\n",
      "66 0 0.07485807\n",
      "Save Model:  stock.model\n",
      "67 0 0.074364826\n",
      "Save Model:  stock.model\n",
      "68 0 0.07388005\n",
      "Save Model:  stock.model\n",
      "69 0 0.073404334\n",
      "Save Model:  stock.model\n",
      "70 0 0.07293823\n",
      "Save Model:  stock.model\n",
      "71 0 0.072482176\n",
      "Save Model:  stock.model\n",
      "72 0 0.07203644\n",
      "Save Model:  stock.model\n",
      "73 0 0.07160124\n",
      "Save Model:  stock.model\n",
      "74 0 0.071176656\n",
      "Save Model:  stock.model\n",
      "75 0 0.07076266\n",
      "Save Model:  stock.model\n",
      "76 0 0.07035913\n",
      "Save Model:  stock.model\n",
      "77 0 0.06996592\n",
      "Save Model:  stock.model\n",
      "78 0 0.06958276\n",
      "Save Model:  stock.model\n",
      "79 0 0.06920938\n",
      "Save Model:  stock.model\n",
      "80 0 0.06884541\n",
      "Save Model:  stock.model\n",
      "81 0 0.06849051\n",
      "Save Model:  stock.model\n",
      "82 0 0.06814431\n",
      "Save Model:  stock.model\n",
      "83 0 0.06780639\n",
      "Save Model:  stock.model\n",
      "84 0 0.06747642\n",
      "Save Model:  stock.model\n",
      "85 0 0.06715397\n",
      "Save Model:  stock.model\n",
      "86 0 0.06683863\n",
      "Save Model:  stock.model\n",
      "87 0 0.06653009\n",
      "Save Model:  stock.model\n",
      "88 0 0.06622797\n",
      "Save Model:  stock.model\n",
      "89 0 0.065931946\n",
      "Save Model:  stock.model\n",
      "90 0 0.065641664\n",
      "Save Model:  stock.model\n",
      "91 0 0.065356866\n",
      "Save Model:  stock.model\n",
      "92 0 0.065077305\n",
      "Save Model:  stock.model\n",
      "93 0 0.064802684\n",
      "Save Model:  stock.model\n",
      "94 0 0.064532846\n",
      "Save Model:  stock.model\n",
      "95 0 0.06426754\n",
      "Save Model:  stock.model\n",
      "96 0 0.06400658\n",
      "Save Model:  stock.model\n",
      "97 0 0.06374985\n",
      "Save Model:  stock.model\n",
      "98 0 0.063497186\n",
      "Save Model:  stock.model\n",
      "99 0 0.06324844\n",
      "Save Model:  stock.model\n"
     ]
    }
   ],
   "source": [
    "train_lstm()"
   ]
  },
  {
   "cell_type": "code",
   "execution_count": 13,
   "id": "processed-merit",
   "metadata": {},
   "outputs": [],
   "source": [
    "def prediction():\n",
    "#     pred,_=lstm(1)    \n",
    "    with tf.variable_scope('lstm', reuse=True): \n",
    "        pred,_=lstm(1)\n",
    "    saver=tf.train.Saver(tf.global_variables())\n",
    "    with tf.Session() as sess:\n",
    "        \n",
    "        module_file = tf.train.latest_checkpoint(\"./\")\n",
    "        saver.restore(sess, module_file) \n",
    "\n",
    "        prev_seq=train_x[-1]\n",
    "        predict=[]\n",
    "        \n",
    "        for i in range(100):\n",
    "            next_seq=sess.run(pred,feed_dict={X:[prev_seq]})\n",
    "            predict.append(next_seq[-1])\n",
    "            \n",
    "            prev_seq=np.vstack((prev_seq[1:],next_seq[-1]))\n",
    "        \n",
    "        plt.figure()\n",
    "        plt.plot(list(range(len(normalize_data))), normalize_data, color='b')\n",
    "        plt.plot(list(range(len(normalize_data), len(normalize_data) + len(predict))), predict, color='r')\n",
    "        plt.show()"
   ]
  },
  {
   "cell_type": "code",
   "execution_count": 14,
   "id": "increasing-gibraltar",
   "metadata": {},
   "outputs": [
    {
     "name": "stdout",
     "output_type": "stream",
     "text": [
      "INFO:tensorflow:Restoring parameters from ./stock.model\n"
     ]
    },
    {
     "data": {
      "image/png": "[encoded data removed]",
      "text/plain": [
       "<Figure size 432x288 with 1 Axes>"
      ]
     },
     "metadata": {
      "needs_background": "light"
     },
     "output_type": "display_data"
    }
   ],
   "source": [
    "prediction()"
   ]
  },
  {
   "cell_type": "code",
   "execution_count": null,
   "id": "breeding-hampshire",
   "metadata": {},
   "outputs": [],
   "source": []
  }
 ],
 "metadata": {
  "kernelspec": {
   "display_name": "Python 3",
   "language": "python",
   "name": "python3"
  },
  "language_info": {
   "codemirror_mode": {
    "name": "ipython",
    "version": 3
   },
   "file_extension": ".py",
   "mimetype": "text/x-python",
   "name": "python",
   "nbconvert_exporter": "python",
   "pygments_lexer": "ipython3",
   "version": "3.8.5"
  }
 },
 "nbformat": 4,
 "nbformat_minor": 5
}
